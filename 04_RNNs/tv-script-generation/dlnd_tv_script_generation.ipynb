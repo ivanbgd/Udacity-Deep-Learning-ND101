{
 "cells": [
  {
   "cell_type": "markdown",
   "metadata": {},
   "source": [
    "# TV Script Generation\n",
    "In this project, you'll generate your own [Simpsons](https://en.wikipedia.org/wiki/The_Simpsons) TV scripts using RNNs.  You'll be using part of the [Simpsons dataset](https://www.kaggle.com/wcukierski/the-simpsons-by-the-data) of scripts from 27 seasons.  The Neural Network you'll build will generate a new TV script for a scene at [Moe's Tavern](https://simpsonswiki.com/wiki/Moe's_Tavern).\n",
    "## Get the Data\n",
    "The data is already provided for you.  You'll be using a subset of the original dataset.  It consists of only the scenes in Moe's Tavern.  This doesn't include other versions of the tavern, like \"Moe's Cavern\", \"Flaming Moe's\", \"Uncle Moe's Family Feed-Bag\", etc.."
   ]
  },
  {
   "cell_type": "code",
   "execution_count": 1,
   "metadata": {
    "collapsed": true
   },
   "outputs": [],
   "source": [
    "\"\"\"\n",
    "DON'T MODIFY ANYTHING IN THIS CELL\n",
    "\"\"\"\n",
    "import helper\n",
    "\n",
    "data_dir = './data/simpsons/moes_tavern_lines.txt'\n",
    "text = helper.load_data(data_dir)\n",
    "# Ignore notice, since we don't use it for analysing the data\n",
    "text = text[81:]"
   ]
  },
  {
   "cell_type": "markdown",
   "metadata": {},
   "source": [
    "## Explore the Data\n",
    "Play around with `view_sentence_range` to view different parts of the data."
   ]
  },
  {
   "cell_type": "code",
   "execution_count": 2,
   "metadata": {},
   "outputs": [
    {
     "name": "stdout",
     "output_type": "stream",
     "text": [
      "Dataset Stats\n",
      "Roughly the number of unique words: 11492\n",
      "Number of scenes: 262\n",
      "Average number of sentences in each scene: 15.251908396946565\n",
      "Number of lines: 4258\n",
      "Average number of words in each line: 11.50164396430249\n",
      "\n",
      "The sentences 0 to 10:\n",
      "\n",
      "Moe_Szyslak: (INTO PHONE) Moe's Tavern. Where the elite meet to drink.\n",
      "Bart_Simpson: Eh, yeah, hello, is Mike there? Last name, Rotch.\n",
      "Moe_Szyslak: (INTO PHONE) Hold on, I'll check. (TO BARFLIES) Mike Rotch. Mike Rotch. Hey, has anybody seen Mike Rotch, lately?\n",
      "Moe_Szyslak: (INTO PHONE) Listen you little puke. One of these days I'm gonna catch you, and I'm gonna carve my name on your back with an ice pick.\n",
      "Moe_Szyslak: What's the matter Homer? You're not your normal effervescent self.\n",
      "Homer_Simpson: I got my problems, Moe. Give me another one.\n",
      "Moe_Szyslak: Homer, hey, you should not drink to forget your problems.\n",
      "Barney_Gumble: Yeah, you should only drink to enhance your social skills.\n",
      "\n"
     ]
    }
   ],
   "source": [
    "view_sentence_range = (0, 10)\n",
    "\n",
    "\"\"\"\n",
    "DON'T MODIFY ANYTHING IN THIS CELL\n",
    "\"\"\"\n",
    "import numpy as np\n",
    "\n",
    "print('Dataset Stats')\n",
    "print('Roughly the number of unique words: {}'.format(len({word: None for word in text.split()})))\n",
    "scenes = text.split('\\n\\n')\n",
    "print('Number of scenes: {}'.format(len(scenes)))\n",
    "sentence_count_scene = [scene.count('\\n') for scene in scenes]\n",
    "print('Average number of sentences in each scene: {}'.format(np.average(sentence_count_scene)))\n",
    "\n",
    "sentences = [sentence for scene in scenes for sentence in scene.split('\\n')]\n",
    "print('Number of lines: {}'.format(len(sentences)))\n",
    "word_count_sentence = [len(sentence.split()) for sentence in sentences]\n",
    "print('Average number of words in each line: {}'.format(np.average(word_count_sentence)))\n",
    "\n",
    "print()\n",
    "print('The sentences {} to {}:'.format(*view_sentence_range))\n",
    "print('\\n'.join(text.split('\\n')[view_sentence_range[0]:view_sentence_range[1]]))"
   ]
  },
  {
   "cell_type": "markdown",
   "metadata": {},
   "source": [
    "## Implement Preprocessing Functions\n",
    "The first thing to do to any dataset is preprocessing.  Implement the following preprocessing functions below:\n",
    "- Lookup Table\n",
    "- Tokenize Punctuation\n",
    "\n",
    "### Lookup Table\n",
    "To create a word embedding, you first need to transform the words to ids.  In this function, create two dictionaries:\n",
    "- Dictionary to go from the words to an id, we'll call `vocab_to_int`\n",
    "- Dictionary to go from the id to word, we'll call `int_to_vocab`\n",
    "\n",
    "Return these dictionaries in the following tuple `(vocab_to_int, int_to_vocab)`"
   ]
  },
  {
   "cell_type": "code",
   "execution_count": 3,
   "metadata": {},
   "outputs": [
    {
     "name": "stdout",
     "output_type": "stream",
     "text": [
      "Tests Passed\n"
     ]
    }
   ],
   "source": [
    "import numpy as np\n",
    "import problem_unittests as tests\n",
    "from collections import Counter\n",
    "\n",
    "def create_lookup_tables(text):\n",
    "    \"\"\"\n",
    "    Create lookup tables for vocabulary\n",
    "    :param text: The text of tv scripts split into words\n",
    "    :return: A tuple of dicts (vocab_to_int, int_to_vocab)\n",
    "    \"\"\"\n",
    "    # TODO: Implement Function\n",
    "    word_counts = Counter(text)\n",
    "    sorted_vocab = sorted(word_counts, key=word_counts.get, reverse=True)\n",
    "    int_to_vocab = {i: word for i, word in enumerate(sorted_vocab)}\n",
    "    vocab_to_int = {word: i for i, word in int_to_vocab.items()}\n",
    "    return vocab_to_int, int_to_vocab\n",
    "\n",
    "\n",
    "\"\"\"\n",
    "DON'T MODIFY ANYTHING IN THIS CELL THAT IS BELOW THIS LINE\n",
    "\"\"\"\n",
    "tests.test_create_lookup_tables(create_lookup_tables)"
   ]
  },
  {
   "cell_type": "markdown",
   "metadata": {},
   "source": [
    "### Tokenize Punctuation\n",
    "We'll be splitting the script into a word array using spaces as delimiters.  However, punctuations like periods and exclamation marks make it hard for the neural network to distinguish between the word \"bye\" and \"bye!\".\n",
    "\n",
    "Implement the function `token_lookup` to return a dict that will be used to tokenize symbols like \"!\" into \"||Exclamation_Mark||\".  Create a dictionary for the following symbols where the symbol is the key and value is the token:\n",
    "- Period ( . )\n",
    "- Comma ( , )\n",
    "- Quotation Mark ( \" )\n",
    "- Semicolon ( ; )\n",
    "- Exclamation mark ( ! )\n",
    "- Question mark ( ? )\n",
    "- Left Parentheses ( ( )\n",
    "- Right Parentheses ( ) )\n",
    "- Dash ( -- )\n",
    "- Return ( \\n )\n",
    "\n",
    "This dictionary will be used to token the symbols and add the delimiter (space) around it.  This separates the symbols as it's own word, making it easier for the neural network to predict on the next word. Make sure you don't use a token that could be confused as a word. Instead of using the token \"dash\", try using something like \"||dash||\"."
   ]
  },
  {
   "cell_type": "code",
   "execution_count": 4,
   "metadata": {},
   "outputs": [
    {
     "name": "stdout",
     "output_type": "stream",
     "text": [
      "Tests Passed\n"
     ]
    }
   ],
   "source": [
    "def token_lookup():\n",
    "    \"\"\"\n",
    "    Generate a dict to turn punctuation into a token.\n",
    "    :return: Tokenize dictionary where the key is the punctuation and the value is the token\n",
    "    \"\"\"\n",
    "    # TODO: Implement Function\n",
    "    tokenizer = {}\n",
    "    tokenizer['.'] = \"||PERIOD||\"\n",
    "    tokenizer[','] = \"||COMMA||\"\n",
    "    tokenizer['\"'] = \"||QUOTATION_MARK||\"\n",
    "    tokenizer[';'] = \"||SEMICOLON||\"\n",
    "    tokenizer['!'] = \"||EXCLAMATION_MARK||\"\n",
    "    tokenizer['?'] = \"||QUESTION_MARK||\"\n",
    "    tokenizer['('] = \"||LEFT_PAREN||\"\n",
    "    tokenizer[')'] = \"||RIGHT_PAREN||\"\n",
    "    tokenizer['--'] = \"||DASH||\"\n",
    "    tokenizer['\\n'] = \"||RETURN||\"\n",
    "    return tokenizer\n",
    "\n",
    "\"\"\"\n",
    "DON'T MODIFY ANYTHING IN THIS CELL THAT IS BELOW THIS LINE\n",
    "\"\"\"\n",
    "tests.test_tokenize(token_lookup)"
   ]
  },
  {
   "cell_type": "markdown",
   "metadata": {},
   "source": [
    "## Preprocess all the data and save it\n",
    "Running the code cell below will preprocess all the data and save it to file."
   ]
  },
  {
   "cell_type": "code",
   "execution_count": 5,
   "metadata": {
    "collapsed": true
   },
   "outputs": [],
   "source": [
    "\"\"\"\n",
    "DON'T MODIFY ANYTHING IN THIS CELL\n",
    "\"\"\"\n",
    "# Preprocess Training, Validation, and Testing Data\n",
    "helper.preprocess_and_save_data(data_dir, token_lookup, create_lookup_tables)"
   ]
  },
  {
   "cell_type": "markdown",
   "metadata": {},
   "source": [
    "# Check Point\n",
    "This is your first checkpoint. If you ever decide to come back to this notebook or have to restart the notebook, you can start from here. The preprocessed data has been saved to disk."
   ]
  },
  {
   "cell_type": "code",
   "execution_count": 6,
   "metadata": {
    "collapsed": true
   },
   "outputs": [],
   "source": [
    "\"\"\"\n",
    "DON'T MODIFY ANYTHING IN THIS CELL\n",
    "\"\"\"\n",
    "import helper\n",
    "import numpy as np\n",
    "import problem_unittests as tests\n",
    "\n",
    "int_text, vocab_to_int, int_to_vocab, token_dict = helper.load_preprocess()"
   ]
  },
  {
   "cell_type": "markdown",
   "metadata": {},
   "source": [
    "## Build the Neural Network\n",
    "You'll build the components necessary to build a RNN by implementing the following functions below:\n",
    "- get_inputs\n",
    "- get_init_cell\n",
    "- get_embed\n",
    "- build_rnn\n",
    "- build_nn\n",
    "- get_batches\n",
    "\n",
    "### Check the Version of TensorFlow and Access to GPU"
   ]
  },
  {
   "cell_type": "code",
   "execution_count": 7,
   "metadata": {},
   "outputs": [
    {
     "name": "stdout",
     "output_type": "stream",
     "text": [
      "TensorFlow Version: 1.1.0\n"
     ]
    },
    {
     "name": "stderr",
     "output_type": "stream",
     "text": [
      "C:\\Anaconda3\\lib\\site-packages\\ipykernel_launcher.py:14: UserWarning: No GPU found. Please use a GPU to train your neural network.\n",
      "  \n"
     ]
    }
   ],
   "source": [
    "\"\"\"\n",
    "DON'T MODIFY ANYTHING IN THIS CELL\n",
    "\"\"\"\n",
    "from distutils.version import LooseVersion\n",
    "import warnings\n",
    "import tensorflow as tf\n",
    "\n",
    "# Check TensorFlow Version\n",
    "assert LooseVersion(tf.__version__) >= LooseVersion('1.0'), 'Please use TensorFlow version 1.0 or newer'\n",
    "print('TensorFlow Version: {}'.format(tf.__version__))\n",
    "\n",
    "# Check for a GPU\n",
    "if not tf.test.gpu_device_name():\n",
    "    warnings.warn('No GPU found. Please use a GPU to train your neural network.')\n",
    "else:\n",
    "    print('Default GPU Device: {}'.format(tf.test.gpu_device_name()))"
   ]
  },
  {
   "cell_type": "markdown",
   "metadata": {},
   "source": [
    "### Input\n",
    "Implement the `get_inputs()` function to create TF Placeholders for the Neural Network.  It should create the following placeholders:\n",
    "- Input text placeholder named \"input\" using the [TF Placeholder](https://www.tensorflow.org/api_docs/python/tf/placeholder) `name` parameter.\n",
    "- Targets placeholder\n",
    "- Learning Rate placeholder\n",
    "\n",
    "Return the placeholders in the following tuple `(Input, Targets, LearningRate)`"
   ]
  },
  {
   "cell_type": "code",
   "execution_count": 8,
   "metadata": {},
   "outputs": [
    {
     "name": "stdout",
     "output_type": "stream",
     "text": [
      "Tests Passed\n"
     ]
    }
   ],
   "source": [
    "def get_inputs():\n",
    "    \"\"\"\n",
    "    Create TF Placeholders for input, targets, and learning rate.\n",
    "    :return: Tuple (input, targets, learning rate)\n",
    "    \"\"\"\n",
    "    # TODO: Implement Function\n",
    "    input = tf.placeholder(dtype=tf.int32, shape=[None, None], name=\"input\")\n",
    "    targets = tf.placeholder(dtype=tf.int32, shape=[None, None], name=\"targets\")\n",
    "    learning_rate = tf.placeholder(dtype=tf.float32, shape=[], name=\"learning_rate\")\n",
    "    return input, targets, learning_rate\n",
    "\n",
    "\n",
    "\"\"\"\n",
    "DON'T MODIFY ANYTHING IN THIS CELL THAT IS BELOW THIS LINE\n",
    "\"\"\"\n",
    "tests.test_get_inputs(get_inputs)"
   ]
  },
  {
   "cell_type": "markdown",
   "metadata": {},
   "source": [
    "### Build RNN Cell and Initialize\n",
    "Stack one or more [`BasicLSTMCells`](https://www.tensorflow.org/api_docs/python/tf/contrib/rnn/BasicLSTMCell) in a [`MultiRNNCell`](https://www.tensorflow.org/api_docs/python/tf/contrib/rnn/MultiRNNCell).\n",
    "- The Rnn size should be set using `rnn_size`\n",
    "- Initalize Cell State using the MultiRNNCell's [`zero_state()`](https://www.tensorflow.org/api_docs/python/tf/contrib/rnn/MultiRNNCell#zero_state) function\n",
    "    - Apply the name \"initial_state\" to the initial state using [`tf.identity()`](https://www.tensorflow.org/api_docs/python/tf/identity)\n",
    "\n",
    "Return the cell and initial state in the following tuple `(Cell, InitialState)`"
   ]
  },
  {
   "cell_type": "code",
   "execution_count": 9,
   "metadata": {},
   "outputs": [
    {
     "name": "stdout",
     "output_type": "stream",
     "text": [
      "Tests Passed\n"
     ]
    }
   ],
   "source": [
    "def get_init_cell(batch_size, rnn_size):\n",
    "    \"\"\"\n",
    "    Create an RNN Cell and initialize it.\n",
    "    :param batch_size: Size of batches\n",
    "    :param rnn_size: Size of RNNs\n",
    "    :return: Tuple (cell, initialize state)\n",
    "    \"\"\"\n",
    "    # TODO: Implement Function\n",
    "    num_layers = 2\n",
    "    \n",
    "    def build_cell(rnn_size):\n",
    "        return tf.contrib.rnn.BasicLSTMCell(rnn_size)\n",
    "        \n",
    "    cell = tf.contrib.rnn.MultiRNNCell([build_cell(rnn_size) for _ in range(num_layers)])\n",
    "    initial_state = cell.zero_state(batch_size, tf.float32)\n",
    "    initial_state = tf.identity(initial_state, name= \"initial_state\")\n",
    "    \n",
    "    return cell, initial_state\n",
    "\n",
    "\n",
    "\"\"\"\n",
    "DON'T MODIFY ANYTHING IN THIS CELL THAT IS BELOW THIS LINE\n",
    "\"\"\"\n",
    "tests.test_get_init_cell(get_init_cell)"
   ]
  },
  {
   "cell_type": "markdown",
   "metadata": {},
   "source": [
    "### Word Embedding\n",
    "Apply embedding to `input_data` using TensorFlow.  Return the embedded sequence."
   ]
  },
  {
   "cell_type": "code",
   "execution_count": 10,
   "metadata": {},
   "outputs": [
    {
     "name": "stdout",
     "output_type": "stream",
     "text": [
      "Tests Passed\n"
     ]
    }
   ],
   "source": [
    "def get_embed(input_data, vocab_size, embed_dim):\n",
    "    \"\"\"\n",
    "    Create embedding for <input_data>.\n",
    "    :param input_data: TF placeholder for text input.\n",
    "    :param vocab_size: Number of words in vocabulary.\n",
    "    :param embed_dim: Number of embedding dimensions\n",
    "    :return: Embedded input.\n",
    "    \"\"\"\n",
    "    # TODO: Implement Function\n",
    "    embedding = tf.Variable(tf.random_uniform([vocab_size, embed_dim], -1., 1.))\n",
    "    embed = tf.nn.embedding_lookup(embedding, input_data)\n",
    "    return embed\n",
    "\n",
    "\n",
    "\"\"\"\n",
    "DON'T MODIFY ANYTHING IN THIS CELL THAT IS BELOW THIS LINE\n",
    "\"\"\"\n",
    "tests.test_get_embed(get_embed)"
   ]
  },
  {
   "cell_type": "markdown",
   "metadata": {},
   "source": [
    "### Build RNN\n",
    "You created a RNN Cell in the `get_init_cell()` function.  Time to use the cell to create a RNN.\n",
    "- Build the RNN using the [`tf.nn.dynamic_rnn()`](https://www.tensorflow.org/api_docs/python/tf/nn/dynamic_rnn)\n",
    " - Apply the name \"final_state\" to the final state using [`tf.identity()`](https://www.tensorflow.org/api_docs/python/tf/identity)\n",
    "\n",
    "Return the outputs and final_state state in the following tuple `(Outputs, FinalState)` "
   ]
  },
  {
   "cell_type": "code",
   "execution_count": 11,
   "metadata": {},
   "outputs": [
    {
     "name": "stdout",
     "output_type": "stream",
     "text": [
      "Tests Passed\n"
     ]
    }
   ],
   "source": [
    "def build_rnn(cell, inputs):\n",
    "    \"\"\"\n",
    "    Create a RNN using a RNN Cell\n",
    "    :param cell: RNN Cell\n",
    "    :param inputs: Input text data\n",
    "    :return: Tuple (Outputs, Final State)\n",
    "    \"\"\"\n",
    "    # TODO: Implement Function\n",
    "    outputs, final_state = tf.nn.dynamic_rnn(cell, inputs, dtype=tf.float32)\n",
    "    final_state = tf.identity(final_state, name=\"final_state\")\n",
    "    return outputs, final_state\n",
    "\n",
    "\n",
    "\"\"\"\n",
    "DON'T MODIFY ANYTHING IN THIS CELL THAT IS BELOW THIS LINE\n",
    "\"\"\"\n",
    "tests.test_build_rnn(build_rnn)"
   ]
  },
  {
   "cell_type": "markdown",
   "metadata": {},
   "source": [
    "### Build the Neural Network\n",
    "Apply the functions you implemented above to:\n",
    "- Apply embedding to `input_data` using your `get_embed(input_data, vocab_size, embed_dim)` function.\n",
    "- Build RNN using `cell` and your `build_rnn(cell, inputs)` function.\n",
    "- Apply a fully connected layer with a linear activation and `vocab_size` as the number of outputs.\n",
    "\n",
    "Return the logits and final state in the following tuple (Logits, FinalState) "
   ]
  },
  {
   "cell_type": "code",
   "execution_count": 12,
   "metadata": {},
   "outputs": [
    {
     "name": "stdout",
     "output_type": "stream",
     "text": [
      "Tests Passed\n"
     ]
    }
   ],
   "source": [
    "def build_nn(cell, rnn_size, input_data, vocab_size, embed_dim):\n",
    "    \"\"\"\n",
    "    Build part of the neural network\n",
    "    :param cell: RNN cell\n",
    "    :param rnn_size: Size of rnns\n",
    "    :param input_data: Input data\n",
    "    :param vocab_size: Vocabulary size\n",
    "    :param embed_dim: Number of embedding dimensions\n",
    "    :return: Tuple (Logits, FinalState)\n",
    "    \"\"\"\n",
    "    # TODO: Implement Function\n",
    "    embed = get_embed(input_data, vocab_size, embed_dim)\n",
    "    rnn_outputs, final_state = build_rnn(cell, embed)\n",
    "    \n",
    "    init_w = tf.contrib.layers.xavier_initializer(uniform=False, seed=None, dtype=tf.float32)\n",
    "    init_b = tf.zeros_initializer(dtype=tf.float32)\n",
    "    logits = tf.contrib.layers.fully_connected(rnn_outputs, vocab_size, activation_fn=None,\n",
    "                                              weights_initializer=init_w, biases_initializer=init_b)\n",
    "    \n",
    "    return logits, final_state\n",
    "\n",
    "\n",
    "\"\"\"\n",
    "DON'T MODIFY ANYTHING IN THIS CELL THAT IS BELOW THIS LINE\n",
    "\"\"\"\n",
    "tests.test_build_nn(build_nn)"
   ]
  },
  {
   "cell_type": "markdown",
   "metadata": {},
   "source": [
    "### Batches\n",
    "Implement `get_batches` to create batches of input and targets using `int_text`.  The batches should be a Numpy array with the shape `(number of batches, 2, batch size, sequence length)`. Each batch contains two elements:\n",
    "- The first element is a single batch of **input** with the shape `[batch size, sequence length]`\n",
    "- The second element is a single batch of **targets** with the shape `[batch size, sequence length]`\n",
    "\n",
    "If you can't fill the last batch with enough data, drop the last batch.\n",
    "\n",
    "For example, `get_batches([1, 2, 3, 4, 5, 6, 7, 8, 9, 10, 11, 12, 13, 14, 15, 16, 17, 18, 19, 20], 3, 2)` would return a Numpy array of the following:\n",
    "```\n",
    "[\n",
    "  # First Batch\n",
    "  [\n",
    "    # Batch of Input\n",
    "    [[ 1  2], [ 7  8], [13 14]]\n",
    "    # Batch of targets\n",
    "    [[ 2  3], [ 8  9], [14 15]]\n",
    "  ]\n",
    "\n",
    "  # Second Batch\n",
    "  [\n",
    "    # Batch of Input\n",
    "    [[ 3  4], [ 9 10], [15 16]]\n",
    "    # Batch of targets\n",
    "    [[ 4  5], [10 11], [16 17]]\n",
    "  ]\n",
    "\n",
    "  # Third Batch\n",
    "  [\n",
    "    # Batch of Input\n",
    "    [[ 5  6], [11 12], [17 18]]\n",
    "    # Batch of targets\n",
    "    [[ 6  7], [12 13], [18  1]]\n",
    "  ]\n",
    "]\n",
    "```\n",
    "\n",
    "Notice that the last target value in the last batch is the first input value of the first batch. In this case, `1`. This is a common technique used when creating sequence batches, although it is rather unintuitive."
   ]
  },
  {
   "cell_type": "code",
   "execution_count": 26,
   "metadata": {},
   "outputs": [
    {
     "name": "stdout",
     "output_type": "stream",
     "text": [
      "Tests Passed\n"
     ]
    }
   ],
   "source": [
    "def get_batches(int_text, batch_size, seq_length):\n",
    "    \"\"\"\n",
    "    Return batches of input and target\n",
    "    :param int_text: Text with the words replaced by their ids\n",
    "    :param batch_size: The size of batch\n",
    "    :param seq_length: The length of sequence\n",
    "    :return: Batches as a Numpy array\n",
    "    \"\"\"\n",
    "    # TODO: Implement Function\n",
    "    num_batches = len(int_text) // (batch_size * seq_length)\n",
    "    len1 = len(int_text)\n",
    "    \n",
    "    int_text = int_text[: num_batches * batch_size * seq_length]\n",
    "    targets = np.empty_like(int_text)\n",
    "    targets[:-1] = int_text[1:]\n",
    "    targets[-1] = int_text[0]\n",
    "    len2 = len(int_text)\n",
    "    \n",
    "    int_text = np.array(int_text, dtype=np.int32).reshape(batch_size, -1)\n",
    "    targets = targets.reshape(int_text.shape)\n",
    "    \n",
    "    int_text = np.array(np.split(int_text, num_batches, axis=1))\n",
    "    targets = np.array(np.split(targets, num_batches, axis=1))\n",
    "    \n",
    "    batches = np.stack((int_text, targets), axis=1)\n",
    "    #print(\"Shape of \\\"batches\\\" is {}, which works with {} out of {} words.\".format(batches.shape, len2, len1))\n",
    "    \n",
    "    return batches\n",
    "\n",
    "\n",
    "\"\"\"\n",
    "DON'T MODIFY ANYTHING IN THIS CELL THAT IS BELOW THIS LINE\n",
    "\"\"\"\n",
    "tests.test_get_batches(get_batches)"
   ]
  },
  {
   "cell_type": "markdown",
   "metadata": {},
   "source": [
    "## Neural Network Training\n",
    "### Hyperparameters\n",
    "Tune the following parameters:\n",
    "\n",
    "- Set `num_epochs` to the number of epochs.\n",
    "- Set `batch_size` to the batch size.\n",
    "- Set `rnn_size` to the size of the RNNs.\n",
    "- Set `embed_dim` to the size of the embedding.\n",
    "- Set `seq_length` to the length of sequence.\n",
    "- Set `learning_rate` to the learning rate.\n",
    "- Set `show_every_n_batches` to the number of batches the neural network should print progress."
   ]
  },
  {
   "cell_type": "code",
   "execution_count": 38,
   "metadata": {
    "collapsed": true
   },
   "outputs": [],
   "source": [
    "# Number of words in this dataset is 69101; that is len(int_text).\n",
    "# We want to discard as little of those words as possible.\n",
    "# That's why we should choose batch_size and seq_length so that\n",
    "# we are as close to len(int_text) as possible.\n",
    "# That's the way get_batches() works.\n",
    "# Larger batch size means faster computation (at the expense of memory).\n",
    "# It shouldn't be too large, though. Too large a value may lead to slower convergence.\n",
    "\n",
    "# Number of Epochs\n",
    "num_epochs = 50\n",
    "# Batch Size\n",
    "batch_size = 128\n",
    "# RNN Size\n",
    "rnn_size = 512\n",
    "# Embedding Dimension Size\n",
    "embed_dim = 500\n",
    "# Sequence Length\n",
    "seq_length = 19\n",
    "# Learning Rate\n",
    "learning_rate = 0.005\n",
    "# Show stats for every n number of batches\n",
    "show_every_n_batches = 7\n",
    "\n",
    "\"\"\"\n",
    "DON'T MODIFY ANYTHING IN THIS CELL THAT IS BELOW THIS LINE\n",
    "\"\"\"\n",
    "save_dir = './save'"
   ]
  },
  {
   "cell_type": "markdown",
   "metadata": {},
   "source": [
    "### Build the Graph\n",
    "Build the graph using the neural network you implemented."
   ]
  },
  {
   "cell_type": "code",
   "execution_count": 39,
   "metadata": {
    "collapsed": true
   },
   "outputs": [],
   "source": [
    "\"\"\"\n",
    "DON'T MODIFY ANYTHING IN THIS CELL\n",
    "\"\"\"\n",
    "from tensorflow.contrib import seq2seq\n",
    "\n",
    "train_graph = tf.Graph()\n",
    "with train_graph.as_default():\n",
    "    vocab_size = len(int_to_vocab)\n",
    "    input_text, targets, lr = get_inputs()\n",
    "    input_data_shape = tf.shape(input_text)\n",
    "    cell, initial_state = get_init_cell(input_data_shape[0], rnn_size)\n",
    "    logits, final_state = build_nn(cell, rnn_size, input_text, vocab_size, embed_dim)\n",
    "\n",
    "    # Probabilities for generating words\n",
    "    probs = tf.nn.softmax(logits, name='probs')\n",
    "\n",
    "    # Loss function\n",
    "    cost = seq2seq.sequence_loss(\n",
    "        logits,\n",
    "        targets,\n",
    "        tf.ones([input_data_shape[0], input_data_shape[1]]))\n",
    "\n",
    "    # Optimizer\n",
    "    optimizer = tf.train.AdamOptimizer(lr)\n",
    "\n",
    "    # Gradient Clipping\n",
    "    gradients = optimizer.compute_gradients(cost)\n",
    "    capped_gradients = [(tf.clip_by_value(grad, -1., 1.), var) for grad, var in gradients if grad is not None]\n",
    "    train_op = optimizer.apply_gradients(capped_gradients)"
   ]
  },
  {
   "cell_type": "markdown",
   "metadata": {},
   "source": [
    "## Train\n",
    "Train the neural network on the preprocessed data.  If you have a hard time getting a good loss, check the [forums](https://discussions.udacity.com/) to see if anyone is having the same problem."
   ]
  },
  {
   "cell_type": "code",
   "execution_count": 40,
   "metadata": {},
   "outputs": [
    {
     "name": "stdout",
     "output_type": "stream",
     "text": [
      "Epoch   0 Batch    0/28   train_loss = 8.824\n",
      "Epoch   0 Batch    7/28   train_loss = 6.762\n",
      "Epoch   0 Batch   14/28   train_loss = 6.847\n",
      "Epoch   0 Batch   21/28   train_loss = 6.719\n",
      "Epoch   1 Batch    0/28   train_loss = 6.406\n",
      "Epoch   1 Batch    7/28   train_loss = 6.147\n",
      "Epoch   1 Batch   14/28   train_loss = 6.049\n",
      "Epoch   1 Batch   21/28   train_loss = 5.899\n",
      "Epoch   2 Batch    0/28   train_loss = 5.906\n",
      "Epoch   2 Batch    7/28   train_loss = 5.927\n",
      "Epoch   2 Batch   14/28   train_loss = 5.870\n",
      "Epoch   2 Batch   21/28   train_loss = 5.700\n",
      "Epoch   3 Batch    0/28   train_loss = 5.623\n",
      "Epoch   3 Batch    7/28   train_loss = 5.554\n",
      "Epoch   3 Batch   14/28   train_loss = 5.596\n",
      "Epoch   3 Batch   21/28   train_loss = 5.402\n",
      "Epoch   4 Batch    0/28   train_loss = 5.373\n",
      "Epoch   4 Batch    7/28   train_loss = 5.368\n",
      "Epoch   4 Batch   14/28   train_loss = 5.265\n",
      "Epoch   4 Batch   21/28   train_loss = 5.023\n",
      "Epoch   5 Batch    0/28   train_loss = 4.904\n",
      "Epoch   5 Batch    7/28   train_loss = 4.897\n",
      "Epoch   5 Batch   14/28   train_loss = 4.917\n",
      "Epoch   5 Batch   21/28   train_loss = 4.691\n",
      "Epoch   6 Batch    0/28   train_loss = 4.598\n",
      "Epoch   6 Batch    7/28   train_loss = 4.637\n",
      "Epoch   6 Batch   14/28   train_loss = 4.630\n",
      "Epoch   6 Batch   21/28   train_loss = 4.506\n",
      "Epoch   7 Batch    0/28   train_loss = 4.433\n",
      "Epoch   7 Batch    7/28   train_loss = 4.403\n",
      "Epoch   7 Batch   14/28   train_loss = 4.467\n",
      "Epoch   7 Batch   21/28   train_loss = 4.285\n",
      "Epoch   8 Batch    0/28   train_loss = 4.269\n",
      "Epoch   8 Batch    7/28   train_loss = 4.197\n",
      "Epoch   8 Batch   14/28   train_loss = 4.273\n",
      "Epoch   8 Batch   21/28   train_loss = 4.134\n",
      "Epoch   9 Batch    0/28   train_loss = 4.084\n",
      "Epoch   9 Batch    7/28   train_loss = 4.051\n",
      "Epoch   9 Batch   14/28   train_loss = 4.061\n",
      "Epoch   9 Batch   21/28   train_loss = 3.961\n",
      "Epoch  10 Batch    0/28   train_loss = 3.928\n",
      "Epoch  10 Batch    7/28   train_loss = 3.813\n",
      "Epoch  10 Batch   14/28   train_loss = 3.873\n",
      "Epoch  10 Batch   21/28   train_loss = 3.737\n",
      "Epoch  11 Batch    0/28   train_loss = 3.712\n",
      "Epoch  11 Batch    7/28   train_loss = 3.601\n",
      "Epoch  11 Batch   14/28   train_loss = 3.641\n",
      "Epoch  11 Batch   21/28   train_loss = 3.513\n",
      "Epoch  12 Batch    0/28   train_loss = 3.497\n",
      "Epoch  12 Batch    7/28   train_loss = 3.435\n",
      "Epoch  12 Batch   14/28   train_loss = 3.431\n",
      "Epoch  12 Batch   21/28   train_loss = 3.304\n",
      "Epoch  13 Batch    0/28   train_loss = 3.283\n",
      "Epoch  13 Batch    7/28   train_loss = 3.256\n",
      "Epoch  13 Batch   14/28   train_loss = 3.249\n",
      "Epoch  13 Batch   21/28   train_loss = 3.126\n",
      "Epoch  14 Batch    0/28   train_loss = 3.101\n",
      "Epoch  14 Batch    7/28   train_loss = 3.077\n",
      "Epoch  14 Batch   14/28   train_loss = 3.048\n",
      "Epoch  14 Batch   21/28   train_loss = 3.009\n",
      "Epoch  15 Batch    0/28   train_loss = 2.929\n",
      "Epoch  15 Batch    7/28   train_loss = 2.848\n",
      "Epoch  15 Batch   14/28   train_loss = 2.848\n",
      "Epoch  15 Batch   21/28   train_loss = 2.802\n",
      "Epoch  16 Batch    0/28   train_loss = 2.700\n",
      "Epoch  16 Batch    7/28   train_loss = 2.648\n",
      "Epoch  16 Batch   14/28   train_loss = 2.653\n",
      "Epoch  16 Batch   21/28   train_loss = 2.611\n",
      "Epoch  17 Batch    0/28   train_loss = 2.498\n",
      "Epoch  17 Batch    7/28   train_loss = 2.520\n",
      "Epoch  17 Batch   14/28   train_loss = 2.501\n",
      "Epoch  17 Batch   21/28   train_loss = 2.456\n",
      "Epoch  18 Batch    0/28   train_loss = 2.324\n",
      "Epoch  18 Batch    7/28   train_loss = 2.286\n",
      "Epoch  18 Batch   14/28   train_loss = 2.259\n",
      "Epoch  18 Batch   21/28   train_loss = 2.234\n",
      "Epoch  19 Batch    0/28   train_loss = 2.132\n",
      "Epoch  19 Batch    7/28   train_loss = 2.116\n",
      "Epoch  19 Batch   14/28   train_loss = 2.132\n",
      "Epoch  19 Batch   21/28   train_loss = 2.075\n",
      "Epoch  20 Batch    0/28   train_loss = 1.969\n",
      "Epoch  20 Batch    7/28   train_loss = 1.931\n",
      "Epoch  20 Batch   14/28   train_loss = 1.912\n",
      "Epoch  20 Batch   21/28   train_loss = 1.867\n",
      "Epoch  21 Batch    0/28   train_loss = 1.764\n",
      "Epoch  21 Batch    7/28   train_loss = 1.762\n",
      "Epoch  21 Batch   14/28   train_loss = 1.752\n",
      "Epoch  21 Batch   21/28   train_loss = 1.744\n",
      "Epoch  22 Batch    0/28   train_loss = 1.565\n",
      "Epoch  22 Batch    7/28   train_loss = 1.510\n",
      "Epoch  22 Batch   14/28   train_loss = 1.589\n",
      "Epoch  22 Batch   21/28   train_loss = 1.602\n",
      "Epoch  23 Batch    0/28   train_loss = 1.435\n",
      "Epoch  23 Batch    7/28   train_loss = 1.363\n",
      "Epoch  23 Batch   14/28   train_loss = 1.412\n",
      "Epoch  23 Batch   21/28   train_loss = 1.414\n",
      "Epoch  24 Batch    0/28   train_loss = 1.300\n",
      "Epoch  24 Batch    7/28   train_loss = 1.189\n",
      "Epoch  24 Batch   14/28   train_loss = 1.227\n",
      "Epoch  24 Batch   21/28   train_loss = 1.285\n",
      "Epoch  25 Batch    0/28   train_loss = 1.154\n",
      "Epoch  25 Batch    7/28   train_loss = 1.067\n",
      "Epoch  25 Batch   14/28   train_loss = 1.109\n",
      "Epoch  25 Batch   21/28   train_loss = 1.153\n",
      "Epoch  26 Batch    0/28   train_loss = 1.044\n",
      "Epoch  26 Batch    7/28   train_loss = 0.972\n",
      "Epoch  26 Batch   14/28   train_loss = 0.987\n",
      "Epoch  26 Batch   21/28   train_loss = 1.075\n",
      "Epoch  27 Batch    0/28   train_loss = 0.992\n",
      "Epoch  27 Batch    7/28   train_loss = 0.908\n",
      "Epoch  27 Batch   14/28   train_loss = 0.869\n",
      "Epoch  27 Batch   21/28   train_loss = 0.999\n",
      "Epoch  28 Batch    0/28   train_loss = 0.917\n",
      "Epoch  28 Batch    7/28   train_loss = 0.848\n",
      "Epoch  28 Batch   14/28   train_loss = 0.821\n",
      "Epoch  28 Batch   21/28   train_loss = 0.899\n",
      "Epoch  29 Batch    0/28   train_loss = 0.842\n",
      "Epoch  29 Batch    7/28   train_loss = 0.743\n",
      "Epoch  29 Batch   14/28   train_loss = 0.731\n",
      "Epoch  29 Batch   21/28   train_loss = 0.785\n",
      "Epoch  30 Batch    0/28   train_loss = 0.779\n",
      "Epoch  30 Batch    7/28   train_loss = 0.718\n",
      "Epoch  30 Batch   14/28   train_loss = 0.702\n",
      "Epoch  30 Batch   21/28   train_loss = 0.727\n",
      "Epoch  31 Batch    0/28   train_loss = 0.715\n",
      "Epoch  31 Batch    7/28   train_loss = 0.652\n",
      "Epoch  31 Batch   14/28   train_loss = 0.589\n",
      "Epoch  31 Batch   21/28   train_loss = 0.640\n",
      "Epoch  32 Batch    0/28   train_loss = 0.638\n",
      "Epoch  32 Batch    7/28   train_loss = 0.551\n",
      "Epoch  32 Batch   14/28   train_loss = 0.536\n",
      "Epoch  32 Batch   21/28   train_loss = 0.557\n",
      "Epoch  33 Batch    0/28   train_loss = 0.549\n",
      "Epoch  33 Batch    7/28   train_loss = 0.474\n",
      "Epoch  33 Batch   14/28   train_loss = 0.436\n",
      "Epoch  33 Batch   21/28   train_loss = 0.459\n",
      "Epoch  34 Batch    0/28   train_loss = 0.449\n",
      "Epoch  34 Batch    7/28   train_loss = 0.389\n",
      "Epoch  34 Batch   14/28   train_loss = 0.375\n",
      "Epoch  34 Batch   21/28   train_loss = 0.399\n",
      "Epoch  35 Batch    0/28   train_loss = 0.377\n",
      "Epoch  35 Batch    7/28   train_loss = 0.342\n",
      "Epoch  35 Batch   14/28   train_loss = 0.327\n",
      "Epoch  35 Batch   21/28   train_loss = 0.345\n",
      "Epoch  36 Batch    0/28   train_loss = 0.327\n",
      "Epoch  36 Batch    7/28   train_loss = 0.277\n",
      "Epoch  36 Batch   14/28   train_loss = 0.279\n",
      "Epoch  36 Batch   21/28   train_loss = 0.306\n",
      "Epoch  37 Batch    0/28   train_loss = 0.295\n",
      "Epoch  37 Batch    7/28   train_loss = 0.253\n",
      "Epoch  37 Batch   14/28   train_loss = 0.242\n",
      "Epoch  37 Batch   21/28   train_loss = 0.273\n",
      "Epoch  38 Batch    0/28   train_loss = 0.259\n",
      "Epoch  38 Batch    7/28   train_loss = 0.225\n",
      "Epoch  38 Batch   14/28   train_loss = 0.228\n",
      "Epoch  38 Batch   21/28   train_loss = 0.246\n",
      "Epoch  39 Batch    0/28   train_loss = 0.245\n",
      "Epoch  39 Batch    7/28   train_loss = 0.207\n",
      "Epoch  39 Batch   14/28   train_loss = 0.214\n",
      "Epoch  39 Batch   21/28   train_loss = 0.234\n",
      "Epoch  40 Batch    0/28   train_loss = 0.235\n",
      "Epoch  40 Batch    7/28   train_loss = 0.196\n",
      "Epoch  40 Batch   14/28   train_loss = 0.203\n",
      "Epoch  40 Batch   21/28   train_loss = 0.223\n",
      "Epoch  41 Batch    0/28   train_loss = 0.223\n",
      "Epoch  41 Batch    7/28   train_loss = 0.191\n",
      "Epoch  41 Batch   14/28   train_loss = 0.190\n",
      "Epoch  41 Batch   21/28   train_loss = 0.214\n",
      "Epoch  42 Batch    0/28   train_loss = 0.215\n",
      "Epoch  42 Batch    7/28   train_loss = 0.183\n",
      "Epoch  42 Batch   14/28   train_loss = 0.187\n",
      "Epoch  42 Batch   21/28   train_loss = 0.206\n",
      "Epoch  43 Batch    0/28   train_loss = 0.209\n",
      "Epoch  43 Batch    7/28   train_loss = 0.181\n",
      "Epoch  43 Batch   14/28   train_loss = 0.180\n",
      "Epoch  43 Batch   21/28   train_loss = 0.201\n",
      "Epoch  44 Batch    0/28   train_loss = 0.205\n",
      "Epoch  44 Batch    7/28   train_loss = 0.174\n",
      "Epoch  44 Batch   14/28   train_loss = 0.180\n",
      "Epoch  44 Batch   21/28   train_loss = 0.198\n",
      "Epoch  45 Batch    0/28   train_loss = 0.202\n",
      "Epoch  45 Batch    7/28   train_loss = 0.174\n",
      "Epoch  45 Batch   14/28   train_loss = 0.175\n"
     ]
    },
    {
     "name": "stdout",
     "output_type": "stream",
     "text": [
      "Epoch  45 Batch   21/28   train_loss = 0.195\n",
      "Epoch  46 Batch    0/28   train_loss = 0.200\n",
      "Epoch  46 Batch    7/28   train_loss = 0.170\n",
      "Epoch  46 Batch   14/28   train_loss = 0.176\n",
      "Epoch  46 Batch   21/28   train_loss = 0.192\n",
      "Epoch  47 Batch    0/28   train_loss = 0.198\n",
      "Epoch  47 Batch    7/28   train_loss = 0.171\n",
      "Epoch  47 Batch   14/28   train_loss = 0.172\n",
      "Epoch  47 Batch   21/28   train_loss = 0.191\n",
      "Epoch  48 Batch    0/28   train_loss = 0.197\n",
      "Epoch  48 Batch    7/28   train_loss = 0.167\n",
      "Epoch  48 Batch   14/28   train_loss = 0.173\n",
      "Epoch  48 Batch   21/28   train_loss = 0.189\n",
      "Epoch  49 Batch    0/28   train_loss = 0.196\n",
      "Epoch  49 Batch    7/28   train_loss = 0.168\n",
      "Epoch  49 Batch   14/28   train_loss = 0.170\n",
      "Epoch  49 Batch   21/28   train_loss = 0.189\n",
      "Model Trained and Saved\n"
     ]
    }
   ],
   "source": [
    "\"\"\"\n",
    "DON'T MODIFY ANYTHING IN THIS CELL\n",
    "\"\"\"\n",
    "batches = get_batches(int_text, batch_size, seq_length)\n",
    "\n",
    "with tf.Session(graph=train_graph) as sess:\n",
    "    sess.run(tf.global_variables_initializer())\n",
    "\n",
    "    for epoch_i in range(num_epochs):\n",
    "        state = sess.run(initial_state, {input_text: batches[0][0]})\n",
    "\n",
    "        for batch_i, (x, y) in enumerate(batches):\n",
    "            \n",
    "            feed = {\n",
    "                input_text: x,\n",
    "                targets: y,\n",
    "                initial_state: state,\n",
    "                lr: learning_rate}\n",
    "            train_loss, state, _ = sess.run([cost, final_state, train_op], feed)\n",
    "\n",
    "            # Show every <show_every_n_batches> batches\n",
    "            if (epoch_i * len(batches) + batch_i) % show_every_n_batches == 0:\n",
    "                print('Epoch {:>3} Batch {:>4}/{}   train_loss = {:.3f}'.format(\n",
    "                    epoch_i,\n",
    "                    batch_i,\n",
    "                    len(batches),\n",
    "                    train_loss))\n",
    "\n",
    "    # Save Model\n",
    "    saver = tf.train.Saver()\n",
    "    saver.save(sess, save_dir)\n",
    "    print('Model Trained and Saved')"
   ]
  },
  {
   "cell_type": "markdown",
   "metadata": {},
   "source": [
    "## Save Parameters\n",
    "Save `seq_length` and `save_dir` for generating a new TV script."
   ]
  },
  {
   "cell_type": "code",
   "execution_count": 41,
   "metadata": {
    "collapsed": true
   },
   "outputs": [],
   "source": [
    "\"\"\"\n",
    "DON'T MODIFY ANYTHING IN THIS CELL\n",
    "\"\"\"\n",
    "# Save parameters for checkpoint\n",
    "helper.save_params((seq_length, save_dir))"
   ]
  },
  {
   "cell_type": "markdown",
   "metadata": {},
   "source": [
    "# Checkpoint"
   ]
  },
  {
   "cell_type": "code",
   "execution_count": 1,
   "metadata": {
    "collapsed": true
   },
   "outputs": [],
   "source": [
    "\"\"\"\n",
    "DON'T MODIFY ANYTHING IN THIS CELL\n",
    "\"\"\"\n",
    "import tensorflow as tf\n",
    "import numpy as np\n",
    "import helper\n",
    "import problem_unittests as tests\n",
    "\n",
    "_, vocab_to_int, int_to_vocab, token_dict = helper.load_preprocess()\n",
    "seq_length, load_dir = helper.load_params()"
   ]
  },
  {
   "cell_type": "markdown",
   "metadata": {},
   "source": [
    "## Implement Generate Functions\n",
    "### Get Tensors\n",
    "Get tensors from `loaded_graph` using the function [`get_tensor_by_name()`](https://www.tensorflow.org/api_docs/python/tf/Graph#get_tensor_by_name).  Get the tensors using the following names:\n",
    "- \"input:0\"\n",
    "- \"initial_state:0\"\n",
    "- \"final_state:0\"\n",
    "- \"probs:0\"\n",
    "\n",
    "Return the tensors in the following tuple `(InputTensor, InitialStateTensor, FinalStateTensor, ProbsTensor)` "
   ]
  },
  {
   "cell_type": "code",
   "execution_count": 2,
   "metadata": {},
   "outputs": [
    {
     "name": "stdout",
     "output_type": "stream",
     "text": [
      "Tests Passed\n"
     ]
    }
   ],
   "source": [
    "def get_tensors(loaded_graph):\n",
    "    \"\"\"\n",
    "    Get input, initial state, final state, and probabilities tensor from <loaded_graph>\n",
    "    :param loaded_graph: TensorFlow graph loaded from file\n",
    "    :return: Tuple (InputTensor, InitialStateTensor, FinalStateTensor, ProbsTensor)\n",
    "    \"\"\"\n",
    "    # TODO: Implement Function\n",
    "    input_tensor = loaded_graph.get_tensor_by_name(\"input:0\")\n",
    "    initial_state_tensor = loaded_graph.get_tensor_by_name(\"initial_state:0\")\n",
    "    final_state_tensor = loaded_graph.get_tensor_by_name(\"final_state:0\")\n",
    "    probs_tensor = loaded_graph.get_tensor_by_name(\"probs:0\")\n",
    "    \n",
    "    return input_tensor, initial_state_tensor, final_state_tensor, probs_tensor\n",
    "\n",
    "\n",
    "\"\"\"\n",
    "DON'T MODIFY ANYTHING IN THIS CELL THAT IS BELOW THIS LINE\n",
    "\"\"\"\n",
    "tests.test_get_tensors(get_tensors)"
   ]
  },
  {
   "cell_type": "markdown",
   "metadata": {},
   "source": [
    "### Choose Word\n",
    "Implement the `pick_word()` function to select the next word using `probabilities`."
   ]
  },
  {
   "cell_type": "code",
   "execution_count": 3,
   "metadata": {},
   "outputs": [
    {
     "name": "stdout",
     "output_type": "stream",
     "text": [
      "Tests Passed\n"
     ]
    }
   ],
   "source": [
    "def pick_word(probabilities, int_to_vocab):\n",
    "    \"\"\"\n",
    "    Pick the next word in the generated text\n",
    "    :param probabilities: Probabilites of the next word\n",
    "    :param int_to_vocab: Dictionary of word ids as the keys and words as the values\n",
    "    :return: String of the predicted word\n",
    "    \"\"\"\n",
    "    # TODO: Implement Function\n",
    "    #word = int_to_vocab[np.argmax(probabilities)]  # We shouldn't use this, to avoid loops of the same words.\n",
    "    word = int_to_vocab[np.random.choice(len(probabilities), p=probabilities)]  # This should be used; this was submitted.\n",
    "    return word\n",
    "\n",
    "\n",
    "\"\"\"\n",
    "DON'T MODIFY ANYTHING IN THIS CELL THAT IS BELOW THIS LINE\n",
    "\"\"\"\n",
    "tests.test_pick_word(pick_word)"
   ]
  },
  {
   "cell_type": "markdown",
   "metadata": {},
   "source": [
    "## Generate TV Script\n",
    "This will generate the TV script for you.  Set `gen_length` to the length of TV script you want to generate."
   ]
  },
  {
   "cell_type": "code",
   "execution_count": 4,
   "metadata": {},
   "outputs": [
    {
     "name": "stdout",
     "output_type": "stream",
     "text": [
      "INFO:tensorflow:Restoring parameters from ./save\n",
      "homer_simpson: hey, guys. how's it goin'?\n",
      "homer_simpson: oh, don't worry about the mr. x were here.\n",
      "chief_wiggum: that was her.\n",
      "homer_simpson: please, you've got to wonder...\n",
      "carl_carlson: and i'm obsessive-compulsive!(sighs) why did it's got for a mr. will get in here, eh?\n",
      "\n",
      "\n",
      "homer_simpson: those royal elephants have trainers to make their hair...(points to door were) did you a lot of henry today/ he's gonna do for my shortcomings.\n",
      "lenny_leonard:(etc.)\n",
      "moe_szyslak: okay, remember that man-- i can't get drunk and a c. how did you make a real hero.\n",
      "crowd: oh, right, stay me. he's already drunk.\n",
      "moe_szyslak: marge, it'll get up face no face i feel was in my arms around. then i'll meet you.\n",
      "\n",
      "\n",
      "homer_simpson: when i look at that of this ad.\n",
      "seymour_skinner: is that peanuts?\n",
      "marge_simpson: it is!\n",
      "homer_simpson: boy, would you do it?\n",
      "homer_simpson: okay.\n",
      "lenny_leonard: i could believe this calls for still a beer to this.\n",
      "moe_szyslak: oh, who does that one of your rump, i'd come in there later.\n",
      "c. _montgomery_burns: guys, this was back before i have to spend finding fun.\n",
      "carl_carlson:, where's the two of us are, being their idea, whose new labor camp for to police germs.(belch)\n",
      "moe_szyslak: sorry, homer.\n",
      "homer_simpson: marge, i haven't count any the rest of my life.\"\n",
      "\n",
      "\n"
     ]
    }
   ],
   "source": [
    "gen_length = 300\n",
    "# homer_simpson, moe_szyslak, or Barney_Gumble\n",
    "prime_word = 'homer_simpson'\n",
    "\n",
    "\"\"\"\n",
    "DON'T MODIFY ANYTHING IN THIS CELL THAT IS BELOW THIS LINE\n",
    "\"\"\"\n",
    "loaded_graph = tf.Graph()\n",
    "with tf.Session(graph=loaded_graph) as sess:\n",
    "    # Load saved model\n",
    "    loader = tf.train.import_meta_graph(load_dir + '.meta')\n",
    "    loader.restore(sess, load_dir)\n",
    "\n",
    "    # Get Tensors from loaded model\n",
    "    input_text, initial_state, final_state, probs = get_tensors(loaded_graph)\n",
    "\n",
    "    # Sentences generation setup\n",
    "    gen_sentences = [prime_word + ':']\n",
    "    prev_state = sess.run(initial_state, {input_text: np.array([[1]])})\n",
    "\n",
    "    # Generate sentences\n",
    "    for n in range(gen_length):\n",
    "        # Dynamic Input\n",
    "        dyn_input = [[vocab_to_int[word] for word in gen_sentences[-seq_length:]]]\n",
    "        dyn_seq_length = len(dyn_input[0])\n",
    "\n",
    "        # Get Prediction\n",
    "        probabilities, prev_state = sess.run(\n",
    "            [probs, final_state],\n",
    "            {input_text: dyn_input, initial_state: prev_state})\n",
    "        \n",
    "        pred_word = pick_word(probabilities[dyn_seq_length-1], int_to_vocab)\n",
    "\n",
    "        gen_sentences.append(pred_word)\n",
    "    \n",
    "    # Remove tokens\n",
    "    tv_script = ' '.join(gen_sentences)\n",
    "    for key, token in token_dict.items():\n",
    "        ending = ' ' if key in ['\\n', '(', '\"'] else ''\n",
    "        tv_script = tv_script.replace(' ' + token.lower(), key)\n",
    "    tv_script = tv_script.replace('\\n ', '\\n')\n",
    "    tv_script = tv_script.replace('( ', '(')\n",
    "        \n",
    "    print(tv_script)"
   ]
  },
  {
   "cell_type": "markdown",
   "metadata": {},
   "source": [
    "# The TV Script is Nonsensical\n",
    "It's ok if the TV script doesn't make any sense.  We trained on less than a megabyte of text.  In order to get good results, you'll have to use a smaller vocabulary or get more data.  Luckly there's more data!  As we mentioned in the begging of this project, this is a subset of [another dataset](https://www.kaggle.com/wcukierski/the-simpsons-by-the-data).  We didn't have you train on all the data, because that would take too long.  However, you are free to train your neural network on all the data.  After you complete the project, of course.\n",
    "# Submitting This Project\n",
    "When submitting this project, make sure to run all the cells before saving the notebook. Save the notebook file as \"dlnd_tv_script_generation.ipynb\" and save it as a HTML file under \"File\" -> \"Download as\". Include the \"helper.py\" and \"problem_unittests.py\" files in your submission."
   ]
  }
 ],
 "metadata": {
  "kernelspec": {
   "display_name": "Python 3",
   "language": "python",
   "name": "python3"
  },
  "language_info": {
   "codemirror_mode": {
    "name": "ipython",
    "version": 3
   },
   "file_extension": ".py",
   "mimetype": "text/x-python",
   "name": "python",
   "nbconvert_exporter": "python",
   "pygments_lexer": "ipython3",
   "version": "3.6.4"
  },
  "widgets": {
   "state": {},
   "version": "1.1.2"
  }
 },
 "nbformat": 4,
 "nbformat_minor": 1
}
