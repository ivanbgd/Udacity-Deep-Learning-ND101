{
 "cells": [
  {
   "cell_type": "markdown",
   "metadata": {},
   "source": [
    "# Sentiment Classification & How To \"Frame Problems\" for a Neural Network\n",
    "\n",
    "by Andrew Trask\n",
    "\n",
    "- **Twitter**: @iamtrask\n",
    "- **Blog**: http://iamtrask.github.io"
   ]
  },
  {
   "cell_type": "markdown",
   "metadata": {},
   "source": [
    "### What You Should Already Know\n",
    "\n",
    "- neural networks, forward and back-propagation\n",
    "- stochastic gradient descent\n",
    "- mean squared error\n",
    "- and train/test splits\n",
    "\n",
    "### Where to Get Help if You Need it\n",
    "- Re-watch previous Udacity Lectures\n",
    "- Leverage the recommended Course Reading Material - [Grokking Deep Learning](https://www.manning.com/books/grokking-deep-learning) (Check inside your classroom for a discount code)\n",
    "- Shoot me a tweet @iamtrask\n",
    "\n",
    "\n",
    "### Tutorial Outline:\n",
    "\n",
    "- Intro: The Importance of \"Framing a Problem\" (this lesson)\n",
    "\n",
    "- [Curate a Dataset](#lesson_1)\n",
    "- [Developing a \"Predictive Theory\"](#lesson_2)\n",
    "- [**PROJECT 1**: Quick Theory Validation](#project_1)\n",
    "\n",
    "\n",
    "- [Transforming Text to Numbers](#lesson_3)\n",
    "- [**PROJECT 2**: Creating the Input/Output Data](#project_2)\n",
    "\n",
    "\n",
    "- Putting it all together in a Neural Network (video only - nothing in notebook)\n",
    "- [**PROJECT 3**: Building our Neural Network](#project_3)\n",
    "\n",
    "\n",
    "- [Understanding Neural Noise](#lesson_4)\n",
    "- [**PROJECT 4**: Making Learning Faster by Reducing Noise](#project_4)\n",
    "\n",
    "\n",
    "- [Analyzing Inefficiencies in our Network](#lesson_5)\n",
    "- [**PROJECT 5**: Making our Network Train and Run Faster](#project_5)\n",
    "\n",
    "\n",
    "- [Further Noise Reduction](#lesson_6)\n",
    "- [**PROJECT 6**: Reducing Noise by Strategically Reducing the Vocabulary](#project_6)\n",
    "\n",
    "\n",
    "- [Analysis: What's going on in the weights?](#lesson_7)"
   ]
  },
  {
   "cell_type": "markdown",
   "metadata": {
    "nbpresent": {
     "id": "56bb3cba-260c-4ebe-9ed6-b995b4c72aa3"
    }
   },
   "source": [
    "# Lesson: Curate a Dataset<a id='lesson_1'></a>\n",
    "The cells from here until Project 1 include code Andrew shows in the videos leading up to mini project 1. We've included them so you can run the code along with the videos without having to type in everything."
   ]
  },
  {
   "cell_type": "code",
   "execution_count": 1,
   "metadata": {
    "collapsed": true,
    "nbpresent": {
     "id": "eba2b193-0419-431e-8db9-60f34dd3fe83"
    }
   },
   "outputs": [],
   "source": [
    "def pretty_print_review_and_label(i):\n",
    "    print(labels[i] + \"\\t:\\t\" + reviews[i][:80] + \"...\")\n",
    "\n",
    "g = open('reviews.txt','r') # What we know!\n",
    "reviews = list(map(lambda x:x[:-1],g.readlines()))\n",
    "g.close()\n",
    "\n",
    "g = open('labels.txt','r') # What we WANT to know!\n",
    "labels = list(map(lambda x:x[:-1].upper(),g.readlines()))\n",
    "g.close()"
   ]
  },
  {
   "cell_type": "markdown",
   "metadata": {},
   "source": [
    "**Note:** The data in `reviews.txt` we're using has already been preprocessed a bit and contains only lower case characters. If we were working from raw data, where we didn't know it was all lower case, we would want to add a step here to convert it. That's so we treat different variations of the same word, like `The`, `the`, and `THE`, all the same way."
   ]
  },
  {
   "cell_type": "code",
   "execution_count": 2,
   "metadata": {},
   "outputs": [
    {
     "data": {
      "text/plain": [
       "25000"
      ]
     },
     "execution_count": 2,
     "metadata": {},
     "output_type": "execute_result"
    }
   ],
   "source": [
    "len(reviews)"
   ]
  },
  {
   "cell_type": "code",
   "execution_count": 3,
   "metadata": {
    "nbpresent": {
     "id": "bb95574b-21a0-4213-ae50-34363cf4f87f"
    }
   },
   "outputs": [
    {
     "data": {
      "text/plain": [
       "'bromwell high is a cartoon comedy . it ran at the same time as some other programs about school life  such as  teachers  . my   years in the teaching profession lead me to believe that bromwell high  s satire is much closer to reality than is  teachers  . the scramble to survive financially  the insightful students who can see right through their pathetic teachers  pomp  the pettiness of the whole situation  all remind me of the schools i knew and their students . when i saw the episode in which a student repeatedly tried to burn down the school  i immediately recalled . . . . . . . . . at . . . . . . . . . . high . a classic line inspector i  m here to sack one of your teachers . student welcome to bromwell high . i expect that many adults of my age think that bromwell high is far fetched . what a pity that it isn  t   '"
      ]
     },
     "execution_count": 3,
     "metadata": {},
     "output_type": "execute_result"
    }
   ],
   "source": [
    "reviews[0]"
   ]
  },
  {
   "cell_type": "code",
   "execution_count": 4,
   "metadata": {
    "nbpresent": {
     "id": "e0408810-c424-4ed4-afb9-1735e9ddbd0a"
    }
   },
   "outputs": [
    {
     "data": {
      "text/plain": [
       "'POSITIVE'"
      ]
     },
     "execution_count": 4,
     "metadata": {},
     "output_type": "execute_result"
    }
   ],
   "source": [
    "labels[0]"
   ]
  },
  {
   "cell_type": "markdown",
   "metadata": {},
   "source": [
    "# Lesson: Develop a Predictive Theory<a id='lesson_2'></a>"
   ]
  },
  {
   "cell_type": "code",
   "execution_count": 5,
   "metadata": {
    "nbpresent": {
     "id": "e67a709f-234f-4493-bae6-4fb192141ee0"
    }
   },
   "outputs": [
    {
     "name": "stdout",
     "output_type": "stream",
     "text": [
      "labels.txt \t : \t reviews.txt\n",
      "\n",
      "NEGATIVE\t:\tthis movie is terrible but it has some good effects .  ...\n",
      "POSITIVE\t:\tadrian pasdar is excellent is this film . he makes a fascinating woman .  ...\n",
      "NEGATIVE\t:\tcomment this movie is impossible . is terrible  very improbable  bad interpretat...\n",
      "POSITIVE\t:\texcellent episode movie ala pulp fiction .  days   suicides . it doesnt get more...\n",
      "NEGATIVE\t:\tif you haven  t seen this  it  s terrible . it is pure trash . i saw this about ...\n",
      "POSITIVE\t:\tthis schiffer guy is a real genius  the movie is of excellent quality and both e...\n"
     ]
    }
   ],
   "source": [
    "print(\"labels.txt \\t : \\t reviews.txt\\n\")\n",
    "pretty_print_review_and_label(2137)\n",
    "pretty_print_review_and_label(12816)\n",
    "pretty_print_review_and_label(6267)\n",
    "pretty_print_review_and_label(21934)\n",
    "pretty_print_review_and_label(5297)\n",
    "pretty_print_review_and_label(4998)"
   ]
  },
  {
   "cell_type": "markdown",
   "metadata": {},
   "source": [
    "# Project 1: Quick Theory Validation<a id='project_1'></a>\n",
    "\n",
    "There are multiple ways to implement these projects, but in order to get your code closer to what Andrew shows in his solutions, we've provided some hints and starter code throughout this notebook.\n",
    "\n",
    "You'll find the [Counter](https://docs.python.org/2/library/collections.html#collections.Counter) class to be useful in this exercise, as well as the [numpy](https://docs.scipy.org/doc/numpy/reference/) library."
   ]
  },
  {
   "cell_type": "code",
   "execution_count": 6,
   "metadata": {
    "collapsed": true
   },
   "outputs": [],
   "source": [
    "from collections import Counter\n",
    "import numpy as np"
   ]
  },
  {
   "cell_type": "markdown",
   "metadata": {},
   "source": [
    "We'll create three `Counter` objects, one for words from postive reviews, one for words from negative reviews, and one for all the words."
   ]
  },
  {
   "cell_type": "code",
   "execution_count": 7,
   "metadata": {
    "collapsed": true
   },
   "outputs": [],
   "source": [
    "# Create three Counter objects to store positive, negative and total counts\n",
    "positive_counts = Counter()\n",
    "negative_counts = Counter()\n",
    "total_counts = Counter()"
   ]
  },
  {
   "cell_type": "markdown",
   "metadata": {},
   "source": [
    "**TODO:** Examine all the reviews. For each word in a positive review, increase the count for that word in both your positive counter and the total words counter; likewise, for each word in a negative review, increase the count for that word in both your negative counter and the total words counter.\n",
    "\n",
    "**Note:** Throughout these projects, you should use `split(' ')` to divide a piece of text (such as a review) into individual words. If you use `split()` instead, you'll get slightly different results than what the videos and solutions show."
   ]
  },
  {
   "cell_type": "code",
   "execution_count": 8,
   "metadata": {
    "collapsed": true
   },
   "outputs": [],
   "source": [
    "# TODO: Loop over all the words in all the reviews and increment the counts in the appropriate counter objects\n",
    "for i in range(len(reviews)):\n",
    "    for word in reviews[i].split(' '):\n",
    "        total_counts[word] += 1\n",
    "        if labels[i] == 'POSITIVE':\n",
    "            positive_counts[word] += 1\n",
    "        else:\n",
    "            negative_counts[word] += 1"
   ]
  },
  {
   "cell_type": "markdown",
   "metadata": {},
   "source": [
    "Run the following two cells to list the words used in positive reviews and negative reviews, respectively, ordered from most to least commonly used. "
   ]
  },
  {
   "cell_type": "code",
   "execution_count": 9,
   "metadata": {},
   "outputs": [
    {
     "data": {
      "text/plain": [
       "[('', 550468),\n",
       " ('the', 173324),\n",
       " ('.', 159654),\n",
       " ('and', 89722),\n",
       " ('a', 83688),\n",
       " ('of', 76855),\n",
       " ('to', 66746),\n",
       " ('is', 57245),\n",
       " ('in', 50215),\n",
       " ('br', 49235),\n",
       " ('it', 48025),\n",
       " ('i', 40743),\n",
       " ('that', 35630),\n",
       " ('this', 35080),\n",
       " ('s', 33815),\n",
       " ('as', 26308),\n",
       " ('with', 23247),\n",
       " ('for', 22416),\n",
       " ('was', 21917),\n",
       " ('film', 20937)]"
      ]
     },
     "execution_count": 9,
     "metadata": {},
     "output_type": "execute_result"
    }
   ],
   "source": [
    "# Examine the counts of the most common words in positive reviews\n",
    "positive_counts.most_common()[:20]"
   ]
  },
  {
   "cell_type": "code",
   "execution_count": 10,
   "metadata": {},
   "outputs": [
    {
     "data": {
      "text/plain": [
       "[('', 561462),\n",
       " ('.', 167538),\n",
       " ('the', 163389),\n",
       " ('a', 79321),\n",
       " ('and', 74385),\n",
       " ('of', 69009),\n",
       " ('to', 68974),\n",
       " ('br', 52637),\n",
       " ('is', 50083),\n",
       " ('it', 48327),\n",
       " ('i', 46880),\n",
       " ('in', 43753),\n",
       " ('this', 40920),\n",
       " ('that', 37615),\n",
       " ('s', 31546),\n",
       " ('was', 26291),\n",
       " ('movie', 24965),\n",
       " ('for', 21927),\n",
       " ('but', 21781),\n",
       " ('with', 20878)]"
      ]
     },
     "execution_count": 10,
     "metadata": {},
     "output_type": "execute_result"
    }
   ],
   "source": [
    "# Examine the counts of the most common words in negative reviews\n",
    "negative_counts.most_common()[:20]"
   ]
  },
  {
   "cell_type": "markdown",
   "metadata": {},
   "source": [
    "As you can see, common words like \"the\" appear very often in both positive and negative reviews. Instead of finding the most common words in positive or negative reviews, what you really want are the words found in positive reviews more often than in negative reviews, and vice versa. To accomplish this, you'll need to calculate the **ratios** of word usage between positive and negative reviews.\n",
    "\n",
    "**TODO:** Check all the words you've seen and calculate the ratio of postive to negative uses and store that ratio in `pos_neg_ratios`. \n",
    ">Hint: the positive-to-negative ratio for a given word can be calculated with `positive_counts[word] / float(negative_counts[word]+1)`. Notice the `+1` in the denominator – that ensures we don't divide by zero for words that are only seen in positive reviews."
   ]
  },
  {
   "cell_type": "code",
   "execution_count": 11,
   "metadata": {},
   "outputs": [
    {
     "name": "stdout",
     "output_type": "stream",
     "text": [
      "55214\n",
      "53635\n",
      "74074\n",
      "False\n"
     ]
    }
   ],
   "source": [
    "# Create Counter object to store positive/negative ratios\n",
    "pos_neg_ratios = Counter()\n",
    "\n",
    "# TODO: Calculate the ratios of positive and negative uses of the most common words\n",
    "#       Consider words to be \"common\" if they've been used at least 100 times\n",
    "\n",
    "print(len(positive_counts))\n",
    "print(len(negative_counts))\n",
    "print(len(total_counts))\n",
    "print(len(positive_counts) + len(negative_counts) == len(total_counts))\n",
    "\n",
    "for word in total_counts.keys():\n",
    "    if total_counts[word] >= 100:\n",
    "        pos_neg_ratios[word] = positive_counts[word] / float(negative_counts[word]+1)"
   ]
  },
  {
   "cell_type": "markdown",
   "metadata": {},
   "source": [
    "Examine the ratios you've calculated for a few words:"
   ]
  },
  {
   "cell_type": "code",
   "execution_count": 12,
   "metadata": {},
   "outputs": [
    {
     "name": "stdout",
     "output_type": "stream",
     "text": [
      "Pos-to-neg ratio for 'the' = 1.0607993145235326\n",
      "Pos-to-neg ratio for 'amazing' = 4.022813688212928\n",
      "Pos-to-neg ratio for 'terrible' = 0.17744252873563218\n"
     ]
    }
   ],
   "source": [
    "print(\"Pos-to-neg ratio for 'the' = {}\".format(pos_neg_ratios[\"the\"]))\n",
    "print(\"Pos-to-neg ratio for 'amazing' = {}\".format(pos_neg_ratios[\"amazing\"]))\n",
    "print(\"Pos-to-neg ratio for 'terrible' = {}\".format(pos_neg_ratios[\"terrible\"]))"
   ]
  },
  {
   "cell_type": "markdown",
   "metadata": {},
   "source": [
    "Looking closely at the values you just calculated, we see the following:\n",
    "\n",
    "* Words that you would expect to see more often in positive reviews – like \"amazing\" – have a ratio greater than 1. The more skewed a word is toward postive, the farther from 1 its positive-to-negative ratio  will be.\n",
    "* Words that you would expect to see more often in negative reviews – like \"terrible\" – have positive values that are less than 1. The more skewed a word is toward negative, the closer to zero its positive-to-negative ratio will be.\n",
    "* Neutral words, which don't really convey any sentiment because you would expect to see them in all sorts of reviews – like \"the\" – have values very close to 1. A perfectly neutral word – one that was used in exactly the same number of positive reviews as negative reviews – would be almost exactly 1. The `+1` we suggested you add to the denominator slightly biases words toward negative, but it won't matter because it will be a tiny bias and later we'll be ignoring words that are too close to neutral anyway.\n",
    "\n",
    "Ok, the ratios tell us which words are used more often in postive or negative reviews, but the specific values we've calculated are a bit difficult to work with. A very positive word like \"amazing\" has a value above 4, whereas a very negative word like \"terrible\" has a value around 0.18. Those values aren't easy to compare for a couple of reasons:\n",
    "\n",
    "* Right now, 1 is considered neutral, but the absolute value of the postive-to-negative ratios of very positive words is larger than the absolute value of the ratios for the very negative words. So there is no way to directly compare two numbers and see if one word conveys the same magnitude of positive sentiment as another word conveys negative sentiment. So we should center all the values around neutral so the absolute value for neutral of the positive-to-negative ratio for a word would indicate how much sentiment (positive or negative) that word conveys.\n",
    "* When comparing absolute values it's easier to do that around zero than one. \n",
    "\n",
    "To fix these issues, we'll convert all of our ratios to new values using logarithms.\n",
    "\n",
    "**TODO:** Go through all the ratios you calculated and convert them to logarithms. (i.e. use `np.log(ratio)`)\n",
    "\n",
    "In the end, extremely positive and extremely negative words will have positive-to-negative ratios with similar magnitudes but opposite signs."
   ]
  },
  {
   "cell_type": "code",
   "execution_count": 13,
   "metadata": {
    "collapsed": true
   },
   "outputs": [],
   "source": [
    "# TODO: Convert ratios to logs\n",
    "for word in pos_neg_ratios.keys():\n",
    "    pos_neg_ratios[word] = np.log(pos_neg_ratios[word])"
   ]
  },
  {
   "cell_type": "markdown",
   "metadata": {},
   "source": [
    "Examine the new ratios you've calculated for the same words from before:"
   ]
  },
  {
   "cell_type": "code",
   "execution_count": 14,
   "metadata": {},
   "outputs": [
    {
     "name": "stdout",
     "output_type": "stream",
     "text": [
      "Pos-to-neg ratio for 'the' = 0.05902269426102881\n",
      "Pos-to-neg ratio for 'amazing' = 1.3919815802404802\n",
      "Pos-to-neg ratio for 'terrible' = -1.7291085042663878\n"
     ]
    }
   ],
   "source": [
    "print(\"Pos-to-neg ratio for 'the' = {}\".format(pos_neg_ratios[\"the\"]))\n",
    "print(\"Pos-to-neg ratio for 'amazing' = {}\".format(pos_neg_ratios[\"amazing\"]))\n",
    "print(\"Pos-to-neg ratio for 'terrible' = {}\".format(pos_neg_ratios[\"terrible\"]))"
   ]
  },
  {
   "cell_type": "markdown",
   "metadata": {},
   "source": [
    "If everything worked, now you should see neutral words with values close to zero. In this case, \"the\" is near zero but slightly positive, so it was probably used in more positive reviews than negative reviews. But look at \"amazing\"'s ratio - it's above `1`, showing it is clearly a word with positive sentiment. And \"terrible\" has a similar score, but in the opposite direction, so it's below `-1`. It's now clear that both of these words are associated with specific, opposing sentiments.\n",
    "\n",
    "Now run the following cells to see more ratios. \n",
    "\n",
    "The first cell displays all the words, ordered by how associated they are with postive reviews. (Your notebook will most likely truncate the output so you won't actually see *all* the words in the list.)\n",
    "\n",
    "The second cell displays the 30 words most associated with negative reviews by reversing the order of the first list and then looking at the first 30 words. (If you want the second cell to display all the words, ordered by how associated they are with negative reviews, you could just write `reversed(pos_neg_ratios.most_common())`.)\n",
    "\n",
    "You should continue to see values similar to the earlier ones we checked – neutral words will be close to `0`, words will get more positive as their ratios approach and go above `1`, and words will get more negative as their ratios approach and go below `-1`. That's why we decided to use the logs instead of the raw ratios."
   ]
  },
  {
   "cell_type": "code",
   "execution_count": 16,
   "metadata": {},
   "outputs": [
    {
     "data": {
      "text/plain": [
       "[('edie', 4.6913478822291435),\n",
       " ('paulie', 4.0775374439057197),\n",
       " ('felix', 3.1527360223636558),\n",
       " ('polanski', 2.8233610476132043),\n",
       " ('matthau', 2.8067217286092401),\n",
       " ('victoria', 2.6810215287142909),\n",
       " ('mildred', 2.6026896854443837),\n",
       " ('gandhi', 2.5389738710582761),\n",
       " ('flawless', 2.451005098112319),\n",
       " ('superbly', 2.2600254785752498),\n",
       " ('perfection', 2.1594842493533721),\n",
       " ('astaire', 2.1400661634962708),\n",
       " ('captures', 2.0386195471595809),\n",
       " ('voight', 2.0301704926730531),\n",
       " ('wonderfully', 2.0218960560332353),\n",
       " ('powell', 1.9783454248084671),\n",
       " ('brosnan', 1.9547990964725592),\n",
       " ('lily', 1.9203768470501485),\n",
       " ('bakshi', 1.9029851043382795),\n",
       " ('lincoln', 1.9014583864844796),\n",
       " ('refreshing', 1.8551812956655511),\n",
       " ('breathtaking', 1.8481124057791867),\n",
       " ('bourne', 1.8478489358790986),\n",
       " ('lemmon', 1.8458266904983307),\n",
       " ('delightful', 1.8002701588959635),\n",
       " ('flynn', 1.7996646487351682),\n",
       " ('andrews', 1.7764919970972666),\n",
       " ('homer', 1.7692866133759964),\n",
       " ('beautifully', 1.7626953362841438),\n",
       " ('soccer', 1.7578579175523736)]"
      ]
     },
     "execution_count": 16,
     "metadata": {},
     "output_type": "execute_result"
    }
   ],
   "source": [
    "# words most frequently seen in a review with a \"POSITIVE\" label\n",
    "pos_neg_ratios.most_common()[:30]"
   ]
  },
  {
   "cell_type": "code",
   "execution_count": 17,
   "metadata": {},
   "outputs": [
    {
     "data": {
      "text/plain": [
       "[('boll', -4.9698132995760007),\n",
       " ('uwe', -4.6249728132842707),\n",
       " ('seagal', -3.6441435602725449),\n",
       " ('unwatchable', -3.2580965380214821),\n",
       " ('stinker', -3.2088254890146994),\n",
       " ('mst', -2.9502698994772336),\n",
       " ('incoherent', -2.9368917735310576),\n",
       " ('unfunny', -2.6922395950755678),\n",
       " ('waste', -2.6193845640165536),\n",
       " ('blah', -2.5704288232261625),\n",
       " ('horrid', -2.4849066497880004),\n",
       " ('pointless', -2.4553061800117097),\n",
       " ('atrocious', -2.4259083090260445),\n",
       " ('redeeming', -2.3682390632154826),\n",
       " ('prom', -2.3608540011180215),\n",
       " ('drivel', -2.3470368555648795),\n",
       " ('lousy', -2.3075726345050849),\n",
       " ('worst', -2.2869878961803778),\n",
       " ('laughable', -2.2643638801738479),\n",
       " ('awful', -2.2271942470274348),\n",
       " ('poorly', -2.2207550747464135),\n",
       " ('wasting', -2.2046046846338418),\n",
       " ('remotely', -2.1972245773362196),\n",
       " ('existent', -2.0794415416798357),\n",
       " ('boredom', -1.9951003932460849),\n",
       " ('miserably', -1.9924301646902063),\n",
       " ('sucks', -1.9870682215488209),\n",
       " ('uninspired', -1.9832976811269336),\n",
       " ('lame', -1.981767458946166),\n",
       " ('insult', -1.9783454248084671)]"
      ]
     },
     "execution_count": 17,
     "metadata": {},
     "output_type": "execute_result"
    }
   ],
   "source": [
    "# words most frequently seen in a review with a \"NEGATIVE\" label\n",
    "list(reversed(pos_neg_ratios.most_common()))[0:30]\n",
    "\n",
    "# Note: Above is the code Andrew uses in his solution video, \n",
    "#       so we've included it here to avoid confusion.\n",
    "#       If you explore the documentation for the Counter class, \n",
    "#       you will see you could also find the 30 least common\n",
    "#       words like this: pos_neg_ratios.most_common()[:-31:-1]"
   ]
  },
  {
   "cell_type": "markdown",
   "metadata": {},
   "source": [
    "# End of Project 1. \n",
    "## Watch the next video to see Andrew's solution, then continue on to the next lesson.\n",
    "\n",
    "# Transforming Text into Numbers<a id='lesson_3'></a>\n",
    "The cells here include code Andrew shows in the next video. We've included it so you can run the code along with the video without having to type in everything."
   ]
  },
  {
   "cell_type": "code",
   "execution_count": 17,
   "metadata": {},
   "outputs": [
    {
     "data": {
      "image/png": "[encoded data removed]",
      "text/plain": [
       "<IPython.core.display.Image object>"
      ]
     },
     "execution_count": 17,
     "metadata": {},
     "output_type": "execute_result"
    }
   ],
   "source": [
    "from IPython.display import Image\n",
    "\n",
    "review = \"This was a horrible, terrible movie.\"\n",
    "\n",
    "Image(filename='sentiment_network.png')"
   ]
  },
  {
   "cell_type": "code",
   "execution_count": 18,
   "metadata": {},
   "outputs": [
    {
     "data": {
      "image/png": "[encoded data removed]",
      "text/plain": [
       "<IPython.core.display.Image object>"
      ]
     },
     "execution_count": 18,
     "metadata": {},
     "output_type": "execute_result"
    }
   ],
   "source": [
    "review = \"The movie was excellent\"\n",
    "\n",
    "Image(filename='sentiment_network_pos.png')"
   ]
  },
  {
   "cell_type": "markdown",
   "metadata": {},
   "source": [
    "# Project 2: Creating the Input/Output Data<a id='project_2'></a>\n",
    "\n",
    "**TODO:** Create a [set](https://docs.python.org/3/tutorial/datastructures.html#sets) named `vocab` that contains every word in the vocabulary."
   ]
  },
  {
   "cell_type": "code",
   "execution_count": 18,
   "metadata": {
    "collapsed": true
   },
   "outputs": [],
   "source": [
    "# TODO: Create set named \"vocab\" containing all of the words from all of the reviews\n",
    "vocab = set(total_counts.keys())"
   ]
  },
  {
   "cell_type": "markdown",
   "metadata": {},
   "source": [
    "Run the following cell to check your vocabulary size. If everything worked correctly, it should print **74074**"
   ]
  },
  {
   "cell_type": "code",
   "execution_count": 19,
   "metadata": {},
   "outputs": [
    {
     "name": "stdout",
     "output_type": "stream",
     "text": [
      "74074\n"
     ]
    }
   ],
   "source": [
    "vocab_size = len(vocab)\n",
    "print(vocab_size)"
   ]
  },
  {
   "cell_type": "markdown",
   "metadata": {},
   "source": [
    "Take a look at the following image. It represents the layers of the neural network you'll be building throughout this notebook. `layer_0` is the input layer, `layer_1` is a hidden layer, and `layer_2` is the output layer."
   ]
  },
  {
   "cell_type": "code",
   "execution_count": 21,
   "metadata": {},
   "outputs": [
    {
     "data": {
      "image/png": "[encoded data removed]",
      "text/plain": [
       "<IPython.core.display.Image object>"
      ]
     },
     "execution_count": 21,
     "metadata": {},
     "output_type": "execute_result"
    }
   ],
   "source": [
    "from IPython.display import Image\n",
    "Image(filename='sentiment_network_2.png')"
   ]
  },
  {
   "cell_type": "markdown",
   "metadata": {},
   "source": [
    "**TODO:** Create a numpy array called `layer_0` and initialize it to all zeros. You will find the [zeros](https://docs.scipy.org/doc/numpy/reference/generated/numpy.zeros.html) function particularly helpful here. Be sure you create `layer_0` as a 2-dimensional matrix with 1 row and `vocab_size` columns. "
   ]
  },
  {
   "cell_type": "code",
   "execution_count": 20,
   "metadata": {
    "collapsed": true
   },
   "outputs": [],
   "source": [
    "# TODO: Create layer_0 matrix with dimensions 1 by vocab_size, initially filled with zeros\n",
    "layer_0 = np.zeros(shape=(1, vocab_size))"
   ]
  },
  {
   "cell_type": "markdown",
   "metadata": {},
   "source": [
    "Run the following cell. It should display `(1, 74074)`"
   ]
  },
  {
   "cell_type": "code",
   "execution_count": 21,
   "metadata": {},
   "outputs": [
    {
     "data": {
      "text/plain": [
       "(1, 74074)"
      ]
     },
     "execution_count": 21,
     "metadata": {},
     "output_type": "execute_result"
    }
   ],
   "source": [
    "layer_0.shape"
   ]
  },
  {
   "cell_type": "code",
   "execution_count": 24,
   "metadata": {},
   "outputs": [
    {
     "data": {
      "image/png": "[encoded data removed]",
      "text/plain": [
       "<IPython.core.display.Image object>"
      ]
     },
     "execution_count": 24,
     "metadata": {},
     "output_type": "execute_result"
    }
   ],
   "source": [
    "from IPython.display import Image\n",
    "Image(filename='sentiment_network.png')"
   ]
  },
  {
   "cell_type": "markdown",
   "metadata": {},
   "source": [
    "`layer_0` contains one entry for every word in the vocabulary, as shown in the above image. We need to make sure we know the index of each word, so run the following cell to create a lookup table that stores the index of every word."
   ]
  },
  {
   "cell_type": "code",
   "execution_count": 31,
   "metadata": {},
   "outputs": [
    {
     "data": {
      "text/plain": [
       "[('', 0),\n",
       " ('bulkhead', 1),\n",
       " ('management', 2),\n",
       " ('ishoos', 3),\n",
       " ('imagining', 4),\n",
       " ('syncopated', 5),\n",
       " ('leaking', 6),\n",
       " ('robotboy', 7),\n",
       " ('renovated', 8),\n",
       " ('harm', 9),\n",
       " ('angeles', 10),\n",
       " ('curiousness', 11),\n",
       " ('duplis', 12),\n",
       " ('hj', 13),\n",
       " ('infielder', 14),\n",
       " ('completest', 15),\n",
       " ('outspokenness', 16),\n",
       " ('conlin', 17),\n",
       " ('jobe', 18),\n",
       " ('sauk', 19)]"
      ]
     },
     "execution_count": 31,
     "metadata": {},
     "output_type": "execute_result"
    }
   ],
   "source": [
    "# Create a dictionary of words in the vocabulary mapped to index positions\n",
    "# (to be used in layer_0)\n",
    "word2index = {}\n",
    "for i, word in enumerate(vocab):\n",
    "    word2index[word] = i\n",
    "    \n",
    "# display the map of words to indices\n",
    "word2index\n",
    "list(word2index.items())[:20]"
   ]
  },
  {
   "cell_type": "markdown",
   "metadata": {},
   "source": [
    "**TODO:**  Complete the implementation of `update_input_layer`. It should count \n",
    "          how many times each word is used in the given review, and then store\n",
    "          those counts at the appropriate indices inside `layer_0`."
   ]
  },
  {
   "cell_type": "code",
   "execution_count": 32,
   "metadata": {
    "collapsed": true
   },
   "outputs": [],
   "source": [
    "def update_input_layer(review):\n",
    "    \"\"\" Modify the global layer_0 to represent the vector form of review.\n",
    "    The element at a given index of layer_0 should represent\n",
    "    how many times the given word occurs in the review.\n",
    "    Args:\n",
    "        review(string) - the string of the review\n",
    "    Returns:\n",
    "        None\n",
    "    \"\"\"\n",
    "    global layer_0\n",
    "    # clear out previous state by resetting the layer to be all 0s\n",
    "    layer_0 *= 0\n",
    "    \n",
    "    # TODO: count how many times each word is used in the given review and store the results in layer_0\n",
    "    for word in review.split(' '):\n",
    "        layer_0[0][word2index[word]] += 1"
   ]
  },
  {
   "cell_type": "markdown",
   "metadata": {},
   "source": [
    "Run the following cell to test updating the input layer with the first review. The indices assigned may not be the same as in the solution, but hopefully you'll see some non-zero values in `layer_0`.  "
   ]
  },
  {
   "cell_type": "code",
   "execution_count": 33,
   "metadata": {},
   "outputs": [
    {
     "data": {
      "text/plain": [
       "array([[ 18.,   0.,   0., ...,   0.,   0.,   0.]])"
      ]
     },
     "execution_count": 33,
     "metadata": {},
     "output_type": "execute_result"
    }
   ],
   "source": [
    "update_input_layer(reviews[0])\n",
    "layer_0"
   ]
  },
  {
   "cell_type": "markdown",
   "metadata": {},
   "source": [
    "**TODO:** Complete the implementation of `get_target_for_labels`. It should return `0` or `1`, \n",
    "          depending on whether the given label is `NEGATIVE` or `POSITIVE`, respectively."
   ]
  },
  {
   "cell_type": "code",
   "execution_count": 34,
   "metadata": {
    "collapsed": true
   },
   "outputs": [],
   "source": [
    "def get_target_for_label(label):\n",
    "    \"\"\"Convert a label to `0` or `1`.\n",
    "    Args:\n",
    "        label(string) - Either \"POSITIVE\" or \"NEGATIVE\".\n",
    "    Returns:\n",
    "        `0` or `1`.\n",
    "    \"\"\"\n",
    "    return 0 if label == \"NEGATIVE\" else 1"
   ]
  },
  {
   "cell_type": "markdown",
   "metadata": {},
   "source": [
    "Run the following two cells. They should print out`'POSITIVE'` and `1`, respectively."
   ]
  },
  {
   "cell_type": "code",
   "execution_count": 35,
   "metadata": {},
   "outputs": [
    {
     "data": {
      "text/plain": [
       "'POSITIVE'"
      ]
     },
     "execution_count": 35,
     "metadata": {},
     "output_type": "execute_result"
    }
   ],
   "source": [
    "labels[0]"
   ]
  },
  {
   "cell_type": "code",
   "execution_count": 36,
   "metadata": {},
   "outputs": [
    {
     "data": {
      "text/plain": [
       "1"
      ]
     },
     "execution_count": 36,
     "metadata": {},
     "output_type": "execute_result"
    }
   ],
   "source": [
    "get_target_for_label(labels[0])"
   ]
  },
  {
   "cell_type": "markdown",
   "metadata": {},
   "source": [
    "Run the following two cells. They should print out `'NEGATIVE'` and `0`, respectively."
   ]
  },
  {
   "cell_type": "code",
   "execution_count": 37,
   "metadata": {},
   "outputs": [
    {
     "data": {
      "text/plain": [
       "'NEGATIVE'"
      ]
     },
     "execution_count": 37,
     "metadata": {},
     "output_type": "execute_result"
    }
   ],
   "source": [
    "labels[1]"
   ]
  },
  {
   "cell_type": "code",
   "execution_count": 38,
   "metadata": {},
   "outputs": [
    {
     "data": {
      "text/plain": [
       "0"
      ]
     },
     "execution_count": 38,
     "metadata": {},
     "output_type": "execute_result"
    }
   ],
   "source": [
    "get_target_for_label(labels[1])"
   ]
  },
  {
   "cell_type": "markdown",
   "metadata": {},
   "source": [
    "# End of Project 2. \n",
    "## Watch the next video to see Andrew's solution, then continue on to the next lesson."
   ]
  },
  {
   "cell_type": "markdown",
   "metadata": {},
   "source": [
    "# Project 3: Building a Neural Network<a id='project_3'></a>"
   ]
  },
  {
   "cell_type": "markdown",
   "metadata": {},
   "source": [
    "**TODO:** We've included the framework of a class called `SentimentNetork`. Implement all of the items marked `TODO` in the code. These include doing the following:\n",
    "- Create a basic neural network much like the networks you've seen in earlier lessons and in Project 1, with an input layer, a hidden layer, and an output layer. \n",
    "- Do **not** add a non-linearity in the hidden layer. That is, do not use an activation function when calculating the hidden layer outputs.\n",
    "- Re-use the code from earlier in this notebook to create the training data (see `TODO`s in the code)\n",
    "- Implement the `pre_process_data` function to create the vocabulary for our training data generating functions\n",
    "- Ensure `train` trains over the entire corpus"
   ]
  },
  {
   "cell_type": "markdown",
   "metadata": {},
   "source": [
    "### Where to Get Help if You Need it\n",
    "- Re-watch earlier Udacity lectures\n",
    "- Chapters 3-5 - [Grokking Deep Learning](https://www.manning.com/books/grokking-deep-learning) - (Check inside your classroom for a discount code)"
   ]
  },
  {
   "cell_type": "code",
   "execution_count": 33,
   "metadata": {
    "collapsed": true
   },
   "outputs": [],
   "source": [
    "# I modified the starter code a lot, because it wasn't written in a good manner.\n",
    "# Namely, the constructor took too long to execute, because it called self.pre_process_data(reviews, labels)\n",
    "# and self.init_network(len(self.review_vocab), hidden_nodes, 1, learning_rate), where\n",
    "# a constructor should be as short as possible, both in code, and in execution time.\n",
    "# It should just create an object (with minimal initialization) and finish.\n",
    "# It's ridiculous to process data in it!\n",
    "# It is okay to call self.init_network() inside of the constructor, but the problem is\n",
    "# that it requires a result from self.pre_process_data(), so my constructor doesn't do anything.\n",
    "# I didn't want to change the code too much, for later easier use.\n",
    "# But, a change in use is required. Now we have to manually initialize the network we create\n",
    "# every time, after pre-processing the data, but this is a regular way, unlike their.\n",
    "# I have also taken the np.random.seed(1) out of the constructor, because it has\n",
    "# absolutely nothing to do with an object, of course, and it should be set only once\n",
    "# in a program, at its beginning.\n",
    "# And I don't know what the data pre-processing has to do with a network object anyway, but okay...\n",
    "\n",
    "import time\n",
    "import sys\n",
    "import numpy as np\n",
    "\n",
    "\n",
    "# Assign a seed to our random number generator to ensure we get\n",
    "# reproducible results during development \n",
    "np.random.seed(1)\n",
    "\n",
    "\n",
    "# Encapsulate our neural network in a class\n",
    "class SentimentNetwork:\n",
    "    def __init__(self, reviews, labels, hidden_nodes = 10, learning_rate = 0.1):\n",
    "        \"\"\"Create a SentimenNetwork with the given settings\n",
    "        Args:\n",
    "            reviews(list) - List of reviews used for training\n",
    "            labels(list) - List of POSITIVE/NEGATIVE labels associated with the given reviews\n",
    "            hidden_nodes(int) - Number of nodes to create in the hidden layer\n",
    "            learning_rate(float) - Learning rate to use while training        \n",
    "        \"\"\"\n",
    "        \n",
    "        self.review_vocab = None\n",
    "        self.label_vocab = None\n",
    "        self.review_vocab_size = None\n",
    "        self.label_vocab_size = None\n",
    "        self.word2index = None\n",
    "        self.label2index = None\n",
    "        \n",
    "        self.input_nodes = None\n",
    "        self.hidden_nodes = None\n",
    "        self.output_nodes = None\n",
    "        self.learning_rate = None\n",
    "        self.weights_0_1 = None\n",
    "        self.weights_1_2 = None\n",
    "        self.layer_0 = None\n",
    "        \n",
    "    \n",
    "        # process the reviews and their associated labels so that everything\n",
    "        # is ready for training\n",
    "        #self.pre_process_data(reviews, labels)\n",
    "        \n",
    "        # Build the network to have the number of hidden nodes and the learning rate that\n",
    "        # were passed into this initializer. Make the same number of input nodes as\n",
    "        # there are vocabulary words and create a single output node.\n",
    "        #self.init_network(len(self.review_vocab), hidden_nodes, 1, learning_rate)\n",
    "\n",
    "    def pre_process_data(self, reviews, labels):\n",
    "        \"\"\"Returns self.review_vocab_size.\"\"\"\n",
    "        # It returned None, where it now returns len(self.review_vocab).\n",
    "        \n",
    "        review_vocab = set()\n",
    "        # TODO: populate review_vocab with all of the words in the given reviews\n",
    "        #       Remember to split reviews into individual words \n",
    "        #       using \"split(' ')\" instead of \"split()\".\n",
    "        for review in reviews:\n",
    "            for word in review.split(\" \"):\n",
    "                review_vocab.add(word)\n",
    "        \n",
    "        # Convert the vocabulary set to a list so we can access words via indices\n",
    "        self.review_vocab = list(review_vocab)\n",
    "        \n",
    "        label_vocab = set()\n",
    "        # TODO: populate label_vocab with all of the words in the given labels.\n",
    "        #       There is no need to split the labels because each one is a single word.\n",
    "        for label in labels:\n",
    "            label_vocab.add(label)\n",
    "        \n",
    "        # Convert the label vocabulary set to a list so we can access labels via indices\n",
    "        self.label_vocab = list(label_vocab)\n",
    "        \n",
    "        # Store the sizes of the review and label vocabularies.\n",
    "        self.review_vocab_size = len(self.review_vocab)\n",
    "        self.label_vocab_size = len(self.label_vocab)\n",
    "        \n",
    "        # Create a dictionary of words in the vocabulary mapped to index positions\n",
    "        self.word2index = {}\n",
    "        # TODO: populate self.word2index with indices for all the words in self.review_vocab\n",
    "        #       like you saw earlier in the notebook\n",
    "        for i, word in enumerate(self.review_vocab):\n",
    "            self.word2index[word] = i\n",
    "        \n",
    "        # Create a dictionary of labels mapped to index positions\n",
    "        self.label2index = {}\n",
    "        # TODO: do the same thing you did for self.word2index and self.review_vocab, \n",
    "        #       but for self.label2index and self.label_vocab instead\n",
    "        for i, label in enumerate(self.label_vocab):\n",
    "            self.label2index[label] = i\n",
    "            \n",
    "        return len(self.review_vocab)\n",
    "         \n",
    "        \n",
    "    def init_network(self, input_nodes, hidden_nodes, output_nodes, learning_rate):\n",
    "        # Store the number of nodes in input, hidden, and output layers.\n",
    "        self.input_nodes = input_nodes\n",
    "        self.hidden_nodes = hidden_nodes\n",
    "        self.output_nodes = output_nodes\n",
    "\n",
    "        # Store the learning rate\n",
    "        self.learning_rate = learning_rate\n",
    "\n",
    "        # Initialize weights\n",
    "        \n",
    "        # TODO: initialize self.weights_0_1 as a matrix of zeros. These are the weights between\n",
    "        #       the input layer and the hidden layer.\n",
    "        self.weights_0_1 = np.random.randn(self.input_nodes, self.hidden_nodes) / np.sqrt(self.input_nodes)\n",
    "        #self.weights_0_1 = np.random.normal(0.0, self.input_nodes ** -0.5,\n",
    "                                            #(self.input_nodes, self.hidden_nodes))\n",
    "        \n",
    "        # TODO: initialize self.weights_1_2 as a matrix of random values. \n",
    "        #       These are the weights between the hidden layer and the output layer.\n",
    "        self.weights_1_2 = np.random.randn(self.hidden_nodes, self.output_nodes) / np.sqrt(self.hidden_nodes)\n",
    "        #self.weights_1_2 = np.random.normal(0.0, self.hidden_nodes ** -0.5,\n",
    "                                           #(self.hidden_nodes, self.output_nodes))\n",
    "        \n",
    "        # TODO: Create the input layer, a two-dimensional matrix with shape \n",
    "        #       1 x input_nodes, with all values initialized to zero\n",
    "        self.layer_0 = np.zeros((1, input_nodes))\n",
    "    \n",
    "        \n",
    "    def update_input_layer(self, review):\n",
    "        # TODO: You can copy most of the code you wrote for update_input_layer \n",
    "        #       earlier in this notebook. \n",
    "        #\n",
    "        #       However, MAKE SURE YOU CHANGE ALL VARIABLES TO REFERENCE\n",
    "        #       THE VERSIONS STORED IN THIS OBJECT, NOT THE GLOBAL OBJECTS.\n",
    "        #       For example, replace \"layer_0 *= 0\" with \"self.layer_0 *= 0\"\n",
    "        self.layer_0 *= 0\n",
    "        for word in review.split(\" \"):\n",
    "            # NOTE: This if-check was not in the version of this method created in Project 2,\n",
    "            #       and it appears in Andrew's Project 3 solution without explanation. \n",
    "            #       It simply ensures the word is actually a key in word2index before\n",
    "            #       accessing it, which is important because accessing an invalid key\n",
    "            #       with raise an exception in Python. This allows us to ignore unknown\n",
    "            #       words encountered in new reviews.\n",
    "            if(word in self.word2index.keys()):\n",
    "                self.layer_0[0][self.word2index[word]] += 1\n",
    "        \n",
    "                \n",
    "    def get_target_for_label(self, label):\n",
    "        # TODO: Copy the code you wrote for get_target_for_label \n",
    "        #       earlier in this notebook. \n",
    "        return 0 if label == \"NEGATIVE\" else 1\n",
    "        \n",
    "    def sigmoid(self, x):\n",
    "        # TODO: Return the result of calculating the sigmoid activation function\n",
    "        #       shown in the lectures\n",
    "        return 1. / (1. + np.exp(-x))\n",
    "    \n",
    "    def sigmoid_output_2_derivative(self, output):\n",
    "        # TODO: Return the derivative of the sigmoid activation function, \n",
    "        #       where \"output\" is the original output from the sigmoid fucntion \n",
    "        return output * (1. - output)\n",
    "\n",
    "    def train(self, training_reviews, training_labels):\n",
    "        \n",
    "        # make sure out we have a matching number of reviews and labels\n",
    "        assert(len(training_reviews) == len(training_labels))\n",
    "        \n",
    "        # Keep track of correct predictions to display accuracy during training \n",
    "        correct_so_far = 0\n",
    "        \n",
    "        # Remember when we started for printing time statistics\n",
    "        start = time.time()\n",
    "\n",
    "        # loop through all the given reviews and run a forward and backward pass,\n",
    "        # updating weights for every item\n",
    "        for i in range(len(training_reviews)):\n",
    "            \n",
    "            # TODO: Get the next review and its correct label\n",
    "            review = training_reviews[i]\n",
    "            label = training_labels[i]\n",
    "            label = self.get_target_for_label(label)\n",
    "            \n",
    "            # TODO: Implement the forward pass through the network. \n",
    "            #       That means use the given review to update the input layer, \n",
    "            #       then calculate values for the hidden layer,\n",
    "            #       and finally calculate the output layer.\n",
    "            # \n",
    "            #       Do not use an activation function for the hidden layer,\n",
    "            #       but use the sigmoid activation function for the output layer.\n",
    "            \n",
    "            self.update_input_layer(review)\n",
    "            \n",
    "            hidden_inputs = np.dot(self.layer_0, self.weights_0_1)  # signals into hidden layer\n",
    "            hidden_outputs = hidden_inputs  # signals from hidden layer\n",
    "            \n",
    "            final_inputs = np.dot(hidden_outputs, self.weights_1_2)  # signals into final output layer\n",
    "            final_output = self.sigmoid(final_inputs)  # signal from final output layer\n",
    "            \n",
    "            \n",
    "            # TODO: Implement the back propagation pass here. \n",
    "            #       That means calculate the error for the forward pass's prediction\n",
    "            #       and update the weights in the network according to their\n",
    "            #       contributions toward the error, as calculated via the\n",
    "            #       gradient descent and back propagation algorithms you \n",
    "            #       learned in class.\n",
    "            \n",
    "            # Output error\n",
    "            error = label - final_output  # Output layer error is the difference between desired target and actual output.            \n",
    "            output_error_term = error * final_output * (1. - final_output)  # error * derivative of the output activation function\n",
    "            \n",
    "            # Backpropagated error\n",
    "            hidden_error = np.dot(output_error_term, self.weights_1_2.T)  # errors propagated to the hidden layer\n",
    "            hidden_error_term = hidden_error  # derivative of the hidden activation function is 1\n",
    "            \n",
    "            # Update the weights\n",
    "            self.weights_1_2 += self.learning_rate * np.outer(hidden_outputs, output_error_term)\n",
    "            self.weights_0_1 += self.learning_rate * np.outer(self.layer_0, hidden_error_term)\n",
    "            \n",
    "            \n",
    "            # TODO: Keep track of correct predictions. To determine if the prediction was\n",
    "            #       correct, check that the absolute value of the output error \n",
    "            #       is less than 0.5. If so, add one to the correct_so_far count.\n",
    "            if np.abs(error) < 0.5:\n",
    "                correct_so_far += 1\n",
    "\n",
    "\n",
    "            # For debug purposes, print out our prediction accuracy and speed \n",
    "            # throughout the training process. \n",
    "            \n",
    "            elapsed_time = float(time.time() - start)\n",
    "            reviews_per_second = i / elapsed_time if elapsed_time > 0 else 0\n",
    "            \n",
    "            sys.stdout.write(\"\\rProgress:\" + str(100 * i/float(len(training_reviews)))[:4] \\\n",
    "                             + \"% Speed(reviews/sec):\" + str(reviews_per_second)[0:5] \\\n",
    "                             + \" #Correct:\" + str(correct_so_far) + \" #Trained:\" + str(i+1) \\\n",
    "                             + \" Training Accuracy:\" + str(correct_so_far * 100 / float(i+1))[:4] + \"%\")\n",
    "            if(i % 2500 == 0):\n",
    "                print(\"\")\n",
    "    \n",
    "    def test(self, testing_reviews, testing_labels):\n",
    "        \"\"\"\n",
    "        Attempts to predict the labels for the given testing_reviews,\n",
    "        and uses the test_labels to calculate the accuracy of those predictions.\n",
    "        \"\"\"\n",
    "        \n",
    "        # keep track of how many correct predictions we make\n",
    "        correct = 0\n",
    "\n",
    "        # we'll time how many predictions per second we make\n",
    "        start = time.time()\n",
    "\n",
    "        # Loop through each of the given reviews and call run to predict\n",
    "        # its label. \n",
    "        for i in range(len(testing_reviews)):\n",
    "            pred = self.run(testing_reviews[i])\n",
    "            if(pred == testing_labels[i]):\n",
    "                correct += 1\n",
    "            \n",
    "            # For debug purposes, print out our prediction accuracy and speed \n",
    "            # throughout the prediction process. \n",
    "\n",
    "            elapsed_time = float(time.time() - start)\n",
    "            reviews_per_second = i / elapsed_time if elapsed_time > 0 else 0\n",
    "            \n",
    "            sys.stdout.write(\"\\rProgress:\" + str(100 * i/float(len(testing_reviews)))[:4] \\\n",
    "                             + \"% Speed(reviews/sec):\" + str(reviews_per_second)[0:5] \\\n",
    "                             + \" #Correct:\" + str(correct) + \" #Tested:\" + str(i+1) \\\n",
    "                             + \" Testing Accuracy:\" + str(correct * 100 / float(i+1))[:4] + \"%\")\n",
    "    \n",
    "    def run(self, review):\n",
    "        \"\"\"\n",
    "        Returns a POSITIVE or NEGATIVE prediction for the given review.\n",
    "        \"\"\"\n",
    "        # TODO: Run a forward pass through the network, like you did in the\n",
    "        #       \"train\" function. That means use the given review to \n",
    "        #       update the input layer, then calculate values for the hidden layer,\n",
    "        #       and finally calculate the output layer.\n",
    "        #\n",
    "        #       Note: The review passed into this function for prediction \n",
    "        #             might come from anywhere, so you should convert it \n",
    "        #             to lower case prior to using it.\n",
    "        \n",
    "        # Input layer\n",
    "        self.update_input_layer(review.lower())\n",
    "        \n",
    "        # Hidden layer\n",
    "        hidden_outputs = np.dot(self.layer_0, self.weights_0_1)\n",
    "        \n",
    "        # Output layer\n",
    "        final_output = self.sigmoid(np.dot(hidden_outputs, self.weights_1_2))\n",
    "        \n",
    "        # TODO: The output layer should now contain a prediction. \n",
    "        #       Return `POSITIVE` for predictions greater-than-or-equal-to `0.5`, \n",
    "        #       and `NEGATIVE` otherwise.\n",
    "        \n",
    "        return \"POSITIVE\" if final_output[0] >= 0.5 else \"NEGATIVE\"\n",
    "        \n",
    "        "
   ]
  },
  {
   "cell_type": "markdown",
   "metadata": {},
   "source": [
    "Run the following cell to create a `SentimentNetwork` that will train on all but the last 1000 reviews (we're saving those for testing). Here we use a learning rate of `0.1`."
   ]
  },
  {
   "cell_type": "code",
   "execution_count": 34,
   "metadata": {
    "collapsed": true
   },
   "outputs": [],
   "source": [
    "mlp = SentimentNetwork(reviews[:-1000], labels[:-1000], learning_rate=0.1)\n",
    "# I have to add the following lines:\n",
    "vocab_len = mlp.pre_process_data(reviews[:-1000], labels[:-1000])\n",
    "mlp.init_network(input_nodes=vocab_len, hidden_nodes=10, output_nodes=1, learning_rate=0.1)"
   ]
  },
  {
   "cell_type": "markdown",
   "metadata": {},
   "source": [
    "Run the following cell to test the network's performance against the last 1000 reviews (the ones we held out from our training set). \n",
    "\n",
    "**We have not trained the model yet, so the results should be about 50% as it will just be guessing and there are only two possible values to choose from.**"
   ]
  },
  {
   "cell_type": "code",
   "execution_count": 35,
   "metadata": {},
   "outputs": [
    {
     "name": "stdout",
     "output_type": "stream",
     "text": [
      "\r",
      "Progress:0.0% Speed(reviews/sec):0.0 #Correct:1 #Tested:1 Testing Accuracy:100.%\r",
      "Progress:0.1% Speed(reviews/sec):68.90 #Correct:1 #Tested:2 Testing Accuracy:50.0%\r",
      "Progress:0.2% Speed(reviews/sec):128.9 #Correct:2 #Tested:3 Testing Accuracy:66.6%\r",
      "Progress:0.3% Speed(reviews/sec):171.3 #Correct:2 #Tested:4 Testing Accuracy:50.0%\r",
      "Progress:0.4% Speed(reviews/sec):204.9 #Correct:2 #Tested:5 Testing Accuracy:40.0%\r",
      "Progress:0.5% Speed(reviews/sec):232.4 #Correct:2 #Tested:6 Testing Accuracy:33.3%\r",
      "Progress:0.6% Speed(reviews/sec):255.1 #Correct:3 #Tested:7 Testing Accuracy:42.8%\r",
      "Progress:0.7% Speed(reviews/sec):274.3 #Correct:3 #Tested:8 Testing Accuracy:37.5%\r",
      "Progress:0.8% Speed(reviews/sec):290.7 #Correct:4 #Tested:9 Testing Accuracy:44.4%\r",
      "Progress:0.9% Speed(reviews/sec):294.9 #Correct:4 #Tested:10 Testing Accuracy:40.0%\r",
      "Progress:1.0% Speed(reviews/sec):307.3 #Correct:5 #Tested:11 Testing Accuracy:45.4%\r",
      "Progress:1.1% Speed(reviews/sec):318.6 #Correct:5 #Tested:12 Testing Accuracy:41.6%\r",
      "Progress:1.2% Speed(reviews/sec):337.8 #Correct:5 #Tested:13 Testing Accuracy:38.4%\r",
      "Progress:1.3% Speed(reviews/sec):346.5 #Correct:5 #Tested:14 Testing Accuracy:35.7%\r",
      "Progress:1.4% Speed(reviews/sec):354.2 #Correct:6 #Tested:15 Testing Accuracy:40.0%\r",
      "Progress:1.5% Speed(reviews/sec):361.2 #Correct:6 #Tested:16 Testing Accuracy:37.5%\r",
      "Progress:1.6% Speed(reviews/sec):367.6 #Correct:6 #Tested:17 Testing Accuracy:35.2%\r",
      "Progress:1.7% Speed(reviews/sec):373.4 #Correct:6 #Tested:18 Testing Accuracy:33.3%\r",
      "Progress:1.8% Speed(reviews/sec):378.7 #Correct:6 #Tested:19 Testing Accuracy:31.5%\r",
      "Progress:1.9% Speed(reviews/sec):391.5 #Correct:6 #Tested:20 Testing Accuracy:30.0%\r",
      "Progress:2.0% Speed(reviews/sec):388.1 #Correct:7 #Tested:21 Testing Accuracy:33.3%\r",
      "Progress:2.1% Speed(reviews/sec):399.8 #Correct:7 #Tested:22 Testing Accuracy:31.8%\r",
      "Progress:2.2% Speed(reviews/sec):403.4 #Correct:8 #Tested:23 Testing Accuracy:34.7%\r",
      "Progress:2.3% Speed(reviews/sec):406.9 #Correct:8 #Tested:24 Testing Accuracy:33.3%\r",
      "Progress:2.4% Speed(reviews/sec):410.0 #Correct:9 #Tested:25 Testing Accuracy:36.0%\r",
      "Progress:2.5% Speed(reviews/sec):412.9 #Correct:9 #Tested:26 Testing Accuracy:34.6%\r",
      "Progress:2.6% Speed(reviews/sec):422.5 #Correct:9 #Tested:27 Testing Accuracy:33.3%\r",
      "Progress:2.7% Speed(reviews/sec):412.0 #Correct:9 #Tested:28 Testing Accuracy:32.1%\r",
      "Progress:2.8% Speed(reviews/sec):414.6 #Correct:10 #Tested:29 Testing Accuracy:34.4%\r",
      "Progress:2.9% Speed(reviews/sec):417.0 #Correct:10 #Tested:30 Testing Accuracy:33.3%\r",
      "Progress:3.0% Speed(reviews/sec):419.3 #Correct:11 #Tested:31 Testing Accuracy:35.4%\r",
      "Progress:3.1% Speed(reviews/sec):427.4 #Correct:11 #Tested:32 Testing Accuracy:34.3%\r",
      "Progress:3.2% Speed(reviews/sec):429.3 #Correct:12 #Tested:33 Testing Accuracy:36.3%\r",
      "Progress:3.3% Speed(reviews/sec):431.1 #Correct:12 #Tested:34 Testing Accuracy:35.2%\r",
      "Progress:3.4% Speed(reviews/sec):432.9 #Correct:13 #Tested:35 Testing Accuracy:37.1%\r",
      "Progress:3.5% Speed(reviews/sec):434.6 #Correct:13 #Tested:36 Testing Accuracy:36.1%\r",
      "Progress:3.6% Speed(reviews/sec):436.1 #Correct:14 #Tested:37 Testing Accuracy:37.8%\r",
      "Progress:3.7% Speed(reviews/sec):442.9 #Correct:15 #Tested:38 Testing Accuracy:39.4%\r",
      "Progress:3.8% Speed(reviews/sec):444.2 #Correct:16 #Tested:39 Testing Accuracy:41.0%\r",
      "Progress:3.9% Speed(reviews/sec):440.5 #Correct:16 #Tested:40 Testing Accuracy:40.0%\r",
      "Progress:4.0% Speed(reviews/sec):444.2 #Correct:17 #Tested:41 Testing Accuracy:41.4%\r",
      "Progress:4.1% Speed(reviews/sec):447.8 #Correct:18 #Tested:42 Testing Accuracy:42.8%\r",
      "Progress:4.2% Speed(reviews/sec):444.2 #Correct:19 #Tested:43 Testing Accuracy:44.1%\r",
      "Progress:4.3% Speed(reviews/sec):445.3 #Correct:19 #Tested:44 Testing Accuracy:43.1%\r",
      "Progress:4.4% Speed(reviews/sec):444.2 #Correct:20 #Tested:45 Testing Accuracy:44.4%\r",
      "Progress:4.5% Speed(reviews/sec):440.9 #Correct:20 #Tested:46 Testing Accuracy:43.4%\r",
      "Progress:4.6% Speed(reviews/sec):442.0 #Correct:21 #Tested:47 Testing Accuracy:44.6%\r",
      "Progress:4.7% Speed(reviews/sec):446.4 #Correct:22 #Tested:48 Testing Accuracy:45.8%\r",
      "Progress:4.8% Speed(reviews/sec):443.3 #Correct:23 #Tested:49 Testing Accuracy:46.9%\r",
      "Progress:4.9% Speed(reviews/sec):444.3 #Correct:24 #Tested:50 Testing Accuracy:48.0%\r",
      "Progress:5.0% Speed(reviews/sec):449.3 #Correct:25 #Tested:51 Testing Accuracy:49.0%\r",
      "Progress:5.1% Speed(reviews/sec):446.3 #Correct:26 #Tested:52 Testing Accuracy:50.0%\r",
      "Progress:5.2% Speed(reviews/sec):443.4 #Correct:26 #Tested:53 Testing Accuracy:49.0%\r",
      "Progress:5.3% Speed(reviews/sec):444.3 #Correct:27 #Tested:54 Testing Accuracy:50.0%\r",
      "Progress:5.4% Speed(reviews/sec):445.2 #Correct:27 #Tested:55 Testing Accuracy:49.0%\r",
      "Progress:5.5% Speed(reviews/sec):446.1 #Correct:28 #Tested:56 Testing Accuracy:50.0%\r",
      "Progress:5.6% Speed(reviews/sec):443.4 #Correct:29 #Tested:57 Testing Accuracy:50.8%\r",
      "Progress:5.7% Speed(reviews/sec):447.8 #Correct:30 #Tested:58 Testing Accuracy:51.7%\r",
      "Progress:5.8% Speed(reviews/sec):448.6 #Correct:30 #Tested:59 Testing Accuracy:50.8%\r",
      "Progress:5.9% Speed(reviews/sec):452.8 #Correct:31 #Tested:60 Testing Accuracy:51.6%\r",
      "Progress:6.0% Speed(reviews/sec):453.5 #Correct:32 #Tested:61 Testing Accuracy:52.4%\r",
      "Progress:6.1% Speed(reviews/sec):454.2 #Correct:32 #Tested:62 Testing Accuracy:51.6%\r",
      "Progress:6.2% Speed(reviews/sec):454.9 #Correct:33 #Tested:63 Testing Accuracy:52.3%\r",
      "Progress:6.3% Speed(reviews/sec):458.9 #Correct:33 #Tested:64 Testing Accuracy:51.5%\r",
      "Progress:6.4% Speed(reviews/sec):456.1 #Correct:34 #Tested:65 Testing Accuracy:52.3%\r",
      "Progress:6.5% Speed(reviews/sec):460.0 #Correct:35 #Tested:66 Testing Accuracy:53.0%\r",
      "Progress:6.6% Speed(reviews/sec):460.6 #Correct:35 #Tested:67 Testing Accuracy:52.2%\r",
      "Progress:6.7% Speed(reviews/sec):464.3 #Correct:35 #Tested:68 Testing Accuracy:51.4%\r",
      "Progress:6.8% Speed(reviews/sec):464.8 #Correct:36 #Tested:69 Testing Accuracy:52.1%\r",
      "Progress:6.9% Speed(reviews/sec):465.3 #Correct:36 #Tested:70 Testing Accuracy:51.4%\r",
      "Progress:7.0% Speed(reviews/sec):465.7 #Correct:37 #Tested:71 Testing Accuracy:52.1%\r",
      "Progress:7.1% Speed(reviews/sec):466.2 #Correct:38 #Tested:72 Testing Accuracy:52.7%\r",
      "Progress:7.2% Speed(reviews/sec):469.7 #Correct:39 #Tested:73 Testing Accuracy:53.4%\r",
      "Progress:7.3% Speed(reviews/sec):470.0 #Correct:39 #Tested:74 Testing Accuracy:52.7%\r",
      "Progress:7.4% Speed(reviews/sec):473.4 #Correct:40 #Tested:75 Testing Accuracy:53.3%\r",
      "Progress:7.5% Speed(reviews/sec):473.8 #Correct:40 #Tested:76 Testing Accuracy:52.6%\r",
      "Progress:7.6% Speed(reviews/sec):474.1 #Correct:40 #Tested:77 Testing Accuracy:51.9%\r",
      "Progress:7.7% Speed(reviews/sec):477.4 #Correct:40 #Tested:78 Testing Accuracy:51.2%\r",
      "Progress:7.8% Speed(reviews/sec):477.6 #Correct:41 #Tested:79 Testing Accuracy:51.8%\r",
      "Progress:7.9% Speed(reviews/sec):477.9 #Correct:41 #Tested:80 Testing Accuracy:51.2%\r",
      "Progress:8.0% Speed(reviews/sec):481.0 #Correct:41 #Tested:81 Testing Accuracy:50.6%\r",
      "Progress:8.1% Speed(reviews/sec):478.4 #Correct:41 #Tested:82 Testing Accuracy:50.0%\r",
      "Progress:8.2% Speed(reviews/sec):478.7 #Correct:42 #Tested:83 Testing Accuracy:50.6%\r",
      "Progress:8.3% Speed(reviews/sec):478.9 #Correct:42 #Tested:84 Testing Accuracy:50.0%\r",
      "Progress:8.4% Speed(reviews/sec):479.1 #Correct:42 #Tested:85 Testing Accuracy:49.4%\r",
      "Progress:8.5% Speed(reviews/sec):482.1 #Correct:43 #Tested:86 Testing Accuracy:50.0%\r",
      "Progress:8.6% Speed(reviews/sec):479.6 #Correct:44 #Tested:87 Testing Accuracy:50.5%\r",
      "Progress:8.7% Speed(reviews/sec):482.5 #Correct:44 #Tested:88 Testing Accuracy:50.0%\r",
      "Progress:8.8% Speed(reviews/sec):482.7 #Correct:44 #Tested:89 Testing Accuracy:49.4%\r",
      "Progress:8.9% Speed(reviews/sec):482.9 #Correct:44 #Tested:90 Testing Accuracy:48.8%\r",
      "Progress:9.0% Speed(reviews/sec):483.1 #Correct:45 #Tested:91 Testing Accuracy:49.4%\r",
      "Progress:9.1% Speed(reviews/sec):483.2 #Correct:45 #Tested:92 Testing Accuracy:48.9%\r",
      "Progress:9.2% Speed(reviews/sec):484.6 #Correct:46 #Tested:93 Testing Accuracy:49.4%\r",
      "Progress:9.3% Speed(reviews/sec):484.8 #Correct:46 #Tested:94 Testing Accuracy:48.9%\r",
      "Progress:9.4% Speed(reviews/sec):486.2 #Correct:46 #Tested:95 Testing Accuracy:48.4%\r",
      "Progress:9.5% Speed(reviews/sec):487.6 #Correct:46 #Tested:96 Testing Accuracy:47.9%\r",
      "Progress:9.6% Speed(reviews/sec):487.7 #Correct:47 #Tested:97 Testing Accuracy:48.4%\r",
      "Progress:9.7% Speed(reviews/sec):487.8 #Correct:47 #Tested:98 Testing Accuracy:47.9%\r",
      "Progress:9.8% Speed(reviews/sec):488.0 #Correct:47 #Tested:99 Testing Accuracy:47.4%\r",
      "Progress:9.9% Speed(reviews/sec):489.3 #Correct:48 #Tested:100 Testing Accuracy:48.0%\r",
      "Progress:10.0% Speed(reviews/sec):490.6 #Correct:48 #Tested:101 Testing Accuracy:47.5%\r",
      "Progress:10.1% Speed(reviews/sec):490.7 #Correct:48 #Tested:102 Testing Accuracy:47.0%\r",
      "Progress:10.2% Speed(reviews/sec):493.1 #Correct:48 #Tested:103 Testing Accuracy:46.6%\r",
      "Progress:10.3% Speed(reviews/sec):490.8 #Correct:48 #Tested:104 Testing Accuracy:46.1%\r",
      "Progress:10.4% Speed(reviews/sec):493.3 #Correct:49 #Tested:105 Testing Accuracy:46.6%\r",
      "Progress:10.5% Speed(reviews/sec):493.3 #Correct:49 #Tested:106 Testing Accuracy:46.2%"
     ]
    },
    {
     "name": "stdout",
     "output_type": "stream",
     "text": [
      "\r",
      "Progress:10.6% Speed(reviews/sec):493.4 #Correct:50 #Tested:107 Testing Accuracy:46.7%\r",
      "Progress:10.7% Speed(reviews/sec):493.4 #Correct:50 #Tested:108 Testing Accuracy:46.2%\r",
      "Progress:10.8% Speed(reviews/sec):493.5 #Correct:50 #Tested:109 Testing Accuracy:45.8%\r",
      "Progress:10.9% Speed(reviews/sec):491.3 #Correct:50 #Tested:110 Testing Accuracy:45.4%\r",
      "Progress:11.0% Speed(reviews/sec):491.4 #Correct:50 #Tested:111 Testing Accuracy:45.0%\r",
      "Progress:11.1% Speed(reviews/sec):491.5 #Correct:51 #Tested:112 Testing Accuracy:45.5%\r",
      "Progress:11.2% Speed(reviews/sec):491.5 #Correct:52 #Tested:113 Testing Accuracy:46.0%\r",
      "Progress:11.3% Speed(reviews/sec):489.5 #Correct:52 #Tested:114 Testing Accuracy:45.6%\r",
      "Progress:11.4% Speed(reviews/sec):489.6 #Correct:53 #Tested:115 Testing Accuracy:46.0%\r",
      "Progress:11.5% Speed(reviews/sec):489.7 #Correct:53 #Tested:116 Testing Accuracy:45.6%\r",
      "Progress:11.6% Speed(reviews/sec):489.7 #Correct:54 #Tested:117 Testing Accuracy:46.1%\r",
      "Progress:11.7% Speed(reviews/sec):489.8 #Correct:54 #Tested:118 Testing Accuracy:45.7%\r",
      "Progress:11.8% Speed(reviews/sec):489.9 #Correct:55 #Tested:119 Testing Accuracy:46.2%\r",
      "Progress:11.9% Speed(reviews/sec):490.0 #Correct:55 #Tested:120 Testing Accuracy:45.8%\r",
      "Progress:12.0% Speed(reviews/sec):490.1 #Correct:55 #Tested:121 Testing Accuracy:45.4%\r",
      "Progress:12.1% Speed(reviews/sec):488.2 #Correct:55 #Tested:122 Testing Accuracy:45.0%\r",
      "Progress:12.2% Speed(reviews/sec):488.3 #Correct:55 #Tested:123 Testing Accuracy:44.7%\r",
      "Progress:12.3% Speed(reviews/sec):486.4 #Correct:55 #Tested:124 Testing Accuracy:44.3%\r",
      "Progress:12.4% Speed(reviews/sec):486.5 #Correct:55 #Tested:125 Testing Accuracy:44.0%\r",
      "Progress:12.5% Speed(reviews/sec):486.6 #Correct:55 #Tested:126 Testing Accuracy:43.6%\r",
      "Progress:12.6% Speed(reviews/sec):486.7 #Correct:56 #Tested:127 Testing Accuracy:44.0%\r",
      "Progress:12.7% Speed(reviews/sec):486.8 #Correct:56 #Tested:128 Testing Accuracy:43.7%\r",
      "Progress:12.8% Speed(reviews/sec):486.9 #Correct:57 #Tested:129 Testing Accuracy:44.1%\r",
      "Progress:12.9% Speed(reviews/sec):487.0 #Correct:57 #Tested:130 Testing Accuracy:43.8%\r",
      "Progress:13.0% Speed(reviews/sec):485.3 #Correct:58 #Tested:131 Testing Accuracy:44.2%\r",
      "Progress:13.1% Speed(reviews/sec):485.4 #Correct:58 #Tested:132 Testing Accuracy:43.9%\r",
      "Progress:13.2% Speed(reviews/sec):485.5 #Correct:59 #Tested:133 Testing Accuracy:44.3%\r",
      "Progress:13.3% Speed(reviews/sec):485.6 #Correct:59 #Tested:134 Testing Accuracy:44.0%\r",
      "Progress:13.4% Speed(reviews/sec):485.7 #Correct:60 #Tested:135 Testing Accuracy:44.4%\r",
      "Progress:13.5% Speed(reviews/sec):485.8 #Correct:60 #Tested:136 Testing Accuracy:44.1%\r",
      "Progress:13.6% Speed(reviews/sec):484.2 #Correct:61 #Tested:137 Testing Accuracy:44.5%\r",
      "Progress:13.7% Speed(reviews/sec):486.0 #Correct:61 #Tested:138 Testing Accuracy:44.2%\r",
      "Progress:13.8% Speed(reviews/sec):484.4 #Correct:61 #Tested:139 Testing Accuracy:43.8%\r",
      "Progress:13.9% Speed(reviews/sec):484.5 #Correct:61 #Tested:140 Testing Accuracy:43.5%\r",
      "Progress:14.0% Speed(reviews/sec):484.6 #Correct:62 #Tested:141 Testing Accuracy:43.9%\r",
      "Progress:14.1% Speed(reviews/sec):485.6 #Correct:62 #Tested:142 Testing Accuracy:43.6%\r",
      "Progress:14.2% Speed(reviews/sec):486.5 #Correct:62 #Tested:143 Testing Accuracy:43.3%\r",
      "Progress:14.3% Speed(reviews/sec):486.6 #Correct:62 #Tested:144 Testing Accuracy:43.0%\r",
      "Progress:14.4% Speed(reviews/sec):486.7 #Correct:63 #Tested:145 Testing Accuracy:43.4%\r",
      "Progress:14.5% Speed(reviews/sec):486.8 #Correct:63 #Tested:146 Testing Accuracy:43.1%\r",
      "Progress:14.6% Speed(reviews/sec):486.0 #Correct:64 #Tested:147 Testing Accuracy:43.5%\r",
      "Progress:14.7% Speed(reviews/sec):486.9 #Correct:65 #Tested:148 Testing Accuracy:43.9%\r",
      "Progress:14.8% Speed(reviews/sec):487.8 #Correct:66 #Tested:149 Testing Accuracy:44.2%\r",
      "Progress:14.9% Speed(reviews/sec):488.7 #Correct:66 #Tested:150 Testing Accuracy:44.0%\r",
      "Progress:15.0% Speed(reviews/sec):490.4 #Correct:66 #Tested:151 Testing Accuracy:43.7%\r",
      "Progress:15.1% Speed(reviews/sec):490.4 #Correct:66 #Tested:152 Testing Accuracy:43.4%\r",
      "Progress:15.2% Speed(reviews/sec):490.5 #Correct:67 #Tested:153 Testing Accuracy:43.7%\r",
      "Progress:15.3% Speed(reviews/sec):490.5 #Correct:67 #Tested:154 Testing Accuracy:43.5%\r",
      "Progress:15.4% Speed(reviews/sec):490.6 #Correct:68 #Tested:155 Testing Accuracy:43.8%\r",
      "Progress:15.5% Speed(reviews/sec):490.6 #Correct:68 #Tested:156 Testing Accuracy:43.5%\r",
      "Progress:15.6% Speed(reviews/sec):490.7 #Correct:69 #Tested:157 Testing Accuracy:43.9%\r",
      "Progress:15.7% Speed(reviews/sec):490.8 #Correct:69 #Tested:158 Testing Accuracy:43.6%\r",
      "Progress:15.8% Speed(reviews/sec):492.4 #Correct:70 #Tested:159 Testing Accuracy:44.0%\r",
      "Progress:15.9% Speed(reviews/sec):492.4 #Correct:70 #Tested:160 Testing Accuracy:43.7%\r",
      "Progress:16.0% Speed(reviews/sec):492.4 #Correct:71 #Tested:161 Testing Accuracy:44.0%\r",
      "Progress:16.1% Speed(reviews/sec):492.5 #Correct:71 #Tested:162 Testing Accuracy:43.8%\r",
      "Progress:16.2% Speed(reviews/sec):492.5 #Correct:72 #Tested:163 Testing Accuracy:44.1%\r",
      "Progress:16.3% Speed(reviews/sec):492.6 #Correct:72 #Tested:164 Testing Accuracy:43.9%\r",
      "Progress:16.4% Speed(reviews/sec):494.1 #Correct:73 #Tested:165 Testing Accuracy:44.2%\r",
      "Progress:16.5% Speed(reviews/sec):494.1 #Correct:73 #Tested:166 Testing Accuracy:43.9%\r",
      "Progress:16.6% Speed(reviews/sec):494.2 #Correct:74 #Tested:167 Testing Accuracy:44.3%\r",
      "Progress:16.7% Speed(reviews/sec):494.2 #Correct:74 #Tested:168 Testing Accuracy:44.0%\r",
      "Progress:16.8% Speed(reviews/sec):495.7 #Correct:74 #Tested:169 Testing Accuracy:43.7%\r",
      "Progress:16.9% Speed(reviews/sec):495.7 #Correct:74 #Tested:170 Testing Accuracy:43.5%\r",
      "Progress:17.0% Speed(reviews/sec):495.7 #Correct:75 #Tested:171 Testing Accuracy:43.8%\r",
      "Progress:17.1% Speed(reviews/sec):495.8 #Correct:75 #Tested:172 Testing Accuracy:43.6%\r",
      "Progress:17.2% Speed(reviews/sec):495.8 #Correct:76 #Tested:173 Testing Accuracy:43.9%\r",
      "Progress:17.3% Speed(reviews/sec):495.8 #Correct:76 #Tested:174 Testing Accuracy:43.6%\r",
      "Progress:17.4% Speed(reviews/sec):495.8 #Correct:77 #Tested:175 Testing Accuracy:44.0%\r",
      "Progress:17.5% Speed(reviews/sec):497.3 #Correct:77 #Tested:176 Testing Accuracy:43.7%\r",
      "Progress:17.6% Speed(reviews/sec):497.3 #Correct:78 #Tested:177 Testing Accuracy:44.0%\r",
      "Progress:17.7% Speed(reviews/sec):497.3 #Correct:78 #Tested:178 Testing Accuracy:43.8%\r",
      "Progress:17.8% Speed(reviews/sec):498.7 #Correct:78 #Tested:179 Testing Accuracy:43.5%\r",
      "Progress:17.9% Speed(reviews/sec):498.7 #Correct:78 #Tested:180 Testing Accuracy:43.3%\r",
      "Progress:18.0% Speed(reviews/sec):500.1 #Correct:79 #Tested:181 Testing Accuracy:43.6%\r",
      "Progress:18.1% Speed(reviews/sec):500.1 #Correct:79 #Tested:182 Testing Accuracy:43.4%\r",
      "Progress:18.2% Speed(reviews/sec):500.1 #Correct:79 #Tested:183 Testing Accuracy:43.1%\r",
      "Progress:18.3% Speed(reviews/sec):500.1 #Correct:79 #Tested:184 Testing Accuracy:42.9%\r",
      "Progress:18.4% Speed(reviews/sec):500.1 #Correct:79 #Tested:185 Testing Accuracy:42.7%\r",
      "Progress:18.5% Speed(reviews/sec):500.1 #Correct:79 #Tested:186 Testing Accuracy:42.4%\r",
      "Progress:18.6% Speed(reviews/sec):501.4 #Correct:79 #Tested:187 Testing Accuracy:42.2%\r",
      "Progress:18.7% Speed(reviews/sec):501.4 #Correct:79 #Tested:188 Testing Accuracy:42.0%\r",
      "Progress:18.8% Speed(reviews/sec):501.4 #Correct:80 #Tested:189 Testing Accuracy:42.3%\r",
      "Progress:18.9% Speed(reviews/sec):501.4 #Correct:80 #Tested:190 Testing Accuracy:42.1%\r",
      "Progress:19.0% Speed(reviews/sec):501.4 #Correct:81 #Tested:191 Testing Accuracy:42.4%\r",
      "Progress:19.1% Speed(reviews/sec):501.4 #Correct:82 #Tested:192 Testing Accuracy:42.7%\r",
      "Progress:19.2% Speed(reviews/sec):502.7 #Correct:83 #Tested:193 Testing Accuracy:43.0%\r",
      "Progress:19.3% Speed(reviews/sec):502.7 #Correct:83 #Tested:194 Testing Accuracy:42.7%\r",
      "Progress:19.4% Speed(reviews/sec):502.7 #Correct:84 #Tested:195 Testing Accuracy:43.0%\r",
      "Progress:19.5% Speed(reviews/sec):502.7 #Correct:84 #Tested:196 Testing Accuracy:42.8%\r",
      "Progress:19.6% Speed(reviews/sec):502.6 #Correct:85 #Tested:197 Testing Accuracy:43.1%\r",
      "Progress:19.7% Speed(reviews/sec):502.6 #Correct:85 #Tested:198 Testing Accuracy:42.9%\r",
      "Progress:19.8% Speed(reviews/sec):503.2 #Correct:85 #Tested:199 Testing Accuracy:42.7%\r",
      "Progress:19.9% Speed(reviews/sec):503.9 #Correct:85 #Tested:200 Testing Accuracy:42.5%\r",
      "Progress:20.0% Speed(reviews/sec):503.8 #Correct:85 #Tested:201 Testing Accuracy:42.2%\r",
      "Progress:20.1% Speed(reviews/sec):504.5 #Correct:85 #Tested:202 Testing Accuracy:42.0%\r",
      "Progress:20.2% Speed(reviews/sec):504.4 #Correct:86 #Tested:203 Testing Accuracy:42.3%\r",
      "Progress:20.3% Speed(reviews/sec):505.0 #Correct:86 #Tested:204 Testing Accuracy:42.1%\r",
      "Progress:20.4% Speed(reviews/sec):505.6 #Correct:87 #Tested:205 Testing Accuracy:42.4%\r",
      "Progress:20.5% Speed(reviews/sec):506.9 #Correct:87 #Tested:206 Testing Accuracy:42.2%\r",
      "Progress:20.6% Speed(reviews/sec):506.5 #Correct:87 #Tested:207 Testing Accuracy:42.0%\r",
      "Progress:20.7% Speed(reviews/sec):506.5 #Correct:87 #Tested:208 Testing Accuracy:41.8%\r",
      "Progress:20.8% Speed(reviews/sec):507.7 #Correct:88 #Tested:209 Testing Accuracy:42.1%\r",
      "Progress:20.9% Speed(reviews/sec):507.7 #Correct:88 #Tested:210 Testing Accuracy:41.9%\r",
      "Progress:21.0% Speed(reviews/sec):507.6 #Correct:89 #Tested:211 Testing Accuracy:42.1%\r",
      "Progress:21.1% Speed(reviews/sec):507.6 #Correct:89 #Tested:212 Testing Accuracy:41.9%\r",
      "Progress:21.2% Speed(reviews/sec):508.8 #Correct:90 #Tested:213 Testing Accuracy:42.2%"
     ]
    },
    {
     "name": "stdout",
     "output_type": "stream",
     "text": [
      "\r",
      "Progress:21.3% Speed(reviews/sec):506.3 #Correct:90 #Tested:214 Testing Accuracy:42.0%\r",
      "Progress:21.4% Speed(reviews/sec):507.5 #Correct:91 #Tested:215 Testing Accuracy:42.3%\r",
      "Progress:21.5% Speed(reviews/sec):506.2 #Correct:91 #Tested:216 Testing Accuracy:42.1%\r",
      "Progress:21.6% Speed(reviews/sec):506.2 #Correct:92 #Tested:217 Testing Accuracy:42.3%\r",
      "Progress:21.7% Speed(reviews/sec):505.0 #Correct:92 #Tested:218 Testing Accuracy:42.2%\r",
      "Progress:21.8% Speed(reviews/sec):503.8 #Correct:93 #Tested:219 Testing Accuracy:42.4%\r",
      "Progress:21.9% Speed(reviews/sec):504.9 #Correct:94 #Tested:220 Testing Accuracy:42.7%\r",
      "Progress:22.0% Speed(reviews/sec):504.9 #Correct:95 #Tested:221 Testing Accuracy:42.9%\r",
      "Progress:22.1% Speed(reviews/sec):504.9 #Correct:96 #Tested:222 Testing Accuracy:43.2%\r",
      "Progress:22.2% Speed(reviews/sec):504.9 #Correct:97 #Tested:223 Testing Accuracy:43.4%\r",
      "Progress:22.3% Speed(reviews/sec):504.9 #Correct:98 #Tested:224 Testing Accuracy:43.7%\r",
      "Progress:22.4% Speed(reviews/sec):504.8 #Correct:98 #Tested:225 Testing Accuracy:43.5%\r",
      "Progress:22.5% Speed(reviews/sec):504.8 #Correct:98 #Tested:226 Testing Accuracy:43.3%\r",
      "Progress:22.6% Speed(reviews/sec):502.5 #Correct:99 #Tested:227 Testing Accuracy:43.6%\r",
      "Progress:22.7% Speed(reviews/sec):502.5 #Correct:100 #Tested:228 Testing Accuracy:43.8%\r",
      "Progress:22.8% Speed(reviews/sec):502.5 #Correct:101 #Tested:229 Testing Accuracy:44.1%\r",
      "Progress:22.9% Speed(reviews/sec):502.5 #Correct:101 #Tested:230 Testing Accuracy:43.9%\r",
      "Progress:23.0% Speed(reviews/sec):502.5 #Correct:102 #Tested:231 Testing Accuracy:44.1%\r",
      "Progress:23.1% Speed(reviews/sec):502.5 #Correct:102 #Tested:232 Testing Accuracy:43.9%\r",
      "Progress:23.2% Speed(reviews/sec):502.5 #Correct:102 #Tested:233 Testing Accuracy:43.7%\r",
      "Progress:23.3% Speed(reviews/sec):501.4 #Correct:103 #Tested:234 Testing Accuracy:44.0%\r",
      "Progress:23.4% Speed(reviews/sec):501.4 #Correct:104 #Tested:235 Testing Accuracy:44.2%\r",
      "Progress:23.5% Speed(reviews/sec):500.3 #Correct:104 #Tested:236 Testing Accuracy:44.0%\r",
      "Progress:23.6% Speed(reviews/sec):500.3 #Correct:105 #Tested:237 Testing Accuracy:44.3%\r",
      "Progress:23.7% Speed(reviews/sec):500.3 #Correct:105 #Tested:238 Testing Accuracy:44.1%\r",
      "Progress:23.8% Speed(reviews/sec):500.3 #Correct:106 #Tested:239 Testing Accuracy:44.3%\r",
      "Progress:23.9% Speed(reviews/sec):500.3 #Correct:106 #Tested:240 Testing Accuracy:44.1%\r",
      "Progress:24.0% Speed(reviews/sec):499.2 #Correct:107 #Tested:241 Testing Accuracy:44.3%\r",
      "Progress:24.1% Speed(reviews/sec):499.2 #Correct:107 #Tested:242 Testing Accuracy:44.2%\r",
      "Progress:24.2% Speed(reviews/sec):498.2 #Correct:108 #Tested:243 Testing Accuracy:44.4%\r",
      "Progress:24.3% Speed(reviews/sec):498.2 #Correct:108 #Tested:244 Testing Accuracy:44.2%\r",
      "Progress:24.4% Speed(reviews/sec):497.7 #Correct:109 #Tested:245 Testing Accuracy:44.4%\r",
      "Progress:24.5% Speed(reviews/sec):498.2 #Correct:109 #Tested:246 Testing Accuracy:44.3%\r",
      "Progress:24.6% Speed(reviews/sec):498.7 #Correct:109 #Tested:247 Testing Accuracy:44.1%\r",
      "Progress:24.7% Speed(reviews/sec):499.2 #Correct:109 #Tested:248 Testing Accuracy:43.9%\r",
      "Progress:24.8% Speed(reviews/sec):499.7 #Correct:110 #Tested:249 Testing Accuracy:44.1%\r",
      "Progress:24.9% Speed(reviews/sec):499.2 #Correct:110 #Tested:250 Testing Accuracy:44.0%\r",
      "Progress:25.0% Speed(reviews/sec):499.7 #Correct:111 #Tested:251 Testing Accuracy:44.2%\r",
      "Progress:25.1% Speed(reviews/sec):499.7 #Correct:111 #Tested:252 Testing Accuracy:44.0%\r",
      "Progress:25.2% Speed(reviews/sec):500.2 #Correct:112 #Tested:253 Testing Accuracy:44.2%\r",
      "Progress:25.3% Speed(reviews/sec):500.7 #Correct:112 #Tested:254 Testing Accuracy:44.0%\r",
      "Progress:25.4% Speed(reviews/sec):500.7 #Correct:113 #Tested:255 Testing Accuracy:44.3%\r",
      "Progress:25.5% Speed(reviews/sec):501.7 #Correct:113 #Tested:256 Testing Accuracy:44.1%\r",
      "Progress:25.6% Speed(reviews/sec):501.7 #Correct:114 #Tested:257 Testing Accuracy:44.3%\r",
      "Progress:25.7% Speed(reviews/sec):502.7 #Correct:114 #Tested:258 Testing Accuracy:44.1%\r",
      "Progress:25.8% Speed(reviews/sec):502.7 #Correct:115 #Tested:259 Testing Accuracy:44.4%\r",
      "Progress:25.9% Speed(reviews/sec):502.7 #Correct:115 #Tested:260 Testing Accuracy:44.2%\r",
      "Progress:26.0% Speed(reviews/sec):503.6 #Correct:116 #Tested:261 Testing Accuracy:44.4%\r",
      "Progress:26.1% Speed(reviews/sec):503.6 #Correct:116 #Tested:262 Testing Accuracy:44.2%\r",
      "Progress:26.2% Speed(reviews/sec):504.6 #Correct:117 #Tested:263 Testing Accuracy:44.4%\r",
      "Progress:26.3% Speed(reviews/sec):503.6 #Correct:117 #Tested:264 Testing Accuracy:44.3%\r",
      "Progress:26.4% Speed(reviews/sec):504.5 #Correct:118 #Tested:265 Testing Accuracy:44.5%\r",
      "Progress:26.5% Speed(reviews/sec):503.5 #Correct:118 #Tested:266 Testing Accuracy:44.3%\r",
      "Progress:26.6% Speed(reviews/sec):503.5 #Correct:119 #Tested:267 Testing Accuracy:44.5%\r",
      "Progress:26.7% Speed(reviews/sec):504.5 #Correct:119 #Tested:268 Testing Accuracy:44.4%\r",
      "Progress:26.8% Speed(reviews/sec):504.4 #Correct:120 #Tested:269 Testing Accuracy:44.6%\r",
      "Progress:26.9% Speed(reviews/sec):504.4 #Correct:120 #Tested:270 Testing Accuracy:44.4%\r",
      "Progress:27.0% Speed(reviews/sec):504.4 #Correct:121 #Tested:271 Testing Accuracy:44.6%\r",
      "Progress:27.1% Speed(reviews/sec):505.3 #Correct:122 #Tested:272 Testing Accuracy:44.8%\r",
      "Progress:27.2% Speed(reviews/sec):504.4 #Correct:123 #Tested:273 Testing Accuracy:45.0%\r",
      "Progress:27.3% Speed(reviews/sec):505.3 #Correct:123 #Tested:274 Testing Accuracy:44.8%\r",
      "Progress:27.4% Speed(reviews/sec):505.3 #Correct:124 #Tested:275 Testing Accuracy:45.0%\r",
      "Progress:27.5% Speed(reviews/sec):504.3 #Correct:124 #Tested:276 Testing Accuracy:44.9%\r",
      "Progress:27.6% Speed(reviews/sec):505.2 #Correct:125 #Tested:277 Testing Accuracy:45.1%\r",
      "Progress:27.7% Speed(reviews/sec):505.2 #Correct:125 #Tested:278 Testing Accuracy:44.9%\r",
      "Progress:27.8% Speed(reviews/sec):505.2 #Correct:125 #Tested:279 Testing Accuracy:44.8%\r",
      "Progress:27.9% Speed(reviews/sec):506.1 #Correct:125 #Tested:280 Testing Accuracy:44.6%\r",
      "Progress:28.0% Speed(reviews/sec):506.1 #Correct:125 #Tested:281 Testing Accuracy:44.4%\r",
      "Progress:28.1% Speed(reviews/sec):507.0 #Correct:125 #Tested:282 Testing Accuracy:44.3%\r",
      "Progress:28.2% Speed(reviews/sec):506.9 #Correct:126 #Tested:283 Testing Accuracy:44.5%\r",
      "Progress:28.3% Speed(reviews/sec):507.8 #Correct:126 #Tested:284 Testing Accuracy:44.3%\r",
      "Progress:28.4% Speed(reviews/sec):506.9 #Correct:127 #Tested:285 Testing Accuracy:44.5%\r",
      "Progress:28.5% Speed(reviews/sec):506.9 #Correct:127 #Tested:286 Testing Accuracy:44.4%\r",
      "Progress:28.6% Speed(reviews/sec):507.7 #Correct:128 #Tested:287 Testing Accuracy:44.5%\r",
      "Progress:28.7% Speed(reviews/sec):507.7 #Correct:128 #Tested:288 Testing Accuracy:44.4%\r",
      "Progress:28.8% Speed(reviews/sec):508.6 #Correct:128 #Tested:289 Testing Accuracy:44.2%\r",
      "Progress:28.9% Speed(reviews/sec):508.5 #Correct:128 #Tested:290 Testing Accuracy:44.1%\r",
      "Progress:29.0% Speed(reviews/sec):508.5 #Correct:129 #Tested:291 Testing Accuracy:44.3%\r",
      "Progress:29.1% Speed(reviews/sec):509.4 #Correct:130 #Tested:292 Testing Accuracy:44.5%\r",
      "Progress:29.2% Speed(reviews/sec):509.3 #Correct:130 #Tested:293 Testing Accuracy:44.3%\r",
      "Progress:29.3% Speed(reviews/sec):510.2 #Correct:130 #Tested:294 Testing Accuracy:44.2%\r",
      "Progress:29.4% Speed(reviews/sec):510.2 #Correct:131 #Tested:295 Testing Accuracy:44.4%\r",
      "Progress:29.5% Speed(reviews/sec):511.0 #Correct:131 #Tested:296 Testing Accuracy:44.2%\r",
      "Progress:29.6% Speed(reviews/sec):511.0 #Correct:131 #Tested:297 Testing Accuracy:44.1%\r",
      "Progress:29.7% Speed(reviews/sec):510.9 #Correct:131 #Tested:298 Testing Accuracy:43.9%\r",
      "Progress:29.8% Speed(reviews/sec):510.9 #Correct:132 #Tested:299 Testing Accuracy:44.1%\r",
      "Progress:29.9% Speed(reviews/sec):510.9 #Correct:132 #Tested:300 Testing Accuracy:44.0%\r",
      "Progress:30.0% Speed(reviews/sec):510.8 #Correct:132 #Tested:301 Testing Accuracy:43.8%\r",
      "Progress:30.1% Speed(reviews/sec):510.3 #Correct:132 #Tested:302 Testing Accuracy:43.7%\r",
      "Progress:30.2% Speed(reviews/sec):509.4 #Correct:133 #Tested:303 Testing Accuracy:43.8%\r",
      "Progress:30.3% Speed(reviews/sec):509.4 #Correct:133 #Tested:304 Testing Accuracy:43.7%\r",
      "Progress:30.4% Speed(reviews/sec):509.8 #Correct:133 #Tested:305 Testing Accuracy:43.6%\r",
      "Progress:30.5% Speed(reviews/sec):510.2 #Correct:133 #Tested:306 Testing Accuracy:43.4%\r",
      "Progress:30.6% Speed(reviews/sec):509.3 #Correct:134 #Tested:307 Testing Accuracy:43.6%\r",
      "Progress:30.7% Speed(reviews/sec):509.7 #Correct:134 #Tested:308 Testing Accuracy:43.5%\r",
      "Progress:30.8% Speed(reviews/sec):510.1 #Correct:135 #Tested:309 Testing Accuracy:43.6%\r",
      "Progress:30.9% Speed(reviews/sec):509.9 #Correct:135 #Tested:310 Testing Accuracy:43.5%\r",
      "Progress:31.0% Speed(reviews/sec):509.9 #Correct:136 #Tested:311 Testing Accuracy:43.7%\r",
      "Progress:31.1% Speed(reviews/sec):510.7 #Correct:136 #Tested:312 Testing Accuracy:43.5%\r",
      "Progress:31.2% Speed(reviews/sec):510.7 #Correct:137 #Tested:313 Testing Accuracy:43.7%\r",
      "Progress:31.3% Speed(reviews/sec):510.6 #Correct:137 #Tested:314 Testing Accuracy:43.6%\r",
      "Progress:31.4% Speed(reviews/sec):511.4 #Correct:138 #Tested:315 Testing Accuracy:43.8%\r",
      "Progress:31.5% Speed(reviews/sec):510.6 #Correct:138 #Tested:316 Testing Accuracy:43.6%\r",
      "Progress:31.6% Speed(reviews/sec):511.3 #Correct:139 #Tested:317 Testing Accuracy:43.8%\r",
      "Progress:31.7% Speed(reviews/sec):511.3 #Correct:139 #Tested:318 Testing Accuracy:43.7%"
     ]
    },
    {
     "name": "stdout",
     "output_type": "stream",
     "text": [
      "\r",
      "Progress:31.8% Speed(reviews/sec):511.3 #Correct:140 #Tested:319 Testing Accuracy:43.8%\r",
      "Progress:31.9% Speed(reviews/sec):511.2 #Correct:140 #Tested:320 Testing Accuracy:43.7%\r",
      "Progress:32.0% Speed(reviews/sec):511.2 #Correct:141 #Tested:321 Testing Accuracy:43.9%\r",
      "Progress:32.1% Speed(reviews/sec):511.2 #Correct:141 #Tested:322 Testing Accuracy:43.7%\r",
      "Progress:32.2% Speed(reviews/sec):511.1 #Correct:142 #Tested:323 Testing Accuracy:43.9%\r",
      "Progress:32.3% Speed(reviews/sec):511.1 #Correct:142 #Tested:324 Testing Accuracy:43.8%\r",
      "Progress:32.4% Speed(reviews/sec):510.2 #Correct:143 #Tested:325 Testing Accuracy:44.0%\r",
      "Progress:32.5% Speed(reviews/sec):510.2 #Correct:143 #Tested:326 Testing Accuracy:43.8%\r",
      "Progress:32.6% Speed(reviews/sec):509.4 #Correct:144 #Tested:327 Testing Accuracy:44.0%\r",
      "Progress:32.7% Speed(reviews/sec):507.8 #Correct:144 #Tested:328 Testing Accuracy:43.9%\r",
      "Progress:32.8% Speed(reviews/sec):505.4 #Correct:145 #Tested:329 Testing Accuracy:44.0%\r",
      "Progress:32.9% Speed(reviews/sec):506.2 #Correct:145 #Tested:330 Testing Accuracy:43.9%\r",
      "Progress:33.0% Speed(reviews/sec):506.1 #Correct:146 #Tested:331 Testing Accuracy:44.1%\r",
      "Progress:33.1% Speed(reviews/sec):506.1 #Correct:146 #Tested:332 Testing Accuracy:43.9%\r",
      "Progress:33.2% Speed(reviews/sec):505.3 #Correct:147 #Tested:333 Testing Accuracy:44.1%\r",
      "Progress:33.3% Speed(reviews/sec):506.1 #Correct:147 #Tested:334 Testing Accuracy:44.0%\r",
      "Progress:33.4% Speed(reviews/sec):505.3 #Correct:148 #Tested:335 Testing Accuracy:44.1%\r",
      "Progress:33.5% Speed(reviews/sec):504.5 #Correct:148 #Tested:336 Testing Accuracy:44.0%\r",
      "Progress:33.6% Speed(reviews/sec):504.5 #Correct:148 #Tested:337 Testing Accuracy:43.9%\r",
      "Progress:33.7% Speed(reviews/sec):505.2 #Correct:148 #Tested:338 Testing Accuracy:43.7%\r",
      "Progress:33.8% Speed(reviews/sec):505.2 #Correct:148 #Tested:339 Testing Accuracy:43.6%\r",
      "Progress:33.9% Speed(reviews/sec):505.2 #Correct:148 #Tested:340 Testing Accuracy:43.5%\r",
      "Progress:34.0% Speed(reviews/sec):504.4 #Correct:149 #Tested:341 Testing Accuracy:43.6%\r",
      "Progress:34.1% Speed(reviews/sec):504.4 #Correct:149 #Tested:342 Testing Accuracy:43.5%\r",
      "Progress:34.2% Speed(reviews/sec):502.9 #Correct:150 #Tested:343 Testing Accuracy:43.7%\r",
      "Progress:34.3% Speed(reviews/sec):503.7 #Correct:150 #Tested:344 Testing Accuracy:43.6%\r",
      "Progress:34.4% Speed(reviews/sec):502.9 #Correct:150 #Tested:345 Testing Accuracy:43.4%\r",
      "Progress:34.5% Speed(reviews/sec):502.9 #Correct:150 #Tested:346 Testing Accuracy:43.3%\r",
      "Progress:34.6% Speed(reviews/sec):502.9 #Correct:150 #Tested:347 Testing Accuracy:43.2%\r",
      "Progress:34.7% Speed(reviews/sec):502.2 #Correct:150 #Tested:348 Testing Accuracy:43.1%\r",
      "Progress:34.8% Speed(reviews/sec):502.1 #Correct:151 #Tested:349 Testing Accuracy:43.2%\r",
      "Progress:34.9% Speed(reviews/sec):502.1 #Correct:151 #Tested:350 Testing Accuracy:43.1%\r",
      "Progress:35.0% Speed(reviews/sec):501.8 #Correct:152 #Tested:351 Testing Accuracy:43.3%\r",
      "Progress:35.1% Speed(reviews/sec):501.1 #Correct:152 #Tested:352 Testing Accuracy:43.1%\r",
      "Progress:35.2% Speed(reviews/sec):500.7 #Correct:153 #Tested:353 Testing Accuracy:43.3%\r",
      "Progress:35.3% Speed(reviews/sec):501.0 #Correct:153 #Tested:354 Testing Accuracy:43.2%\r",
      "Progress:35.4% Speed(reviews/sec):501.0 #Correct:153 #Tested:355 Testing Accuracy:43.0%\r",
      "Progress:35.5% Speed(reviews/sec):500.3 #Correct:153 #Tested:356 Testing Accuracy:42.9%\r",
      "Progress:35.6% Speed(reviews/sec):501.0 #Correct:154 #Tested:357 Testing Accuracy:43.1%\r",
      "Progress:35.7% Speed(reviews/sec):500.3 #Correct:154 #Tested:358 Testing Accuracy:43.0%\r",
      "Progress:35.8% Speed(reviews/sec):501.0 #Correct:155 #Tested:359 Testing Accuracy:43.1%\r",
      "Progress:35.9% Speed(reviews/sec):501.0 #Correct:156 #Tested:360 Testing Accuracy:43.3%\r",
      "Progress:36.0% Speed(reviews/sec):501.0 #Correct:157 #Tested:361 Testing Accuracy:43.4%\r",
      "Progress:36.1% Speed(reviews/sec):501.0 #Correct:157 #Tested:362 Testing Accuracy:43.3%\r",
      "Progress:36.2% Speed(reviews/sec):501.0 #Correct:158 #Tested:363 Testing Accuracy:43.5%\r",
      "Progress:36.3% Speed(reviews/sec):501.0 #Correct:158 #Tested:364 Testing Accuracy:43.4%\r",
      "Progress:36.4% Speed(reviews/sec):501.0 #Correct:158 #Tested:365 Testing Accuracy:43.2%\r",
      "Progress:36.5% Speed(reviews/sec):501.0 #Correct:158 #Tested:366 Testing Accuracy:43.1%\r",
      "Progress:36.6% Speed(reviews/sec):501.7 #Correct:159 #Tested:367 Testing Accuracy:43.3%\r",
      "Progress:36.7% Speed(reviews/sec):501.7 #Correct:159 #Tested:368 Testing Accuracy:43.2%\r",
      "Progress:36.8% Speed(reviews/sec):501.7 #Correct:160 #Tested:369 Testing Accuracy:43.3%\r",
      "Progress:36.9% Speed(reviews/sec):501.7 #Correct:160 #Tested:370 Testing Accuracy:43.2%\r",
      "Progress:37.0% Speed(reviews/sec):502.3 #Correct:161 #Tested:371 Testing Accuracy:43.3%\r",
      "Progress:37.1% Speed(reviews/sec):501.7 #Correct:161 #Tested:372 Testing Accuracy:43.2%\r",
      "Progress:37.2% Speed(reviews/sec):502.3 #Correct:162 #Tested:373 Testing Accuracy:43.4%\r",
      "Progress:37.3% Speed(reviews/sec):502.3 #Correct:162 #Tested:374 Testing Accuracy:43.3%\r",
      "Progress:37.4% Speed(reviews/sec):502.3 #Correct:163 #Tested:375 Testing Accuracy:43.4%\r",
      "Progress:37.5% Speed(reviews/sec):502.3 #Correct:163 #Tested:376 Testing Accuracy:43.3%\r",
      "Progress:37.6% Speed(reviews/sec):502.3 #Correct:164 #Tested:377 Testing Accuracy:43.5%\r",
      "Progress:37.7% Speed(reviews/sec):502.3 #Correct:164 #Tested:378 Testing Accuracy:43.3%\r",
      "Progress:37.8% Speed(reviews/sec):503.0 #Correct:165 #Tested:379 Testing Accuracy:43.5%\r",
      "Progress:37.9% Speed(reviews/sec):502.9 #Correct:165 #Tested:380 Testing Accuracy:43.4%\r",
      "Progress:38.0% Speed(reviews/sec):502.9 #Correct:166 #Tested:381 Testing Accuracy:43.5%\r",
      "Progress:38.1% Speed(reviews/sec):502.9 #Correct:166 #Tested:382 Testing Accuracy:43.4%\r",
      "Progress:38.2% Speed(reviews/sec):502.9 #Correct:167 #Tested:383 Testing Accuracy:43.6%\r",
      "Progress:38.3% Speed(reviews/sec):503.6 #Correct:167 #Tested:384 Testing Accuracy:43.4%\r",
      "Progress:38.4% Speed(reviews/sec):503.6 #Correct:168 #Tested:385 Testing Accuracy:43.6%\r",
      "Progress:38.5% Speed(reviews/sec):503.6 #Correct:168 #Tested:386 Testing Accuracy:43.5%\r",
      "Progress:38.6% Speed(reviews/sec):504.2 #Correct:169 #Tested:387 Testing Accuracy:43.6%\r",
      "Progress:38.7% Speed(reviews/sec):504.2 #Correct:169 #Tested:388 Testing Accuracy:43.5%\r",
      "Progress:38.8% Speed(reviews/sec):504.2 #Correct:170 #Tested:389 Testing Accuracy:43.7%\r",
      "Progress:38.9% Speed(reviews/sec):504.8 #Correct:170 #Tested:390 Testing Accuracy:43.5%\r",
      "Progress:39.0% Speed(reviews/sec):504.8 #Correct:171 #Tested:391 Testing Accuracy:43.7%\r",
      "Progress:39.1% Speed(reviews/sec):505.5 #Correct:171 #Tested:392 Testing Accuracy:43.6%\r",
      "Progress:39.2% Speed(reviews/sec):505.4 #Correct:171 #Tested:393 Testing Accuracy:43.5%\r",
      "Progress:39.3% Speed(reviews/sec):505.4 #Correct:171 #Tested:394 Testing Accuracy:43.4%\r",
      "Progress:39.4% Speed(reviews/sec):505.4 #Correct:172 #Tested:395 Testing Accuracy:43.5%\r",
      "Progress:39.5% Speed(reviews/sec):505.4 #Correct:172 #Tested:396 Testing Accuracy:43.4%\r",
      "Progress:39.6% Speed(reviews/sec):506.0 #Correct:173 #Tested:397 Testing Accuracy:43.5%\r",
      "Progress:39.7% Speed(reviews/sec):506.0 #Correct:173 #Tested:398 Testing Accuracy:43.4%\r",
      "Progress:39.8% Speed(reviews/sec):506.0 #Correct:174 #Tested:399 Testing Accuracy:43.6%\r",
      "Progress:39.9% Speed(reviews/sec):506.0 #Correct:174 #Tested:400 Testing Accuracy:43.5%\r",
      "Progress:40.0% Speed(reviews/sec):506.0 #Correct:175 #Tested:401 Testing Accuracy:43.6%\r",
      "Progress:40.1% Speed(reviews/sec):506.3 #Correct:175 #Tested:402 Testing Accuracy:43.5%\r",
      "Progress:40.2% Speed(reviews/sec):506.2 #Correct:176 #Tested:403 Testing Accuracy:43.6%\r",
      "Progress:40.3% Speed(reviews/sec):506.5 #Correct:176 #Tested:404 Testing Accuracy:43.5%\r",
      "Progress:40.4% Speed(reviews/sec):506.8 #Correct:177 #Tested:405 Testing Accuracy:43.7%\r",
      "Progress:40.5% Speed(reviews/sec):506.8 #Correct:177 #Tested:406 Testing Accuracy:43.5%\r",
      "Progress:40.6% Speed(reviews/sec):506.5 #Correct:178 #Tested:407 Testing Accuracy:43.7%\r",
      "Progress:40.7% Speed(reviews/sec):506.8 #Correct:178 #Tested:408 Testing Accuracy:43.6%\r",
      "Progress:40.8% Speed(reviews/sec):506.8 #Correct:178 #Tested:409 Testing Accuracy:43.5%\r",
      "Progress:40.9% Speed(reviews/sec):507.1 #Correct:178 #Tested:410 Testing Accuracy:43.4%\r",
      "Progress:41.0% Speed(reviews/sec):507.1 #Correct:179 #Tested:411 Testing Accuracy:43.5%\r",
      "Progress:41.1% Speed(reviews/sec):507.0 #Correct:179 #Tested:412 Testing Accuracy:43.4%\r",
      "Progress:41.2% Speed(reviews/sec):507.6 #Correct:180 #Tested:413 Testing Accuracy:43.5%\r",
      "Progress:41.3% Speed(reviews/sec):507.0 #Correct:180 #Tested:414 Testing Accuracy:43.4%\r",
      "Progress:41.4% Speed(reviews/sec):507.6 #Correct:181 #Tested:415 Testing Accuracy:43.6%\r",
      "Progress:41.5% Speed(reviews/sec):507.6 #Correct:182 #Tested:416 Testing Accuracy:43.7%\r",
      "Progress:41.6% Speed(reviews/sec):507.6 #Correct:183 #Tested:417 Testing Accuracy:43.8%\r",
      "Progress:41.7% Speed(reviews/sec):507.5 #Correct:183 #Tested:418 Testing Accuracy:43.7%\r",
      "Progress:41.8% Speed(reviews/sec):507.5 #Correct:184 #Tested:419 Testing Accuracy:43.9%"
     ]
    },
    {
     "name": "stdout",
     "output_type": "stream",
     "text": [
      "\r",
      "Progress:41.9% Speed(reviews/sec):507.5 #Correct:184 #Tested:420 Testing Accuracy:43.8%\r",
      "Progress:42.0% Speed(reviews/sec):506.9 #Correct:185 #Tested:421 Testing Accuracy:43.9%\r",
      "Progress:42.1% Speed(reviews/sec):506.3 #Correct:186 #Tested:422 Testing Accuracy:44.0%\r",
      "Progress:42.2% Speed(reviews/sec):506.2 #Correct:187 #Tested:423 Testing Accuracy:44.2%\r",
      "Progress:42.3% Speed(reviews/sec):506.2 #Correct:187 #Tested:424 Testing Accuracy:44.1%\r",
      "Progress:42.4% Speed(reviews/sec):506.2 #Correct:188 #Tested:425 Testing Accuracy:44.2%\r",
      "Progress:42.5% Speed(reviews/sec):506.2 #Correct:189 #Tested:426 Testing Accuracy:44.3%\r",
      "Progress:42.6% Speed(reviews/sec):505.6 #Correct:190 #Tested:427 Testing Accuracy:44.4%\r",
      "Progress:42.7% Speed(reviews/sec):505.6 #Correct:191 #Tested:428 Testing Accuracy:44.6%\r",
      "Progress:42.8% Speed(reviews/sec):505.5 #Correct:191 #Tested:429 Testing Accuracy:44.5%\r",
      "Progress:42.9% Speed(reviews/sec):505.5 #Correct:192 #Tested:430 Testing Accuracy:44.6%\r",
      "Progress:43.0% Speed(reviews/sec):506.1 #Correct:193 #Tested:431 Testing Accuracy:44.7%\r",
      "Progress:43.1% Speed(reviews/sec):506.1 #Correct:193 #Tested:432 Testing Accuracy:44.6%\r",
      "Progress:43.2% Speed(reviews/sec):506.1 #Correct:194 #Tested:433 Testing Accuracy:44.8%\r",
      "Progress:43.3% Speed(reviews/sec):506.1 #Correct:194 #Tested:434 Testing Accuracy:44.7%\r",
      "Progress:43.4% Speed(reviews/sec):506.1 #Correct:195 #Tested:435 Testing Accuracy:44.8%\r",
      "Progress:43.5% Speed(reviews/sec):505.5 #Correct:195 #Tested:436 Testing Accuracy:44.7%\r",
      "Progress:43.6% Speed(reviews/sec):505.4 #Correct:196 #Tested:437 Testing Accuracy:44.8%\r",
      "Progress:43.7% Speed(reviews/sec):504.8 #Correct:196 #Tested:438 Testing Accuracy:44.7%\r",
      "Progress:43.8% Speed(reviews/sec):504.8 #Correct:197 #Tested:439 Testing Accuracy:44.8%\r",
      "Progress:43.9% Speed(reviews/sec):504.8 #Correct:197 #Tested:440 Testing Accuracy:44.7%\r",
      "Progress:44.0% Speed(reviews/sec):504.2 #Correct:198 #Tested:441 Testing Accuracy:44.8%\r",
      "Progress:44.1% Speed(reviews/sec):504.2 #Correct:198 #Tested:442 Testing Accuracy:44.7%\r",
      "Progress:44.2% Speed(reviews/sec):504.2 #Correct:198 #Tested:443 Testing Accuracy:44.6%\r",
      "Progress:44.3% Speed(reviews/sec):504.2 #Correct:198 #Tested:444 Testing Accuracy:44.5%\r",
      "Progress:44.4% Speed(reviews/sec):503.0 #Correct:199 #Tested:445 Testing Accuracy:44.7%\r",
      "Progress:44.5% Speed(reviews/sec):503.0 #Correct:199 #Tested:446 Testing Accuracy:44.6%\r",
      "Progress:44.6% Speed(reviews/sec):503.0 #Correct:200 #Tested:447 Testing Accuracy:44.7%\r",
      "Progress:44.7% Speed(reviews/sec):503.0 #Correct:200 #Tested:448 Testing Accuracy:44.6%\r",
      "Progress:44.8% Speed(reviews/sec):502.7 #Correct:200 #Tested:449 Testing Accuracy:44.5%\r",
      "Progress:44.9% Speed(reviews/sec):502.7 #Correct:200 #Tested:450 Testing Accuracy:44.4%\r",
      "Progress:45.0% Speed(reviews/sec):503.0 #Correct:201 #Tested:451 Testing Accuracy:44.5%\r",
      "Progress:45.1% Speed(reviews/sec):502.2 #Correct:201 #Tested:452 Testing Accuracy:44.4%\r",
      "Progress:45.2% Speed(reviews/sec):502.1 #Correct:201 #Tested:453 Testing Accuracy:44.3%\r",
      "Progress:45.3% Speed(reviews/sec):502.4 #Correct:201 #Tested:454 Testing Accuracy:44.2%\r",
      "Progress:45.4% Speed(reviews/sec):502.7 #Correct:202 #Tested:455 Testing Accuracy:44.3%\r",
      "Progress:45.5% Speed(reviews/sec):503.0 #Correct:202 #Tested:456 Testing Accuracy:44.2%\r",
      "Progress:45.6% Speed(reviews/sec):503.5 #Correct:203 #Tested:457 Testing Accuracy:44.4%\r",
      "Progress:45.7% Speed(reviews/sec):503.5 #Correct:203 #Tested:458 Testing Accuracy:44.3%\r",
      "Progress:45.8% Speed(reviews/sec):504.0 #Correct:204 #Tested:459 Testing Accuracy:44.4%\r",
      "Progress:45.9% Speed(reviews/sec):503.5 #Correct:204 #Tested:460 Testing Accuracy:44.3%\r",
      "Progress:46.0% Speed(reviews/sec):504.0 #Correct:204 #Tested:461 Testing Accuracy:44.2%\r",
      "Progress:46.1% Speed(reviews/sec):504.0 #Correct:205 #Tested:462 Testing Accuracy:44.3%\r",
      "Progress:46.2% Speed(reviews/sec):503.5 #Correct:206 #Tested:463 Testing Accuracy:44.4%\r",
      "Progress:46.3% Speed(reviews/sec):503.4 #Correct:206 #Tested:464 Testing Accuracy:44.3%\r",
      "Progress:46.4% Speed(reviews/sec):504.0 #Correct:207 #Tested:465 Testing Accuracy:44.5%\r",
      "Progress:46.5% Speed(reviews/sec):504.0 #Correct:208 #Tested:466 Testing Accuracy:44.6%\r",
      "Progress:46.6% Speed(reviews/sec):504.5 #Correct:209 #Tested:467 Testing Accuracy:44.7%\r",
      "Progress:46.7% Speed(reviews/sec):504.0 #Correct:209 #Tested:468 Testing Accuracy:44.6%\r",
      "Progress:46.8% Speed(reviews/sec):504.0 #Correct:210 #Tested:469 Testing Accuracy:44.7%\r",
      "Progress:46.9% Speed(reviews/sec):503.9 #Correct:210 #Tested:470 Testing Accuracy:44.6%\r",
      "Progress:47.0% Speed(reviews/sec):504.5 #Correct:211 #Tested:471 Testing Accuracy:44.7%\r",
      "Progress:47.1% Speed(reviews/sec):504.5 #Correct:211 #Tested:472 Testing Accuracy:44.7%\r",
      "Progress:47.2% Speed(reviews/sec):505.0 #Correct:212 #Tested:473 Testing Accuracy:44.8%\r",
      "Progress:47.3% Speed(reviews/sec):505.0 #Correct:212 #Tested:474 Testing Accuracy:44.7%\r",
      "Progress:47.4% Speed(reviews/sec):505.0 #Correct:213 #Tested:475 Testing Accuracy:44.8%\r",
      "Progress:47.5% Speed(reviews/sec):505.0 #Correct:213 #Tested:476 Testing Accuracy:44.7%\r",
      "Progress:47.6% Speed(reviews/sec):505.0 #Correct:214 #Tested:477 Testing Accuracy:44.8%\r",
      "Progress:47.7% Speed(reviews/sec):504.9 #Correct:214 #Tested:478 Testing Accuracy:44.7%\r",
      "Progress:47.8% Speed(reviews/sec):504.4 #Correct:215 #Tested:479 Testing Accuracy:44.8%\r",
      "Progress:47.9% Speed(reviews/sec):504.9 #Correct:216 #Tested:480 Testing Accuracy:45.0%\r",
      "Progress:48.0% Speed(reviews/sec):504.9 #Correct:217 #Tested:481 Testing Accuracy:45.1%\r",
      "Progress:48.1% Speed(reviews/sec):504.4 #Correct:217 #Tested:482 Testing Accuracy:45.0%\r",
      "Progress:48.2% Speed(reviews/sec):504.4 #Correct:218 #Tested:483 Testing Accuracy:45.1%\r",
      "Progress:48.3% Speed(reviews/sec):504.9 #Correct:219 #Tested:484 Testing Accuracy:45.2%\r",
      "Progress:48.4% Speed(reviews/sec):504.9 #Correct:219 #Tested:485 Testing Accuracy:45.1%\r",
      "Progress:48.5% Speed(reviews/sec):504.9 #Correct:220 #Tested:486 Testing Accuracy:45.2%\r",
      "Progress:48.6% Speed(reviews/sec):504.8 #Correct:221 #Tested:487 Testing Accuracy:45.3%\r",
      "Progress:48.7% Speed(reviews/sec):505.4 #Correct:221 #Tested:488 Testing Accuracy:45.2%\r",
      "Progress:48.8% Speed(reviews/sec):505.3 #Correct:221 #Tested:489 Testing Accuracy:45.1%\r",
      "Progress:48.9% Speed(reviews/sec):504.8 #Correct:221 #Tested:490 Testing Accuracy:45.1%\r",
      "Progress:49.0% Speed(reviews/sec):505.3 #Correct:221 #Tested:491 Testing Accuracy:45.0%\r",
      "Progress:49.1% Speed(reviews/sec):505.3 #Correct:221 #Tested:492 Testing Accuracy:44.9%\r",
      "Progress:49.2% Speed(reviews/sec):505.3 #Correct:222 #Tested:493 Testing Accuracy:45.0%\r",
      "Progress:49.3% Speed(reviews/sec):505.3 #Correct:222 #Tested:494 Testing Accuracy:44.9%\r",
      "Progress:49.4% Speed(reviews/sec):505.8 #Correct:223 #Tested:495 Testing Accuracy:45.0%\r",
      "Progress:49.5% Speed(reviews/sec):505.8 #Correct:223 #Tested:496 Testing Accuracy:44.9%\r",
      "Progress:49.6% Speed(reviews/sec):505.8 #Correct:224 #Tested:497 Testing Accuracy:45.0%\r",
      "Progress:49.7% Speed(reviews/sec):505.8 #Correct:224 #Tested:498 Testing Accuracy:44.9%\r",
      "Progress:49.8% Speed(reviews/sec):505.7 #Correct:224 #Tested:499 Testing Accuracy:44.8%\r",
      "Progress:49.9% Speed(reviews/sec):505.7 #Correct:224 #Tested:500 Testing Accuracy:44.8%\r",
      "Progress:50.0% Speed(reviews/sec):505.7 #Correct:224 #Tested:501 Testing Accuracy:44.7%\r",
      "Progress:50.1% Speed(reviews/sec):505.7 #Correct:224 #Tested:502 Testing Accuracy:44.6%\r",
      "Progress:50.2% Speed(reviews/sec):505.7 #Correct:225 #Tested:503 Testing Accuracy:44.7%\r",
      "Progress:50.3% Speed(reviews/sec):505.7 #Correct:225 #Tested:504 Testing Accuracy:44.6%\r",
      "Progress:50.4% Speed(reviews/sec):505.9 #Correct:226 #Tested:505 Testing Accuracy:44.7%\r",
      "Progress:50.5% Speed(reviews/sec):505.9 #Correct:226 #Tested:506 Testing Accuracy:44.6%\r",
      "Progress:50.6% Speed(reviews/sec):504.9 #Correct:226 #Tested:507 Testing Accuracy:44.5%\r",
      "Progress:50.7% Speed(reviews/sec):504.4 #Correct:226 #Tested:508 Testing Accuracy:44.4%\r",
      "Progress:50.8% Speed(reviews/sec):504.1 #Correct:227 #Tested:509 Testing Accuracy:44.5%\r",
      "Progress:50.9% Speed(reviews/sec):504.6 #Correct:227 #Tested:510 Testing Accuracy:44.5%\r",
      "Progress:51.0% Speed(reviews/sec):504.1 #Correct:228 #Tested:511 Testing Accuracy:44.6%\r",
      "Progress:51.1% Speed(reviews/sec):504.1 #Correct:228 #Tested:512 Testing Accuracy:44.5%\r",
      "Progress:51.2% Speed(reviews/sec):504.1 #Correct:228 #Tested:513 Testing Accuracy:44.4%\r",
      "Progress:51.3% Speed(reviews/sec):504.6 #Correct:228 #Tested:514 Testing Accuracy:44.3%\r",
      "Progress:51.4% Speed(reviews/sec):504.6 #Correct:229 #Tested:515 Testing Accuracy:44.4%\r",
      "Progress:51.5% Speed(reviews/sec):504.6 #Correct:229 #Tested:516 Testing Accuracy:44.3%\r",
      "Progress:51.6% Speed(reviews/sec):504.6 #Correct:230 #Tested:517 Testing Accuracy:44.4%\r",
      "Progress:51.7% Speed(reviews/sec):504.6 #Correct:230 #Tested:518 Testing Accuracy:44.4%"
     ]
    },
    {
     "name": "stdout",
     "output_type": "stream",
     "text": [
      "\r",
      "Progress:51.8% Speed(reviews/sec):504.5 #Correct:231 #Tested:519 Testing Accuracy:44.5%\r",
      "Progress:51.9% Speed(reviews/sec):504.5 #Correct:232 #Tested:520 Testing Accuracy:44.6%\r",
      "Progress:52.0% Speed(reviews/sec):504.5 #Correct:232 #Tested:521 Testing Accuracy:44.5%\r",
      "Progress:52.1% Speed(reviews/sec):504.0 #Correct:232 #Tested:522 Testing Accuracy:44.4%\r",
      "Progress:52.2% Speed(reviews/sec):504.0 #Correct:233 #Tested:523 Testing Accuracy:44.5%\r",
      "Progress:52.3% Speed(reviews/sec):504.0 #Correct:233 #Tested:524 Testing Accuracy:44.4%\r",
      "Progress:52.4% Speed(reviews/sec):504.0 #Correct:234 #Tested:525 Testing Accuracy:44.5%\r",
      "Progress:52.5% Speed(reviews/sec):504.0 #Correct:235 #Tested:526 Testing Accuracy:44.6%\r",
      "Progress:52.6% Speed(reviews/sec):504.0 #Correct:236 #Tested:527 Testing Accuracy:44.7%\r",
      "Progress:52.7% Speed(reviews/sec):504.5 #Correct:236 #Tested:528 Testing Accuracy:44.6%\r",
      "Progress:52.8% Speed(reviews/sec):504.0 #Correct:237 #Tested:529 Testing Accuracy:44.8%\r",
      "Progress:52.9% Speed(reviews/sec):504.0 #Correct:238 #Tested:530 Testing Accuracy:44.9%\r",
      "Progress:53.0% Speed(reviews/sec):504.0 #Correct:239 #Tested:531 Testing Accuracy:45.0%\r",
      "Progress:53.1% Speed(reviews/sec):503.9 #Correct:239 #Tested:532 Testing Accuracy:44.9%\r",
      "Progress:53.2% Speed(reviews/sec):504.4 #Correct:239 #Tested:533 Testing Accuracy:44.8%\r",
      "Progress:53.3% Speed(reviews/sec):504.4 #Correct:239 #Tested:534 Testing Accuracy:44.7%\r",
      "Progress:53.4% Speed(reviews/sec):504.4 #Correct:240 #Tested:535 Testing Accuracy:44.8%\r",
      "Progress:53.5% Speed(reviews/sec):504.4 #Correct:241 #Tested:536 Testing Accuracy:44.9%\r",
      "Progress:53.6% Speed(reviews/sec):504.4 #Correct:242 #Tested:537 Testing Accuracy:45.0%\r",
      "Progress:53.7% Speed(reviews/sec):503.9 #Correct:242 #Tested:538 Testing Accuracy:44.9%\r",
      "Progress:53.8% Speed(reviews/sec):503.9 #Correct:243 #Tested:539 Testing Accuracy:45.0%\r",
      "Progress:53.9% Speed(reviews/sec):503.9 #Correct:243 #Tested:540 Testing Accuracy:45.0%\r",
      "Progress:54.0% Speed(reviews/sec):503.9 #Correct:244 #Tested:541 Testing Accuracy:45.1%\r",
      "Progress:54.1% Speed(reviews/sec):503.9 #Correct:244 #Tested:542 Testing Accuracy:45.0%\r",
      "Progress:54.2% Speed(reviews/sec):503.4 #Correct:245 #Tested:543 Testing Accuracy:45.1%\r",
      "Progress:54.3% Speed(reviews/sec):503.4 #Correct:245 #Tested:544 Testing Accuracy:45.0%\r",
      "Progress:54.4% Speed(reviews/sec):502.9 #Correct:246 #Tested:545 Testing Accuracy:45.1%\r",
      "Progress:54.5% Speed(reviews/sec):502.4 #Correct:246 #Tested:546 Testing Accuracy:45.0%\r",
      "Progress:54.6% Speed(reviews/sec):502.4 #Correct:247 #Tested:547 Testing Accuracy:45.1%\r",
      "Progress:54.7% Speed(reviews/sec):502.0 #Correct:247 #Tested:548 Testing Accuracy:45.0%\r",
      "Progress:54.8% Speed(reviews/sec):502.2 #Correct:248 #Tested:549 Testing Accuracy:45.1%\r",
      "Progress:54.9% Speed(reviews/sec):502.4 #Correct:248 #Tested:550 Testing Accuracy:45.0%\r",
      "Progress:55.0% Speed(reviews/sec):502.6 #Correct:249 #Tested:551 Testing Accuracy:45.1%\r",
      "Progress:55.1% Speed(reviews/sec):502.6 #Correct:250 #Tested:552 Testing Accuracy:45.2%\r",
      "Progress:55.2% Speed(reviews/sec):502.9 #Correct:251 #Tested:553 Testing Accuracy:45.3%\r",
      "Progress:55.3% Speed(reviews/sec):502.6 #Correct:251 #Tested:554 Testing Accuracy:45.3%\r",
      "Progress:55.4% Speed(reviews/sec):502.4 #Correct:252 #Tested:555 Testing Accuracy:45.4%\r",
      "Progress:55.5% Speed(reviews/sec):502.6 #Correct:252 #Tested:556 Testing Accuracy:45.3%\r",
      "Progress:55.6% Speed(reviews/sec):502.8 #Correct:253 #Tested:557 Testing Accuracy:45.4%\r",
      "Progress:55.7% Speed(reviews/sec):502.8 #Correct:253 #Tested:558 Testing Accuracy:45.3%\r",
      "Progress:55.8% Speed(reviews/sec):502.8 #Correct:254 #Tested:559 Testing Accuracy:45.4%\r",
      "Progress:55.9% Speed(reviews/sec):502.8 #Correct:254 #Tested:560 Testing Accuracy:45.3%\r",
      "Progress:56.0% Speed(reviews/sec):502.8 #Correct:255 #Tested:561 Testing Accuracy:45.4%\r",
      "Progress:56.1% Speed(reviews/sec):502.8 #Correct:255 #Tested:562 Testing Accuracy:45.3%\r",
      "Progress:56.2% Speed(reviews/sec):502.8 #Correct:256 #Tested:563 Testing Accuracy:45.4%\r",
      "Progress:56.3% Speed(reviews/sec):503.3 #Correct:256 #Tested:564 Testing Accuracy:45.3%\r",
      "Progress:56.4% Speed(reviews/sec):503.2 #Correct:257 #Tested:565 Testing Accuracy:45.4%\r",
      "Progress:56.5% Speed(reviews/sec):503.2 #Correct:257 #Tested:566 Testing Accuracy:45.4%\r",
      "Progress:56.6% Speed(reviews/sec):503.7 #Correct:258 #Tested:567 Testing Accuracy:45.5%\r",
      "Progress:56.7% Speed(reviews/sec):503.7 #Correct:258 #Tested:568 Testing Accuracy:45.4%\r",
      "Progress:56.8% Speed(reviews/sec):503.7 #Correct:259 #Tested:569 Testing Accuracy:45.5%\r",
      "Progress:56.9% Speed(reviews/sec):503.7 #Correct:259 #Tested:570 Testing Accuracy:45.4%\r",
      "Progress:57.0% Speed(reviews/sec):503.7 #Correct:260 #Tested:571 Testing Accuracy:45.5%\r",
      "Progress:57.1% Speed(reviews/sec):503.6 #Correct:261 #Tested:572 Testing Accuracy:45.6%\r",
      "Progress:57.2% Speed(reviews/sec):503.6 #Correct:262 #Tested:573 Testing Accuracy:45.7%\r",
      "Progress:57.3% Speed(reviews/sec):503.6 #Correct:262 #Tested:574 Testing Accuracy:45.6%\r",
      "Progress:57.4% Speed(reviews/sec):503.6 #Correct:263 #Tested:575 Testing Accuracy:45.7%\r",
      "Progress:57.5% Speed(reviews/sec):503.6 #Correct:263 #Tested:576 Testing Accuracy:45.6%\r",
      "Progress:57.6% Speed(reviews/sec):503.6 #Correct:263 #Tested:577 Testing Accuracy:45.5%\r",
      "Progress:57.7% Speed(reviews/sec):504.0 #Correct:264 #Tested:578 Testing Accuracy:45.6%\r",
      "Progress:57.8% Speed(reviews/sec):503.6 #Correct:265 #Tested:579 Testing Accuracy:45.7%\r",
      "Progress:57.9% Speed(reviews/sec):504.0 #Correct:265 #Tested:580 Testing Accuracy:45.6%\r",
      "Progress:58.0% Speed(reviews/sec):504.0 #Correct:265 #Tested:581 Testing Accuracy:45.6%\r",
      "Progress:58.1% Speed(reviews/sec):504.0 #Correct:265 #Tested:582 Testing Accuracy:45.5%\r",
      "Progress:58.2% Speed(reviews/sec):504.4 #Correct:266 #Tested:583 Testing Accuracy:45.6%\r",
      "Progress:58.3% Speed(reviews/sec):504.4 #Correct:266 #Tested:584 Testing Accuracy:45.5%\r",
      "Progress:58.4% Speed(reviews/sec):504.9 #Correct:267 #Tested:585 Testing Accuracy:45.6%\r",
      "Progress:58.5% Speed(reviews/sec):504.9 #Correct:267 #Tested:586 Testing Accuracy:45.5%\r",
      "Progress:58.6% Speed(reviews/sec):505.3 #Correct:267 #Tested:587 Testing Accuracy:45.4%\r",
      "Progress:58.7% Speed(reviews/sec):505.3 #Correct:267 #Tested:588 Testing Accuracy:45.4%\r",
      "Progress:58.8% Speed(reviews/sec):505.7 #Correct:268 #Tested:589 Testing Accuracy:45.5%\r",
      "Progress:58.9% Speed(reviews/sec):505.7 #Correct:268 #Tested:590 Testing Accuracy:45.4%\r",
      "Progress:59.0% Speed(reviews/sec):505.7 #Correct:269 #Tested:591 Testing Accuracy:45.5%\r",
      "Progress:59.1% Speed(reviews/sec):506.1 #Correct:269 #Tested:592 Testing Accuracy:45.4%\r",
      "Progress:59.2% Speed(reviews/sec):506.1 #Correct:270 #Tested:593 Testing Accuracy:45.5%\r",
      "Progress:59.3% Speed(reviews/sec):506.1 #Correct:270 #Tested:594 Testing Accuracy:45.4%\r",
      "Progress:59.4% Speed(reviews/sec):506.1 #Correct:271 #Tested:595 Testing Accuracy:45.5%\r",
      "Progress:59.5% Speed(reviews/sec):506.1 #Correct:272 #Tested:596 Testing Accuracy:45.6%\r",
      "Progress:59.6% Speed(reviews/sec):506.5 #Correct:273 #Tested:597 Testing Accuracy:45.7%\r",
      "Progress:59.7% Speed(reviews/sec):506.5 #Correct:273 #Tested:598 Testing Accuracy:45.6%\r",
      "Progress:59.8% Speed(reviews/sec):506.5 #Correct:274 #Tested:599 Testing Accuracy:45.7%\r",
      "Progress:59.9% Speed(reviews/sec):506.9 #Correct:274 #Tested:600 Testing Accuracy:45.6%\r",
      "Progress:60.0% Speed(reviews/sec):506.9 #Correct:275 #Tested:601 Testing Accuracy:45.7%\r",
      "Progress:60.1% Speed(reviews/sec):506.9 #Correct:275 #Tested:602 Testing Accuracy:45.6%\r",
      "Progress:60.2% Speed(reviews/sec):506.8 #Correct:276 #Tested:603 Testing Accuracy:45.7%\r",
      "Progress:60.3% Speed(reviews/sec):507.3 #Correct:276 #Tested:604 Testing Accuracy:45.6%\r",
      "Progress:60.4% Speed(reviews/sec):507.2 #Correct:277 #Tested:605 Testing Accuracy:45.7%\r",
      "Progress:60.5% Speed(reviews/sec):506.8 #Correct:277 #Tested:606 Testing Accuracy:45.7%\r",
      "Progress:60.6% Speed(reviews/sec):507.0 #Correct:278 #Tested:607 Testing Accuracy:45.7%\r",
      "Progress:60.7% Speed(reviews/sec):507.0 #Correct:278 #Tested:608 Testing Accuracy:45.7%\r",
      "Progress:60.8% Speed(reviews/sec):507.2 #Correct:279 #Tested:609 Testing Accuracy:45.8%\r",
      "Progress:60.9% Speed(reviews/sec):507.4 #Correct:280 #Tested:610 Testing Accuracy:45.9%\r",
      "Progress:61.0% Speed(reviews/sec):507.4 #Correct:281 #Tested:611 Testing Accuracy:45.9%\r",
      "Progress:61.1% Speed(reviews/sec):507.6 #Correct:281 #Tested:612 Testing Accuracy:45.9%\r",
      "Progress:61.2% Speed(reviews/sec):507.8 #Correct:281 #Tested:613 Testing Accuracy:45.8%\r",
      "Progress:61.3% Speed(reviews/sec):508.0 #Correct:281 #Tested:614 Testing Accuracy:45.7%\r",
      "Progress:61.4% Speed(reviews/sec):508.4 #Correct:282 #Tested:615 Testing Accuracy:45.8%\r",
      "Progress:61.5% Speed(reviews/sec):508.4 #Correct:282 #Tested:616 Testing Accuracy:45.7%\r",
      "Progress:61.6% Speed(reviews/sec):508.3 #Correct:283 #Tested:617 Testing Accuracy:45.8%\r",
      "Progress:61.7% Speed(reviews/sec):508.7 #Correct:283 #Tested:618 Testing Accuracy:45.7%\r",
      "Progress:61.8% Speed(reviews/sec):508.7 #Correct:284 #Tested:619 Testing Accuracy:45.8%\r",
      "Progress:61.9% Speed(reviews/sec):508.7 #Correct:284 #Tested:620 Testing Accuracy:45.8%\r",
      "Progress:62.0% Speed(reviews/sec):508.7 #Correct:285 #Tested:621 Testing Accuracy:45.8%\r",
      "Progress:62.1% Speed(reviews/sec):509.1 #Correct:285 #Tested:622 Testing Accuracy:45.8%\r",
      "Progress:62.2% Speed(reviews/sec):509.1 #Correct:285 #Tested:623 Testing Accuracy:45.7%\r",
      "Progress:62.3% Speed(reviews/sec):509.1 #Correct:285 #Tested:624 Testing Accuracy:45.6%\r",
      "Progress:62.4% Speed(reviews/sec):509.5 #Correct:286 #Tested:625 Testing Accuracy:45.7%\r",
      "Progress:62.5% Speed(reviews/sec):508.6 #Correct:286 #Tested:626 Testing Accuracy:45.6%"
     ]
    },
    {
     "name": "stdout",
     "output_type": "stream",
     "text": [
      "\r",
      "Progress:62.6% Speed(reviews/sec):508.6 #Correct:287 #Tested:627 Testing Accuracy:45.7%\r",
      "Progress:62.7% Speed(reviews/sec):508.6 #Correct:287 #Tested:628 Testing Accuracy:45.7%\r",
      "Progress:62.8% Speed(reviews/sec):508.6 #Correct:288 #Tested:629 Testing Accuracy:45.7%\r",
      "Progress:62.9% Speed(reviews/sec):508.2 #Correct:288 #Tested:630 Testing Accuracy:45.7%\r",
      "Progress:63.0% Speed(reviews/sec):507.7 #Correct:289 #Tested:631 Testing Accuracy:45.8%\r",
      "Progress:63.1% Speed(reviews/sec):507.3 #Correct:289 #Tested:632 Testing Accuracy:45.7%\r",
      "Progress:63.2% Speed(reviews/sec):507.3 #Correct:290 #Tested:633 Testing Accuracy:45.8%\r",
      "Progress:63.3% Speed(reviews/sec):507.3 #Correct:290 #Tested:634 Testing Accuracy:45.7%\r",
      "Progress:63.4% Speed(reviews/sec):506.9 #Correct:291 #Tested:635 Testing Accuracy:45.8%\r",
      "Progress:63.5% Speed(reviews/sec):506.9 #Correct:291 #Tested:636 Testing Accuracy:45.7%\r",
      "Progress:63.6% Speed(reviews/sec):506.9 #Correct:292 #Tested:637 Testing Accuracy:45.8%\r",
      "Progress:63.7% Speed(reviews/sec):506.8 #Correct:292 #Tested:638 Testing Accuracy:45.7%\r",
      "Progress:63.8% Speed(reviews/sec):506.8 #Correct:293 #Tested:639 Testing Accuracy:45.8%\r",
      "Progress:63.9% Speed(reviews/sec):507.2 #Correct:294 #Tested:640 Testing Accuracy:45.9%\r",
      "Progress:64.0% Speed(reviews/sec):506.8 #Correct:294 #Tested:641 Testing Accuracy:45.8%\r",
      "Progress:64.1% Speed(reviews/sec):506.4 #Correct:294 #Tested:642 Testing Accuracy:45.7%\r",
      "Progress:64.2% Speed(reviews/sec):506.4 #Correct:295 #Tested:643 Testing Accuracy:45.8%\r",
      "Progress:64.3% Speed(reviews/sec):506.4 #Correct:295 #Tested:644 Testing Accuracy:45.8%\r",
      "Progress:64.4% Speed(reviews/sec):506.4 #Correct:296 #Tested:645 Testing Accuracy:45.8%\r",
      "Progress:64.5% Speed(reviews/sec):506.0 #Correct:296 #Tested:646 Testing Accuracy:45.8%\r",
      "Progress:64.6% Speed(reviews/sec):505.6 #Correct:297 #Tested:647 Testing Accuracy:45.9%\r",
      "Progress:64.7% Speed(reviews/sec):505.5 #Correct:297 #Tested:648 Testing Accuracy:45.8%\r",
      "Progress:64.8% Speed(reviews/sec):505.5 #Correct:298 #Tested:649 Testing Accuracy:45.9%\r",
      "Progress:64.9% Speed(reviews/sec):505.5 #Correct:298 #Tested:650 Testing Accuracy:45.8%\r",
      "Progress:65.0% Speed(reviews/sec):505.9 #Correct:299 #Tested:651 Testing Accuracy:45.9%\r",
      "Progress:65.1% Speed(reviews/sec):505.9 #Correct:299 #Tested:652 Testing Accuracy:45.8%\r",
      "Progress:65.2% Speed(reviews/sec):505.9 #Correct:300 #Tested:653 Testing Accuracy:45.9%\r",
      "Progress:65.3% Speed(reviews/sec):506.1 #Correct:300 #Tested:654 Testing Accuracy:45.8%\r",
      "Progress:65.4% Speed(reviews/sec):506.1 #Correct:300 #Tested:655 Testing Accuracy:45.8%\r",
      "Progress:65.5% Speed(reviews/sec):506.2 #Correct:300 #Tested:656 Testing Accuracy:45.7%\r",
      "Progress:65.6% Speed(reviews/sec):506.4 #Correct:301 #Tested:657 Testing Accuracy:45.8%\r",
      "Progress:65.7% Speed(reviews/sec):506.2 #Correct:301 #Tested:658 Testing Accuracy:45.7%\r",
      "Progress:65.8% Speed(reviews/sec):506.0 #Correct:302 #Tested:659 Testing Accuracy:45.8%\r",
      "Progress:65.9% Speed(reviews/sec):506.0 #Correct:302 #Tested:660 Testing Accuracy:45.7%\r",
      "Progress:66.0% Speed(reviews/sec):506.2 #Correct:303 #Tested:661 Testing Accuracy:45.8%\r",
      "Progress:66.1% Speed(reviews/sec):506.4 #Correct:304 #Tested:662 Testing Accuracy:45.9%\r",
      "Progress:66.2% Speed(reviews/sec):506.6 #Correct:305 #Tested:663 Testing Accuracy:46.0%\r",
      "Progress:66.3% Speed(reviews/sec):506.6 #Correct:305 #Tested:664 Testing Accuracy:45.9%\r",
      "Progress:66.4% Speed(reviews/sec):506.5 #Correct:305 #Tested:665 Testing Accuracy:45.8%\r",
      "Progress:66.5% Speed(reviews/sec):506.9 #Correct:306 #Tested:666 Testing Accuracy:45.9%\r",
      "Progress:66.6% Speed(reviews/sec):506.9 #Correct:307 #Tested:667 Testing Accuracy:46.0%\r",
      "Progress:66.7% Speed(reviews/sec):506.9 #Correct:308 #Tested:668 Testing Accuracy:46.1%\r",
      "Progress:66.8% Speed(reviews/sec):506.9 #Correct:309 #Tested:669 Testing Accuracy:46.1%\r",
      "Progress:66.9% Speed(reviews/sec):506.9 #Correct:309 #Tested:670 Testing Accuracy:46.1%\r",
      "Progress:67.0% Speed(reviews/sec):507.3 #Correct:310 #Tested:671 Testing Accuracy:46.1%\r",
      "Progress:67.1% Speed(reviews/sec):507.2 #Correct:311 #Tested:672 Testing Accuracy:46.2%\r",
      "Progress:67.2% Speed(reviews/sec):507.6 #Correct:312 #Tested:673 Testing Accuracy:46.3%\r",
      "Progress:67.3% Speed(reviews/sec):507.6 #Correct:312 #Tested:674 Testing Accuracy:46.2%\r",
      "Progress:67.4% Speed(reviews/sec):507.6 #Correct:312 #Tested:675 Testing Accuracy:46.2%\r",
      "Progress:67.5% Speed(reviews/sec):508.0 #Correct:312 #Tested:676 Testing Accuracy:46.1%\r",
      "Progress:67.6% Speed(reviews/sec):507.9 #Correct:313 #Tested:677 Testing Accuracy:46.2%\r",
      "Progress:67.7% Speed(reviews/sec):507.9 #Correct:313 #Tested:678 Testing Accuracy:46.1%\r",
      "Progress:67.8% Speed(reviews/sec):508.3 #Correct:314 #Tested:679 Testing Accuracy:46.2%\r",
      "Progress:67.9% Speed(reviews/sec):508.3 #Correct:314 #Tested:680 Testing Accuracy:46.1%\r",
      "Progress:68.0% Speed(reviews/sec):508.3 #Correct:315 #Tested:681 Testing Accuracy:46.2%\r",
      "Progress:68.1% Speed(reviews/sec):508.3 #Correct:315 #Tested:682 Testing Accuracy:46.1%\r",
      "Progress:68.2% Speed(reviews/sec):508.6 #Correct:316 #Tested:683 Testing Accuracy:46.2%\r",
      "Progress:68.3% Speed(reviews/sec):508.6 #Correct:317 #Tested:684 Testing Accuracy:46.3%\r",
      "Progress:68.4% Speed(reviews/sec):508.6 #Correct:318 #Tested:685 Testing Accuracy:46.4%\r",
      "Progress:68.5% Speed(reviews/sec):509.0 #Correct:319 #Tested:686 Testing Accuracy:46.5%\r",
      "Progress:68.6% Speed(reviews/sec):509.0 #Correct:320 #Tested:687 Testing Accuracy:46.5%\r",
      "Progress:68.7% Speed(reviews/sec):508.9 #Correct:320 #Tested:688 Testing Accuracy:46.5%\r",
      "Progress:68.8% Speed(reviews/sec):508.9 #Correct:321 #Tested:689 Testing Accuracy:46.5%\r",
      "Progress:68.9% Speed(reviews/sec):508.9 #Correct:321 #Tested:690 Testing Accuracy:46.5%\r",
      "Progress:69.0% Speed(reviews/sec):509.3 #Correct:322 #Tested:691 Testing Accuracy:46.5%\r",
      "Progress:69.1% Speed(reviews/sec):509.3 #Correct:322 #Tested:692 Testing Accuracy:46.5%\r",
      "Progress:69.2% Speed(reviews/sec):509.3 #Correct:322 #Tested:693 Testing Accuracy:46.4%\r",
      "Progress:69.3% Speed(reviews/sec):509.6 #Correct:322 #Tested:694 Testing Accuracy:46.3%\r",
      "Progress:69.4% Speed(reviews/sec):509.6 #Correct:323 #Tested:695 Testing Accuracy:46.4%\r",
      "Progress:69.5% Speed(reviews/sec):509.6 #Correct:323 #Tested:696 Testing Accuracy:46.4%\r",
      "Progress:69.6% Speed(reviews/sec):509.6 #Correct:324 #Tested:697 Testing Accuracy:46.4%\r",
      "Progress:69.7% Speed(reviews/sec):509.9 #Correct:324 #Tested:698 Testing Accuracy:46.4%\r",
      "Progress:69.8% Speed(reviews/sec):509.9 #Correct:325 #Tested:699 Testing Accuracy:46.4%\r",
      "Progress:69.9% Speed(reviews/sec):509.9 #Correct:325 #Tested:700 Testing Accuracy:46.4%\r",
      "Progress:70.0% Speed(reviews/sec):509.9 #Correct:326 #Tested:701 Testing Accuracy:46.5%\r",
      "Progress:70.1% Speed(reviews/sec):510.2 #Correct:326 #Tested:702 Testing Accuracy:46.4%\r",
      "Progress:70.2% Speed(reviews/sec):510.2 #Correct:327 #Tested:703 Testing Accuracy:46.5%\r",
      "Progress:70.3% Speed(reviews/sec):510.2 #Correct:327 #Tested:704 Testing Accuracy:46.4%\r",
      "Progress:70.4% Speed(reviews/sec):510.2 #Correct:328 #Tested:705 Testing Accuracy:46.5%\r",
      "Progress:70.5% Speed(reviews/sec):510.2 #Correct:328 #Tested:706 Testing Accuracy:46.4%\r",
      "Progress:70.6% Speed(reviews/sec):510.5 #Correct:329 #Tested:707 Testing Accuracy:46.5%\r",
      "Progress:70.7% Speed(reviews/sec):510.5 #Correct:329 #Tested:708 Testing Accuracy:46.4%\r",
      "Progress:70.8% Speed(reviews/sec):510.5 #Correct:330 #Tested:709 Testing Accuracy:46.5%\r",
      "Progress:70.9% Speed(reviews/sec):510.9 #Correct:330 #Tested:710 Testing Accuracy:46.4%\r",
      "Progress:71.0% Speed(reviews/sec):510.8 #Correct:331 #Tested:711 Testing Accuracy:46.5%\r",
      "Progress:71.1% Speed(reviews/sec):511.0 #Correct:331 #Tested:712 Testing Accuracy:46.4%\r",
      "Progress:71.2% Speed(reviews/sec):511.2 #Correct:332 #Tested:713 Testing Accuracy:46.5%\r",
      "Progress:71.3% Speed(reviews/sec):511.3 #Correct:333 #Tested:714 Testing Accuracy:46.6%\r",
      "Progress:71.4% Speed(reviews/sec):511.3 #Correct:334 #Tested:715 Testing Accuracy:46.7%\r",
      "Progress:71.5% Speed(reviews/sec):511.3 #Correct:334 #Tested:716 Testing Accuracy:46.6%\r",
      "Progress:71.6% Speed(reviews/sec):511.5 #Correct:335 #Tested:717 Testing Accuracy:46.7%\r",
      "Progress:71.7% Speed(reviews/sec):511.5 #Correct:336 #Tested:718 Testing Accuracy:46.7%\r",
      "Progress:71.8% Speed(reviews/sec):511.6 #Correct:337 #Tested:719 Testing Accuracy:46.8%\r",
      "Progress:71.9% Speed(reviews/sec):511.8 #Correct:337 #Tested:720 Testing Accuracy:46.8%\r",
      "Progress:72.0% Speed(reviews/sec):511.8 #Correct:337 #Tested:721 Testing Accuracy:46.7%\r",
      "Progress:72.1% Speed(reviews/sec):512.2 #Correct:337 #Tested:722 Testing Accuracy:46.6%\r",
      "Progress:72.2% Speed(reviews/sec):512.2 #Correct:338 #Tested:723 Testing Accuracy:46.7%\r",
      "Progress:72.3% Speed(reviews/sec):512.1 #Correct:338 #Tested:724 Testing Accuracy:46.6%\r",
      "Progress:72.4% Speed(reviews/sec):512.1 #Correct:339 #Tested:725 Testing Accuracy:46.7%\r",
      "Progress:72.5% Speed(reviews/sec):512.5 #Correct:340 #Tested:726 Testing Accuracy:46.8%\r",
      "Progress:72.6% Speed(reviews/sec):512.1 #Correct:341 #Tested:727 Testing Accuracy:46.9%\r",
      "Progress:72.7% Speed(reviews/sec):512.1 #Correct:341 #Tested:728 Testing Accuracy:46.8%\r",
      "Progress:72.8% Speed(reviews/sec):512.4 #Correct:342 #Tested:729 Testing Accuracy:46.9%\r",
      "Progress:72.9% Speed(reviews/sec):512.4 #Correct:342 #Tested:730 Testing Accuracy:46.8%\r",
      "Progress:73.0% Speed(reviews/sec):512.4 #Correct:343 #Tested:731 Testing Accuracy:46.9%\r",
      "Progress:73.1% Speed(reviews/sec):512.4 #Correct:343 #Tested:732 Testing Accuracy:46.8%\r",
      "Progress:73.2% Speed(reviews/sec):512.3 #Correct:344 #Tested:733 Testing Accuracy:46.9%\r",
      "Progress:73.3% Speed(reviews/sec):512.3 #Correct:344 #Tested:734 Testing Accuracy:46.8%\r",
      "Progress:73.4% Speed(reviews/sec):512.3 #Correct:345 #Tested:735 Testing Accuracy:46.9%"
     ]
    },
    {
     "name": "stdout",
     "output_type": "stream",
     "text": [
      "\r",
      "Progress:73.5% Speed(reviews/sec):511.9 #Correct:345 #Tested:736 Testing Accuracy:46.8%\r",
      "Progress:73.6% Speed(reviews/sec):511.9 #Correct:346 #Tested:737 Testing Accuracy:46.9%\r",
      "Progress:73.7% Speed(reviews/sec):511.9 #Correct:346 #Tested:738 Testing Accuracy:46.8%\r",
      "Progress:73.8% Speed(reviews/sec):511.5 #Correct:346 #Tested:739 Testing Accuracy:46.8%\r",
      "Progress:73.9% Speed(reviews/sec):511.9 #Correct:347 #Tested:740 Testing Accuracy:46.8%\r",
      "Progress:74.0% Speed(reviews/sec):511.8 #Correct:347 #Tested:741 Testing Accuracy:46.8%\r",
      "Progress:74.1% Speed(reviews/sec):511.8 #Correct:347 #Tested:742 Testing Accuracy:46.7%\r",
      "Progress:74.2% Speed(reviews/sec):511.8 #Correct:348 #Tested:743 Testing Accuracy:46.8%\r",
      "Progress:74.3% Speed(reviews/sec):511.8 #Correct:348 #Tested:744 Testing Accuracy:46.7%\r",
      "Progress:74.4% Speed(reviews/sec):511.8 #Correct:348 #Tested:745 Testing Accuracy:46.7%\r",
      "Progress:74.5% Speed(reviews/sec):511.8 #Correct:348 #Tested:746 Testing Accuracy:46.6%\r",
      "Progress:74.6% Speed(reviews/sec):511.4 #Correct:349 #Tested:747 Testing Accuracy:46.7%\r",
      "Progress:74.7% Speed(reviews/sec):511.0 #Correct:349 #Tested:748 Testing Accuracy:46.6%\r",
      "Progress:74.8% Speed(reviews/sec):510.7 #Correct:350 #Tested:749 Testing Accuracy:46.7%\r",
      "Progress:74.9% Speed(reviews/sec):510.6 #Correct:350 #Tested:750 Testing Accuracy:46.6%\r",
      "Progress:75.0% Speed(reviews/sec):510.6 #Correct:350 #Tested:751 Testing Accuracy:46.6%\r",
      "Progress:75.1% Speed(reviews/sec):510.6 #Correct:350 #Tested:752 Testing Accuracy:46.5%\r",
      "Progress:75.2% Speed(reviews/sec):510.6 #Correct:351 #Tested:753 Testing Accuracy:46.6%\r",
      "Progress:75.3% Speed(reviews/sec):510.6 #Correct:351 #Tested:754 Testing Accuracy:46.5%\r",
      "Progress:75.4% Speed(reviews/sec):510.2 #Correct:352 #Tested:755 Testing Accuracy:46.6%\r",
      "Progress:75.5% Speed(reviews/sec):510.2 #Correct:352 #Tested:756 Testing Accuracy:46.5%\r",
      "Progress:75.6% Speed(reviews/sec):510.2 #Correct:353 #Tested:757 Testing Accuracy:46.6%\r",
      "Progress:75.7% Speed(reviews/sec):510.2 #Correct:353 #Tested:758 Testing Accuracy:46.5%\r",
      "Progress:75.8% Speed(reviews/sec):510.2 #Correct:354 #Tested:759 Testing Accuracy:46.6%\r",
      "Progress:75.9% Speed(reviews/sec):510.2 #Correct:354 #Tested:760 Testing Accuracy:46.5%\r",
      "Progress:76.0% Speed(reviews/sec):510.0 #Correct:354 #Tested:761 Testing Accuracy:46.5%\r",
      "Progress:76.1% Speed(reviews/sec):510.1 #Correct:354 #Tested:762 Testing Accuracy:46.4%\r",
      "Progress:76.2% Speed(reviews/sec):510.1 #Correct:355 #Tested:763 Testing Accuracy:46.5%\r",
      "Progress:76.3% Speed(reviews/sec):510.3 #Correct:355 #Tested:764 Testing Accuracy:46.4%\r",
      "Progress:76.4% Speed(reviews/sec):510.3 #Correct:356 #Tested:765 Testing Accuracy:46.5%\r",
      "Progress:76.5% Speed(reviews/sec):510.1 #Correct:356 #Tested:766 Testing Accuracy:46.4%\r",
      "Progress:76.6% Speed(reviews/sec):510.1 #Correct:357 #Tested:767 Testing Accuracy:46.5%\r",
      "Progress:76.7% Speed(reviews/sec):510.0 #Correct:357 #Tested:768 Testing Accuracy:46.4%\r",
      "Progress:76.8% Speed(reviews/sec):510.2 #Correct:358 #Tested:769 Testing Accuracy:46.5%\r",
      "Progress:76.9% Speed(reviews/sec):510.4 #Correct:359 #Tested:770 Testing Accuracy:46.6%\r",
      "Progress:77.0% Speed(reviews/sec):510.3 #Correct:360 #Tested:771 Testing Accuracy:46.6%\r",
      "Progress:77.1% Speed(reviews/sec):510.3 #Correct:360 #Tested:772 Testing Accuracy:46.6%\r",
      "Progress:77.2% Speed(reviews/sec):510.7 #Correct:360 #Tested:773 Testing Accuracy:46.5%\r",
      "Progress:77.3% Speed(reviews/sec):510.3 #Correct:360 #Tested:774 Testing Accuracy:46.5%\r",
      "Progress:77.4% Speed(reviews/sec):510.3 #Correct:360 #Tested:775 Testing Accuracy:46.4%\r",
      "Progress:77.5% Speed(reviews/sec):510.3 #Correct:360 #Tested:776 Testing Accuracy:46.3%\r",
      "Progress:77.6% Speed(reviews/sec):510.3 #Correct:361 #Tested:777 Testing Accuracy:46.4%\r",
      "Progress:77.7% Speed(reviews/sec):510.6 #Correct:361 #Tested:778 Testing Accuracy:46.4%\r",
      "Progress:77.8% Speed(reviews/sec):510.2 #Correct:362 #Tested:779 Testing Accuracy:46.4%\r",
      "Progress:77.9% Speed(reviews/sec):510.2 #Correct:362 #Tested:780 Testing Accuracy:46.4%\r",
      "Progress:78.0% Speed(reviews/sec):510.2 #Correct:363 #Tested:781 Testing Accuracy:46.4%\r",
      "Progress:78.1% Speed(reviews/sec):510.2 #Correct:364 #Tested:782 Testing Accuracy:46.5%\r",
      "Progress:78.2% Speed(reviews/sec):510.2 #Correct:365 #Tested:783 Testing Accuracy:46.6%\r",
      "Progress:78.3% Speed(reviews/sec):510.2 #Correct:366 #Tested:784 Testing Accuracy:46.6%\r",
      "Progress:78.4% Speed(reviews/sec):510.2 #Correct:366 #Tested:785 Testing Accuracy:46.6%\r",
      "Progress:78.5% Speed(reviews/sec):510.1 #Correct:367 #Tested:786 Testing Accuracy:46.6%\r",
      "Progress:78.6% Speed(reviews/sec):510.1 #Correct:368 #Tested:787 Testing Accuracy:46.7%\r",
      "Progress:78.7% Speed(reviews/sec):510.1 #Correct:368 #Tested:788 Testing Accuracy:46.7%\r",
      "Progress:78.8% Speed(reviews/sec):510.4 #Correct:368 #Tested:789 Testing Accuracy:46.6%\r",
      "Progress:78.9% Speed(reviews/sec):510.4 #Correct:368 #Tested:790 Testing Accuracy:46.5%\r",
      "Progress:79.0% Speed(reviews/sec):510.1 #Correct:369 #Tested:791 Testing Accuracy:46.6%\r",
      "Progress:79.1% Speed(reviews/sec):509.7 #Correct:370 #Tested:792 Testing Accuracy:46.7%\r",
      "Progress:79.2% Speed(reviews/sec):509.7 #Correct:371 #Tested:793 Testing Accuracy:46.7%\r",
      "Progress:79.3% Speed(reviews/sec):509.7 #Correct:371 #Tested:794 Testing Accuracy:46.7%\r",
      "Progress:79.4% Speed(reviews/sec):510.0 #Correct:372 #Tested:795 Testing Accuracy:46.7%\r",
      "Progress:79.5% Speed(reviews/sec):510.0 #Correct:372 #Tested:796 Testing Accuracy:46.7%\r",
      "Progress:79.6% Speed(reviews/sec):510.3 #Correct:372 #Tested:797 Testing Accuracy:46.6%\r",
      "Progress:79.7% Speed(reviews/sec):510.3 #Correct:372 #Tested:798 Testing Accuracy:46.6%\r",
      "Progress:79.8% Speed(reviews/sec):510.3 #Correct:373 #Tested:799 Testing Accuracy:46.6%\r",
      "Progress:79.9% Speed(reviews/sec):510.6 #Correct:374 #Tested:800 Testing Accuracy:46.7%\r",
      "Progress:80.0% Speed(reviews/sec):510.6 #Correct:375 #Tested:801 Testing Accuracy:46.8%\r",
      "Progress:80.1% Speed(reviews/sec):510.9 #Correct:375 #Tested:802 Testing Accuracy:46.7%\r",
      "Progress:80.2% Speed(reviews/sec):510.9 #Correct:376 #Tested:803 Testing Accuracy:46.8%\r",
      "Progress:80.3% Speed(reviews/sec):510.9 #Correct:376 #Tested:804 Testing Accuracy:46.7%\r",
      "Progress:80.4% Speed(reviews/sec):511.2 #Correct:377 #Tested:805 Testing Accuracy:46.8%\r",
      "Progress:80.5% Speed(reviews/sec):511.2 #Correct:378 #Tested:806 Testing Accuracy:46.8%\r",
      "Progress:80.6% Speed(reviews/sec):511.2 #Correct:379 #Tested:807 Testing Accuracy:46.9%\r",
      "Progress:80.7% Speed(reviews/sec):511.1 #Correct:379 #Tested:808 Testing Accuracy:46.9%\r",
      "Progress:80.8% Speed(reviews/sec):511.1 #Correct:380 #Tested:809 Testing Accuracy:46.9%\r",
      "Progress:80.9% Speed(reviews/sec):511.1 #Correct:380 #Tested:810 Testing Accuracy:46.9%\r",
      "Progress:81.0% Speed(reviews/sec):511.1 #Correct:381 #Tested:811 Testing Accuracy:46.9%\r",
      "Progress:81.1% Speed(reviews/sec):511.1 #Correct:381 #Tested:812 Testing Accuracy:46.9%\r",
      "Progress:81.2% Speed(reviews/sec):511.1 #Correct:381 #Tested:813 Testing Accuracy:46.8%\r",
      "Progress:81.3% Speed(reviews/sec):511.2 #Correct:381 #Tested:814 Testing Accuracy:46.8%\r",
      "Progress:81.4% Speed(reviews/sec):511.0 #Correct:382 #Tested:815 Testing Accuracy:46.8%\r",
      "Progress:81.5% Speed(reviews/sec):511.2 #Correct:383 #Tested:816 Testing Accuracy:46.9%\r",
      "Progress:81.6% Speed(reviews/sec):511.3 #Correct:384 #Tested:817 Testing Accuracy:47.0%\r",
      "Progress:81.7% Speed(reviews/sec):511.3 #Correct:384 #Tested:818 Testing Accuracy:46.9%\r",
      "Progress:81.8% Speed(reviews/sec):511.3 #Correct:385 #Tested:819 Testing Accuracy:47.0%\r",
      "Progress:81.9% Speed(reviews/sec):511.4 #Correct:385 #Tested:820 Testing Accuracy:46.9%\r",
      "Progress:82.0% Speed(reviews/sec):511.1 #Correct:385 #Tested:821 Testing Accuracy:46.8%\r",
      "Progress:82.1% Speed(reviews/sec):511.3 #Correct:385 #Tested:822 Testing Accuracy:46.8%\r",
      "Progress:82.2% Speed(reviews/sec):511.2 #Correct:386 #Tested:823 Testing Accuracy:46.9%\r",
      "Progress:82.3% Speed(reviews/sec):511.5 #Correct:386 #Tested:824 Testing Accuracy:46.8%\r",
      "Progress:82.4% Speed(reviews/sec):511.5 #Correct:387 #Tested:825 Testing Accuracy:46.9%\r",
      "Progress:82.5% Speed(reviews/sec):511.5 #Correct:387 #Tested:826 Testing Accuracy:46.8%\r",
      "Progress:82.6% Speed(reviews/sec):511.2 #Correct:388 #Tested:827 Testing Accuracy:46.9%\r",
      "Progress:82.7% Speed(reviews/sec):511.2 #Correct:388 #Tested:828 Testing Accuracy:46.8%\r",
      "Progress:82.8% Speed(reviews/sec):511.2 #Correct:389 #Tested:829 Testing Accuracy:46.9%\r",
      "Progress:82.9% Speed(reviews/sec):511.5 #Correct:389 #Tested:830 Testing Accuracy:46.8%\r",
      "Progress:83.0% Speed(reviews/sec):511.4 #Correct:390 #Tested:831 Testing Accuracy:46.9%\r",
      "Progress:83.1% Speed(reviews/sec):511.7 #Correct:390 #Tested:832 Testing Accuracy:46.8%\r",
      "Progress:83.2% Speed(reviews/sec):511.7 #Correct:391 #Tested:833 Testing Accuracy:46.9%\r",
      "Progress:83.3% Speed(reviews/sec):511.7 #Correct:392 #Tested:834 Testing Accuracy:47.0%\r",
      "Progress:83.4% Speed(reviews/sec):511.7 #Correct:393 #Tested:835 Testing Accuracy:47.0%\r",
      "Progress:83.5% Speed(reviews/sec):512.0 #Correct:393 #Tested:836 Testing Accuracy:47.0%\r",
      "Progress:83.6% Speed(reviews/sec):511.7 #Correct:394 #Tested:837 Testing Accuracy:47.0%"
     ]
    },
    {
     "name": "stdout",
     "output_type": "stream",
     "text": [
      "\r",
      "Progress:83.7% Speed(reviews/sec):511.3 #Correct:394 #Tested:838 Testing Accuracy:47.0%\r",
      "Progress:83.8% Speed(reviews/sec):511.3 #Correct:395 #Tested:839 Testing Accuracy:47.0%\r",
      "Progress:83.9% Speed(reviews/sec):511.3 #Correct:395 #Tested:840 Testing Accuracy:47.0%\r",
      "Progress:84.0% Speed(reviews/sec):511.3 #Correct:396 #Tested:841 Testing Accuracy:47.0%\r",
      "Progress:84.1% Speed(reviews/sec):511.3 #Correct:397 #Tested:842 Testing Accuracy:47.1%\r",
      "Progress:84.2% Speed(reviews/sec):511.0 #Correct:398 #Tested:843 Testing Accuracy:47.2%\r",
      "Progress:84.3% Speed(reviews/sec):511.3 #Correct:398 #Tested:844 Testing Accuracy:47.1%\r",
      "Progress:84.4% Speed(reviews/sec):511.2 #Correct:399 #Tested:845 Testing Accuracy:47.2%\r",
      "Progress:84.5% Speed(reviews/sec):511.2 #Correct:399 #Tested:846 Testing Accuracy:47.1%\r",
      "Progress:84.6% Speed(reviews/sec):511.2 #Correct:399 #Tested:847 Testing Accuracy:47.1%\r",
      "Progress:84.7% Speed(reviews/sec):511.2 #Correct:399 #Tested:848 Testing Accuracy:47.0%\r",
      "Progress:84.8% Speed(reviews/sec):511.2 #Correct:399 #Tested:849 Testing Accuracy:46.9%\r",
      "Progress:84.9% Speed(reviews/sec):510.9 #Correct:399 #Tested:850 Testing Accuracy:46.9%\r",
      "Progress:85.0% Speed(reviews/sec):510.6 #Correct:400 #Tested:851 Testing Accuracy:47.0%\r",
      "Progress:85.1% Speed(reviews/sec):510.5 #Correct:400 #Tested:852 Testing Accuracy:46.9%\r",
      "Progress:85.2% Speed(reviews/sec):510.5 #Correct:401 #Tested:853 Testing Accuracy:47.0%\r",
      "Progress:85.3% Speed(reviews/sec):510.2 #Correct:401 #Tested:854 Testing Accuracy:46.9%\r",
      "Progress:85.4% Speed(reviews/sec):510.2 #Correct:402 #Tested:855 Testing Accuracy:47.0%\r",
      "Progress:85.5% Speed(reviews/sec):510.2 #Correct:402 #Tested:856 Testing Accuracy:46.9%\r",
      "Progress:85.6% Speed(reviews/sec):510.2 #Correct:403 #Tested:857 Testing Accuracy:47.0%\r",
      "Progress:85.7% Speed(reviews/sec):509.9 #Correct:403 #Tested:858 Testing Accuracy:46.9%\r",
      "Progress:85.8% Speed(reviews/sec):509.5 #Correct:404 #Tested:859 Testing Accuracy:47.0%\r",
      "Progress:85.9% Speed(reviews/sec):509.5 #Correct:404 #Tested:860 Testing Accuracy:46.9%\r",
      "Progress:86.0% Speed(reviews/sec):509.2 #Correct:405 #Tested:861 Testing Accuracy:47.0%\r",
      "Progress:86.1% Speed(reviews/sec):509.1 #Correct:405 #Tested:862 Testing Accuracy:46.9%\r",
      "Progress:86.2% Speed(reviews/sec):508.9 #Correct:406 #Tested:863 Testing Accuracy:47.0%\r",
      "Progress:86.3% Speed(reviews/sec):507.8 #Correct:406 #Tested:864 Testing Accuracy:46.9%\r",
      "Progress:86.4% Speed(reviews/sec):507.7 #Correct:407 #Tested:865 Testing Accuracy:47.0%\r",
      "Progress:86.5% Speed(reviews/sec):507.5 #Correct:407 #Tested:866 Testing Accuracy:46.9%\r",
      "Progress:86.6% Speed(reviews/sec):507.6 #Correct:408 #Tested:867 Testing Accuracy:47.0%\r",
      "Progress:86.7% Speed(reviews/sec):507.9 #Correct:408 #Tested:868 Testing Accuracy:47.0%\r",
      "Progress:86.8% Speed(reviews/sec):507.9 #Correct:409 #Tested:869 Testing Accuracy:47.0%\r",
      "Progress:86.9% Speed(reviews/sec):508.2 #Correct:409 #Tested:870 Testing Accuracy:47.0%\r",
      "Progress:87.0% Speed(reviews/sec):508.2 #Correct:410 #Tested:871 Testing Accuracy:47.0%\r",
      "Progress:87.1% Speed(reviews/sec):508.2 #Correct:410 #Tested:872 Testing Accuracy:47.0%\r",
      "Progress:87.2% Speed(reviews/sec):507.9 #Correct:411 #Tested:873 Testing Accuracy:47.0%\r",
      "Progress:87.3% Speed(reviews/sec):508.2 #Correct:411 #Tested:874 Testing Accuracy:47.0%\r",
      "Progress:87.4% Speed(reviews/sec):508.2 #Correct:412 #Tested:875 Testing Accuracy:47.0%\r",
      "Progress:87.5% Speed(reviews/sec):508.5 #Correct:412 #Tested:876 Testing Accuracy:47.0%\r",
      "Progress:87.6% Speed(reviews/sec):508.4 #Correct:413 #Tested:877 Testing Accuracy:47.0%\r",
      "Progress:87.7% Speed(reviews/sec):508.1 #Correct:413 #Tested:878 Testing Accuracy:47.0%\r",
      "Progress:87.8% Speed(reviews/sec):508.4 #Correct:414 #Tested:879 Testing Accuracy:47.0%\r",
      "Progress:87.9% Speed(reviews/sec):508.4 #Correct:414 #Tested:880 Testing Accuracy:47.0%\r",
      "Progress:88.0% Speed(reviews/sec):508.4 #Correct:415 #Tested:881 Testing Accuracy:47.1%\r",
      "Progress:88.1% Speed(reviews/sec):508.4 #Correct:415 #Tested:882 Testing Accuracy:47.0%\r",
      "Progress:88.2% Speed(reviews/sec):508.7 #Correct:416 #Tested:883 Testing Accuracy:47.1%\r",
      "Progress:88.3% Speed(reviews/sec):508.7 #Correct:416 #Tested:884 Testing Accuracy:47.0%\r",
      "Progress:88.4% Speed(reviews/sec):508.9 #Correct:417 #Tested:885 Testing Accuracy:47.1%\r",
      "Progress:88.5% Speed(reviews/sec):508.9 #Correct:417 #Tested:886 Testing Accuracy:47.0%\r",
      "Progress:88.6% Speed(reviews/sec):508.9 #Correct:418 #Tested:887 Testing Accuracy:47.1%\r",
      "Progress:88.7% Speed(reviews/sec):508.9 #Correct:418 #Tested:888 Testing Accuracy:47.0%\r",
      "Progress:88.8% Speed(reviews/sec):508.9 #Correct:419 #Tested:889 Testing Accuracy:47.1%\r",
      "Progress:88.9% Speed(reviews/sec):508.9 #Correct:419 #Tested:890 Testing Accuracy:47.0%\r",
      "Progress:89.0% Speed(reviews/sec):508.9 #Correct:420 #Tested:891 Testing Accuracy:47.1%\r",
      "Progress:89.1% Speed(reviews/sec):508.9 #Correct:420 #Tested:892 Testing Accuracy:47.0%\r",
      "Progress:89.2% Speed(reviews/sec):508.9 #Correct:421 #Tested:893 Testing Accuracy:47.1%\r",
      "Progress:89.3% Speed(reviews/sec):508.9 #Correct:421 #Tested:894 Testing Accuracy:47.0%\r",
      "Progress:89.4% Speed(reviews/sec):509.1 #Correct:422 #Tested:895 Testing Accuracy:47.1%\r",
      "Progress:89.5% Speed(reviews/sec):509.1 #Correct:422 #Tested:896 Testing Accuracy:47.0%\r",
      "Progress:89.6% Speed(reviews/sec):509.1 #Correct:423 #Tested:897 Testing Accuracy:47.1%\r",
      "Progress:89.7% Speed(reviews/sec):509.1 #Correct:423 #Tested:898 Testing Accuracy:47.1%\r",
      "Progress:89.8% Speed(reviews/sec):508.5 #Correct:424 #Tested:899 Testing Accuracy:47.1%\r",
      "Progress:89.9% Speed(reviews/sec):508.5 #Correct:424 #Tested:900 Testing Accuracy:47.1%\r",
      "Progress:90.0% Speed(reviews/sec):508.5 #Correct:425 #Tested:901 Testing Accuracy:47.1%\r",
      "Progress:90.1% Speed(reviews/sec):508.2 #Correct:425 #Tested:902 Testing Accuracy:47.1%\r",
      "Progress:90.2% Speed(reviews/sec):507.9 #Correct:426 #Tested:903 Testing Accuracy:47.1%\r",
      "Progress:90.3% Speed(reviews/sec):507.9 #Correct:426 #Tested:904 Testing Accuracy:47.1%\r",
      "Progress:90.4% Speed(reviews/sec):507.9 #Correct:427 #Tested:905 Testing Accuracy:47.1%\r",
      "Progress:90.5% Speed(reviews/sec):507.9 #Correct:427 #Tested:906 Testing Accuracy:47.1%\r",
      "Progress:90.6% Speed(reviews/sec):507.9 #Correct:427 #Tested:907 Testing Accuracy:47.0%\r",
      "Progress:90.7% Speed(reviews/sec):507.9 #Correct:427 #Tested:908 Testing Accuracy:47.0%\r",
      "Progress:90.8% Speed(reviews/sec):507.8 #Correct:427 #Tested:909 Testing Accuracy:46.9%\r",
      "Progress:90.9% Speed(reviews/sec):507.8 #Correct:427 #Tested:910 Testing Accuracy:46.9%\r",
      "Progress:91.0% Speed(reviews/sec):507.8 #Correct:428 #Tested:911 Testing Accuracy:46.9%\r",
      "Progress:91.1% Speed(reviews/sec):507.7 #Correct:428 #Tested:912 Testing Accuracy:46.9%\r",
      "Progress:91.2% Speed(reviews/sec):507.7 #Correct:429 #Tested:913 Testing Accuracy:46.9%\r",
      "Progress:91.3% Speed(reviews/sec):507.5 #Correct:429 #Tested:914 Testing Accuracy:46.9%\r",
      "Progress:91.4% Speed(reviews/sec):507.5 #Correct:430 #Tested:915 Testing Accuracy:46.9%\r",
      "Progress:91.5% Speed(reviews/sec):507.4 #Correct:430 #Tested:916 Testing Accuracy:46.9%\r",
      "Progress:91.6% Speed(reviews/sec):507.4 #Correct:430 #Tested:917 Testing Accuracy:46.8%\r",
      "Progress:91.7% Speed(reviews/sec):507.5 #Correct:430 #Tested:918 Testing Accuracy:46.8%\r",
      "Progress:91.8% Speed(reviews/sec):507.8 #Correct:431 #Tested:919 Testing Accuracy:46.8%\r",
      "Progress:91.9% Speed(reviews/sec):507.7 #Correct:431 #Tested:920 Testing Accuracy:46.8%\r",
      "Progress:92.0% Speed(reviews/sec):507.7 #Correct:432 #Tested:921 Testing Accuracy:46.9%\r",
      "Progress:92.1% Speed(reviews/sec):508.0 #Correct:432 #Tested:922 Testing Accuracy:46.8%\r",
      "Progress:92.2% Speed(reviews/sec):508.0 #Correct:433 #Tested:923 Testing Accuracy:46.9%\r",
      "Progress:92.3% Speed(reviews/sec):508.0 #Correct:433 #Tested:924 Testing Accuracy:46.8%\r",
      "Progress:92.4% Speed(reviews/sec):508.3 #Correct:433 #Tested:925 Testing Accuracy:46.8%\r",
      "Progress:92.5% Speed(reviews/sec):508.3 #Correct:433 #Tested:926 Testing Accuracy:46.7%\r",
      "Progress:92.6% Speed(reviews/sec):508.2 #Correct:434 #Tested:927 Testing Accuracy:46.8%\r",
      "Progress:92.7% Speed(reviews/sec):508.5 #Correct:435 #Tested:928 Testing Accuracy:46.8%\r",
      "Progress:92.8% Speed(reviews/sec):508.5 #Correct:435 #Tested:929 Testing Accuracy:46.8%\r",
      "Progress:92.9% Speed(reviews/sec):508.5 #Correct:435 #Tested:930 Testing Accuracy:46.7%\r",
      "Progress:93.0% Speed(reviews/sec):508.8 #Correct:436 #Tested:931 Testing Accuracy:46.8%\r",
      "Progress:93.1% Speed(reviews/sec):508.8 #Correct:436 #Tested:932 Testing Accuracy:46.7%\r",
      "Progress:93.2% Speed(reviews/sec):508.7 #Correct:437 #Tested:933 Testing Accuracy:46.8%\r",
      "Progress:93.3% Speed(reviews/sec):508.7 #Correct:437 #Tested:934 Testing Accuracy:46.7%\r",
      "Progress:93.4% Speed(reviews/sec):508.7 #Correct:437 #Tested:935 Testing Accuracy:46.7%\r",
      "Progress:93.5% Speed(reviews/sec):509.0 #Correct:437 #Tested:936 Testing Accuracy:46.6%"
     ]
    },
    {
     "name": "stdout",
     "output_type": "stream",
     "text": [
      "\r",
      "Progress:93.6% Speed(reviews/sec):509.0 #Correct:438 #Tested:937 Testing Accuracy:46.7%\r",
      "Progress:93.7% Speed(reviews/sec):508.7 #Correct:438 #Tested:938 Testing Accuracy:46.6%\r",
      "Progress:93.8% Speed(reviews/sec):509.0 #Correct:439 #Tested:939 Testing Accuracy:46.7%\r",
      "Progress:93.9% Speed(reviews/sec):508.9 #Correct:439 #Tested:940 Testing Accuracy:46.7%\r",
      "Progress:94.0% Speed(reviews/sec):508.9 #Correct:440 #Tested:941 Testing Accuracy:46.7%\r",
      "Progress:94.1% Speed(reviews/sec):508.9 #Correct:440 #Tested:942 Testing Accuracy:46.7%\r",
      "Progress:94.2% Speed(reviews/sec):508.9 #Correct:441 #Tested:943 Testing Accuracy:46.7%\r",
      "Progress:94.3% Speed(reviews/sec):508.9 #Correct:442 #Tested:944 Testing Accuracy:46.8%\r",
      "Progress:94.4% Speed(reviews/sec):508.6 #Correct:443 #Tested:945 Testing Accuracy:46.8%\r",
      "Progress:94.5% Speed(reviews/sec):508.6 #Correct:444 #Tested:946 Testing Accuracy:46.9%\r",
      "Progress:94.6% Speed(reviews/sec):508.6 #Correct:445 #Tested:947 Testing Accuracy:46.9%\r",
      "Progress:94.7% Speed(reviews/sec):508.6 #Correct:445 #Tested:948 Testing Accuracy:46.9%\r",
      "Progress:94.8% Speed(reviews/sec):508.6 #Correct:446 #Tested:949 Testing Accuracy:46.9%\r",
      "Progress:94.9% Speed(reviews/sec):508.6 #Correct:447 #Tested:950 Testing Accuracy:47.0%\r",
      "Progress:95.0% Speed(reviews/sec):508.6 #Correct:448 #Tested:951 Testing Accuracy:47.1%\r",
      "Progress:95.1% Speed(reviews/sec):508.6 #Correct:448 #Tested:952 Testing Accuracy:47.0%\r",
      "Progress:95.2% Speed(reviews/sec):508.3 #Correct:449 #Tested:953 Testing Accuracy:47.1%\r",
      "Progress:95.3% Speed(reviews/sec):508.3 #Correct:449 #Tested:954 Testing Accuracy:47.0%\r",
      "Progress:95.4% Speed(reviews/sec):508.0 #Correct:450 #Tested:955 Testing Accuracy:47.1%\r",
      "Progress:95.5% Speed(reviews/sec):508.0 #Correct:451 #Tested:956 Testing Accuracy:47.1%\r",
      "Progress:95.6% Speed(reviews/sec):508.0 #Correct:451 #Tested:957 Testing Accuracy:47.1%\r",
      "Progress:95.7% Speed(reviews/sec):508.0 #Correct:451 #Tested:958 Testing Accuracy:47.0%\r",
      "Progress:95.8% Speed(reviews/sec):508.0 #Correct:451 #Tested:959 Testing Accuracy:47.0%\r",
      "Progress:95.9% Speed(reviews/sec):507.9 #Correct:451 #Tested:960 Testing Accuracy:46.9%\r",
      "Progress:96.0% Speed(reviews/sec):507.7 #Correct:452 #Tested:961 Testing Accuracy:47.0%\r",
      "Progress:96.1% Speed(reviews/sec):507.8 #Correct:452 #Tested:962 Testing Accuracy:46.9%\r",
      "Progress:96.2% Speed(reviews/sec):507.8 #Correct:453 #Tested:963 Testing Accuracy:47.0%\r",
      "Progress:96.3% Speed(reviews/sec):507.9 #Correct:453 #Tested:964 Testing Accuracy:46.9%\r",
      "Progress:96.4% Speed(reviews/sec):507.9 #Correct:453 #Tested:965 Testing Accuracy:46.9%\r",
      "Progress:96.5% Speed(reviews/sec):507.8 #Correct:453 #Tested:966 Testing Accuracy:46.8%\r",
      "Progress:96.6% Speed(reviews/sec):507.9 #Correct:454 #Tested:967 Testing Accuracy:46.9%\r",
      "Progress:96.7% Speed(reviews/sec):507.9 #Correct:455 #Tested:968 Testing Accuracy:47.0%\r",
      "Progress:96.8% Speed(reviews/sec):507.9 #Correct:456 #Tested:969 Testing Accuracy:47.0%\r",
      "Progress:96.9% Speed(reviews/sec):508.1 #Correct:456 #Tested:970 Testing Accuracy:47.0%\r",
      "Progress:97.0% Speed(reviews/sec):507.8 #Correct:457 #Tested:971 Testing Accuracy:47.0%\r",
      "Progress:97.1% Speed(reviews/sec):508.1 #Correct:457 #Tested:972 Testing Accuracy:47.0%\r",
      "Progress:97.2% Speed(reviews/sec):508.1 #Correct:458 #Tested:973 Testing Accuracy:47.0%\r",
      "Progress:97.3% Speed(reviews/sec):507.8 #Correct:458 #Tested:974 Testing Accuracy:47.0%\r",
      "Progress:97.4% Speed(reviews/sec):507.8 #Correct:459 #Tested:975 Testing Accuracy:47.0%\r",
      "Progress:97.5% Speed(reviews/sec):507.8 #Correct:460 #Tested:976 Testing Accuracy:47.1%\r",
      "Progress:97.6% Speed(reviews/sec):507.8 #Correct:461 #Tested:977 Testing Accuracy:47.1%\r",
      "Progress:97.7% Speed(reviews/sec):507.8 #Correct:461 #Tested:978 Testing Accuracy:47.1%\r",
      "Progress:97.8% Speed(reviews/sec):507.8 #Correct:462 #Tested:979 Testing Accuracy:47.1%\r",
      "Progress:97.9% Speed(reviews/sec):507.8 #Correct:462 #Tested:980 Testing Accuracy:47.1%\r",
      "Progress:98.0% Speed(reviews/sec):508.0 #Correct:463 #Tested:981 Testing Accuracy:47.1%\r",
      "Progress:98.1% Speed(reviews/sec):507.8 #Correct:463 #Tested:982 Testing Accuracy:47.1%\r",
      "Progress:98.2% Speed(reviews/sec):507.7 #Correct:464 #Tested:983 Testing Accuracy:47.2%\r",
      "Progress:98.3% Speed(reviews/sec):507.7 #Correct:464 #Tested:984 Testing Accuracy:47.1%\r",
      "Progress:98.4% Speed(reviews/sec):507.7 #Correct:465 #Tested:985 Testing Accuracy:47.2%\r",
      "Progress:98.5% Speed(reviews/sec):508.0 #Correct:465 #Tested:986 Testing Accuracy:47.1%\r",
      "Progress:98.6% Speed(reviews/sec):508.0 #Correct:466 #Tested:987 Testing Accuracy:47.2%\r",
      "Progress:98.7% Speed(reviews/sec):508.0 #Correct:466 #Tested:988 Testing Accuracy:47.1%\r",
      "Progress:98.8% Speed(reviews/sec):508.2 #Correct:467 #Tested:989 Testing Accuracy:47.2%\r",
      "Progress:98.9% Speed(reviews/sec):508.2 #Correct:467 #Tested:990 Testing Accuracy:47.1%\r",
      "Progress:99.0% Speed(reviews/sec):508.2 #Correct:468 #Tested:991 Testing Accuracy:47.2%\r",
      "Progress:99.1% Speed(reviews/sec):508.2 #Correct:468 #Tested:992 Testing Accuracy:47.1%\r",
      "Progress:99.2% Speed(reviews/sec):508.4 #Correct:469 #Tested:993 Testing Accuracy:47.2%\r",
      "Progress:99.3% Speed(reviews/sec):508.4 #Correct:469 #Tested:994 Testing Accuracy:47.1%\r",
      "Progress:99.4% Speed(reviews/sec):508.4 #Correct:470 #Tested:995 Testing Accuracy:47.2%\r",
      "Progress:99.5% Speed(reviews/sec):508.4 #Correct:470 #Tested:996 Testing Accuracy:47.1%\r",
      "Progress:99.6% Speed(reviews/sec):508.7 #Correct:471 #Tested:997 Testing Accuracy:47.2%\r",
      "Progress:99.7% Speed(reviews/sec):508.7 #Correct:471 #Tested:998 Testing Accuracy:47.1%\r",
      "Progress:99.8% Speed(reviews/sec):508.9 #Correct:472 #Tested:999 Testing Accuracy:47.2%\r",
      "Progress:99.9% Speed(reviews/sec):508.9 #Correct:472 #Tested:1000 Testing Accuracy:47.2%"
     ]
    }
   ],
   "source": [
    "mlp.test(reviews[-1000:], labels[-1000:])"
   ]
  },
  {
   "cell_type": "markdown",
   "metadata": {},
   "source": [
    "Run the following cell to actually train the network. During training, it will display the model's accuracy repeatedly as it trains so you can see how well it's doing."
   ]
  },
  {
   "cell_type": "code",
   "execution_count": 36,
   "metadata": {},
   "outputs": [
    {
     "name": "stdout",
     "output_type": "stream",
     "text": [
      "Progress:0.0% Speed(reviews/sec):0.0 #Correct:0 #Trained:1 Training Accuracy:0.0%\n",
      "Progress:10.4% Speed(reviews/sec):66.49 #Correct:1098 #Trained:2501 Training Accuracy:43.9%\n",
      "Progress:20.8% Speed(reviews/sec):66.92 #Correct:2314 #Trained:5001 Training Accuracy:46.2%\n",
      "Progress:31.2% Speed(reviews/sec):67.24 #Correct:3568 #Trained:7501 Training Accuracy:47.5%\n",
      "Progress:34.3% Speed(reviews/sec):67.29 #Correct:3948 #Trained:8243 Training Accuracy:47.8%"
     ]
    },
    {
     "name": "stderr",
     "output_type": "stream",
     "text": [
      "C:\\Anaconda3\\lib\\site-packages\\ipykernel_launcher.py:163: RuntimeWarning: overflow encountered in exp\n"
     ]
    },
    {
     "name": "stdout",
     "output_type": "stream",
     "text": [
      "Progress:41.6% Speed(reviews/sec):67.29 #Correct:4827 #Trained:10001 Training Accuracy:48.2%\n",
      "Progress:52.0% Speed(reviews/sec):67.30 #Correct:6077 #Trained:12501 Training Accuracy:48.6%\n",
      "Progress:62.5% Speed(reviews/sec):67.40 #Correct:7327 #Trained:15001 Training Accuracy:48.8%\n",
      "Progress:72.9% Speed(reviews/sec):67.40 #Correct:8577 #Trained:17501 Training Accuracy:49.0%\n",
      "Progress:83.3% Speed(reviews/sec):67.35 #Correct:9827 #Trained:20001 Training Accuracy:49.1%\n",
      "Progress:93.7% Speed(reviews/sec):67.33 #Correct:11077 #Trained:22501 Training Accuracy:49.2%\n",
      "Progress:99.9% Speed(reviews/sec):67.34 #Correct:11827 #Trained:24000 Training Accuracy:49.2%"
     ]
    }
   ],
   "source": [
    "mlp.train(reviews[:-1000], labels[:-1000])"
   ]
  },
  {
   "cell_type": "markdown",
   "metadata": {},
   "source": [
    "That most likely didn't train very well. Part of the reason may be because the learning rate is too high. Run the following cell to recreate the network with a smaller learning rate, `0.01`, and then train the new network."
   ]
  },
  {
   "cell_type": "code",
   "execution_count": 37,
   "metadata": {},
   "outputs": [
    {
     "name": "stdout",
     "output_type": "stream",
     "text": [
      "Progress:0.0% Speed(reviews/sec):0.0 #Correct:1 #Trained:1 Training Accuracy:100.%\n",
      "Progress:10.4% Speed(reviews/sec):67.74 #Correct:1412 #Trained:2501 Training Accuracy:56.4%\n",
      "Progress:20.8% Speed(reviews/sec):67.51 #Correct:2987 #Trained:5001 Training Accuracy:59.7%\n",
      "Progress:31.2% Speed(reviews/sec):67.48 #Correct:4642 #Trained:7501 Training Accuracy:61.8%\n",
      "Progress:41.6% Speed(reviews/sec):67.50 #Correct:6354 #Trained:10001 Training Accuracy:63.5%\n",
      "Progress:52.0% Speed(reviews/sec):67.54 #Correct:8099 #Trained:12501 Training Accuracy:64.7%\n",
      "Progress:62.5% Speed(reviews/sec):67.64 #Correct:9873 #Trained:15001 Training Accuracy:65.8%\n",
      "Progress:72.9% Speed(reviews/sec):67.69 #Correct:11639 #Trained:17501 Training Accuracy:66.5%\n",
      "Progress:83.3% Speed(reviews/sec):67.70 #Correct:13482 #Trained:20001 Training Accuracy:67.4%\n",
      "Progress:93.7% Speed(reviews/sec):67.70 #Correct:15319 #Trained:22501 Training Accuracy:68.0%\n",
      "Progress:99.9% Speed(reviews/sec):67.71 #Correct:16454 #Trained:24000 Training Accuracy:68.5%"
     ]
    }
   ],
   "source": [
    "mlp = SentimentNetwork(reviews[:-1000], labels[:-1000], learning_rate=0.01)\n",
    "# I have to add the following lines:\n",
    "vocab_len = mlp.pre_process_data(reviews[:-1000], labels[:-1000])\n",
    "mlp.init_network(input_nodes=vocab_len, hidden_nodes=10, output_nodes=1, learning_rate=0.01)\n",
    "\n",
    "mlp.train(reviews[:-1000], labels[:-1000])"
   ]
  },
  {
   "cell_type": "markdown",
   "metadata": {},
   "source": [
    "That probably wasn't much different. Run the following cell to recreate the network one more time with an even smaller learning rate, `0.001`, and then train the new network."
   ]
  },
  {
   "cell_type": "code",
   "execution_count": 38,
   "metadata": {},
   "outputs": [
    {
     "name": "stdout",
     "output_type": "stream",
     "text": [
      "Training\n",
      "Progress:0.0% Speed(reviews/sec):0.0 #Correct:1 #Trained:1 Training Accuracy:100.%\n",
      "Progress:10.4% Speed(reviews/sec):67.85 #Correct:1368 #Trained:2501 Training Accuracy:54.6%\n",
      "Progress:20.8% Speed(reviews/sec):66.51 #Correct:2932 #Trained:5001 Training Accuracy:58.6%\n",
      "Progress:31.2% Speed(reviews/sec):66.96 #Correct:4581 #Trained:7501 Training Accuracy:61.0%\n",
      "Progress:41.6% Speed(reviews/sec):67.15 #Correct:6302 #Trained:10001 Training Accuracy:63.0%\n",
      "Progress:52.0% Speed(reviews/sec):67.30 #Correct:8054 #Trained:12501 Training Accuracy:64.4%\n",
      "Progress:62.5% Speed(reviews/sec):67.37 #Correct:9823 #Trained:15001 Training Accuracy:65.4%\n",
      "Progress:72.9% Speed(reviews/sec):67.43 #Correct:11596 #Trained:17501 Training Accuracy:66.2%\n",
      "Progress:83.3% Speed(reviews/sec):67.43 #Correct:13440 #Trained:20001 Training Accuracy:67.1%\n",
      "Progress:93.7% Speed(reviews/sec):67.46 #Correct:15290 #Trained:22501 Training Accuracy:67.9%\n",
      "Progress:99.9% Speed(reviews/sec):67.47 #Correct:16432 #Trained:24000 Training Accuracy:68.4%\n",
      "\n",
      "Testing\n",
      "Progress:99.9% Speed(reviews/sec):533.4 #Correct:750 #Tested:1000 Testing Accuracy:75.0%"
     ]
    }
   ],
   "source": [
    "mlp = SentimentNetwork(reviews[:-1000], labels[:-1000], learning_rate=0.001)\n",
    "# I have to add the following lines:\n",
    "vocab_len = mlp.pre_process_data(reviews[:-1000], labels[:-1000])\n",
    "mlp.init_network(input_nodes=vocab_len, hidden_nodes=10, output_nodes=1, learning_rate=0.001)\n",
    "\n",
    "print(\"Training\")\n",
    "mlp.train(reviews[:-1000], labels[:-1000])\n",
    "\n",
    "print(\"\\n\\nTesting\")\n",
    "mlp.test(reviews[-1000:], labels[-1000:])"
   ]
  },
  {
   "cell_type": "markdown",
   "metadata": {},
   "source": [
    "With a learning rate of `0.001`, the network should finally have started to improve during training. It's still not very good, but it shows that this solution has potential. We will improve it in the next lesson."
   ]
  },
  {
   "cell_type": "markdown",
   "metadata": {},
   "source": [
    "# End of Project 3. \n",
    "## Watch the next video to see Andrew's solution, then continue on to the next lesson."
   ]
  },
  {
   "cell_type": "markdown",
   "metadata": {},
   "source": [
    "# Understanding Neural Noise<a id='lesson_4'></a>\n",
    "\n",
    "The following cells include the code Andrew shows in the next video. We've included it here so you can run the cells along with the video without having to type in everything."
   ]
  },
  {
   "cell_type": "code",
   "execution_count": 39,
   "metadata": {},
   "outputs": [
    {
     "data": {
      "image/png": "[encoded data removed]",
      "text/plain": [
       "<IPython.core.display.Image object>"
      ]
     },
     "execution_count": 39,
     "metadata": {},
     "output_type": "execute_result"
    }
   ],
   "source": [
    "from IPython.display import Image\n",
    "Image(filename='sentiment_network.png')"
   ]
  },
  {
   "cell_type": "code",
   "execution_count": 40,
   "metadata": {
    "collapsed": true
   },
   "outputs": [],
   "source": [
    "def update_input_layer(review):\n",
    "    \n",
    "    global layer_0\n",
    "    \n",
    "    # clear out previous state, reset the layer to be all 0s\n",
    "    layer_0 *= 0\n",
    "    for word in review.split(\" \"):\n",
    "        layer_0[0][word2index[word]] += 1\n",
    "\n",
    "update_input_layer(reviews[0])"
   ]
  },
  {
   "cell_type": "code",
   "execution_count": 41,
   "metadata": {},
   "outputs": [
    {
     "data": {
      "text/plain": [
       "array([[ 18.,   0.,   0., ...,   0.,   0.,   0.]])"
      ]
     },
     "execution_count": 41,
     "metadata": {},
     "output_type": "execute_result"
    }
   ],
   "source": [
    "layer_0"
   ]
  },
  {
   "cell_type": "code",
   "execution_count": 42,
   "metadata": {
    "collapsed": true
   },
   "outputs": [],
   "source": [
    "review_counter = Counter()"
   ]
  },
  {
   "cell_type": "code",
   "execution_count": 43,
   "metadata": {
    "collapsed": true
   },
   "outputs": [],
   "source": [
    "for word in reviews[0].split(\" \"):\n",
    "    review_counter[word] += 1"
   ]
  },
  {
   "cell_type": "code",
   "execution_count": 44,
   "metadata": {},
   "outputs": [
    {
     "data": {
      "text/plain": [
       "[('.', 27),\n",
       " ('', 18),\n",
       " ('the', 9),\n",
       " ('to', 6),\n",
       " ('high', 5),\n",
       " ('i', 5),\n",
       " ('bromwell', 4),\n",
       " ('is', 4),\n",
       " ('a', 4),\n",
       " ('teachers', 4)]"
      ]
     },
     "execution_count": 44,
     "metadata": {},
     "output_type": "execute_result"
    }
   ],
   "source": [
    "review_counter.most_common()[:10]"
   ]
  },
  {
   "cell_type": "markdown",
   "metadata": {},
   "source": [
    "# Project 4: Reducing Noise in Our Input Data<a id='project_4'></a>\n",
    "\n",
    "**TODO:** Attempt to reduce the noise in the input data like Andrew did in the previous video. Specifically, do the following:\n",
    "* Copy the `SentimentNetwork` class you created earlier into the following cell.\n",
    "* Modify `update_input_layer` so it does not count how many times each word is used, but rather just stores whether or not a word was used. "
   ]
  },
  {
   "cell_type": "code",
   "execution_count": 45,
   "metadata": {
    "collapsed": true
   },
   "outputs": [],
   "source": [
    "# TODO: -Copy the SentimentNetwork class from Projet 3 lesson\n",
    "#       -Modify it to reduce noise, like in the video\n",
    "\n",
    "# I modified the starter code a lot, because it wasn't written in a good manner.\n",
    "# Namely, the constructor took too long to execute, because it called self.pre_process_data(reviews, labels)\n",
    "# and self.init_network(len(self.review_vocab), hidden_nodes, 1, learning_rate), where\n",
    "# a constructor should be as short as possible, both in code, and in execution time.\n",
    "# It should just create an object (with minimal initialization) and finish.\n",
    "# It's ridiculous to process data in it!\n",
    "# It is okay to call self.init_network() inside of the constructor, but the problem is\n",
    "# that it requires a result from self.pre_process_data(), so my constructor doesn't do anything.\n",
    "# I didn't want to change the code too much, for later easier use.\n",
    "# But, a change in use is required. Now we have to manually initialize the network we create\n",
    "# every time, after pre-processing the data, but this is a regular way, unlike their.\n",
    "# I have also taken the np.random.seed(1) out of the constructor, because it has\n",
    "# absolutely nothing to do with an object, of course, and it should be set only once\n",
    "# in a program, at its beginning.\n",
    "# And I don't know what the data pre-processing has to do with a network object anyway, but okay...\n",
    "\n",
    "# This solution isn't like in the video.\n",
    "# Check update_input_layer() to see the difference.\n",
    "# I use inverse of the values, to make rare words more valuable,\n",
    "# and common words less valuable.\n",
    "\n",
    "import time\n",
    "import sys\n",
    "import numpy as np\n",
    "\n",
    "\n",
    "# Assign a seed to our random number generator to ensure we get\n",
    "# reproducible results during development \n",
    "np.random.seed(1)\n",
    "\n",
    "\n",
    "# Encapsulate our neural network in a class\n",
    "class SentimentNetwork:\n",
    "    def __init__(self, reviews, labels, hidden_nodes = 10, learning_rate = 0.1):\n",
    "        \"\"\"Create a SentimenNetwork with the given settings\n",
    "        Args:\n",
    "            reviews(list) - List of reviews used for training\n",
    "            labels(list) - List of POSITIVE/NEGATIVE labels associated with the given reviews\n",
    "            hidden_nodes(int) - Number of nodes to create in the hidden layer\n",
    "            learning_rate(float) - Learning rate to use while training        \n",
    "        \"\"\"\n",
    "        \n",
    "        self.review_vocab = None\n",
    "        self.label_vocab = None\n",
    "        self.review_vocab_size = None\n",
    "        self.label_vocab_size = None\n",
    "        self.word2index = None\n",
    "        self.label2index = None\n",
    "        \n",
    "        self.input_nodes = None\n",
    "        self.hidden_nodes = None\n",
    "        self.output_nodes = None\n",
    "        self.learning_rate = None\n",
    "        self.weights_0_1 = None\n",
    "        self.weights_1_2 = None\n",
    "        self.layer_0 = None\n",
    "        \n",
    "    \n",
    "        # process the reviews and their associated labels so that everything\n",
    "        # is ready for training\n",
    "        #self.pre_process_data(reviews, labels)\n",
    "        \n",
    "        # Build the network to have the number of hidden nodes and the learning rate that\n",
    "        # were passed into this initializer. Make the same number of input nodes as\n",
    "        # there are vocabulary words and create a single output node.\n",
    "        #self.init_network(len(self.review_vocab), hidden_nodes, 1, learning_rate)\n",
    "\n",
    "    def pre_process_data(self, reviews, labels):\n",
    "        \"\"\"Returns self.review_vocab_size.\"\"\"\n",
    "        # It returned None, where it now returns len(self.review_vocab).\n",
    "        \n",
    "        review_vocab = set()\n",
    "        # TODO: populate review_vocab with all of the words in the given reviews\n",
    "        #       Remember to split reviews into individual words \n",
    "        #       using \"split(' ')\" instead of \"split()\".\n",
    "        for review in reviews:\n",
    "            for word in review.split(\" \"):\n",
    "                review_vocab.add(word)\n",
    "        \n",
    "        # Convert the vocabulary set to a list so we can access words via indices\n",
    "        self.review_vocab = list(review_vocab)\n",
    "        \n",
    "        label_vocab = set()\n",
    "        # TODO: populate label_vocab with all of the words in the given labels.\n",
    "        #       There is no need to split the labels because each one is a single word.\n",
    "        for label in labels:\n",
    "            label_vocab.add(label)\n",
    "        \n",
    "        # Convert the label vocabulary set to a list so we can access labels via indices\n",
    "        self.label_vocab = list(label_vocab)\n",
    "        \n",
    "        # Store the sizes of the review and label vocabularies.\n",
    "        self.review_vocab_size = len(self.review_vocab)\n",
    "        self.label_vocab_size = len(self.label_vocab)\n",
    "        \n",
    "        # Create a dictionary of words in the vocabulary mapped to index positions\n",
    "        self.word2index = {}\n",
    "        # TODO: populate self.word2index with indices for all the words in self.review_vocab\n",
    "        #       like you saw earlier in the notebook\n",
    "        for i, word in enumerate(self.review_vocab):\n",
    "            self.word2index[word] = i\n",
    "        \n",
    "        # Create a dictionary of labels mapped to index positions\n",
    "        self.label2index = {}\n",
    "        # TODO: do the same thing you did for self.word2index and self.review_vocab, \n",
    "        #       but for self.label2index and self.label_vocab instead\n",
    "        for i, label in enumerate(self.label_vocab):\n",
    "            self.label2index[label] = i\n",
    "            \n",
    "        return len(self.review_vocab)\n",
    "         \n",
    "        \n",
    "    def init_network(self, input_nodes, hidden_nodes, output_nodes, learning_rate):\n",
    "        # Store the number of nodes in input, hidden, and output layers.\n",
    "        self.input_nodes = input_nodes\n",
    "        self.hidden_nodes = hidden_nodes\n",
    "        self.output_nodes = output_nodes\n",
    "\n",
    "        # Store the learning rate\n",
    "        self.learning_rate = learning_rate\n",
    "\n",
    "        # Initialize weights\n",
    "        \n",
    "        # TODO: initialize self.weights_0_1 as a matrix of zeros. These are the weights between\n",
    "        #       the input layer and the hidden layer.\n",
    "        self.weights_0_1 = np.random.randn(self.input_nodes, self.hidden_nodes) / np.sqrt(self.input_nodes)\n",
    "        #self.weights_0_1 = np.random.normal(0.0, self.input_nodes ** -0.5,\n",
    "                                            #(self.input_nodes, self.hidden_nodes))\n",
    "        \n",
    "        # TODO: initialize self.weights_1_2 as a matrix of random values. \n",
    "        #       These are the weights between the hidden layer and the output layer.\n",
    "        self.weights_1_2 = np.random.randn(self.hidden_nodes, self.output_nodes) / np.sqrt(self.hidden_nodes)\n",
    "        #self.weights_1_2 = np.random.normal(0.0, self.hidden_nodes ** -0.5,\n",
    "                                           #(self.hidden_nodes, self.output_nodes))\n",
    "        \n",
    "        # TODO: Create the input layer, a two-dimensional matrix with shape \n",
    "        #       1 x input_nodes, with all values initialized to zero\n",
    "        self.layer_0 = np.zeros((1, input_nodes))\n",
    "    \n",
    "        \n",
    "    def update_input_layer(self, review):\n",
    "        # TODO: You can copy most of the code you wrote for update_input_layer \n",
    "        #       earlier in this notebook. \n",
    "        #\n",
    "        #       However, MAKE SURE YOU CHANGE ALL VARIABLES TO REFERENCE\n",
    "        #       THE VERSIONS STORED IN THIS OBJECT, NOT THE GLOBAL OBJECTS.\n",
    "        #       For example, replace \"layer_0 *= 0\" with \"self.layer_0 *= 0\"\n",
    "        self.layer_0 *= 0\n",
    "        for word in review.split(\" \"):\n",
    "            # NOTE: This if-check was not in the version of this method created in Project 2,\n",
    "            #       and it appears in Andrew's Project 3 solution without explanation. \n",
    "            #       It simply ensures the word is actually a key in word2index before\n",
    "            #       accessing it, which is important because accessing an invalid key\n",
    "            #       with raise an exception in Python. This allows us to ignore unknown\n",
    "            #       words encountered in new reviews.\n",
    "            if(word in self.word2index.keys()):\n",
    "                self.layer_0[0][self.word2index[word]] += 1.0\n",
    "        self.layer_0 = 1.0 / self.layer_0\n",
    "        self.layer_0[self.layer_0 == np.inf] = 0.0\n",
    "\n",
    "\n",
    "    def get_target_for_label(self, label):\n",
    "        # TODO: Copy the code you wrote for get_target_for_label \n",
    "        #       earlier in this notebook. \n",
    "        return 0 if label == \"NEGATIVE\" else 1\n",
    "        \n",
    "    def sigmoid(self, x):\n",
    "        # TODO: Return the result of calculating the sigmoid activation function\n",
    "        #       shown in the lectures\n",
    "        return 1. / (1. + np.exp(-x))\n",
    "    \n",
    "    def sigmoid_output_2_derivative(self, output):\n",
    "        # TODO: Return the derivative of the sigmoid activation function, \n",
    "        #       where \"output\" is the original output from the sigmoid fucntion \n",
    "        return output * (1. - output)\n",
    "\n",
    "    def train(self, training_reviews, training_labels):\n",
    "        \n",
    "        # make sure out we have a matching number of reviews and labels\n",
    "        assert(len(training_reviews) == len(training_labels))\n",
    "        \n",
    "        # Keep track of correct predictions to display accuracy during training \n",
    "        correct_so_far = 0\n",
    "        \n",
    "        # Remember when we started for printing time statistics\n",
    "        start = time.time()\n",
    "\n",
    "        # loop through all the given reviews and run a forward and backward pass,\n",
    "        # updating weights for every item\n",
    "        for i in range(len(training_reviews)):\n",
    "            \n",
    "            # TODO: Get the next review and its correct label\n",
    "            review = training_reviews[i]\n",
    "            label = training_labels[i]\n",
    "            label = self.get_target_for_label(label)\n",
    "            \n",
    "            # TODO: Implement the forward pass through the network. \n",
    "            #       That means use the given review to update the input layer, \n",
    "            #       then calculate values for the hidden layer,\n",
    "            #       and finally calculate the output layer.\n",
    "            # \n",
    "            #       Do not use an activation function for the hidden layer,\n",
    "            #       but use the sigmoid activation function for the output layer.\n",
    "            \n",
    "            self.update_input_layer(review)\n",
    "            \n",
    "            hidden_inputs = np.dot(self.layer_0, self.weights_0_1)  # signals into hidden layer\n",
    "            hidden_outputs = hidden_inputs  # signals from hidden layer\n",
    "            \n",
    "            final_inputs = np.dot(hidden_outputs, self.weights_1_2)  # signals into final output layer\n",
    "            final_output = self.sigmoid(final_inputs)  # signal from final output layer\n",
    "            \n",
    "            \n",
    "            # TODO: Implement the back propagation pass here. \n",
    "            #       That means calculate the error for the forward pass's prediction\n",
    "            #       and update the weights in the network according to their\n",
    "            #       contributions toward the error, as calculated via the\n",
    "            #       gradient descent and back propagation algorithms you \n",
    "            #       learned in class.\n",
    "            \n",
    "            # Output error\n",
    "            error = label - final_output  # Output layer error is the difference between desired target and actual output.            \n",
    "            output_error_term = error * final_output * (1. - final_output)  # error * derivative of the output activation function\n",
    "            \n",
    "            # Backpropagated error\n",
    "            hidden_error = np.dot(output_error_term, self.weights_1_2.T)  # errors propagated to the hidden layer\n",
    "            hidden_error_term = hidden_error  # derivative of the hidden activation function is 1\n",
    "            \n",
    "            # Update the weights\n",
    "            self.weights_1_2 += self.learning_rate * np.outer(hidden_outputs, output_error_term)\n",
    "            self.weights_0_1 += self.learning_rate * np.outer(self.layer_0, hidden_error_term)\n",
    "            \n",
    "            \n",
    "            # TODO: Keep track of correct predictions. To determine if the prediction was\n",
    "            #       correct, check that the absolute value of the output error \n",
    "            #       is less than 0.5. If so, add one to the correct_so_far count.\n",
    "            if np.abs(error) < 0.5:\n",
    "                correct_so_far += 1\n",
    "\n",
    "\n",
    "            # For debug purposes, print out our prediction accuracy and speed \n",
    "            # throughout the training process. \n",
    "            \n",
    "            elapsed_time = float(time.time() - start)\n",
    "            reviews_per_second = i / elapsed_time if elapsed_time > 0 else 0\n",
    "            \n",
    "            sys.stdout.write(\"\\rProgress:\" + str(100 * i/float(len(training_reviews)))[:4] \\\n",
    "                             + \"% Speed(reviews/sec):\" + str(reviews_per_second)[0:5] \\\n",
    "                             + \" #Correct:\" + str(correct_so_far) + \" #Trained:\" + str(i+1) \\\n",
    "                             + \" Training Accuracy:\" + str(correct_so_far * 100 / float(i+1))[:4] + \"%\")\n",
    "            if(i % 2500 == 0):\n",
    "                print(\"\")\n",
    "    \n",
    "    def test(self, testing_reviews, testing_labels):\n",
    "        \"\"\"\n",
    "        Attempts to predict the labels for the given testing_reviews,\n",
    "        and uses the test_labels to calculate the accuracy of those predictions.\n",
    "        \"\"\"\n",
    "        \n",
    "        # keep track of how many correct predictions we make\n",
    "        correct = 0\n",
    "\n",
    "        # we'll time how many predictions per second we make\n",
    "        start = time.time()\n",
    "\n",
    "        # Loop through each of the given reviews and call run to predict\n",
    "        # its label. \n",
    "        for i in range(len(testing_reviews)):\n",
    "            pred = self.run(testing_reviews[i])\n",
    "            if(pred == testing_labels[i]):\n",
    "                correct += 1\n",
    "            \n",
    "            # For debug purposes, print out our prediction accuracy and speed \n",
    "            # throughout the prediction process. \n",
    "\n",
    "            elapsed_time = float(time.time() - start)\n",
    "            reviews_per_second = i / elapsed_time if elapsed_time > 0 else 0\n",
    "            \n",
    "            sys.stdout.write(\"\\rProgress:\" + str(100 * i/float(len(testing_reviews)))[:4] \\\n",
    "                             + \"% Speed(reviews/sec):\" + str(reviews_per_second)[0:5] \\\n",
    "                             + \" #Correct:\" + str(correct) + \" #Tested:\" + str(i+1) \\\n",
    "                             + \" Testing Accuracy:\" + str(correct * 100 / float(i+1))[:4] + \"%\")\n",
    "    \n",
    "    def run(self, review):\n",
    "        \"\"\"\n",
    "        Returns a POSITIVE or NEGATIVE prediction for the given review.\n",
    "        \"\"\"\n",
    "        # TODO: Run a forward pass through the network, like you did in the\n",
    "        #       \"train\" function. That means use the given review to \n",
    "        #       update the input layer, then calculate values for the hidden layer,\n",
    "        #       and finally calculate the output layer.\n",
    "        #\n",
    "        #       Note: The review passed into this function for prediction \n",
    "        #             might come from anywhere, so you should convert it \n",
    "        #             to lower case prior to using it.\n",
    "        \n",
    "        # Input layer\n",
    "        self.update_input_layer(review.lower())\n",
    "        \n",
    "        # Hidden layer\n",
    "        hidden_outputs = np.dot(self.layer_0, self.weights_0_1)\n",
    "        \n",
    "        # Output layer\n",
    "        final_output = self.sigmoid(np.dot(hidden_outputs, self.weights_1_2))\n",
    "        \n",
    "        # TODO: The output layer should now contain a prediction. \n",
    "        #       Return `POSITIVE` for predictions greater-than-or-equal-to `0.5`, \n",
    "        #       and `NEGATIVE` otherwise.\n",
    "        \n",
    "        return \"POSITIVE\" if final_output[0] >= 0.5 else \"NEGATIVE\"\n",
    "        \n",
    "        "
   ]
  },
  {
   "cell_type": "markdown",
   "metadata": {},
   "source": [
    "Run the following cell to recreate the network and train it. Notice we've gone back to the higher learning rate of `0.1`."
   ]
  },
  {
   "cell_type": "code",
   "execution_count": 46,
   "metadata": {},
   "outputs": [
    {
     "name": "stderr",
     "output_type": "stream",
     "text": [
      "C:\\Anaconda3\\lib\\site-packages\\ipykernel_launcher.py:161: RuntimeWarning: divide by zero encountered in true_divide\n"
     ]
    },
    {
     "name": "stdout",
     "output_type": "stream",
     "text": [
      "Progress:0.0% Speed(reviews/sec):0.0 #Correct:1 #Trained:1 Training Accuracy:100.%\n",
      "Progress:10.4% Speed(reviews/sec):66.41 #Correct:1977 #Trained:2501 Training Accuracy:79.0%\n",
      "Progress:20.8% Speed(reviews/sec):66.45 #Correct:4005 #Trained:5001 Training Accuracy:80.0%\n",
      "Progress:31.2% Speed(reviews/sec):66.53 #Correct:6110 #Trained:7501 Training Accuracy:81.4%\n",
      "Progress:41.6% Speed(reviews/sec):66.54 #Correct:8268 #Trained:10001 Training Accuracy:82.6%\n",
      "Progress:52.0% Speed(reviews/sec):66.61 #Correct:10410 #Trained:12501 Training Accuracy:83.2%\n",
      "Progress:62.5% Speed(reviews/sec):66.63 #Correct:12547 #Trained:15001 Training Accuracy:83.6%\n",
      "Progress:72.9% Speed(reviews/sec):66.67 #Correct:14676 #Trained:17501 Training Accuracy:83.8%\n",
      "Progress:83.3% Speed(reviews/sec):66.46 #Correct:16834 #Trained:20001 Training Accuracy:84.1%\n",
      "Progress:93.7% Speed(reviews/sec):66.14 #Correct:19015 #Trained:22501 Training Accuracy:84.5%\n",
      "Progress:99.9% Speed(reviews/sec):66.12 #Correct:20314 #Trained:24000 Training Accuracy:84.6%"
     ]
    }
   ],
   "source": [
    "mlp = SentimentNetwork(reviews[:-1000], labels[:-1000], learning_rate=0.1)\n",
    "# I have to add the following lines:\n",
    "vocab_len = mlp.pre_process_data(reviews[:-1000], labels[:-1000])\n",
    "mlp.init_network(input_nodes=vocab_len, hidden_nodes=10, output_nodes=1, learning_rate=0.1)\n",
    "\n",
    "mlp.train(reviews[:-1000], labels[:-1000])"
   ]
  },
  {
   "cell_type": "markdown",
   "metadata": {},
   "source": [
    "That should have trained much better than the earlier attempts. It's still not wonderful, but it should have improved dramatically. Run the following cell to test your model with 1000 predictions."
   ]
  },
  {
   "cell_type": "code",
   "execution_count": 47,
   "metadata": {},
   "outputs": [
    {
     "name": "stdout",
     "output_type": "stream",
     "text": [
      "\r",
      "Progress:0.0% Speed(reviews/sec):0.0 #Correct:1 #Tested:1 Testing Accuracy:100.%\r",
      "Progress:0.1% Speed(reviews/sec):111.0 #Correct:1 #Tested:2 Testing Accuracy:50.0%\r",
      "Progress:0.2% Speed(reviews/sec):181.7 #Correct:2 #Tested:3 Testing Accuracy:66.6%\r",
      "Progress:0.3% Speed(reviews/sec):214.1 #Correct:3 #Tested:4 Testing Accuracy:75.0%\r",
      "Progress:0.4% Speed(reviews/sec):249.9 #Correct:4 #Tested:5 Testing Accuracy:80.0%\r",
      "Progress:0.5% Speed(reviews/sec):277.6 #Correct:5 #Tested:6 Testing Accuracy:83.3%\r",
      "Progress:0.6% Speed(reviews/sec):285.5 #Correct:6 #Tested:7 Testing Accuracy:85.7%\r",
      "Progress:0.7% Speed(reviews/sec):291.5 #Correct:7 #Tested:8 Testing Accuracy:87.5%\r",
      "Progress:0.8% Speed(reviews/sec):307.5 #Correct:8 #Tested:9 Testing Accuracy:88.8%\r",
      "Progress:0.9% Speed(reviews/sec):299.8 #Correct:9 #Tested:10 Testing Accuracy:90.0%\r",
      "Progress:1.0% Speed(reviews/sec):293.9 #Correct:10 #Tested:11 Testing Accuracy:90.9%\r",
      "Progress:1.1% Speed(reviews/sec):289.3 #Correct:11 #Tested:12 Testing Accuracy:91.6%\r",
      "Progress:1.2% Speed(reviews/sec):292.5 #Correct:12 #Tested:13 Testing Accuracy:92.3%\r",
      "Progress:1.3% Speed(reviews/sec):302.2 #Correct:13 #Tested:14 Testing Accuracy:92.8%\r",
      "Progress:1.4% Speed(reviews/sec):304.2 #Correct:14 #Tested:15 Testing Accuracy:93.3%\r",
      "Progress:1.5% Speed(reviews/sec):299.8 #Correct:15 #Tested:16 Testing Accuracy:93.7%\r",
      "Progress:1.6% Speed(reviews/sec):296.1 #Correct:16 #Tested:17 Testing Accuracy:94.1%\r",
      "Progress:1.7% Speed(reviews/sec):303.4 #Correct:17 #Tested:18 Testing Accuracy:94.4%\r",
      "Progress:1.8% Speed(reviews/sec):310.2 #Correct:18 #Tested:19 Testing Accuracy:94.7%\r",
      "Progress:1.9% Speed(reviews/sec):311.3 #Correct:18 #Tested:20 Testing Accuracy:90.0%\r",
      "Progress:2.0% Speed(reviews/sec):312.3 #Correct:19 #Tested:21 Testing Accuracy:90.4%\r",
      "Progress:2.1% Speed(reviews/sec):318.0 #Correct:20 #Tested:22 Testing Accuracy:90.9%\r",
      "Progress:2.2% Speed(reviews/sec):318.7 #Correct:21 #Tested:23 Testing Accuracy:91.3%\r",
      "Progress:2.3% Speed(reviews/sec):319.3 #Correct:22 #Tested:24 Testing Accuracy:91.6%\r",
      "Progress:2.4% Speed(reviews/sec):319.8 #Correct:23 #Tested:25 Testing Accuracy:92.0%\r",
      "Progress:2.5% Speed(reviews/sec):324.5 #Correct:24 #Tested:26 Testing Accuracy:92.3%\r",
      "Progress:2.6% Speed(reviews/sec):328.9 #Correct:25 #Tested:27 Testing Accuracy:92.5%\r",
      "Progress:2.7% Speed(reviews/sec):327.1 #Correct:26 #Tested:28 Testing Accuracy:92.8%\r",
      "Progress:2.8% Speed(reviews/sec):329.2 #Correct:27 #Tested:29 Testing Accuracy:93.1%\r",
      "Progress:2.9% Speed(reviews/sec):333.1 #Correct:28 #Tested:30 Testing Accuracy:93.3%\r",
      "Progress:3.0% Speed(reviews/sec):333.1 #Correct:28 #Tested:31 Testing Accuracy:90.3%\r",
      "Progress:3.1% Speed(reviews/sec):336.8 #Correct:29 #Tested:32 Testing Accuracy:90.6%\r",
      "Progress:3.2% Speed(reviews/sec):338.4 #Correct:30 #Tested:33 Testing Accuracy:90.9%\r",
      "Progress:3.3% Speed(reviews/sec):341.8 #Correct:31 #Tested:34 Testing Accuracy:91.1%\r",
      "Progress:3.4% Speed(reviews/sec):343.2 #Correct:32 #Tested:35 Testing Accuracy:91.4%\r",
      "Progress:3.5% Speed(reviews/sec):346.3 #Correct:33 #Tested:36 Testing Accuracy:91.6%\r",
      "Progress:3.6% Speed(reviews/sec):349.3 #Correct:34 #Tested:37 Testing Accuracy:91.8%\r",
      "Progress:3.7% Speed(reviews/sec):352.2 #Correct:35 #Tested:38 Testing Accuracy:92.1%\r",
      "Progress:3.8% Speed(reviews/sec):351.6 #Correct:36 #Tested:39 Testing Accuracy:92.3%"
     ]
    },
    {
     "name": "stderr",
     "output_type": "stream",
     "text": [
      "C:\\Anaconda3\\lib\\site-packages\\ipykernel_launcher.py:161: RuntimeWarning: divide by zero encountered in true_divide\n"
     ]
    },
    {
     "name": "stdout",
     "output_type": "stream",
     "text": [
      "Progress:99.9% Speed(reviews/sec):401.4 #Correct:843 #Tested:1000 Testing Accuracy:84.3%"
     ]
    }
   ],
   "source": [
    "mlp.test(reviews[-1000:], labels[-1000:])"
   ]
  },
  {
   "cell_type": "code",
   "execution_count": 48,
   "metadata": {
    "collapsed": true
   },
   "outputs": [],
   "source": [
    "# TODO: -Copy the SentimentNetwork class from Projet 3 lesson\n",
    "#       -Modify it to reduce noise, like in the video\n",
    "\n",
    "# I modified the starter code a lot, because it wasn't written in a good manner.\n",
    "# Namely, the constructor took too long to execute, because it called self.pre_process_data(reviews, labels)\n",
    "# and self.init_network(len(self.review_vocab), hidden_nodes, 1, learning_rate), where\n",
    "# a constructor should be as short as possible, both in code, and in execution time.\n",
    "# It should just create an object (with minimal initialization) and finish.\n",
    "# It's ridiculous to process data in it!\n",
    "# It is okay to call self.init_network() inside of the constructor, but the problem is\n",
    "# that it requires a result from self.pre_process_data(), so my constructor doesn't do anything.\n",
    "# I didn't want to change the code too much, for later easier use.\n",
    "# But, a change in use is required. Now we have to manually initialize the network we create\n",
    "# every time, after pre-processing the data, but this is a regular way, unlike their.\n",
    "# I have also taken the np.random.seed(1) out of the constructor, because it has\n",
    "# absolutely nothing to do with an object, of course, and it should be set only once\n",
    "# in a program, at its beginning.\n",
    "# And I don't know what the data pre-processing has to do with a network object anyway, but okay...\n",
    "\n",
    "# This solution is like in the video.\n",
    "\n",
    "import time\n",
    "import sys\n",
    "import numpy as np\n",
    "\n",
    "\n",
    "# Assign a seed to our random number generator to ensure we get\n",
    "# reproducible results during development \n",
    "np.random.seed(1)\n",
    "\n",
    "\n",
    "# Encapsulate our neural network in a class\n",
    "class SentimentNetwork:\n",
    "    def __init__(self, reviews, labels, hidden_nodes = 10, learning_rate = 0.1):\n",
    "        \"\"\"Create a SentimenNetwork with the given settings\n",
    "        Args:\n",
    "            reviews(list) - List of reviews used for training\n",
    "            labels(list) - List of POSITIVE/NEGATIVE labels associated with the given reviews\n",
    "            hidden_nodes(int) - Number of nodes to create in the hidden layer\n",
    "            learning_rate(float) - Learning rate to use while training        \n",
    "        \"\"\"\n",
    "        \n",
    "        self.review_vocab = None\n",
    "        self.label_vocab = None\n",
    "        self.review_vocab_size = None\n",
    "        self.label_vocab_size = None\n",
    "        self.word2index = None\n",
    "        self.label2index = None\n",
    "        \n",
    "        self.input_nodes = None\n",
    "        self.hidden_nodes = None\n",
    "        self.output_nodes = None\n",
    "        self.learning_rate = None\n",
    "        self.weights_0_1 = None\n",
    "        self.weights_1_2 = None\n",
    "        self.layer_0 = None\n",
    "        \n",
    "    \n",
    "        # process the reviews and their associated labels so that everything\n",
    "        # is ready for training\n",
    "        #self.pre_process_data(reviews, labels)\n",
    "        \n",
    "        # Build the network to have the number of hidden nodes and the learning rate that\n",
    "        # were passed into this initializer. Make the same number of input nodes as\n",
    "        # there are vocabulary words and create a single output node.\n",
    "        #self.init_network(len(self.review_vocab), hidden_nodes, 1, learning_rate)\n",
    "\n",
    "    def pre_process_data(self, reviews, labels):\n",
    "        \"\"\"Returns self.review_vocab_size.\"\"\"\n",
    "        # It returned None, where it now returns len(self.review_vocab).\n",
    "        \n",
    "        review_vocab = set()\n",
    "        # TODO: populate review_vocab with all of the words in the given reviews\n",
    "        #       Remember to split reviews into individual words \n",
    "        #       using \"split(' ')\" instead of \"split()\".\n",
    "        for review in reviews:\n",
    "            for word in review.split(\" \"):\n",
    "                review_vocab.add(word)\n",
    "        \n",
    "        # Convert the vocabulary set to a list so we can access words via indices\n",
    "        self.review_vocab = list(review_vocab)\n",
    "        \n",
    "        label_vocab = set()\n",
    "        # TODO: populate label_vocab with all of the words in the given labels.\n",
    "        #       There is no need to split the labels because each one is a single word.\n",
    "        for label in labels:\n",
    "            label_vocab.add(label)\n",
    "        \n",
    "        # Convert the label vocabulary set to a list so we can access labels via indices\n",
    "        self.label_vocab = list(label_vocab)\n",
    "        \n",
    "        # Store the sizes of the review and label vocabularies.\n",
    "        self.review_vocab_size = len(self.review_vocab)\n",
    "        self.label_vocab_size = len(self.label_vocab)\n",
    "        \n",
    "        # Create a dictionary of words in the vocabulary mapped to index positions\n",
    "        self.word2index = {}\n",
    "        # TODO: populate self.word2index with indices for all the words in self.review_vocab\n",
    "        #       like you saw earlier in the notebook\n",
    "        for i, word in enumerate(self.review_vocab):\n",
    "            self.word2index[word] = i\n",
    "        \n",
    "        # Create a dictionary of labels mapped to index positions\n",
    "        self.label2index = {}\n",
    "        # TODO: do the same thing you did for self.word2index and self.review_vocab, \n",
    "        #       but for self.label2index and self.label_vocab instead\n",
    "        for i, label in enumerate(self.label_vocab):\n",
    "            self.label2index[label] = i\n",
    "            \n",
    "        return len(self.review_vocab)\n",
    "         \n",
    "        \n",
    "    def init_network(self, input_nodes, hidden_nodes, output_nodes, learning_rate):\n",
    "        # Store the number of nodes in input, hidden, and output layers.\n",
    "        self.input_nodes = input_nodes\n",
    "        self.hidden_nodes = hidden_nodes\n",
    "        self.output_nodes = output_nodes\n",
    "\n",
    "        # Store the learning rate\n",
    "        self.learning_rate = learning_rate\n",
    "\n",
    "        # Initialize weights\n",
    "        \n",
    "        # TODO: initialize self.weights_0_1 as a matrix of zeros. These are the weights between\n",
    "        #       the input layer and the hidden layer.\n",
    "        self.weights_0_1 = np.random.randn(self.input_nodes, self.hidden_nodes) / np.sqrt(self.input_nodes)\n",
    "        #self.weights_0_1 = np.random.normal(0.0, self.input_nodes ** -0.5,\n",
    "                                            #(self.input_nodes, self.hidden_nodes))\n",
    "        \n",
    "        # TODO: initialize self.weights_1_2 as a matrix of random values. \n",
    "        #       These are the weights between the hidden layer and the output layer.\n",
    "        self.weights_1_2 = np.random.randn(self.hidden_nodes, self.output_nodes) / np.sqrt(self.hidden_nodes)\n",
    "        #self.weights_1_2 = np.random.normal(0.0, self.hidden_nodes ** -0.5,\n",
    "                                           #(self.hidden_nodes, self.output_nodes))\n",
    "        \n",
    "        # TODO: Create the input layer, a two-dimensional matrix with shape \n",
    "        #       1 x input_nodes, with all values initialized to zero\n",
    "        self.layer_0 = np.zeros((1, input_nodes))\n",
    "    \n",
    "        \n",
    "    def update_input_layer(self, review):\n",
    "        # TODO: You can copy most of the code you wrote for update_input_layer \n",
    "        #       earlier in this notebook. \n",
    "        #\n",
    "        #       However, MAKE SURE YOU CHANGE ALL VARIABLES TO REFERENCE\n",
    "        #       THE VERSIONS STORED IN THIS OBJECT, NOT THE GLOBAL OBJECTS.\n",
    "        #       For example, replace \"layer_0 *= 0\" with \"self.layer_0 *= 0\"\n",
    "        self.layer_0 *= 0\n",
    "        for word in review.split(\" \"):\n",
    "            # NOTE: This if-check was not in the version of this method created in Project 2,\n",
    "            #       and it appears in Andrew's Project 3 solution without explanation. \n",
    "            #       It simply ensures the word is actually a key in word2index before\n",
    "            #       accessing it, which is important because accessing an invalid key\n",
    "            #       will raise an exception in Python. This allows us to ignore unknown\n",
    "            #       words encountered in new reviews.\n",
    "            if(word in self.word2index.keys()):\n",
    "                self.layer_0[0][self.word2index[word]] = 1\n",
    "\n",
    "\n",
    "    def get_target_for_label(self, label):\n",
    "        # TODO: Copy the code you wrote for get_target_for_label \n",
    "        #       earlier in this notebook. \n",
    "        return 0 if label == \"NEGATIVE\" else 1\n",
    "        \n",
    "    def sigmoid(self, x):\n",
    "        # TODO: Return the result of calculating the sigmoid activation function\n",
    "        #       shown in the lectures\n",
    "        return 1. / (1. + np.exp(-x))\n",
    "    \n",
    "    def sigmoid_output_2_derivative(self, output):\n",
    "        # TODO: Return the derivative of the sigmoid activation function, \n",
    "        #       where \"output\" is the original output from the sigmoid fucntion \n",
    "        return output * (1. - output)\n",
    "\n",
    "    def train(self, training_reviews, training_labels):\n",
    "        \n",
    "        # make sure out we have a matching number of reviews and labels\n",
    "        assert(len(training_reviews) == len(training_labels))\n",
    "        \n",
    "        # Keep track of correct predictions to display accuracy during training \n",
    "        correct_so_far = 0\n",
    "        \n",
    "        # Remember when we started for printing time statistics\n",
    "        start = time.time()\n",
    "\n",
    "        # loop through all the given reviews and run a forward and backward pass,\n",
    "        # updating weights for every item\n",
    "        for i in range(len(training_reviews)):\n",
    "            \n",
    "            # TODO: Get the next review and its correct label\n",
    "            review = training_reviews[i]\n",
    "            label = training_labels[i]\n",
    "            label = self.get_target_for_label(label)\n",
    "            \n",
    "            # TODO: Implement the forward pass through the network. \n",
    "            #       That means use the given review to update the input layer, \n",
    "            #       then calculate values for the hidden layer,\n",
    "            #       and finally calculate the output layer.\n",
    "            # \n",
    "            #       Do not use an activation function for the hidden layer,\n",
    "            #       but use the sigmoid activation function for the output layer.\n",
    "            \n",
    "            self.update_input_layer(review)\n",
    "            \n",
    "            hidden_inputs = np.dot(self.layer_0, self.weights_0_1)  # signals into hidden layer\n",
    "            hidden_outputs = hidden_inputs  # signals from hidden layer\n",
    "            \n",
    "            final_inputs = np.dot(hidden_outputs, self.weights_1_2)  # signals into final output layer\n",
    "            final_output = self.sigmoid(final_inputs)  # signal from final output layer\n",
    "            \n",
    "            \n",
    "            # TODO: Implement the back propagation pass here. \n",
    "            #       That means calculate the error for the forward pass's prediction\n",
    "            #       and update the weights in the network according to their\n",
    "            #       contributions toward the error, as calculated via the\n",
    "            #       gradient descent and back propagation algorithms you \n",
    "            #       learned in class.\n",
    "            \n",
    "            # Output error\n",
    "            error = label - final_output  # Output layer error is the difference between desired target and actual output.            \n",
    "            output_error_term = error * final_output * (1. - final_output)  # error * derivative of the output activation function\n",
    "            \n",
    "            # Backpropagated error\n",
    "            hidden_error = np.dot(output_error_term, self.weights_1_2.T)  # errors propagated to the hidden layer\n",
    "            hidden_error_term = hidden_error  # derivative of the hidden activation function is 1\n",
    "            \n",
    "            # Update the weights\n",
    "            self.weights_1_2 += self.learning_rate * np.outer(hidden_outputs, output_error_term)\n",
    "            self.weights_0_1 += self.learning_rate * np.outer(self.layer_0, hidden_error_term)\n",
    "            \n",
    "            \n",
    "            # TODO: Keep track of correct predictions. To determine if the prediction was\n",
    "            #       correct, check that the absolute value of the output error \n",
    "            #       is less than 0.5. If so, add one to the correct_so_far count.\n",
    "            if np.abs(error) < 0.5:\n",
    "                correct_so_far += 1\n",
    "\n",
    "\n",
    "            # For debug purposes, print out our prediction accuracy and speed \n",
    "            # throughout the training process. \n",
    "            \n",
    "            elapsed_time = float(time.time() - start)\n",
    "            reviews_per_second = i / elapsed_time if elapsed_time > 0 else 0\n",
    "            \n",
    "            sys.stdout.write(\"\\rProgress:\" + str(100 * i/float(len(training_reviews)))[:4] \\\n",
    "                             + \"% Speed(reviews/sec):\" + str(reviews_per_second)[0:5] \\\n",
    "                             + \" #Correct:\" + str(correct_so_far) + \" #Trained:\" + str(i+1) \\\n",
    "                             + \" Training Accuracy:\" + str(correct_so_far * 100 / float(i+1))[:4] + \"%\")\n",
    "            if(i % 2500 == 0):\n",
    "                print(\"\")\n",
    "    \n",
    "    def test(self, testing_reviews, testing_labels):\n",
    "        \"\"\"\n",
    "        Attempts to predict the labels for the given testing_reviews,\n",
    "        and uses the test_labels to calculate the accuracy of those predictions.\n",
    "        \"\"\"\n",
    "        \n",
    "        # keep track of how many correct predictions we make\n",
    "        correct = 0\n",
    "\n",
    "        # we'll time how many predictions per second we make\n",
    "        start = time.time()\n",
    "\n",
    "        # Loop through each of the given reviews and call run to predict\n",
    "        # its label. \n",
    "        for i in range(len(testing_reviews)):\n",
    "            pred = self.run(testing_reviews[i])\n",
    "            if(pred == testing_labels[i]):\n",
    "                correct += 1\n",
    "            \n",
    "            # For debug purposes, print out our prediction accuracy and speed \n",
    "            # throughout the prediction process. \n",
    "\n",
    "            elapsed_time = float(time.time() - start)\n",
    "            reviews_per_second = i / elapsed_time if elapsed_time > 0 else 0\n",
    "            \n",
    "            sys.stdout.write(\"\\rProgress:\" + str(100 * i/float(len(testing_reviews)))[:4] \\\n",
    "                             + \"% Speed(reviews/sec):\" + str(reviews_per_second)[0:5] \\\n",
    "                             + \" #Correct:\" + str(correct) + \" #Tested:\" + str(i+1) \\\n",
    "                             + \" Testing Accuracy:\" + str(correct * 100 / float(i+1))[:4] + \"%\")\n",
    "    \n",
    "    def run(self, review):\n",
    "        \"\"\"\n",
    "        Returns a POSITIVE or NEGATIVE prediction for the given review.\n",
    "        \"\"\"\n",
    "        # TODO: Run a forward pass through the network, like you did in the\n",
    "        #       \"train\" function. That means use the given review to \n",
    "        #       update the input layer, then calculate values for the hidden layer,\n",
    "        #       and finally calculate the output layer.\n",
    "        #\n",
    "        #       Note: The review passed into this function for prediction \n",
    "        #             might come from anywhere, so you should convert it \n",
    "        #             to lower case prior to using it.\n",
    "        \n",
    "        # Input layer\n",
    "        self.update_input_layer(review.lower())\n",
    "        \n",
    "        # Hidden layer\n",
    "        hidden_outputs = np.dot(self.layer_0, self.weights_0_1)\n",
    "        \n",
    "        # Output layer\n",
    "        final_output = self.sigmoid(np.dot(hidden_outputs, self.weights_1_2))\n",
    "        \n",
    "        # TODO: The output layer should now contain a prediction. \n",
    "        #       Return `POSITIVE` for predictions greater-than-or-equal-to `0.5`, \n",
    "        #       and `NEGATIVE` otherwise.\n",
    "        \n",
    "        return \"POSITIVE\" if final_output[0] >= 0.5 else \"NEGATIVE\"\n",
    "        \n",
    "        "
   ]
  },
  {
   "cell_type": "code",
   "execution_count": 49,
   "metadata": {},
   "outputs": [
    {
     "name": "stdout",
     "output_type": "stream",
     "text": [
      "Training\n",
      "Progress:0.0% Speed(reviews/sec):0.0 #Correct:1 #Trained:1 Training Accuracy:100.%\n",
      "Progress:10.4% Speed(reviews/sec):67.99 #Correct:1941 #Trained:2501 Training Accuracy:77.6%\n",
      "Progress:20.8% Speed(reviews/sec):67.04 #Correct:3990 #Trained:5001 Training Accuracy:79.7%\n",
      "Progress:31.2% Speed(reviews/sec):67.24 #Correct:6114 #Trained:7501 Training Accuracy:81.5%\n",
      "Progress:41.6% Speed(reviews/sec):67.19 #Correct:8273 #Trained:10001 Training Accuracy:82.7%\n",
      "Progress:52.0% Speed(reviews/sec):67.01 #Correct:10433 #Trained:12501 Training Accuracy:83.4%\n",
      "Progress:62.5% Speed(reviews/sec):66.95 #Correct:12574 #Trained:15001 Training Accuracy:83.8%\n",
      "Progress:72.9% Speed(reviews/sec):67.02 #Correct:14689 #Trained:17501 Training Accuracy:83.9%\n",
      "Progress:83.3% Speed(reviews/sec):67.09 #Correct:16858 #Trained:20001 Training Accuracy:84.2%\n",
      "Progress:93.7% Speed(reviews/sec):67.02 #Correct:19046 #Trained:22501 Training Accuracy:84.6%\n",
      "Progress:99.9% Speed(reviews/sec):67.02 #Correct:20369 #Trained:24000 Training Accuracy:84.8%\n",
      "\n",
      "Testing\n",
      "Progress:99.9% Speed(reviews/sec):540.8 #Correct:858 #Tested:1000 Testing Accuracy:85.8%"
     ]
    }
   ],
   "source": [
    "mlp = SentimentNetwork(reviews[:-1000], labels[:-1000], learning_rate=0.1)\n",
    "# I have to add the following lines:\n",
    "vocab_len = mlp.pre_process_data(reviews[:-1000], labels[:-1000])\n",
    "mlp.init_network(input_nodes=vocab_len, hidden_nodes=10, output_nodes=1, learning_rate=0.1)\n",
    "\n",
    "print(\"Training\")\n",
    "mlp.train(reviews[:-1000], labels[:-1000])\n",
    "\n",
    "print(\"\\n\\nTesting\")\n",
    "mlp.test(reviews[-1000:], labels[-1000:])"
   ]
  },
  {
   "cell_type": "markdown",
   "metadata": {},
   "source": [
    "# End of Project 4. \n",
    "## Andrew's solution was actually in the previous video, so rewatch that video if you had any problems with that project. Then continue on to the next lesson.\n",
    "# Analyzing Inefficiencies in our Network<a id='lesson_5'></a>\n",
    "The following cells include the code Andrew shows in the next video. We've included it here so you can run the cells along with the video without having to type in everything."
   ]
  },
  {
   "cell_type": "code",
   "execution_count": 50,
   "metadata": {},
   "outputs": [
    {
     "data": {
      "image/png": "[encoded data removed]",
      "text/plain": [
       "<IPython.core.display.Image object>"
      ]
     },
     "execution_count": 50,
     "metadata": {},
     "output_type": "execute_result"
    }
   ],
   "source": [
    "Image(filename='sentiment_network_sparse.png')"
   ]
  },
  {
   "cell_type": "code",
   "execution_count": 51,
   "metadata": {
    "collapsed": true
   },
   "outputs": [],
   "source": [
    "# My code\n",
    "np.random.seed(1)"
   ]
  },
  {
   "cell_type": "code",
   "execution_count": 52,
   "metadata": {
    "collapsed": true
   },
   "outputs": [],
   "source": [
    "layer_0 = np.zeros(10)"
   ]
  },
  {
   "cell_type": "code",
   "execution_count": 53,
   "metadata": {},
   "outputs": [
    {
     "data": {
      "text/plain": [
       "array([ 0.,  0.,  0.,  0.,  0.,  0.,  0.,  0.,  0.,  0.])"
      ]
     },
     "execution_count": 53,
     "metadata": {},
     "output_type": "execute_result"
    }
   ],
   "source": [
    "layer_0"
   ]
  },
  {
   "cell_type": "code",
   "execution_count": 54,
   "metadata": {
    "collapsed": true
   },
   "outputs": [],
   "source": [
    "layer_0[4] = 1\n",
    "layer_0[9] = 1"
   ]
  },
  {
   "cell_type": "code",
   "execution_count": 55,
   "metadata": {},
   "outputs": [
    {
     "data": {
      "text/plain": [
       "array([ 0.,  0.,  0.,  0.,  1.,  0.,  0.,  0.,  0.,  1.])"
      ]
     },
     "execution_count": 55,
     "metadata": {},
     "output_type": "execute_result"
    }
   ],
   "source": [
    "layer_0"
   ]
  },
  {
   "cell_type": "code",
   "execution_count": 56,
   "metadata": {
    "collapsed": true
   },
   "outputs": [],
   "source": [
    "weights_0_1 = np.random.randn(10,5)"
   ]
  },
  {
   "cell_type": "code",
   "execution_count": 57,
   "metadata": {},
   "outputs": [
    {
     "data": {
      "text/plain": [
       "array([-1.73761482,  1.33563919,  3.00184586,  0.62265329,  1.51805906])"
      ]
     },
     "execution_count": 57,
     "metadata": {},
     "output_type": "execute_result"
    }
   ],
   "source": [
    "layer_0.dot(weights_0_1)"
   ]
  },
  {
   "cell_type": "code",
   "execution_count": 58,
   "metadata": {
    "collapsed": true
   },
   "outputs": [],
   "source": [
    "indices = [4, 9]"
   ]
  },
  {
   "cell_type": "code",
   "execution_count": 59,
   "metadata": {
    "collapsed": true
   },
   "outputs": [],
   "source": [
    "layer_1 = np.zeros(5)"
   ]
  },
  {
   "cell_type": "code",
   "execution_count": 60,
   "metadata": {
    "collapsed": true
   },
   "outputs": [],
   "source": [
    "for index in indices:\n",
    "    layer_1 += (1 * weights_0_1[index])"
   ]
  },
  {
   "cell_type": "code",
   "execution_count": 61,
   "metadata": {},
   "outputs": [
    {
     "data": {
      "text/plain": [
       "array([-1.73761482,  1.33563919,  3.00184586,  0.62265329,  1.51805906])"
      ]
     },
     "execution_count": 61,
     "metadata": {},
     "output_type": "execute_result"
    }
   ],
   "source": [
    "layer_1"
   ]
  },
  {
   "cell_type": "code",
   "execution_count": 62,
   "metadata": {},
   "outputs": [
    {
     "data": {
      "image/png": "[encoded data removed]",
      "text/plain": [
       "<IPython.core.display.Image object>"
      ]
     },
     "execution_count": 62,
     "metadata": {},
     "output_type": "execute_result"
    }
   ],
   "source": [
    "Image(filename='sentiment_network_sparse_2.png')"
   ]
  },
  {
   "cell_type": "code",
   "execution_count": 63,
   "metadata": {
    "collapsed": true
   },
   "outputs": [],
   "source": [
    "layer_1 = np.zeros(5)"
   ]
  },
  {
   "cell_type": "code",
   "execution_count": 64,
   "metadata": {
    "collapsed": true
   },
   "outputs": [],
   "source": [
    "for index in indices:\n",
    "    layer_1 += (weights_0_1[index])"
   ]
  },
  {
   "cell_type": "code",
   "execution_count": 65,
   "metadata": {},
   "outputs": [
    {
     "data": {
      "text/plain": [
       "array([-1.73761482,  1.33563919,  3.00184586,  0.62265329,  1.51805906])"
      ]
     },
     "execution_count": 65,
     "metadata": {},
     "output_type": "execute_result"
    }
   ],
   "source": [
    "layer_1"
   ]
  },
  {
   "cell_type": "code",
   "execution_count": 69,
   "metadata": {},
   "outputs": [
    {
     "name": "stdout",
     "output_type": "stream",
     "text": [
      "[ 0.  0.  0.  0.  1.  0.  0.  0.  0.  1.]\n",
      "(array([4, 9], dtype=int64),)\n",
      "[ 1.  1.]\n",
      "[-1.73761482  1.33563919  3.00184586  0.62265329  1.51805906]\n",
      "[-1.73761482  1.33563919  3.00184586  0.62265329  1.51805906]\n"
     ]
    },
    {
     "data": {
      "text/plain": [
       "array([-1.73761482,  1.33563919,  3.00184586,  0.62265329,  1.51805906])"
      ]
     },
     "execution_count": 69,
     "metadata": {},
     "output_type": "execute_result"
    }
   ],
   "source": [
    "# My code\n",
    "\n",
    "layer_0 = np.zeros(10)\n",
    "layer_0[4] = 1\n",
    "layer_0[9] = 1\n",
    "print(layer_0)\n",
    "\n",
    "layer_0_indices = np.nonzero(layer_0)  # indices of non-zero elements of layer_0\n",
    "print(layer_0_indices)\n",
    "print(layer_0[layer_0_indices])\n",
    "\n",
    "layer_1 = np.zeros(5)\n",
    "for i in layer_0_indices[0]:\n",
    "    layer_1 += weights_0_1[i]\n",
    "print(layer_1)\n",
    "\n",
    "layer_1 = np.dot(layer_0[layer_0_indices], weights_0_1[layer_0_indices])\n",
    "print(layer_1)\n",
    "layer_1"
   ]
  },
  {
   "cell_type": "markdown",
   "metadata": {},
   "source": [
    "# Project 5: Making our Network More Efficient<a id='project_5'></a>\n",
    "**TODO:** Make the `SentimentNetwork` class more efficient by eliminating unnecessary multiplications and additions that occur during forward and backward propagation. To do that, you can do the following:\n",
    "* Copy the `SentimentNetwork` class from the previous project into the following cell.\n",
    "* Remove the `update_input_layer` function - you will not need it in this version.\n",
    "* Modify `init_network`:\n",
    ">* You no longer need a separate input layer, so remove any mention of `self.layer_0`\n",
    ">* You will be dealing with the old hidden layer more directly, so create `self.layer_1`, a two-dimensional matrix with shape 1 x hidden_nodes, with all values initialized to zero\n",
    "* Modify `train`:\n",
    ">* Change the name of the input parameter `training_reviews` to `training_reviews_raw`. This will help with the next step.\n",
    ">* At the beginning of the function, you'll want to preprocess your reviews to convert them to a list of indices (from `word2index`) that are actually used in the review. This is equivalent to what you saw in the video when Andrew set specific indices to 1. Your code should create a local `list` variable named `training_reviews` that should contain a `list` for each review in `training_reviews_raw`. Those lists should contain the indices for words found in the review.\n",
    ">* Remove call to `update_input_layer`\n",
    ">* Use `self`'s  `layer_1` instead of a local `layer_1` object.\n",
    ">* In the forward pass, replace the code that updates `layer_1` with new logic that only adds the weights for the indices used in the review.\n",
    ">* When updating `weights_0_1`, only update the individual weights that were used in the forward pass.\n",
    "* Modify `run`:\n",
    ">* Remove call to `update_input_layer` \n",
    ">* Use `self`'s  `layer_1` instead of a local `layer_1` object.\n",
    ">* Much like you did in `train`, you will need to pre-process the `review` so you can work with word indices, then update `layer_1` by adding weights for the indices used in the review."
   ]
  },
  {
   "cell_type": "code",
   "execution_count": 146,
   "metadata": {
    "collapsed": true
   },
   "outputs": [],
   "source": [
    "# TODO: -Copy the SentimentNetwork class from Project 4 lesson\n",
    "#       -Modify it according to the above instructions\n",
    "\n",
    "# I modified the starter code a lot, because it wasn't written in a good manner.\n",
    "# Namely, the constructor took too long to execute, because it called self.pre_process_data(reviews, labels)\n",
    "# and self.init_network(len(self.review_vocab), hidden_nodes, 1, learning_rate), where\n",
    "# a constructor should be as short as possible, both in code, and in execution time.\n",
    "# It should just create an object (with minimal initialization) and finish.\n",
    "# It's ridiculous to process data in it!\n",
    "# It is okay to call self.init_network() inside of the constructor, but the problem is\n",
    "# that it requires a result from self.pre_process_data(), so my constructor doesn't do anything.\n",
    "# I didn't want to change the code too much, for later easier use.\n",
    "# But, a change in use is required. Now we have to manually initialize the network we create\n",
    "# every time, after pre-processing the data, but this is a regular way, unlike their.\n",
    "# I have also taken the np.random.seed(1) out of the constructor, because it has\n",
    "# absolutely nothing to do with an object, of course, and it should be set only once\n",
    "# in a program, at its beginning.\n",
    "# And I don't know what the data pre-processing has to do with a network object anyway, but okay...\n",
    "\n",
    "# This solution is not like in the video.\n",
    "# I'm keeping the function update_input_layer().\n",
    "\n",
    "\n",
    "import time\n",
    "import sys\n",
    "import numpy as np\n",
    "\n",
    "\n",
    "# Assign a seed to our random number generator to ensure we get\n",
    "# reproducible results during development \n",
    "np.random.seed(1)\n",
    "\n",
    "\n",
    "# Encapsulate our neural network in a class\n",
    "class SentimentNetwork:\n",
    "    def __init__(self, reviews, labels, hidden_nodes = 10, learning_rate = 0.1):\n",
    "        \"\"\"Create a SentimenNetwork with the given settings\n",
    "        Args:\n",
    "            reviews(list) - List of reviews used for training\n",
    "            labels(list) - List of POSITIVE/NEGATIVE labels associated with the given reviews\n",
    "            hidden_nodes(int) - Number of nodes to create in the hidden layer\n",
    "            learning_rate(float) - Learning rate to use while training        \n",
    "        \"\"\"\n",
    "        \n",
    "        self.review_vocab = None\n",
    "        self.label_vocab = None\n",
    "        self.review_vocab_size = None\n",
    "        self.label_vocab_size = None\n",
    "        self.word2index = None\n",
    "        self.label2index = None\n",
    "        \n",
    "        self.input_nodes = None\n",
    "        self.hidden_nodes = None\n",
    "        self.output_nodes = None\n",
    "        self.learning_rate = None\n",
    "        self.weights_0_1 = None\n",
    "        self.weights_1_2 = None\n",
    "        self.layer_1 = None\n",
    "        self.indices = None\n",
    "        \n",
    "    \n",
    "        # process the reviews and their associated labels so that everything\n",
    "        # is ready for training\n",
    "        #self.pre_process_data(reviews, labels)\n",
    "        \n",
    "        # Build the network to have the number of hidden nodes and the learning rate that\n",
    "        # were passed into this initializer. Make the same number of input nodes as\n",
    "        # there are vocabulary words and create a single output node.\n",
    "        #self.init_network(len(self.review_vocab), hidden_nodes, 1, learning_rate)\n",
    "\n",
    "    def pre_process_data(self, reviews, labels):\n",
    "        \"\"\"Returns self.review_vocab_size.\"\"\"\n",
    "        # It returned None, where it now returns len(self.review_vocab).\n",
    "        \n",
    "        review_vocab = set()\n",
    "        # TODO: populate review_vocab with all of the words in the given reviews\n",
    "        #       Remember to split reviews into individual words \n",
    "        #       using \"split(' ')\" instead of \"split()\".\n",
    "        for review in reviews:\n",
    "            for word in review.split(\" \"):\n",
    "                review_vocab.add(word)\n",
    "        \n",
    "        # Convert the vocabulary set to a list so we can access words via indices\n",
    "        self.review_vocab = list(review_vocab)\n",
    "        \n",
    "        label_vocab = set()\n",
    "        # TODO: populate label_vocab with all of the words in the given labels.\n",
    "        #       There is no need to split the labels because each one is a single word.\n",
    "        for label in labels:\n",
    "            label_vocab.add(label)\n",
    "        \n",
    "        # Convert the label vocabulary set to a list so we can access labels via indices\n",
    "        self.label_vocab = list(label_vocab)\n",
    "        \n",
    "        # Store the sizes of the review and label vocabularies.\n",
    "        self.review_vocab_size = len(self.review_vocab)\n",
    "        self.label_vocab_size = len(self.label_vocab)\n",
    "        \n",
    "        # Create a dictionary of words in the vocabulary mapped to index positions\n",
    "        self.word2index = {}\n",
    "        # TODO: populate self.word2index with indices for all the words in self.review_vocab\n",
    "        #       like you saw earlier in the notebook\n",
    "        for i, word in enumerate(self.review_vocab):\n",
    "            self.word2index[word] = i\n",
    "        \n",
    "        # Create a dictionary of labels mapped to index positions\n",
    "        self.label2index = {}\n",
    "        # TODO: do the same thing you did for self.word2index and self.review_vocab, \n",
    "        #       but for self.label2index and self.label_vocab instead\n",
    "        for i, label in enumerate(self.label_vocab):\n",
    "            self.label2index[label] = i\n",
    "            \n",
    "        return len(self.review_vocab)\n",
    "         \n",
    "        \n",
    "    def init_network(self, input_nodes, hidden_nodes, output_nodes, learning_rate):\n",
    "        # Store the number of nodes in input, hidden, and output layers.\n",
    "        self.input_nodes = input_nodes\n",
    "        self.hidden_nodes = hidden_nodes\n",
    "        self.output_nodes = output_nodes\n",
    "\n",
    "        # Store the learning rate\n",
    "        self.learning_rate = learning_rate\n",
    "\n",
    "        # Initialize weights\n",
    "        \n",
    "        # TODO: initialize self.weights_0_1 as a matrix of zeros. These are the weights between\n",
    "        #       the input layer and the hidden layer.\n",
    "        #self.weights_0_1 = np.random.randn(self.input_nodes, self.hidden_nodes) / np.sqrt(self.input_nodes)\n",
    "        self.weights_0_1 = np.random.normal(0.0, self.input_nodes ** -0.5,\n",
    "                                            (self.input_nodes, self.hidden_nodes))\n",
    "        \n",
    "        # TODO: initialize self.weights_1_2 as a matrix of random values. \n",
    "        #       These are the weights between the hidden layer and the output layer.\n",
    "        #self.weights_1_2 = np.random.randn(self.hidden_nodes, self.output_nodes) / np.sqrt(self.hidden_nodes)\n",
    "        self.weights_1_2 = np.random.normal(0.0, self.hidden_nodes ** -0.5,\n",
    "                                           (self.hidden_nodes, self.output_nodes))\n",
    "        \n",
    "        # TODO: Create the hidden layer, a two-dimensional matrix with shape \n",
    "        #       1 x hidden_nodes, with all values initialized to zero\n",
    "        self.layer_1 = np.zeros((1, hidden_nodes))\n",
    "        \n",
    "    \n",
    "    def update_input_layer(self, review):\n",
    "        self.indices = set()  # A set of indices for every review\n",
    "        for word in review.split(\" \"):\n",
    "            if(word in self.word2index.keys()):\n",
    "                self.indices.add(self.word2index[word])\n",
    "        self.indices = list(self.indices)\n",
    "\n",
    "    def get_target_for_label(self, label):\n",
    "        # TODO: Copy the code you wrote for get_target_for_label \n",
    "        #       earlier in this notebook. \n",
    "        return 0 if label == \"NEGATIVE\" else 1\n",
    "        \n",
    "    def sigmoid(self, x):\n",
    "        # TODO: Return the result of calculating the sigmoid activation function\n",
    "        #       shown in the lectures\n",
    "        return 1. / (1. + np.exp(-x))\n",
    "    \n",
    "    def sigmoid_output_2_derivative(self, output):\n",
    "        # TODO: Return the derivative of the sigmoid activation function, \n",
    "        #       where \"output\" is the original output from the sigmoid fucntion \n",
    "        return output * (1. - output)\n",
    "\n",
    "    def train(self, training_reviews, training_labels):\n",
    "        \n",
    "        # make sure out we have a matching number of reviews and labels\n",
    "        assert(len(training_reviews) == len(training_labels))\n",
    "        \n",
    "        # Keep track of correct predictions to display accuracy during training \n",
    "        correct_so_far = 0\n",
    "        \n",
    "        # Remember when we started for printing time statistics\n",
    "        start = time.time()\n",
    "\n",
    "        # loop through all the given reviews and run a forward and backward pass,\n",
    "        # updating weights for every item\n",
    "        for i in range(len(training_reviews)):\n",
    "            \n",
    "            # TODO: Get the next review and its correct label\n",
    "            review = training_reviews[i]\n",
    "            label = training_labels[i]\n",
    "            label = self.get_target_for_label(label)\n",
    "            \n",
    "            # TODO: Implement the forward pass through the network. \n",
    "            #       That means use the given review to update the input layer, \n",
    "            #       then calculate values for the hidden layer,\n",
    "            #       and finally calculate the output layer.\n",
    "            # \n",
    "            #       Do not use an activation function for the hidden layer,\n",
    "            #       but use the sigmoid activation function for the output layer.\n",
    "            \n",
    "            self.update_input_layer(review)\n",
    "            \n",
    "            self.layer_1 *= 0\n",
    "            for index in self.indices:\n",
    "                self.layer_1 += self.weights_0_1[index]\n",
    "            hidden_inputs = self.layer_1  # signals into hidden layer\n",
    "            hidden_outputs = hidden_inputs  # signals from hidden layer\n",
    "            \n",
    "            final_inputs = np.dot(hidden_outputs, self.weights_1_2)  # signals into final output layer\n",
    "            final_output = self.sigmoid(final_inputs)  # signal from final output layer\n",
    "            \n",
    "            \n",
    "            # TODO: Implement the back propagation pass here. \n",
    "            #       That means calculate the error for the forward pass's prediction\n",
    "            #       and update the weights in the network according to their\n",
    "            #       contributions toward the error, as calculated via the\n",
    "            #       gradient descent and back propagation algorithms you \n",
    "            #       learned in class.\n",
    "            \n",
    "            # Output error\n",
    "            error = label - final_output  # Output layer error is the difference between desired target and actual output.            \n",
    "            output_error_term = error * final_output * (1. - final_output)  # error * derivative of the output activation function\n",
    "            \n",
    "            # Backpropagated error\n",
    "            hidden_error = np.dot(output_error_term, self.weights_1_2.T)  # errors propagated to the hidden layer\n",
    "            hidden_error_term = hidden_error  # derivative of the hidden activation function is 1\n",
    "            \n",
    "            # Update the weights\n",
    "            self.weights_1_2 += self.learning_rate * np.outer(hidden_outputs, output_error_term)\n",
    "            for index in self.indices:\n",
    "                self.weights_0_1[index] += self.learning_rate * hidden_error_term[0]\n",
    "            \n",
    "            \n",
    "            # TODO: Keep track of correct predictions. To determine if the prediction was\n",
    "            #       correct, check that the absolute value of the output error \n",
    "            #       is less than 0.5. If so, add one to the correct_so_far count.\n",
    "            if np.abs(error) < 0.5:\n",
    "                correct_so_far += 1\n",
    "\n",
    "\n",
    "            # For debug purposes, print out our prediction accuracy and speed \n",
    "            # throughout the training process. \n",
    "            \n",
    "            elapsed_time = float(time.time() - start)\n",
    "            reviews_per_second = i / elapsed_time if elapsed_time > 0 else 0\n",
    "            \n",
    "            sys.stdout.write(\"\\rProgress:\" + str(100 * i/float(len(training_reviews)))[:4] \\\n",
    "                             + \"% Speed(reviews/sec):\" + str(reviews_per_second)[0:5] \\\n",
    "                             + \" #Correct:\" + str(correct_so_far) + \" #Trained:\" + str(i+1) \\\n",
    "                             + \" Training Accuracy:\" + str(correct_so_far * 100 / float(i+1))[:4] + \"%\")\n",
    "            if(i % 2500 == 0):\n",
    "                print(\"\")\n",
    "    \n",
    "    def test(self, testing_reviews, testing_labels):\n",
    "        \"\"\"\n",
    "        Attempts to predict the labels for the given testing_reviews,\n",
    "        and uses the test_labels to calculate the accuracy of those predictions.\n",
    "        \"\"\"\n",
    "        \n",
    "        # keep track of how many correct predictions we make\n",
    "        correct = 0\n",
    "\n",
    "        # we'll time how many predictions per second we make\n",
    "        start = time.time()\n",
    "\n",
    "        # Loop through each of the given reviews and call run to predict\n",
    "        # its label. \n",
    "        for i in range(len(testing_reviews)):\n",
    "            pred = self.run(testing_reviews[i])\n",
    "            if(pred == testing_labels[i]):\n",
    "                correct += 1\n",
    "            \n",
    "            # For debug purposes, print out our prediction accuracy and speed \n",
    "            # throughout the prediction process. \n",
    "\n",
    "            elapsed_time = float(time.time() - start)\n",
    "            reviews_per_second = i / elapsed_time if elapsed_time > 0 else 0\n",
    "            \n",
    "            sys.stdout.write(\"\\rProgress:\" + str(100 * i/float(len(testing_reviews)))[:4] \\\n",
    "                             + \"% Speed(reviews/sec):\" + str(reviews_per_second)[0:5] \\\n",
    "                             + \" #Correct:\" + str(correct) + \" #Tested:\" + str(i+1) \\\n",
    "                             + \" Testing Accuracy:\" + str(correct * 100 / float(i+1))[:4] + \"%\")\n",
    "    \n",
    "    def run(self, review):\n",
    "        \"\"\"\n",
    "        Returns a POSITIVE or NEGATIVE prediction for the given review.\n",
    "        \"\"\"\n",
    "        # TODO: Run a forward pass through the network, like you did in the\n",
    "        #       \"train\" function. That means use the given review to \n",
    "        #       update the input layer, then calculate values for the hidden layer,\n",
    "        #       and finally calculate the output layer.\n",
    "        #\n",
    "        #       Note: The review passed into this function for prediction \n",
    "        #             might come from anywhere, so you should convert it \n",
    "        #             to lower case prior to using it.\n",
    "        \n",
    "        # Input layer\n",
    "        self.update_input_layer(review.lower())\n",
    "        \n",
    "        # Hidden layer\n",
    "        #hidden_outputs = np.dot(self.layer_1, self.weights_0_1)\n",
    "        self.layer_1 *= 0\n",
    "        for index in self.indices:\n",
    "            self.layer_1 += self.weights_0_1[index]\n",
    "        hidden_outputs = self.layer_1\n",
    "        \n",
    "        # Output layer\n",
    "        final_output = self.sigmoid(np.dot(hidden_outputs, self.weights_1_2))\n",
    "        \n",
    "        # TODO: The output layer should now contain a prediction. \n",
    "        #       Return `POSITIVE` for predictions greater-than-or-equal-to `0.5`, \n",
    "        #       and `NEGATIVE` otherwise.\n",
    "        \n",
    "        return \"POSITIVE\" if final_output[0] >= 0.5 else \"NEGATIVE\"\n",
    "        \n",
    "        "
   ]
  },
  {
   "cell_type": "markdown",
   "metadata": {},
   "source": [
    "Run the following cell to recreate the network and train it once again."
   ]
  },
  {
   "cell_type": "code",
   "execution_count": 147,
   "metadata": {},
   "outputs": [
    {
     "name": "stdout",
     "output_type": "stream",
     "text": [
      "TRAINING\n",
      "Progress:0.0% Speed(reviews/sec):0.0 #Correct:1 #Trained:1 Training Accuracy:100.%\n",
      "Progress:10.4% Speed(reviews/sec):733.8 #Correct:1941 #Trained:2501 Training Accuracy:77.6%\n",
      "Progress:20.8% Speed(reviews/sec):688.5 #Correct:3990 #Trained:5001 Training Accuracy:79.7%\n",
      "Progress:31.2% Speed(reviews/sec):673.9 #Correct:6114 #Trained:7501 Training Accuracy:81.5%\n",
      "Progress:41.6% Speed(reviews/sec):674.2 #Correct:8273 #Trained:10001 Training Accuracy:82.7%\n",
      "Progress:52.0% Speed(reviews/sec):664.8 #Correct:10433 #Trained:12501 Training Accuracy:83.4%\n",
      "Progress:62.5% Speed(reviews/sec):660.9 #Correct:12574 #Trained:15001 Training Accuracy:83.8%\n",
      "Progress:72.9% Speed(reviews/sec):655.4 #Correct:14689 #Trained:17501 Training Accuracy:83.9%\n",
      "Progress:83.3% Speed(reviews/sec):651.6 #Correct:16858 #Trained:20001 Training Accuracy:84.2%\n",
      "Progress:93.7% Speed(reviews/sec):648.6 #Correct:19046 #Trained:22501 Training Accuracy:84.6%\n",
      "Progress:99.9% Speed(reviews/sec):648.1 #Correct:20369 #Trained:24000 Training Accuracy:84.8%\n",
      "\n",
      "TESTING\n",
      "Progress:99.9% Speed(reviews/sec):1228. #Correct:858 #Tested:1000 Testing Accuracy:85.8%"
     ]
    }
   ],
   "source": [
    "mlp = SentimentNetwork(reviews[:-1000], labels[:-1000], learning_rate=0.1)\n",
    "# I have to add the following lines:\n",
    "vocab_len = mlp.pre_process_data(reviews[:-1000], labels[:-1000])\n",
    "mlp.init_network(input_nodes=vocab_len, hidden_nodes=10, output_nodes=1, learning_rate=0.1)\n",
    "\n",
    "print(\"TRAINING\")\n",
    "mlp.train(reviews[:-1000], labels[:-1000])\n",
    "\n",
    "print(\"\\n\\nTESTING\")\n",
    "mlp.test(reviews[-1000:], labels[-1000:])"
   ]
  },
  {
   "cell_type": "markdown",
   "metadata": {},
   "source": [
    "That should have trained much faster than the earlier attempts. Run the following cell to test your model with 1000 predictions."
   ]
  },
  {
   "cell_type": "code",
   "execution_count": null,
   "metadata": {
    "collapsed": true
   },
   "outputs": [],
   "source": [
    "#mlp.test(reviews[-1000:], labels[-1000:])"
   ]
  },
  {
   "cell_type": "code",
   "execution_count": 148,
   "metadata": {
    "collapsed": true
   },
   "outputs": [],
   "source": [
    "# TODO: -Copy the SentimentNetwork class from Project 4 lesson\n",
    "#       -Modify it according to the above instructions\n",
    "\n",
    "# I modified the starter code a lot, because it wasn't written in a good manner.\n",
    "# Namely, the constructor took too long to execute, because it called self.pre_process_data(reviews, labels)\n",
    "# and self.init_network(len(self.review_vocab), hidden_nodes, 1, learning_rate), where\n",
    "# a constructor should be as short as possible, both in code, and in execution time.\n",
    "# It should just create an object (with minimal initialization) and finish.\n",
    "# It's ridiculous to process data in it!\n",
    "# It is okay to call self.init_network() inside of the constructor, but the problem is\n",
    "# that it requires a result from self.pre_process_data(), so my constructor doesn't do anything.\n",
    "# I didn't want to change the code too much, for later easier use.\n",
    "# But, a change in use is required. Now we have to manually initialize the network we create\n",
    "# every time, after pre-processing the data, but this is a regular way, unlike their.\n",
    "# I have also taken the np.random.seed(1) out of the constructor, because it has\n",
    "# absolutely nothing to do with an object, of course, and it should be set only once\n",
    "# in a program, at its beginning.\n",
    "# And I don't know what the data pre-processing has to do with a network object anyway, but okay...\n",
    "\n",
    "# This solution is like in the video.\n",
    "\n",
    "\n",
    "import time\n",
    "import sys\n",
    "import numpy as np\n",
    "\n",
    "\n",
    "# Assign a seed to our random number generator to ensure we get\n",
    "# reproducible results during development \n",
    "np.random.seed(1)\n",
    "\n",
    "\n",
    "# Encapsulate our neural network in a class\n",
    "class SentimentNetwork:\n",
    "    def __init__(self, reviews, labels, hidden_nodes = 10, learning_rate = 0.1):\n",
    "        \"\"\"Create a SentimenNetwork with the given settings\n",
    "        Args:\n",
    "            reviews(list) - List of reviews used for training\n",
    "            labels(list) - List of POSITIVE/NEGATIVE labels associated with the given reviews\n",
    "            hidden_nodes(int) - Number of nodes to create in the hidden layer\n",
    "            learning_rate(float) - Learning rate to use while training        \n",
    "        \"\"\"\n",
    "        \n",
    "        self.review_vocab = None\n",
    "        self.label_vocab = None\n",
    "        self.review_vocab_size = None\n",
    "        self.label_vocab_size = None\n",
    "        self.word2index = None\n",
    "        self.label2index = None\n",
    "        \n",
    "        self.input_nodes = None\n",
    "        self.hidden_nodes = None\n",
    "        self.output_nodes = None\n",
    "        self.learning_rate = None\n",
    "        self.weights_0_1 = None\n",
    "        self.weights_1_2 = None\n",
    "        self.layer_1 = None\n",
    "        \n",
    "    \n",
    "        # process the reviews and their associated labels so that everything\n",
    "        # is ready for training\n",
    "        #self.pre_process_data(reviews, labels)\n",
    "        \n",
    "        # Build the network to have the number of hidden nodes and the learning rate that\n",
    "        # were passed into this initializer. Make the same number of input nodes as\n",
    "        # there are vocabulary words and create a single output node.\n",
    "        #self.init_network(len(self.review_vocab), hidden_nodes, 1, learning_rate)\n",
    "\n",
    "    def pre_process_data(self, reviews, labels):\n",
    "        \"\"\"Returns self.review_vocab_size.\"\"\"\n",
    "        # It returned None, where it now returns len(self.review_vocab).\n",
    "        \n",
    "        review_vocab = set()\n",
    "        # TODO: populate review_vocab with all of the words in the given reviews\n",
    "        #       Remember to split reviews into individual words \n",
    "        #       using \"split(' ')\" instead of \"split()\".\n",
    "        for review in reviews:\n",
    "            for word in review.split(\" \"):\n",
    "                review_vocab.add(word)\n",
    "        \n",
    "        # Convert the vocabulary set to a list so we can access words via indices\n",
    "        self.review_vocab = list(review_vocab)\n",
    "        \n",
    "        label_vocab = set()\n",
    "        # TODO: populate label_vocab with all of the words in the given labels.\n",
    "        #       There is no need to split the labels because each one is a single word.\n",
    "        for label in labels:\n",
    "            label_vocab.add(label)\n",
    "        \n",
    "        # Convert the label vocabulary set to a list so we can access labels via indices\n",
    "        self.label_vocab = list(label_vocab)\n",
    "        \n",
    "        # Store the sizes of the review and label vocabularies.\n",
    "        self.review_vocab_size = len(self.review_vocab)\n",
    "        self.label_vocab_size = len(self.label_vocab)\n",
    "        \n",
    "        # Create a dictionary of words in the vocabulary mapped to index positions\n",
    "        self.word2index = {}\n",
    "        # TODO: populate self.word2index with indices for all the words in self.review_vocab\n",
    "        #       like you saw earlier in the notebook\n",
    "        for i, word in enumerate(self.review_vocab):\n",
    "            self.word2index[word] = i\n",
    "        \n",
    "        # Create a dictionary of labels mapped to index positions\n",
    "        self.label2index = {}\n",
    "        # TODO: do the same thing you did for self.word2index and self.review_vocab, \n",
    "        #       but for self.label2index and self.label_vocab instead\n",
    "        for i, label in enumerate(self.label_vocab):\n",
    "            self.label2index[label] = i\n",
    "            \n",
    "        return len(self.review_vocab)\n",
    "         \n",
    "        \n",
    "    def init_network(self, input_nodes, hidden_nodes, output_nodes, learning_rate):\n",
    "        # Store the number of nodes in input, hidden, and output layers.\n",
    "        self.input_nodes = input_nodes\n",
    "        self.hidden_nodes = hidden_nodes\n",
    "        self.output_nodes = output_nodes\n",
    "\n",
    "        # Store the learning rate\n",
    "        self.learning_rate = learning_rate\n",
    "\n",
    "        # Initialize weights\n",
    "        \n",
    "        # TODO: initialize self.weights_0_1 as a matrix of zeros. These are the weights between\n",
    "        #       the input layer and the hidden layer.\n",
    "        #self.weights_0_1 = np.random.randn(self.input_nodes, self.hidden_nodes) / np.sqrt(self.input_nodes)\n",
    "        self.weights_0_1 = np.random.normal(0.0, self.input_nodes ** -0.5,\n",
    "                                            (self.input_nodes, self.hidden_nodes))\n",
    "        \n",
    "        # TODO: initialize self.weights_1_2 as a matrix of random values. \n",
    "        #       These are the weights between the hidden layer and the output layer.\n",
    "        #self.weights_1_2 = np.random.randn(self.hidden_nodes, self.output_nodes) / np.sqrt(self.hidden_nodes)\n",
    "        self.weights_1_2 = np.random.normal(0.0, self.hidden_nodes ** -0.5,\n",
    "                                           (self.hidden_nodes, self.output_nodes))\n",
    "        \n",
    "        # TODO: Create the hidden layer, a two-dimensional matrix with shape \n",
    "        #       1 x hidden_nodes, with all values initialized to zero\n",
    "        self.layer_1 = np.zeros((1, hidden_nodes))\n",
    "        \n",
    "    \n",
    "    def get_target_for_label(self, label):\n",
    "        # TODO: Copy the code you wrote for get_target_for_label \n",
    "        #       earlier in this notebook. \n",
    "        return 0 if label == \"NEGATIVE\" else 1\n",
    "        \n",
    "    def sigmoid(self, x):\n",
    "        # TODO: Return the result of calculating the sigmoid activation function\n",
    "        #       shown in the lectures\n",
    "        return 1. / (1. + np.exp(-x))\n",
    "    \n",
    "    def sigmoid_output_2_derivative(self, output):\n",
    "        # TODO: Return the derivative of the sigmoid activation function, \n",
    "        #       where \"output\" is the original output from the sigmoid fucntion \n",
    "        return output * (1. - output)\n",
    "\n",
    "    def train(self, training_reviews_raw, training_labels):\n",
    "        \n",
    "        training_reviews = list()\n",
    "        for review in training_reviews_raw:\n",
    "            indices = set()  # A set of indices for every review\n",
    "            for word in review.split(\" \"):\n",
    "                if(word in self.word2index.keys()):\n",
    "                    indices.add(self.word2index[word])\n",
    "            training_reviews.append(list(indices))\n",
    "        \n",
    "        # make sure out we have a matching number of reviews and labels\n",
    "        assert(len(training_reviews) == len(training_labels))\n",
    "        \n",
    "        # Keep track of correct predictions to display accuracy during training \n",
    "        correct_so_far = 0\n",
    "        \n",
    "        # Remember when we started for printing time statistics\n",
    "        start = time.time()\n",
    "\n",
    "        # loop through all the given reviews and run a forward and backward pass,\n",
    "        # updating weights for every item\n",
    "        for i in range(len(training_reviews)):\n",
    "            \n",
    "            # TODO: Get the next review and its correct label\n",
    "            review = training_reviews[i]\n",
    "            label = training_labels[i]\n",
    "            label = self.get_target_for_label(label)\n",
    "            \n",
    "            # TODO: Implement the forward pass through the network. \n",
    "            #       That means use the given review to update the input layer, \n",
    "            #       then calculate values for the hidden layer,\n",
    "            #       and finally calculate the output layer.\n",
    "            # \n",
    "            #       Do not use an activation function for the hidden layer,\n",
    "            #       but use the sigmoid activation function for the output layer.\n",
    "            \n",
    "            self.layer_1 *= 0\n",
    "            for index in review:\n",
    "                self.layer_1 += self.weights_0_1[index]\n",
    "            hidden_inputs = self.layer_1  # signals into hidden layer\n",
    "            hidden_outputs = hidden_inputs  # signals from hidden layer\n",
    "            \n",
    "            final_inputs = np.dot(hidden_outputs, self.weights_1_2)  # signals into final output layer\n",
    "            final_output = self.sigmoid(final_inputs)  # signal from final output layer\n",
    "            \n",
    "            \n",
    "            # TODO: Implement the back propagation pass here. \n",
    "            #       That means calculate the error for the forward pass's prediction\n",
    "            #       and update the weights in the network according to their\n",
    "            #       contributions toward the error, as calculated via the\n",
    "            #       gradient descent and back propagation algorithms you \n",
    "            #       learned in class.\n",
    "            \n",
    "            # Output error\n",
    "            error = label - final_output  # Output layer error is the difference between desired target and actual output.            \n",
    "            output_error_term = error * final_output * (1. - final_output)  # error * derivative of the output activation function\n",
    "            \n",
    "            # Backpropagated error\n",
    "            hidden_error = np.dot(output_error_term, self.weights_1_2.T)  # errors propagated to the hidden layer\n",
    "            hidden_error_term = hidden_error  # derivative of the hidden activation function is 1\n",
    "            \n",
    "            # Update the weights\n",
    "            self.weights_1_2 += self.learning_rate * np.outer(hidden_outputs, output_error_term)\n",
    "            for index in review:\n",
    "                self.weights_0_1[index] += self.learning_rate * hidden_error_term[0]\n",
    "            \n",
    "            \n",
    "            # TODO: Keep track of correct predictions. To determine if the prediction was\n",
    "            #       correct, check that the absolute value of the output error \n",
    "            #       is less than 0.5. If so, add one to the correct_so_far count.\n",
    "            if np.abs(error) < 0.5:\n",
    "                correct_so_far += 1\n",
    "\n",
    "\n",
    "            # For debug purposes, print out our prediction accuracy and speed \n",
    "            # throughout the training process. \n",
    "            \n",
    "            elapsed_time = float(time.time() - start)\n",
    "            reviews_per_second = i / elapsed_time if elapsed_time > 0 else 0\n",
    "            \n",
    "            sys.stdout.write(\"\\rProgress:\" + str(100 * i/float(len(training_reviews)))[:4] \\\n",
    "                             + \"% Speed(reviews/sec):\" + str(reviews_per_second)[0:5] \\\n",
    "                             + \" #Correct:\" + str(correct_so_far) + \" #Trained:\" + str(i+1) \\\n",
    "                             + \" Training Accuracy:\" + str(correct_so_far * 100 / float(i+1))[:4] + \"%\")\n",
    "            if(i % 2500 == 0):\n",
    "                print(\"\")\n",
    "    \n",
    "    def test(self, testing_reviews, testing_labels):\n",
    "        \"\"\"\n",
    "        Attempts to predict the labels for the given testing_reviews,\n",
    "        and uses the test_labels to calculate the accuracy of those predictions.\n",
    "        \"\"\"\n",
    "        \n",
    "        # keep track of how many correct predictions we make\n",
    "        correct = 0\n",
    "\n",
    "        # we'll time how many predictions per second we make\n",
    "        start = time.time()\n",
    "\n",
    "        # Loop through each of the given reviews and call run to predict\n",
    "        # its label. \n",
    "        for i in range(len(testing_reviews)):\n",
    "            pred = self.run(testing_reviews[i])\n",
    "            if(pred == testing_labels[i]):\n",
    "                correct += 1\n",
    "            \n",
    "            # For debug purposes, print out our prediction accuracy and speed \n",
    "            # throughout the prediction process. \n",
    "\n",
    "            elapsed_time = float(time.time() - start)\n",
    "            reviews_per_second = i / elapsed_time if elapsed_time > 0 else 0\n",
    "            \n",
    "            sys.stdout.write(\"\\rProgress:\" + str(100 * i/float(len(testing_reviews)))[:4] \\\n",
    "                             + \"% Speed(reviews/sec):\" + str(reviews_per_second)[0:5] \\\n",
    "                             + \" #Correct:\" + str(correct) + \" #Tested:\" + str(i+1) \\\n",
    "                             + \" Testing Accuracy:\" + str(correct * 100 / float(i+1))[:4] + \"%\")\n",
    "    \n",
    "    def run(self, review):\n",
    "        \"\"\"\n",
    "        Returns a POSITIVE or NEGATIVE prediction for the given review.\n",
    "        \"\"\"\n",
    "        # TODO: Run a forward pass through the network, like you did in the\n",
    "        #       \"train\" function. That means use the given review to \n",
    "        #       update the input layer, then calculate values for the hidden layer,\n",
    "        #       and finally calculate the output layer.\n",
    "        #\n",
    "        #       Note: The review passed into this function for prediction \n",
    "        #             might come from anywhere, so you should convert it \n",
    "        #             to lower case prior to using it.\n",
    "\n",
    "        indices = set()  # A set of indices for every review\n",
    "        for word in review.lower().split(\" \"):\n",
    "            if(word in self.word2index.keys()):\n",
    "                indices.add(self.word2index[word])\n",
    "        \n",
    "        # Hidden layer\n",
    "        self.layer_1 *= 0\n",
    "        for index in indices:\n",
    "            self.layer_1 += self.weights_0_1[index]\n",
    "        hidden_outputs = self.layer_1\n",
    "        \n",
    "        # Output layer\n",
    "        final_output = self.sigmoid(np.dot(hidden_outputs, self.weights_1_2))\n",
    "        \n",
    "        # TODO: The output layer should now contain a prediction. \n",
    "        #       Return `POSITIVE` for predictions greater-than-or-equal-to `0.5`, \n",
    "        #       and `NEGATIVE` otherwise.\n",
    "        \n",
    "        return \"POSITIVE\" if final_output[0] >= 0.5 else \"NEGATIVE\"\n",
    "        \n",
    "        "
   ]
  },
  {
   "cell_type": "code",
   "execution_count": 149,
   "metadata": {},
   "outputs": [
    {
     "name": "stdout",
     "output_type": "stream",
     "text": [
      "TRAINING\n",
      "Progress:0.0% Speed(reviews/sec):0.0 #Correct:1 #Trained:1 Training Accuracy:100.%\n",
      "Progress:10.4% Speed(reviews/sec):845.9 #Correct:1941 #Trained:2501 Training Accuracy:77.6%\n",
      "Progress:20.8% Speed(reviews/sec):775.6 #Correct:3990 #Trained:5001 Training Accuracy:79.7%\n",
      "Progress:31.2% Speed(reviews/sec):759.9 #Correct:6114 #Trained:7501 Training Accuracy:81.5%\n",
      "Progress:41.6% Speed(reviews/sec):762.0 #Correct:8273 #Trained:10001 Training Accuracy:82.7%\n",
      "Progress:52.0% Speed(reviews/sec):744.8 #Correct:10433 #Trained:12501 Training Accuracy:83.4%\n",
      "Progress:62.5% Speed(reviews/sec):746.6 #Correct:12574 #Trained:15001 Training Accuracy:83.8%\n",
      "Progress:72.9% Speed(reviews/sec):747.8 #Correct:14689 #Trained:17501 Training Accuracy:83.9%\n",
      "Progress:83.3% Speed(reviews/sec):746.4 #Correct:16858 #Trained:20001 Training Accuracy:84.2%\n",
      "Progress:93.7% Speed(reviews/sec):743.9 #Correct:19046 #Trained:22501 Training Accuracy:84.6%\n",
      "Progress:99.9% Speed(reviews/sec):737.1 #Correct:20369 #Trained:24000 Training Accuracy:84.8%\n",
      "\n",
      "TESTING\n",
      "Progress:99.9% Speed(reviews/sec):1339. #Correct:858 #Tested:1000 Testing Accuracy:85.8%"
     ]
    }
   ],
   "source": [
    "mlp = SentimentNetwork(reviews[:-1000], labels[:-1000], learning_rate=0.1)\n",
    "# I have to add the following lines:\n",
    "vocab_len = mlp.pre_process_data(reviews[:-1000], labels[:-1000])\n",
    "mlp.init_network(input_nodes=vocab_len, hidden_nodes=10, output_nodes=1, learning_rate=0.1)\n",
    "\n",
    "print(\"TRAINING\")\n",
    "mlp.train(reviews[:-1000], labels[:-1000])\n",
    "\n",
    "print(\"\\n\\nTESTING\")\n",
    "mlp.test(reviews[-1000:], labels[-1000:])"
   ]
  },
  {
   "cell_type": "markdown",
   "metadata": {},
   "source": [
    "# End of Project 5. \n",
    "## Watch the next video to see Andrew's solution, then continue on to the next lesson.\n",
    "# Further Noise Reduction<a id='lesson_6'></a>"
   ]
  },
  {
   "cell_type": "code",
   "execution_count": 150,
   "metadata": {},
   "outputs": [
    {
     "data": {
      "image/png": "[encoded data removed]",
      "text/plain": [
       "<IPython.core.display.Image object>"
      ]
     },
     "execution_count": 150,
     "metadata": {},
     "output_type": "execute_result"
    }
   ],
   "source": [
    "Image(filename='sentiment_network_sparse_2.png')"
   ]
  },
  {
   "cell_type": "code",
   "execution_count": 40,
   "metadata": {},
   "outputs": [
    {
     "data": {
      "text/plain": [
       "[('edie', 4.6913478822291435),\n",
       " ('paulie', 4.0775374439057197),\n",
       " ('felix', 3.1527360223636558),\n",
       " ('polanski', 2.8233610476132043),\n",
       " ('matthau', 2.8067217286092401),\n",
       " ('victoria', 2.6810215287142909),\n",
       " ('mildred', 2.6026896854443837),\n",
       " ('gandhi', 2.5389738710582761),\n",
       " ('flawless', 2.451005098112319),\n",
       " ('superbly', 2.2600254785752498),\n",
       " ('perfection', 2.1594842493533721),\n",
       " ('astaire', 2.1400661634962708),\n",
       " ('captures', 2.0386195471595809),\n",
       " ('voight', 2.0301704926730531),\n",
       " ('wonderfully', 2.0218960560332353),\n",
       " ('powell', 1.9783454248084671),\n",
       " ('brosnan', 1.9547990964725592),\n",
       " ('lily', 1.9203768470501485),\n",
       " ('bakshi', 1.9029851043382795),\n",
       " ('lincoln', 1.9014583864844796),\n",
       " ('refreshing', 1.8551812956655511),\n",
       " ('breathtaking', 1.8481124057791867),\n",
       " ('bourne', 1.8478489358790986),\n",
       " ('lemmon', 1.8458266904983307),\n",
       " ('delightful', 1.8002701588959635),\n",
       " ('flynn', 1.7996646487351682),\n",
       " ('andrews', 1.7764919970972666),\n",
       " ('homer', 1.7692866133759964),\n",
       " ('beautifully', 1.7626953362841438),\n",
       " ('soccer', 1.7578579175523736)]"
      ]
     },
     "execution_count": 40,
     "metadata": {},
     "output_type": "execute_result"
    }
   ],
   "source": [
    "# words most frequently seen in a review with a \"POSITIVE\" label\n",
    "pos_neg_ratios.most_common()[:30]"
   ]
  },
  {
   "cell_type": "code",
   "execution_count": 229,
   "metadata": {},
   "outputs": [
    {
     "data": {
      "text/plain": [
       "[('boll', -4.9698132995760007),\n",
       " ('uwe', -4.6249728132842707),\n",
       " ('seagal', -3.6441435602725449),\n",
       " ('unwatchable', -3.2580965380214821),\n",
       " ('stinker', -3.2088254890146994),\n",
       " ('mst', -2.9502698994772336),\n",
       " ('incoherent', -2.9368917735310576),\n",
       " ('unfunny', -2.6922395950755678),\n",
       " ('waste', -2.6193845640165536),\n",
       " ('blah', -2.5704288232261625),\n",
       " ('horrid', -2.4849066497880004),\n",
       " ('pointless', -2.4553061800117097),\n",
       " ('atrocious', -2.4259083090260445),\n",
       " ('redeeming', -2.3682390632154826),\n",
       " ('prom', -2.3608540011180215),\n",
       " ('drivel', -2.3470368555648795),\n",
       " ('lousy', -2.3075726345050849),\n",
       " ('worst', -2.2869878961803778),\n",
       " ('laughable', -2.2643638801738479),\n",
       " ('awful', -2.2271942470274348),\n",
       " ('poorly', -2.2207550747464135),\n",
       " ('wasting', -2.2046046846338418),\n",
       " ('remotely', -2.1972245773362196),\n",
       " ('existent', -2.0794415416798357),\n",
       " ('boredom', -1.9951003932460849),\n",
       " ('miserably', -1.9924301646902063),\n",
       " ('sucks', -1.9870682215488209),\n",
       " ('uninspired', -1.9832976811269336),\n",
       " ('lame', -1.981767458946166),\n",
       " ('insult', -1.9783454248084671)]"
      ]
     },
     "execution_count": 229,
     "metadata": {},
     "output_type": "execute_result"
    }
   ],
   "source": [
    "# words most frequently seen in a review with a \"NEGATIVE\" label\n",
    "list(reversed(pos_neg_ratios.most_common()))[0:30]"
   ]
  },
  {
   "cell_type": "code",
   "execution_count": 230,
   "metadata": {},
   "outputs": [
    {
     "data": {
      "text/html": [
       "\n",
       "    <div class=\"bk-root\">\n",
       "        <a href=\"https://bokeh.pydata.org\" target=\"_blank\" class=\"bk-logo bk-logo-small bk-logo-notebook\"></a>\n",
       "        <span id=\"d4970790-cbaf-4406-a372-30961ce84d97\">Loading BokehJS ...</span>\n",
       "    </div>"
      ]
     },
     "metadata": {},
     "output_type": "display_data"
    },
    {
     "data": {
      "application/javascript": [
       "\n",
       "(function(root) {\n",
       "  function now() {\n",
       "    return new Date();\n",
       "  }\n",
       "\n",
       "  var force = true;\n",
       "\n",
       "  if (typeof (root._bokeh_onload_callbacks) === \"undefined\" || force === true) {\n",
       "    root._bokeh_onload_callbacks = [];\n",
       "    root._bokeh_is_loading = undefined;\n",
       "  }\n",
       "\n",
       "  var JS_MIME_TYPE = 'application/javascript';\n",
       "  var HTML_MIME_TYPE = 'text/html';\n",
       "  var EXEC_MIME_TYPE = 'application/vnd.bokehjs_exec.v0+json';\n",
       "  var CLASS_NAME = 'output_bokeh rendered_html';\n",
       "\n",
       "  /**\n",
       "   * Render data to the DOM node\n",
       "   */\n",
       "  function render(props, node) {\n",
       "    var script = document.createElement(\"script\");\n",
       "    node.appendChild(script);\n",
       "  }\n",
       "\n",
       "  /**\n",
       "   * Handle when an output is cleared or removed\n",
       "   */\n",
       "  function handleClearOutput(event, handle) {\n",
       "    var cell = handle.cell;\n",
       "\n",
       "    var id = cell.output_area._bokeh_element_id;\n",
       "    var server_id = cell.output_area._bokeh_server_id;\n",
       "    // Clean up Bokeh references\n",
       "    if (id !== undefined) {\n",
       "      Bokeh.index[id].model.document.clear();\n",
       "      delete Bokeh.index[id];\n",
       "    }\n",
       "\n",
       "    if (server_id !== undefined) {\n",
       "      // Clean up Bokeh references\n",
       "      var cmd = \"from bokeh.io.state import curstate; print(curstate().uuid_to_server['\" + server_id + \"'].get_sessions()[0].document.roots[0]._id)\";\n",
       "      cell.notebook.kernel.execute(cmd, {\n",
       "        iopub: {\n",
       "          output: function(msg) {\n",
       "            var element_id = msg.content.text.trim();\n",
       "            Bokeh.index[element_id].model.document.clear();\n",
       "            delete Bokeh.index[element_id];\n",
       "          }\n",
       "        }\n",
       "      });\n",
       "      // Destroy server and session\n",
       "      var cmd = \"import bokeh.io.notebook as ion; ion.destroy_server('\" + server_id + \"')\";\n",
       "      cell.notebook.kernel.execute(cmd);\n",
       "    }\n",
       "  }\n",
       "\n",
       "  /**\n",
       "   * Handle when a new output is added\n",
       "   */\n",
       "  function handleAddOutput(event, handle) {\n",
       "    var output_area = handle.output_area;\n",
       "    var output = handle.output;\n",
       "\n",
       "    // limit handleAddOutput to display_data with EXEC_MIME_TYPE content only\n",
       "    if ((output.output_type != \"display_data\") || (!output.data.hasOwnProperty(EXEC_MIME_TYPE))) {\n",
       "      return\n",
       "    }\n",
       "\n",
       "    var toinsert = output_area.element.find(`.${CLASS_NAME.split(' ')[0]}`);\n",
       "\n",
       "    if (output.metadata[EXEC_MIME_TYPE][\"id\"] !== undefined) {\n",
       "      toinsert[0].firstChild.textContent = output.data[JS_MIME_TYPE];\n",
       "      // store reference to embed id on output_area\n",
       "      output_area._bokeh_element_id = output.metadata[EXEC_MIME_TYPE][\"id\"];\n",
       "    }\n",
       "    if (output.metadata[EXEC_MIME_TYPE][\"server_id\"] !== undefined) {\n",
       "      var bk_div = document.createElement(\"div\");\n",
       "      bk_div.innerHTML = output.data[HTML_MIME_TYPE];\n",
       "      var script_attrs = bk_div.children[0].attributes;\n",
       "      for (var i = 0; i < script_attrs.length; i++) {\n",
       "        toinsert[0].firstChild.setAttribute(script_attrs[i].name, script_attrs[i].value);\n",
       "      }\n",
       "      // store reference to server id on output_area\n",
       "      output_area._bokeh_server_id = output.metadata[EXEC_MIME_TYPE][\"server_id\"];\n",
       "    }\n",
       "  }\n",
       "\n",
       "  function register_renderer(events, OutputArea) {\n",
       "\n",
       "    function append_mime(data, metadata, element) {\n",
       "      // create a DOM node to render to\n",
       "      var toinsert = this.create_output_subarea(\n",
       "        metadata,\n",
       "        CLASS_NAME,\n",
       "        EXEC_MIME_TYPE\n",
       "      );\n",
       "      this.keyboard_manager.register_events(toinsert);\n",
       "      // Render to node\n",
       "      var props = {data: data, metadata: metadata[EXEC_MIME_TYPE]};\n",
       "      render(props, toinsert[0]);\n",
       "      element.append(toinsert);\n",
       "      return toinsert\n",
       "    }\n",
       "\n",
       "    /* Handle when an output is cleared or removed */\n",
       "    events.on('clear_output.CodeCell', handleClearOutput);\n",
       "    events.on('delete.Cell', handleClearOutput);\n",
       "\n",
       "    /* Handle when a new output is added */\n",
       "    events.on('output_added.OutputArea', handleAddOutput);\n",
       "\n",
       "    /**\n",
       "     * Register the mime type and append_mime function with output_area\n",
       "     */\n",
       "    OutputArea.prototype.register_mime_type(EXEC_MIME_TYPE, append_mime, {\n",
       "      /* Is output safe? */\n",
       "      safe: true,\n",
       "      /* Index of renderer in `output_area.display_order` */\n",
       "      index: 0\n",
       "    });\n",
       "  }\n",
       "\n",
       "  // register the mime type if in Jupyter Notebook environment and previously unregistered\n",
       "  if (root.Jupyter !== undefined) {\n",
       "    var events = require('base/js/events');\n",
       "    var OutputArea = require('notebook/js/outputarea').OutputArea;\n",
       "\n",
       "    if (OutputArea.prototype.mime_types().indexOf(EXEC_MIME_TYPE) == -1) {\n",
       "      register_renderer(events, OutputArea);\n",
       "    }\n",
       "  }\n",
       "\n",
       "  \n",
       "  if (typeof (root._bokeh_timeout) === \"undefined\" || force === true) {\n",
       "    root._bokeh_timeout = Date.now() + 5000;\n",
       "    root._bokeh_failed_load = false;\n",
       "  }\n",
       "\n",
       "  var NB_LOAD_WARNING = {'data': {'text/html':\n",
       "     \"<div style='background-color: #fdd'>\\n\"+\n",
       "     \"<p>\\n\"+\n",
       "     \"BokehJS does not appear to have successfully loaded. If loading BokehJS from CDN, this \\n\"+\n",
       "     \"may be due to a slow or bad network connection. Possible fixes:\\n\"+\n",
       "     \"</p>\\n\"+\n",
       "     \"<ul>\\n\"+\n",
       "     \"<li>re-rerun `output_notebook()` to attempt to load from CDN again, or</li>\\n\"+\n",
       "     \"<li>use INLINE resources instead, as so:</li>\\n\"+\n",
       "     \"</ul>\\n\"+\n",
       "     \"<code>\\n\"+\n",
       "     \"from bokeh.resources import INLINE\\n\"+\n",
       "     \"output_notebook(resources=INLINE)\\n\"+\n",
       "     \"</code>\\n\"+\n",
       "     \"</div>\"}};\n",
       "\n",
       "  function display_loaded() {\n",
       "    var el = document.getElementById(\"d4970790-cbaf-4406-a372-30961ce84d97\");\n",
       "    if (el != null) {\n",
       "      el.textContent = \"BokehJS is loading...\";\n",
       "    }\n",
       "    if (root.Bokeh !== undefined) {\n",
       "      if (el != null) {\n",
       "        el.textContent = \"BokehJS \" + root.Bokeh.version + \" successfully loaded.\";\n",
       "      }\n",
       "    } else if (Date.now() < root._bokeh_timeout) {\n",
       "      setTimeout(display_loaded, 100)\n",
       "    }\n",
       "  }\n",
       "\n",
       "\n",
       "  function run_callbacks() {\n",
       "    try {\n",
       "      root._bokeh_onload_callbacks.forEach(function(callback) { callback() });\n",
       "    }\n",
       "    finally {\n",
       "      delete root._bokeh_onload_callbacks\n",
       "    }\n",
       "    console.info(\"Bokeh: all callbacks have finished\");\n",
       "  }\n",
       "\n",
       "  function load_libs(js_urls, callback) {\n",
       "    root._bokeh_onload_callbacks.push(callback);\n",
       "    if (root._bokeh_is_loading > 0) {\n",
       "      console.log(\"Bokeh: BokehJS is being loaded, scheduling callback at\", now());\n",
       "      return null;\n",
       "    }\n",
       "    if (js_urls == null || js_urls.length === 0) {\n",
       "      run_callbacks();\n",
       "      return null;\n",
       "    }\n",
       "    console.log(\"Bokeh: BokehJS not loaded, scheduling load and callback at\", now());\n",
       "    root._bokeh_is_loading = js_urls.length;\n",
       "    for (var i = 0; i < js_urls.length; i++) {\n",
       "      var url = js_urls[i];\n",
       "      var s = document.createElement('script');\n",
       "      s.src = url;\n",
       "      s.async = false;\n",
       "      s.onreadystatechange = s.onload = function() {\n",
       "        root._bokeh_is_loading--;\n",
       "        if (root._bokeh_is_loading === 0) {\n",
       "          console.log(\"Bokeh: all BokehJS libraries loaded\");\n",
       "          run_callbacks()\n",
       "        }\n",
       "      };\n",
       "      s.onerror = function() {\n",
       "        console.warn(\"failed to load library \" + url);\n",
       "      };\n",
       "      console.log(\"Bokeh: injecting script tag for BokehJS library: \", url);\n",
       "      document.getElementsByTagName(\"head\")[0].appendChild(s);\n",
       "    }\n",
       "  };var element = document.getElementById(\"d4970790-cbaf-4406-a372-30961ce84d97\");\n",
       "  if (element == null) {\n",
       "    console.log(\"Bokeh: ERROR: autoload.js configured with elementid 'd4970790-cbaf-4406-a372-30961ce84d97' but no matching script tag was found. \")\n",
       "    return false;\n",
       "  }\n",
       "\n",
       "  var js_urls = [\"https://cdn.pydata.org/bokeh/release/bokeh-0.12.10.min.js\", \"https://cdn.pydata.org/bokeh/release/bokeh-widgets-0.12.10.min.js\", \"https://cdn.pydata.org/bokeh/release/bokeh-tables-0.12.10.min.js\", \"https://cdn.pydata.org/bokeh/release/bokeh-gl-0.12.10.min.js\"];\n",
       "\n",
       "  var inline_js = [\n",
       "    function(Bokeh) {\n",
       "      Bokeh.set_log_level(\"info\");\n",
       "    },\n",
       "    \n",
       "    function(Bokeh) {\n",
       "      \n",
       "    },\n",
       "    function(Bokeh) {\n",
       "      console.log(\"Bokeh: injecting CSS: https://cdn.pydata.org/bokeh/release/bokeh-0.12.10.min.css\");\n",
       "      Bokeh.embed.inject_css(\"https://cdn.pydata.org/bokeh/release/bokeh-0.12.10.min.css\");\n",
       "      console.log(\"Bokeh: injecting CSS: https://cdn.pydata.org/bokeh/release/bokeh-widgets-0.12.10.min.css\");\n",
       "      Bokeh.embed.inject_css(\"https://cdn.pydata.org/bokeh/release/bokeh-widgets-0.12.10.min.css\");\n",
       "      console.log(\"Bokeh: injecting CSS: https://cdn.pydata.org/bokeh/release/bokeh-tables-0.12.10.min.css\");\n",
       "      Bokeh.embed.inject_css(\"https://cdn.pydata.org/bokeh/release/bokeh-tables-0.12.10.min.css\");\n",
       "    }\n",
       "  ];\n",
       "\n",
       "  function run_inline_js() {\n",
       "    \n",
       "    if ((root.Bokeh !== undefined) || (force === true)) {\n",
       "      for (var i = 0; i < inline_js.length; i++) {\n",
       "        inline_js[i].call(root, root.Bokeh);\n",
       "      }if (force === true) {\n",
       "        display_loaded();\n",
       "      }} else if (Date.now() < root._bokeh_timeout) {\n",
       "      setTimeout(run_inline_js, 100);\n",
       "    } else if (!root._bokeh_failed_load) {\n",
       "      console.log(\"Bokeh: BokehJS failed to load within specified timeout.\");\n",
       "      root._bokeh_failed_load = true;\n",
       "    } else if (force !== true) {\n",
       "      var cell = $(document.getElementById(\"d4970790-cbaf-4406-a372-30961ce84d97\")).parents('.cell').data().cell;\n",
       "      cell.output_area.append_execute_result(NB_LOAD_WARNING)\n",
       "    }\n",
       "\n",
       "  }\n",
       "\n",
       "  if (root._bokeh_is_loading === 0) {\n",
       "    console.log(\"Bokeh: BokehJS loaded, going straight to plotting\");\n",
       "    run_inline_js();\n",
       "  } else {\n",
       "    load_libs(js_urls, function() {\n",
       "      console.log(\"Bokeh: BokehJS plotting callback run at\", now());\n",
       "      run_inline_js();\n",
       "    });\n",
       "  }\n",
       "}(window));"
      ],
      "application/vnd.bokehjs_load.v0+json": "\n(function(root) {\n  function now() {\n    return new Date();\n  }\n\n  var force = true;\n\n  if (typeof (root._bokeh_onload_callbacks) === \"undefined\" || force === true) {\n    root._bokeh_onload_callbacks = [];\n    root._bokeh_is_loading = undefined;\n  }\n\n  \n\n  \n  if (typeof (root._bokeh_timeout) === \"undefined\" || force === true) {\n    root._bokeh_timeout = Date.now() + 5000;\n    root._bokeh_failed_load = false;\n  }\n\n  var NB_LOAD_WARNING = {'data': {'text/html':\n     \"<div style='background-color: #fdd'>\\n\"+\n     \"<p>\\n\"+\n     \"BokehJS does not appear to have successfully loaded. If loading BokehJS from CDN, this \\n\"+\n     \"may be due to a slow or bad network connection. Possible fixes:\\n\"+\n     \"</p>\\n\"+\n     \"<ul>\\n\"+\n     \"<li>re-rerun `output_notebook()` to attempt to load from CDN again, or</li>\\n\"+\n     \"<li>use INLINE resources instead, as so:</li>\\n\"+\n     \"</ul>\\n\"+\n     \"<code>\\n\"+\n     \"from bokeh.resources import INLINE\\n\"+\n     \"output_notebook(resources=INLINE)\\n\"+\n     \"</code>\\n\"+\n     \"</div>\"}};\n\n  function display_loaded() {\n    var el = document.getElementById(\"d4970790-cbaf-4406-a372-30961ce84d97\");\n    if (el != null) {\n      el.textContent = \"BokehJS is loading...\";\n    }\n    if (root.Bokeh !== undefined) {\n      if (el != null) {\n        el.textContent = \"BokehJS \" + root.Bokeh.version + \" successfully loaded.\";\n      }\n    } else if (Date.now() < root._bokeh_timeout) {\n      setTimeout(display_loaded, 100)\n    }\n  }\n\n\n  function run_callbacks() {\n    try {\n      root._bokeh_onload_callbacks.forEach(function(callback) { callback() });\n    }\n    finally {\n      delete root._bokeh_onload_callbacks\n    }\n    console.info(\"Bokeh: all callbacks have finished\");\n  }\n\n  function load_libs(js_urls, callback) {\n    root._bokeh_onload_callbacks.push(callback);\n    if (root._bokeh_is_loading > 0) {\n      console.log(\"Bokeh: BokehJS is being loaded, scheduling callback at\", now());\n      return null;\n    }\n    if (js_urls == null || js_urls.length === 0) {\n      run_callbacks();\n      return null;\n    }\n    console.log(\"Bokeh: BokehJS not loaded, scheduling load and callback at\", now());\n    root._bokeh_is_loading = js_urls.length;\n    for (var i = 0; i < js_urls.length; i++) {\n      var url = js_urls[i];\n      var s = document.createElement('script');\n      s.src = url;\n      s.async = false;\n      s.onreadystatechange = s.onload = function() {\n        root._bokeh_is_loading--;\n        if (root._bokeh_is_loading === 0) {\n          console.log(\"Bokeh: all BokehJS libraries loaded\");\n          run_callbacks()\n        }\n      };\n      s.onerror = function() {\n        console.warn(\"failed to load library \" + url);\n      };\n      console.log(\"Bokeh: injecting script tag for BokehJS library: \", url);\n      document.getElementsByTagName(\"head\")[0].appendChild(s);\n    }\n  };var element = document.getElementById(\"d4970790-cbaf-4406-a372-30961ce84d97\");\n  if (element == null) {\n    console.log(\"Bokeh: ERROR: autoload.js configured with elementid 'd4970790-cbaf-4406-a372-30961ce84d97' but no matching script tag was found. \")\n    return false;\n  }\n\n  var js_urls = [\"https://cdn.pydata.org/bokeh/release/bokeh-0.12.10.min.js\", \"https://cdn.pydata.org/bokeh/release/bokeh-widgets-0.12.10.min.js\", \"https://cdn.pydata.org/bokeh/release/bokeh-tables-0.12.10.min.js\", \"https://cdn.pydata.org/bokeh/release/bokeh-gl-0.12.10.min.js\"];\n\n  var inline_js = [\n    function(Bokeh) {\n      Bokeh.set_log_level(\"info\");\n    },\n    \n    function(Bokeh) {\n      \n    },\n    function(Bokeh) {\n      console.log(\"Bokeh: injecting CSS: https://cdn.pydata.org/bokeh/release/bokeh-0.12.10.min.css\");\n      Bokeh.embed.inject_css(\"https://cdn.pydata.org/bokeh/release/bokeh-0.12.10.min.css\");\n      console.log(\"Bokeh: injecting CSS: https://cdn.pydata.org/bokeh/release/bokeh-widgets-0.12.10.min.css\");\n      Bokeh.embed.inject_css(\"https://cdn.pydata.org/bokeh/release/bokeh-widgets-0.12.10.min.css\");\n      console.log(\"Bokeh: injecting CSS: https://cdn.pydata.org/bokeh/release/bokeh-tables-0.12.10.min.css\");\n      Bokeh.embed.inject_css(\"https://cdn.pydata.org/bokeh/release/bokeh-tables-0.12.10.min.css\");\n    }\n  ];\n\n  function run_inline_js() {\n    \n    if ((root.Bokeh !== undefined) || (force === true)) {\n      for (var i = 0; i < inline_js.length; i++) {\n        inline_js[i].call(root, root.Bokeh);\n      }if (force === true) {\n        display_loaded();\n      }} else if (Date.now() < root._bokeh_timeout) {\n      setTimeout(run_inline_js, 100);\n    } else if (!root._bokeh_failed_load) {\n      console.log(\"Bokeh: BokehJS failed to load within specified timeout.\");\n      root._bokeh_failed_load = true;\n    } else if (force !== true) {\n      var cell = $(document.getElementById(\"d4970790-cbaf-4406-a372-30961ce84d97\")).parents('.cell').data().cell;\n      cell.output_area.append_execute_result(NB_LOAD_WARNING)\n    }\n\n  }\n\n  if (root._bokeh_is_loading === 0) {\n    console.log(\"Bokeh: BokehJS loaded, going straight to plotting\");\n    run_inline_js();\n  } else {\n    load_libs(js_urls, function() {\n      console.log(\"Bokeh: BokehJS plotting callback run at\", now());\n      run_inline_js();\n    });\n  }\n}(window));"
     },
     "metadata": {},
     "output_type": "display_data"
    }
   ],
   "source": [
    "from bokeh.models import ColumnDataSource, LabelSet\n",
    "from bokeh.plotting import figure, show, output_file\n",
    "from bokeh.io import output_notebook\n",
    "output_notebook()"
   ]
  },
  {
   "cell_type": "code",
   "execution_count": 231,
   "metadata": {},
   "outputs": [
    {
     "data": {
      "text/html": [
       "\n",
       "<div class=\"bk-root\">\n",
       "    <div class=\"bk-plotdiv\" id=\"d1575fd5-4f91-491b-86cd-701c811a1599\"></div>\n",
       "</div>"
      ]
     },
     "metadata": {},
     "output_type": "display_data"
    },
    {
     "data": {
      "application/javascript": [
       "(function(root) {\n",
       "  function embed_document(root) {\n",
       "    var docs_json = {\"b4a5c8dd-ebaf-4d36-9fad-064ae88bfad2\":{\"roots\":{\"references\":[{\"attributes\":{\"formatter\":{\"id\":\"beb51f14-bb0a-4fde-8a80-c50414bcd0a1\",\"type\":\"BasicTickFormatter\"},\"plot\":{\"id\":\"cf23a520-9e73-452e-b24c-332577c5aa1a\",\"subtype\":\"Figure\",\"type\":\"Plot\"},\"ticker\":{\"id\":\"cd8d86b8-8495-46e7-a091-86b21849606c\",\"type\":\"BasicTicker\"}},\"id\":\"ce8ed885-0201-46b5-8bcb-3292709cf360\",\"type\":\"LinearAxis\"},{\"attributes\":{},\"id\":\"ffaf7776-74a3-4a36-a17f-b80cb4395c68\",\"type\":\"SaveTool\"},{\"attributes\":{},\"id\":\"9075655b-ee18-4313-9e32-578656b2f093\",\"type\":\"BasicTicker\"},{\"attributes\":{\"bottom\":{\"value\":0},\"fill_alpha\":{\"value\":0.1},\"fill_color\":{\"value\":\"#1f77b4\"},\"left\":{\"field\":\"left\"},\"line_alpha\":{\"value\":0.1},\"line_color\":{\"value\":\"#1f77b4\"},\"right\":{\"field\":\"right\"},\"top\":{\"field\":\"top\"}},\"id\":\"917f5a21-feb8-43dd-9d63-fa942f243531\",\"type\":\"Quad\"},{\"attributes\":{\"plot\":{\"id\":\"cf23a520-9e73-452e-b24c-332577c5aa1a\",\"subtype\":\"Figure\",\"type\":\"Plot\"},\"ticker\":{\"id\":\"cd8d86b8-8495-46e7-a091-86b21849606c\",\"type\":\"BasicTicker\"}},\"id\":\"eb06110e-07d1-46a3-b570-2526b3338edb\",\"type\":\"Grid\"},{\"attributes\":{},\"id\":\"c19d5ef2-b921-4f1f-a59c-2a8aadc5b177\",\"type\":\"PanTool\"},{\"attributes\":{},\"id\":\"cd8d86b8-8495-46e7-a091-86b21849606c\",\"type\":\"BasicTicker\"},{\"attributes\":{},\"id\":\"0801f8ef-ddb6-494a-af7a-33de65e1ff59\",\"type\":\"WheelZoomTool\"},{\"attributes\":{\"formatter\":{\"id\":\"e39542d3-caae-4124-ad4b-1e418caa6bad\",\"type\":\"BasicTickFormatter\"},\"plot\":{\"id\":\"cf23a520-9e73-452e-b24c-332577c5aa1a\",\"subtype\":\"Figure\",\"type\":\"Plot\"},\"ticker\":{\"id\":\"9075655b-ee18-4313-9e32-578656b2f093\",\"type\":\"BasicTicker\"}},\"id\":\"9f832d63-77e6-432b-8905-fb7c1c19c667\",\"type\":\"LinearAxis\"},{\"attributes\":{\"bottom\":{\"value\":0},\"fill_color\":{\"value\":\"#1f77b4\"},\"left\":{\"field\":\"left\"},\"line_color\":{\"value\":\"#555555\"},\"right\":{\"field\":\"right\"},\"top\":{\"field\":\"top\"}},\"id\":\"e2279d6f-ae30-4aff-a2fe-51d056ed43aa\",\"type\":\"Quad\"},{\"attributes\":{\"data_source\":{\"id\":\"5f68182b-40d5-4a38-a02d-e0c969418c4f\",\"type\":\"ColumnDataSource\"},\"glyph\":{\"id\":\"e2279d6f-ae30-4aff-a2fe-51d056ed43aa\",\"type\":\"Quad\"},\"hover_glyph\":null,\"muted_glyph\":null,\"nonselection_glyph\":{\"id\":\"917f5a21-feb8-43dd-9d63-fa942f243531\",\"type\":\"Quad\"},\"selection_glyph\":null,\"view\":{\"id\":\"48541e82-1470-473b-bb0e-481cc55fee5e\",\"type\":\"CDSView\"}},\"id\":\"2814f019-0d12-411a-b042-98fc7ebb472e\",\"type\":\"GlyphRenderer\"},{\"attributes\":{},\"id\":\"d99861cf-3af4-498e-890c-6f3238031eaa\",\"type\":\"ResetTool\"},{\"attributes\":{\"below\":[{\"id\":\"ce8ed885-0201-46b5-8bcb-3292709cf360\",\"type\":\"LinearAxis\"}],\"left\":[{\"id\":\"9f832d63-77e6-432b-8905-fb7c1c19c667\",\"type\":\"LinearAxis\"}],\"renderers\":[{\"id\":\"ce8ed885-0201-46b5-8bcb-3292709cf360\",\"type\":\"LinearAxis\"},{\"id\":\"eb06110e-07d1-46a3-b570-2526b3338edb\",\"type\":\"Grid\"},{\"id\":\"9f832d63-77e6-432b-8905-fb7c1c19c667\",\"type\":\"LinearAxis\"},{\"id\":\"4cc42d78-43ae-4aca-b1f1-1107eec1efa1\",\"type\":\"Grid\"},{\"id\":\"2814f019-0d12-411a-b042-98fc7ebb472e\",\"type\":\"GlyphRenderer\"}],\"title\":{\"id\":\"d27d5025-4875-44c4-9166-9329faf92f19\",\"type\":\"Title\"},\"toolbar\":{\"id\":\"50bedbe5-f24e-4b42-bff5-5428af1f1cbe\",\"type\":\"Toolbar\"},\"toolbar_location\":\"above\",\"x_range\":{\"id\":\"12b8d067-b4d1-44c2-934b-2fb56eb0ccfc\",\"type\":\"DataRange1d\"},\"x_scale\":{\"id\":\"0b7d5dd0-040a-4c62-9df6-1db5f5fd3c2b\",\"type\":\"LinearScale\"},\"y_range\":{\"id\":\"d55bda9c-ad6a-45f1-aa79-ab7921970290\",\"type\":\"DataRange1d\"},\"y_scale\":{\"id\":\"978ee556-38b4-46e2-be79-0d7e6499e552\",\"type\":\"LinearScale\"}},\"id\":\"cf23a520-9e73-452e-b24c-332577c5aa1a\",\"subtype\":\"Figure\",\"type\":\"Plot\"},{\"attributes\":{\"dimension\":1,\"plot\":{\"id\":\"cf23a520-9e73-452e-b24c-332577c5aa1a\",\"subtype\":\"Figure\",\"type\":\"Plot\"},\"ticker\":{\"id\":\"9075655b-ee18-4313-9e32-578656b2f093\",\"type\":\"BasicTicker\"}},\"id\":\"4cc42d78-43ae-4aca-b1f1-1107eec1efa1\",\"type\":\"Grid\"},{\"attributes\":{\"callback\":null},\"id\":\"12b8d067-b4d1-44c2-934b-2fb56eb0ccfc\",\"type\":\"DataRange1d\"},{\"attributes\":{\"plot\":null,\"text\":\"Word Positive/Negative Affinity Distribution\"},\"id\":\"d27d5025-4875-44c4-9166-9329faf92f19\",\"type\":\"Title\"},{\"attributes\":{},\"id\":\"beb51f14-bb0a-4fde-8a80-c50414bcd0a1\",\"type\":\"BasicTickFormatter\"},{\"attributes\":{},\"id\":\"978ee556-38b4-46e2-be79-0d7e6499e552\",\"type\":\"LinearScale\"},{\"attributes\":{\"source\":{\"id\":\"5f68182b-40d5-4a38-a02d-e0c969418c4f\",\"type\":\"ColumnDataSource\"}},\"id\":\"48541e82-1470-473b-bb0e-481cc55fee5e\",\"type\":\"CDSView\"},{\"attributes\":{\"active_drag\":\"auto\",\"active_inspect\":\"auto\",\"active_scroll\":\"auto\",\"active_tap\":\"auto\",\"tools\":[{\"id\":\"c19d5ef2-b921-4f1f-a59c-2a8aadc5b177\",\"type\":\"PanTool\"},{\"id\":\"0801f8ef-ddb6-494a-af7a-33de65e1ff59\",\"type\":\"WheelZoomTool\"},{\"id\":\"d99861cf-3af4-498e-890c-6f3238031eaa\",\"type\":\"ResetTool\"},{\"id\":\"ffaf7776-74a3-4a36-a17f-b80cb4395c68\",\"type\":\"SaveTool\"}]},\"id\":\"50bedbe5-f24e-4b42-bff5-5428af1f1cbe\",\"type\":\"Toolbar\"},{\"attributes\":{\"callback\":null},\"id\":\"d55bda9c-ad6a-45f1-aa79-ab7921970290\",\"type\":\"DataRange1d\"},{\"attributes\":{},\"id\":\"0b7d5dd0-040a-4c62-9df6-1db5f5fd3c2b\",\"type\":\"LinearScale\"},{\"attributes\":{},\"id\":\"e39542d3-caae-4124-ad4b-1e418caa6bad\",\"type\":\"BasicTickFormatter\"},{\"attributes\":{\"callback\":null,\"column_names\":[\"left\",\"right\",\"top\"],\"data\":{\"left\":{\"__ndarray__\":\"fZ7TvBbhE8D57U6VKH4TwHU9ym06GxPA8YxFRky4EsBu3MAeXlUSwOorPPdv8hHAZnu3z4GPEcDiyjKokywRwF4aroClyRDA2mkpWbdmEMBWuaQxyQMQwKURQBS2QQ/AnbA2xdl7DsCVTy12/bUNwI7uIych8AzAho0a2EQqDMB+LBGJaGQLwHbLBzqMngrAbmr+6q/YCcBnCfWb0xIJwF+o60z3TAjAV0fi/RqHB8BQ5tiuPsEGwEiFz19i+wXAQCTGEIY1BcA4w7zBqW8EwDBis3LNqQPAKQGqI/HjAsAhoKDUFB4CwBk/l4U4WAHAEt6NNlySAMAU+gjP/5j/vwQ49jBHDf6/9HXjko6B/L/ks9D01fX6v9bxvVYdavm/xi+ruGTe97+2bZgarFL2v6irhXzzxvS/mOly3jo787+IJ2BAgq/xv3hlTaLJI/C/0EZ1CCIw7b+wwk/MsBjqv5g+KpA/Aee/eLoEVM7p479YNt8XXdLgv3Bkc7fXddu/MFwoP/VG1b/gp7qNJTDOv2CXJJ1g0sG/gBs6sm7Spb+AJh4QpaSrPwCanTTuRsM/gKozJbOkzz+A3eQKPAHWP8DlL4MeMNw/AHe9fYAv4T8g++K58UbkP0B/CPZiXuc/WAMuMtR16j94h1NuRY3tP8yFPFVbUvA/3EdP8xPe8T/sCWKRzGnzP/zLdC+F9fQ/DI6HzT2B9j8cUJpr9gz4PywSrQmvmPk/ONS/p2ck+z9IltJFILD8P1hY5ePYO/4/aBr4gZHH/z88bgUQpakAQETPDl+BbwFATDAYrl01AkBSkSH9OfsCQFryKkwWwQNAYlM0m/KGBEBqtD3qzkwFQHIVRzmrEgZAenZQiIfYBkCC11nXY54HQIo4YyZAZAhAkplsdRwqCUCa+nXE+O8JQKJbfxPVtQpAqryIYrF7C0CuHZKxjUEMQLZ+mwBqBw1Avt+kT0bNDUDGQK6eIpMOQM6ht+3+WA9Aa4Fgnm0PEEDvMeXFW3IQQHPiae1J1RBA95LuFDg4EUB7Q3M8JpsRQP/z92MU/hFAg6R8iwJhEkA=\",\"dtype\":\"float64\",\"shape\":[100]},\"right\":{\"__ndarray__\":\"+e1OlSh+E8B1PcptOhsTwPGMRUZMuBLAbtzAHl5VEsDqKzz3b/IRwGZ7t8+BjxHA4soyqJMsEcBeGq6ApckQwNppKVm3ZhDAVrmkMckDEMClEUAUtkEPwJ2wNsXZew7AlU8tdv21DcCO7iMnIfAMwIaNGthEKgzAfiwRiWhkC8B2ywc6jJ4KwG5q/uqv2AnAZwn1m9MSCcBfqOtM90wIwFdH4v0ahwfAUObYrj7BBsBIhc9fYvsFwEAkxhCGNQXAOMO8walvBMAwYrNyzakDwCkBqiPx4wLAIaCg1BQeAsAZP5eFOFgBwBLejTZckgDAFPoIz/+Y/78EOPYwRw3+v/R145KOgfy/5LPQ9NX1+r/W8b1WHWr5v8Yvq7hk3ve/tm2YGqxS9r+oq4V888b0v5jpct46O/O/iCdgQIKv8b94ZU2iySPwv9BGdQgiMO2/sMJPzLAY6r+YPiqQPwHnv3i6BFTO6eO/WDbfF13S4L9wZHO313XbvzBcKD/1RtW/4Ke6jSUwzr9glySdYNLBv4AbOrJu0qW/gCYeEKWkqz8Amp007kbDP4CqMyWzpM8/gN3kCjwB1j/A5S+DHjDcPwB3vX2AL+E/IPviufFG5D9Afwj2Yl7nP1gDLjLUdeo/eIdTbkWN7T/MhTxVW1LwP9xHT/MT3vE/7Alikcxp8z/8y3QvhfX0PwyOh809gfY/HFCaa/YM+D8sEq0Jr5j5PzjUv6dnJPs/SJbSRSCw/D9YWOXj2Dv+P2ga+IGRx/8/PG4FEKWpAEBEzw5fgW8BQEwwGK5dNQJAUpEh/Tn7AkBa8ipMFsEDQGJTNJvyhgRAarQ96s5MBUByFUc5qxIGQHp2UIiH2AZAgtdZ12OeB0CKOGMmQGQIQJKZbHUcKglAmvp1xPjvCUCiW38T1bUKQKq8iGKxewtArh2SsY1BDEC2fpsAagcNQL7fpE9GzQ1AxkCuniKTDkDOobft/lgPQGuBYJ5tDxBA7zHlxVtyEEBz4mntSdUQQPeS7hQ4OBFAe0NzPCabEUD/8/djFP4RQIOkfIsCYRJABlUBs/DDEkA=\",\"dtype\":\"float64\",\"shape\":[100]},\"top\":{\"__ndarray__\":\"VpB0fnvUYz8AAAAAAAAAAAAAAAAAAAAAiZB0fnvUYz8AAAAAAAAAAAAAAAAAAAAAAAAAAAAAAAAAAAAAAAAAAAAAAAAAAAAAAAAAAAAAAAAAAAAAAAAAAAAAAAAAAAAAAAAAAAAAAABvkHR+e9RjPwAAAAAAAAAAAAAAAAAAAAAAAAAAAAAAAFaQdH571GM/b5B0fnvUYz8AAAAAAAAAAFaQdH571GM/b5B0fnvUYz8AAAAAAAAAAFaQdH571GM/VpB0fnvUcz9WkHR+e9RjP6jYrj25vn0/VpB0fnvUgz9rtBFemsmIP2+QdH571GM/gNiuPbm+jT92RuDNKUSbP2u0EV6ayYg/YCJD7gpPlj+MtBFemsmIP1FHjcYzl6I/cf34FeIGqj99IkPuCk+mP3ZG4M0pRKs/zaKZ6o/4sT9L/qUO7FmxP+TGNsqu7bY//jO7YRUgvT/MYm5szSPEP7xhwXPD0Mw/S5iDv/bpzz9xMIq93L7SPy8r/yeQt9k/HEUeeBK94T+qe+DDRdbkP2u0EV6ayeg/BrteSf5X6z8cezPLO4PtP5+2gKy7o+k/JJkwuAA95z9TUrhO2tnmPw91k9jhR+I/rYYLTOwY2T+cq1UkFWHVP3C1vlakHNA/W9lbNsMRxT+XYm5szSPEP/Oh7PGFpbo/UUeNxjOXsj9b2Vs2wxG1P1aQdH571KM/YCJD7gpPpj92RuDNKUSbP3C1vlakHKA/YCJD7gpPlj+A2K49ub6NP2u0EV6ayYg/gNiuPbm+fT9WkHR+e9RzP1aQdH571GM/AAAAAAAAAABWkHR+e9RjP1aQdH571GM/VpB0fnvUYz9WkHR+e9RjP1aQdH571HM/AAAAAAAAAAAAAAAAAAAAAAAAAAAAAAAAVpB0fnvUYz8AAAAAAAAAAAAAAAAAAAAAAAAAAAAAAAAAAAAAAAAAAAAAAAAAAAAAAAAAAAAAAAAAAAAAAAAAAAAAAAAAAAAAVpB0fnvUYz8AAAAAAAAAAAAAAAAAAAAAAAAAAAAAAAAAAAAAAAAAAAAAAAAAAAAAiZB0fnvUYz8=\",\"dtype\":\"float64\",\"shape\":[100]}}},\"id\":\"5f68182b-40d5-4a38-a02d-e0c969418c4f\",\"type\":\"ColumnDataSource\"}],\"root_ids\":[\"cf23a520-9e73-452e-b24c-332577c5aa1a\"]},\"title\":\"Bokeh Application\",\"version\":\"0.12.10\"}};\n",
       "    var render_items = [{\"docid\":\"b4a5c8dd-ebaf-4d36-9fad-064ae88bfad2\",\"elementid\":\"d1575fd5-4f91-491b-86cd-701c811a1599\",\"modelid\":\"cf23a520-9e73-452e-b24c-332577c5aa1a\"}];\n",
       "\n",
       "    root.Bokeh.embed.embed_items(docs_json, render_items);\n",
       "  }\n",
       "\n",
       "  if (root.Bokeh !== undefined) {\n",
       "    embed_document(root);\n",
       "  } else {\n",
       "    var attempts = 0;\n",
       "    var timer = setInterval(function(root) {\n",
       "      if (root.Bokeh !== undefined) {\n",
       "        embed_document(root);\n",
       "        clearInterval(timer);\n",
       "      }\n",
       "      attempts++;\n",
       "      if (attempts > 100) {\n",
       "        console.log(\"Bokeh: ERROR: Unable to embed document because BokehJS library is missing\")\n",
       "        clearInterval(timer);\n",
       "      }\n",
       "    }, 10, root)\n",
       "  }\n",
       "})(window);"
      ],
      "application/vnd.bokehjs_exec.v0+json": ""
     },
     "metadata": {
      "application/vnd.bokehjs_exec.v0+json": {
       "id": "cf23a520-9e73-452e-b24c-332577c5aa1a"
      }
     },
     "output_type": "display_data"
    }
   ],
   "source": [
    "hist, edges = np.histogram(list(map(lambda x:x[1],pos_neg_ratios.most_common())), density=True, bins=100, normed=True)\n",
    "\n",
    "p = figure(tools=\"pan,wheel_zoom,reset,save\",\n",
    "           toolbar_location=\"above\",\n",
    "           title=\"Word Positive/Negative Affinity Distribution\")\n",
    "p.quad(top=hist, bottom=0, left=edges[:-1], right=edges[1:], line_color=\"#555555\")\n",
    "show(p)"
   ]
  },
  {
   "cell_type": "code",
   "execution_count": 232,
   "metadata": {
    "collapsed": true
   },
   "outputs": [],
   "source": [
    "frequency_frequency = Counter()\n",
    "\n",
    "for word, cnt in total_counts.most_common():\n",
    "    frequency_frequency[cnt] += 1"
   ]
  },
  {
   "cell_type": "code",
   "execution_count": 233,
   "metadata": {},
   "outputs": [
    {
     "data": {
      "text/html": [
       "\n",
       "<div class=\"bk-root\">\n",
       "    <div class=\"bk-plotdiv\" id=\"ff879f9d-f98b-44fa-a4d3-b75008eb0392\"></div>\n",
       "</div>"
      ]
     },
     "metadata": {},
     "output_type": "display_data"
    },
    {
     "data": {
      "application/javascript": [
       "(function(root) {\n",
       "  function embed_document(root) {\n",
       "    var docs_json = {\"9292fdfd-9a79-48eb-b206-ef262cedef48\":{\"roots\":{\"references\":[{\"attributes\":{\"plot\":{\"id\":\"60d39cef-cc62-4c14-837a-3c9702307ae5\",\"subtype\":\"Figure\",\"type\":\"Plot\"},\"ticker\":{\"id\":\"c18b94a7-f453-482d-a909-c2b0243f9b5e\",\"type\":\"BasicTicker\"}},\"id\":\"e8609031-8c7c-4753-8ce9-3cc5a9615f3b\",\"type\":\"Grid\"},{\"attributes\":{\"bottom\":{\"value\":0},\"fill_alpha\":{\"value\":0.1},\"fill_color\":{\"value\":\"#1f77b4\"},\"left\":{\"field\":\"left\"},\"line_alpha\":{\"value\":0.1},\"line_color\":{\"value\":\"#1f77b4\"},\"right\":{\"field\":\"right\"},\"top\":{\"field\":\"top\"}},\"id\":\"b40f54f6-7050-4fbd-972b-1ede62a8b931\",\"type\":\"Quad\"},{\"attributes\":{},\"id\":\"039a7417-3833-4a5a-ab02-64e7f0fe8e63\",\"type\":\"WheelZoomTool\"},{\"attributes\":{\"bottom\":{\"value\":0},\"fill_color\":{\"value\":\"#1f77b4\"},\"left\":{\"field\":\"left\"},\"line_color\":{\"value\":\"#555555\"},\"right\":{\"field\":\"right\"},\"top\":{\"field\":\"top\"}},\"id\":\"747550ec-c449-4b77-949e-8ed574411da1\",\"type\":\"Quad\"},{\"attributes\":{\"active_drag\":\"auto\",\"active_inspect\":\"auto\",\"active_scroll\":\"auto\",\"active_tap\":\"auto\",\"tools\":[{\"id\":\"3952e730-084d-47ff-b4f1-018ec52337e1\",\"type\":\"PanTool\"},{\"id\":\"039a7417-3833-4a5a-ab02-64e7f0fe8e63\",\"type\":\"WheelZoomTool\"},{\"id\":\"249b7066-90dd-4836-b5c9-424ec782b4c8\",\"type\":\"ResetTool\"},{\"id\":\"a96b0810-c8ae-4171-aa31-98e64c6951c1\",\"type\":\"SaveTool\"}]},\"id\":\"8079355d-68f4-40cb-8c31-6de58212ebfc\",\"type\":\"Toolbar\"},{\"attributes\":{},\"id\":\"c18b94a7-f453-482d-a909-c2b0243f9b5e\",\"type\":\"BasicTicker\"},{\"attributes\":{},\"id\":\"64fdbcf7-4e01-45a5-84d5-a3f19f846007\",\"type\":\"LinearScale\"},{\"attributes\":{\"data_source\":{\"id\":\"6f27f064-391b-4cf0-bacc-1eecd8a2a858\",\"type\":\"ColumnDataSource\"},\"glyph\":{\"id\":\"747550ec-c449-4b77-949e-8ed574411da1\",\"type\":\"Quad\"},\"hover_glyph\":null,\"muted_glyph\":null,\"nonselection_glyph\":{\"id\":\"b40f54f6-7050-4fbd-972b-1ede62a8b931\",\"type\":\"Quad\"},\"selection_glyph\":null,\"view\":{\"id\":\"f2ea83e5-d368-42a3-bad4-2a9f57735fe7\",\"type\":\"CDSView\"}},\"id\":\"c0a1d13c-f4e1-41ed-8852-b8086f909c34\",\"type\":\"GlyphRenderer\"},{\"attributes\":{},\"id\":\"3952e730-084d-47ff-b4f1-018ec52337e1\",\"type\":\"PanTool\"},{\"attributes\":{\"callback\":null,\"column_names\":[\"left\",\"right\",\"top\"],\"data\":{\"left\":{\"__ndarray__\":\"AAAAAAAA8D/NzMzMzFhxQM3MzMzMUIFANDMzMzP1iUDNzMzMzEyRQAAAAAAAn5VANDMzMzPxmUBnZmZmZkOeQM3MzMzMSqFAZ2ZmZuZzo0AAAAAAAJ2lQJqZmZkZxqdANDMzMzPvqUDNzMzMTBisQGdmZmZmQa5AAAAAAEA1sEDNzMzMzEmxQJqZmZlZXrJAZ2ZmZuZys0AzMzMzc4e0QAAAAAAAnLVAzczMzIywtkCamZmZGcW3QGdmZmam2bhANDMzMzPuuUAAAAAAwAK7QM3MzMxMF7xAmpmZmdkrvUBnZmZmZkC+QDQzMzPzVL9AAAAAAMA0wEBnZmZmBr/AQM3MzMxMScFAMzMzM5PTwUCamZmZ2V3CQAAAAAAg6MJAZ2ZmZmZyw0DNzMzMrPzDQDMzMzPzhsRAmpmZmTkRxUAAAAAAgJvFQGdmZmbGJcZAzczMzAywxkAzMzMzUzrHQJqZmZmZxMdAAAAAAOBOyEBnZmZmJtnIQM3MzMxsY8lANDMzM7PtyUCamZmZ+XfKQAAAAABAAstAZ2ZmZoaMy0DNzMzMzBbMQDQzMzMTocxAmpmZmVkrzUAAAAAAoLXNQGdmZmbmP85AzczMzCzKzkA0MzMzc1TPQJqZmZm53s9AAAAAAIA00EAzMzMzo3nQQGdmZmbGvtBAmpmZmekD0UDNzMzMDEnRQAAAAAAwjtFAMzMzM1PT0UBnZmZmdhjSQJqZmZmZXdJAzczMzLyi0kAAAAAA4OfSQDMzMzMDLdNAZ2ZmZiZy00CamZmZSbfTQM3MzMxs/NNAAAAAAJBB1EAzMzMzs4bUQGdmZmbWy9RAmpmZmfkQ1UDNzMzMHFbVQAAAAABAm9VAMzMzM2Pg1UBnZmZmhiXWQJqZmZmpatZAzczMzMyv1kAAAAAA8PTWQDMzMzMTOtdAZ2ZmZjZ/10CamZmZWcTXQM3MzMx8CdhAAAAAAKBO2EAzMzMzw5PYQGdmZmbm2NhAmpmZmQke2UDNzMzMLGPZQAAAAABQqNlANDMzM3Pt2UBnZmZmljLaQJqZmZm5d9pAzczMzNy82kA=\",\"dtype\":\"float64\",\"shape\":[100]},\"right\":{\"__ndarray__\":\"zczMzMxYcUDNzMzMzFCBQDQzMzMz9YlAzczMzMxMkUAAAAAAAJ+VQDQzMzMz8ZlAZ2ZmZmZDnkDNzMzMzEqhQGdmZmbmc6NAAAAAAACdpUCamZmZGcanQDQzMzMz76lAzczMzEwYrEBnZmZmZkGuQAAAAABANbBAzczMzMxJsUCamZmZWV6yQGdmZmbmcrNAMzMzM3OHtEAAAAAAAJy1QM3MzMyMsLZAmpmZmRnFt0BnZmZmptm4QDQzMzMz7rlAAAAAAMACu0DNzMzMTBe8QJqZmZnZK71AZ2ZmZmZAvkA0MzMz81S/QAAAAADANMBAZ2ZmZga/wEDNzMzMTEnBQDMzMzOT08FAmpmZmdldwkAAAAAAIOjCQGdmZmZmcsNAzczMzKz8w0AzMzMz84bEQJqZmZk5EcVAAAAAAICbxUBnZmZmxiXGQM3MzMwMsMZAMzMzM1M6x0CamZmZmcTHQAAAAADgTshAZ2ZmZibZyEDNzMzMbGPJQDQzMzOz7clAmpmZmfl3ykAAAAAAQALLQGdmZmaGjMtAzczMzMwWzEA0MzMzE6HMQJqZmZlZK81AAAAAAKC1zUBnZmZm5j/OQM3MzMwsys5ANDMzM3NUz0CamZmZud7PQAAAAACANNBAMzMzM6N50EBnZmZmxr7QQJqZmZnpA9FAzczMzAxJ0UAAAAAAMI7RQDMzMzNT09FAZ2ZmZnYY0kCamZmZmV3SQM3MzMy8otJAAAAAAODn0kAzMzMzAy3TQGdmZmYmctNAmpmZmUm300DNzMzMbPzTQAAAAACQQdRAMzMzM7OG1EBnZmZm1svUQJqZmZn5ENVAzczMzBxW1UAAAAAAQJvVQDMzMzNj4NVAZ2ZmZoYl1kCamZmZqWrWQM3MzMzMr9ZAAAAAAPD01kAzMzMzEzrXQGdmZmY2f9dAmpmZmVnE10DNzMzMfAnYQAAAAACgTthAMzMzM8OT2EBnZmZm5tjYQJqZmZkJHtlAzczMzCxj2UAAAAAAUKjZQDQzMzNz7dlAZ2ZmZpYy2kCamZmZuXfaQM3MzMzcvNpAAAAAAAAC20A=\",\"dtype\":\"float64\",\"shape\":[100]},\"top\":{\"__ndarray__\":\"TDhFg5YVbT+JTZDME4n7PtMKDQpDB+Y+1QoNCkMH1j7VCg0KQwfWPgAAAAAAAAAA1QoNCkMHxj7VCg0KQwfGPgAAAAAAAAAA2goNCkMHxj4AAAAAAAAAAAAAAAAAAAAA2goNCkMHxj4AAAAAAAAAAAAAAAAAAAAAAAAAAAAAAAAAAAAAAAAAAAAAAAAAAAAA5QoNCkMHxj4AAAAAAAAAAAAAAAAAAAAAAAAAAAAAAAAAAAAAAAAAAAAAAAAAAAAAAAAAAAAAAAAAAAAAAAAAAAAAAAAAAAAAAAAAAAAAAAAAAAAAAAAAAAAAAAAAAAAAAAAAAAAAAAAAAAAAAAAAAOUKDQpDB8Y+AAAAAAAAAAAAAAAAAAAAAAAAAAAAAAAAAAAAAAAAAAAAAAAAAAAAAAAAAAAAAAAAAAAAAAAAAAAAAAAAAAAAAAAAAAAAAAAAAAAAAAAAAAAAAAAAAAAAAAAAAAAAAAAAAAAAAAAAAAAAAAAAAAAAAAAAAAAAAAAAAAAAAAAAAAAAAAAAAAAAAAAAAAAAAAAAAAAAAAAAAAAAAAAAAAAAAAAAAAAAAAAAAAAAAAAAAAAAAAAAAAAAAAAAAAAAAAAAAAAAAAAAAAAAAAAAAAAAAAAAAAAAAAAAAAAAAAAAAAAAAAAAAAAAAAAAAAAAAAAAAAAAAAAAAAAAAAAAAAAAAAAAAAAAAAAAAAAAAAAAAAAAAAAAAAAAAAAAAAAAAAAAAAAAAAAAAAAAAAAAAAAAAAAAAAAAAAAAAAAAAAAAAAAAAAAAAAAAAAAAAAAAAAAAAAAAAAAAAAAAAAAAAAAAAAAAAAAAAAAAAAAAAAAAAAAAAAAAAAAAAAAAAAAAAAAAAAAAAAAAAAAAAAAAAAAAAAAAAAAAAAAAAAAAAAAAAAAAAAAAAAAAAAAAAAAAAAAAAAAAAAAAAAAAAAAAAAAAAAAAAAAAAAAAAAAAAAAAAAAAAAAAAAAAAAAAAAAAAAAAAAAAAAAAAAAAAAAAAAAAAAAAAAAAAAAAAAAAAAAAAAAAAAAAAAAAAAAAAAAAAAAA5QoNCkMHxj4=\",\"dtype\":\"float64\",\"shape\":[100]}}},\"id\":\"6f27f064-391b-4cf0-bacc-1eecd8a2a858\",\"type\":\"ColumnDataSource\"},{\"attributes\":{\"plot\":null,\"text\":\"The frequency distribution of the words in our corpus\"},\"id\":\"d44d3ab5-4a04-42af-a0fa-baaa199b68eb\",\"type\":\"Title\"},{\"attributes\":{\"formatter\":{\"id\":\"edbf84e3-a8a0-4f5c-b45c-11dba1b87bfc\",\"type\":\"BasicTickFormatter\"},\"plot\":{\"id\":\"60d39cef-cc62-4c14-837a-3c9702307ae5\",\"subtype\":\"Figure\",\"type\":\"Plot\"},\"ticker\":{\"id\":\"c18b94a7-f453-482d-a909-c2b0243f9b5e\",\"type\":\"BasicTicker\"}},\"id\":\"a8c7277a-5864-42e1-bb37-62b2cc4a723e\",\"type\":\"LinearAxis\"},{\"attributes\":{\"callback\":null},\"id\":\"d46351fc-3f95-4be8-aa7c-bcb970c78720\",\"type\":\"DataRange1d\"},{\"attributes\":{},\"id\":\"edbf84e3-a8a0-4f5c-b45c-11dba1b87bfc\",\"type\":\"BasicTickFormatter\"},{\"attributes\":{\"source\":{\"id\":\"6f27f064-391b-4cf0-bacc-1eecd8a2a858\",\"type\":\"ColumnDataSource\"}},\"id\":\"f2ea83e5-d368-42a3-bad4-2a9f57735fe7\",\"type\":\"CDSView\"},{\"attributes\":{},\"id\":\"6066c8b8-a803-421b-a3ad-87180af22209\",\"type\":\"LinearScale\"},{\"attributes\":{\"callback\":null},\"id\":\"48a99b9f-2a09-4be0-8c54-6fb942d2756a\",\"type\":\"DataRange1d\"},{\"attributes\":{\"formatter\":{\"id\":\"30477fe8-bcce-44e2-aa82-f196c30f87ee\",\"type\":\"BasicTickFormatter\"},\"plot\":{\"id\":\"60d39cef-cc62-4c14-837a-3c9702307ae5\",\"subtype\":\"Figure\",\"type\":\"Plot\"},\"ticker\":{\"id\":\"e9254a94-8992-4765-9900-c53697a1c2c1\",\"type\":\"BasicTicker\"}},\"id\":\"d2708cdd-7b89-43fa-80ff-38bb7f340a3c\",\"type\":\"LinearAxis\"},{\"attributes\":{},\"id\":\"a96b0810-c8ae-4171-aa31-98e64c6951c1\",\"type\":\"SaveTool\"},{\"attributes\":{},\"id\":\"e9254a94-8992-4765-9900-c53697a1c2c1\",\"type\":\"BasicTicker\"},{\"attributes\":{\"below\":[{\"id\":\"a8c7277a-5864-42e1-bb37-62b2cc4a723e\",\"type\":\"LinearAxis\"}],\"left\":[{\"id\":\"d2708cdd-7b89-43fa-80ff-38bb7f340a3c\",\"type\":\"LinearAxis\"}],\"renderers\":[{\"id\":\"a8c7277a-5864-42e1-bb37-62b2cc4a723e\",\"type\":\"LinearAxis\"},{\"id\":\"e8609031-8c7c-4753-8ce9-3cc5a9615f3b\",\"type\":\"Grid\"},{\"id\":\"d2708cdd-7b89-43fa-80ff-38bb7f340a3c\",\"type\":\"LinearAxis\"},{\"id\":\"56b7eb39-94b6-483a-87b3-d64efd98e71f\",\"type\":\"Grid\"},{\"id\":\"c0a1d13c-f4e1-41ed-8852-b8086f909c34\",\"type\":\"GlyphRenderer\"}],\"title\":{\"id\":\"d44d3ab5-4a04-42af-a0fa-baaa199b68eb\",\"type\":\"Title\"},\"toolbar\":{\"id\":\"8079355d-68f4-40cb-8c31-6de58212ebfc\",\"type\":\"Toolbar\"},\"toolbar_location\":\"above\",\"x_range\":{\"id\":\"d46351fc-3f95-4be8-aa7c-bcb970c78720\",\"type\":\"DataRange1d\"},\"x_scale\":{\"id\":\"6066c8b8-a803-421b-a3ad-87180af22209\",\"type\":\"LinearScale\"},\"y_range\":{\"id\":\"48a99b9f-2a09-4be0-8c54-6fb942d2756a\",\"type\":\"DataRange1d\"},\"y_scale\":{\"id\":\"64fdbcf7-4e01-45a5-84d5-a3f19f846007\",\"type\":\"LinearScale\"}},\"id\":\"60d39cef-cc62-4c14-837a-3c9702307ae5\",\"subtype\":\"Figure\",\"type\":\"Plot\"},{\"attributes\":{},\"id\":\"249b7066-90dd-4836-b5c9-424ec782b4c8\",\"type\":\"ResetTool\"},{\"attributes\":{},\"id\":\"30477fe8-bcce-44e2-aa82-f196c30f87ee\",\"type\":\"BasicTickFormatter\"},{\"attributes\":{\"dimension\":1,\"plot\":{\"id\":\"60d39cef-cc62-4c14-837a-3c9702307ae5\",\"subtype\":\"Figure\",\"type\":\"Plot\"},\"ticker\":{\"id\":\"e9254a94-8992-4765-9900-c53697a1c2c1\",\"type\":\"BasicTicker\"}},\"id\":\"56b7eb39-94b6-483a-87b3-d64efd98e71f\",\"type\":\"Grid\"}],\"root_ids\":[\"60d39cef-cc62-4c14-837a-3c9702307ae5\"]},\"title\":\"Bokeh Application\",\"version\":\"0.12.10\"}};\n",
       "    var render_items = [{\"docid\":\"9292fdfd-9a79-48eb-b206-ef262cedef48\",\"elementid\":\"ff879f9d-f98b-44fa-a4d3-b75008eb0392\",\"modelid\":\"60d39cef-cc62-4c14-837a-3c9702307ae5\"}];\n",
       "\n",
       "    root.Bokeh.embed.embed_items(docs_json, render_items);\n",
       "  }\n",
       "\n",
       "  if (root.Bokeh !== undefined) {\n",
       "    embed_document(root);\n",
       "  } else {\n",
       "    var attempts = 0;\n",
       "    var timer = setInterval(function(root) {\n",
       "      if (root.Bokeh !== undefined) {\n",
       "        embed_document(root);\n",
       "        clearInterval(timer);\n",
       "      }\n",
       "      attempts++;\n",
       "      if (attempts > 100) {\n",
       "        console.log(\"Bokeh: ERROR: Unable to embed document because BokehJS library is missing\")\n",
       "        clearInterval(timer);\n",
       "      }\n",
       "    }, 10, root)\n",
       "  }\n",
       "})(window);"
      ],
      "application/vnd.bokehjs_exec.v0+json": ""
     },
     "metadata": {
      "application/vnd.bokehjs_exec.v0+json": {
       "id": "60d39cef-cc62-4c14-837a-3c9702307ae5"
      }
     },
     "output_type": "display_data"
    }
   ],
   "source": [
    "hist, edges = np.histogram(list(map(lambda x:x[1],frequency_frequency.most_common())), density=True, bins=100, normed=True)\n",
    "\n",
    "p = figure(tools=\"pan,wheel_zoom,reset,save\",\n",
    "           toolbar_location=\"above\",\n",
    "           title=\"The frequency distribution of the words in our corpus\")\n",
    "p.quad(top=hist, bottom=0, left=edges[:-1], right=edges[1:], line_color=\"#555555\")\n",
    "show(p)"
   ]
  },
  {
   "cell_type": "code",
   "execution_count": 41,
   "metadata": {},
   "outputs": [
    {
     "data": {
      "text/plain": [
       "[('', 1111930),\n",
       " ('the', 336713),\n",
       " ('.', 327192),\n",
       " ('and', 164107),\n",
       " ('a', 163009),\n",
       " ('of', 145864),\n",
       " ('to', 135720),\n",
       " ('is', 107328),\n",
       " ('br', 101872),\n",
       " ('it', 96352),\n",
       " ('in', 93968),\n",
       " ('i', 87623),\n",
       " ('this', 76000),\n",
       " ('that', 73245),\n",
       " ('s', 65361),\n",
       " ('was', 48208),\n",
       " ('as', 46933),\n",
       " ('for', 44343),\n",
       " ('with', 44125),\n",
       " ('movie', 44039),\n",
       " ('but', 42603),\n",
       " ('film', 40155),\n",
       " ('you', 34230),\n",
       " ('on', 34200),\n",
       " ('t', 34081),\n",
       " ('not', 30626),\n",
       " ('he', 30138),\n",
       " ('are', 29430),\n",
       " ('his', 29374),\n",
       " ('have', 27731)]"
      ]
     },
     "execution_count": 41,
     "metadata": {},
     "output_type": "execute_result"
    }
   ],
   "source": [
    "# My code\n",
    "total_counts.most_common()[:30]"
   ]
  },
  {
   "cell_type": "markdown",
   "metadata": {},
   "source": [
    "# Project 6: Reducing Noise by Strategically Reducing the Vocabulary<a id='project_6'></a>\n",
    "\n",
    "**TODO:** Improve `SentimentNetwork`'s performance by reducing more noise in the vocabulary. Specifically, do the following:\n",
    "* Copy the `SentimentNetwork` class from the previous project into the following cell.\n",
    "* Modify `pre_process_data`:\n",
    ">* Add two additional parameters: `min_count` and `polarity_cutoff`\n",
    ">* Calculate the positive-to-negative ratios of words used in the reviews. (You can use code you've written elsewhere in the notebook, but we are moving it into the class like we did with other helper code earlier.)\n",
    ">* Andrew's solution only calculates a postive-to-negative ratio for words that occur at least 50 times. This keeps the network from attributing too much sentiment to rarer words. You can choose to add this to your solution if you would like.  \n",
    ">* Change so words are only added to the vocabulary if they occur in the vocabulary more than `min_count` times.\n",
    ">* Change so words are only added to the vocabulary if the absolute value of their postive-to-negative ratio is at least `polarity_cutoff`\n",
    "* Modify `__init__`:\n",
    ">* Add the same two parameters (`min_count` and `polarity_cutoff`) and use them when you call `pre_process_data`"
   ]
  },
  {
   "cell_type": "code",
   "execution_count": 42,
   "metadata": {
    "collapsed": true
   },
   "outputs": [],
   "source": [
    "# TODO: -Copy the SentimentNetwork class from Project 5 lesson\n",
    "#       -Modify it according to the above instructions \n",
    "\n",
    "# I modified the starter code a lot, because it wasn't written in a good manner.\n",
    "# Namely, the constructor took too long to execute, because it called self.pre_process_data(reviews, labels)\n",
    "# and self.init_network(len(self.review_vocab), hidden_nodes, 1, learning_rate), where\n",
    "# a constructor should be as short as possible, both in code, and in execution time.\n",
    "# It should just create an object (with minimal initialization) and finish.\n",
    "# It's ridiculous to process data in it!\n",
    "# It is okay to call self.init_network() inside of the constructor, but the problem is\n",
    "# that it requires a result from self.pre_process_data(), so my constructor doesn't do anything.\n",
    "# I didn't want to change the code too much, for later easier use.\n",
    "# But, a change in use is required. Now we have to manually initialize the network we create\n",
    "# every time, after pre-processing the data, but this is a regular way, unlike their.\n",
    "# I have also taken the np.random.seed(1) out of the constructor, because it has\n",
    "# absolutely nothing to do with an object, of course, and it should be set only once\n",
    "# in a program, at its beginning.\n",
    "# And I don't know what the data pre-processing has to do with a network object anyway, but okay...\n",
    "\n",
    "# This solution is like in the video.\n",
    "\n",
    "\n",
    "import time\n",
    "import sys\n",
    "import numpy as np\n",
    "from collections import Counter\n",
    "\n",
    "\n",
    "# Assign a seed to our random number generator to ensure we get\n",
    "# reproducible results during development \n",
    "np.random.seed(1)\n",
    "\n",
    "\n",
    "# Encapsulate our neural network in a class\n",
    "class SentimentNetwork:\n",
    "    def __init__(self, reviews, labels, min_count, polarity_cutoff, hidden_nodes = 10, learning_rate = 0.1):\n",
    "        \"\"\"Create a SentimenNetwork with the given settings\n",
    "        Args:\n",
    "            reviews(list) - List of reviews used for training\n",
    "            labels(list) - List of POSITIVE/NEGATIVE labels associated with the given reviews\n",
    "            hidden_nodes(int) - Number of nodes to create in the hidden layer\n",
    "            learning_rate(float) - Learning rate to use while training        \n",
    "        \"\"\"\n",
    "        \n",
    "        self.review_vocab = None\n",
    "        self.label_vocab = None\n",
    "        self.review_vocab_size = None\n",
    "        self.label_vocab_size = None\n",
    "        self.word2index = None\n",
    "        self.label2index = None\n",
    "        \n",
    "        self.input_nodes = None\n",
    "        self.hidden_nodes = None\n",
    "        self.output_nodes = None\n",
    "        self.learning_rate = None\n",
    "        self.weights_0_1 = None\n",
    "        self.weights_1_2 = None\n",
    "        self.layer_1 = None\n",
    "        \n",
    "    \n",
    "        # process the reviews and their associated labels so that everything\n",
    "        # is ready for training\n",
    "        #self.pre_process_data(reviews, labels, min_count, polarity_cutoff)\n",
    "        \n",
    "        # Build the network to have the number of hidden nodes and the learning rate that\n",
    "        # were passed into this initializer. Make the same number of input nodes as\n",
    "        # there are vocabulary words and create a single output node.\n",
    "        #self.init_network(len(self.review_vocab), hidden_nodes, 1, learning_rate)\n",
    "\n",
    "    def pre_process_data(self, reviews, labels, min_count, polarity_cutoff):\n",
    "        \"\"\"Returns self.review_vocab_size.\"\"\"\n",
    "        # It returned None, where it now returns len(self.review_vocab).\n",
    "        \n",
    "        positive_counts = Counter()\n",
    "        negative_counts = Counter()\n",
    "        total_counts = Counter()\n",
    "        for i in range(len(reviews)):\n",
    "            for word in reviews[i].split(\" \"):\n",
    "                total_counts[word] += 1\n",
    "                if labels[i] == \"POSITIVE\":\n",
    "                    positive_counts[word] += 1\n",
    "                else:\n",
    "                    negative_counts[word] += 1\n",
    "                \n",
    "        review_vocab = set()\n",
    "        for word, count in total_counts.items():\n",
    "            if count >= min_count:\n",
    "                pos_neg_ratio = np.log(positive_counts[word] / float(negative_counts[word] + 1))\n",
    "                if np.abs(pos_neg_ratio) >= polarity_cutoff:\n",
    "                    review_vocab.add(word)\n",
    "        \n",
    "        # Convert the vocabulary set to a list so we can access words via indices\n",
    "        self.review_vocab = list(review_vocab)\n",
    "        \n",
    "        label_vocab = set()\n",
    "        # TODO: populate label_vocab with all of the words in the given labels.\n",
    "        #       There is no need to split the labels because each one is a single word.\n",
    "        for label in labels:\n",
    "            label_vocab.add(label)\n",
    "        \n",
    "        # Convert the label vocabulary set to a list so we can access labels via indices\n",
    "        self.label_vocab = list(label_vocab)\n",
    "        \n",
    "        # Store the sizes of the review and label vocabularies.\n",
    "        self.review_vocab_size = len(self.review_vocab)\n",
    "        self.label_vocab_size = len(self.label_vocab)\n",
    "        \n",
    "        # Create a dictionary of words in the vocabulary mapped to index positions\n",
    "        self.word2index = {}\n",
    "        # TODO: populate self.word2index with indices for all the words in self.review_vocab\n",
    "        #       like you saw earlier in the notebook\n",
    "        for i, word in enumerate(self.review_vocab):\n",
    "            self.word2index[word] = i\n",
    "        \n",
    "        # Create a dictionary of labels mapped to index positions\n",
    "        self.label2index = {}\n",
    "        # TODO: do the same thing you did for self.word2index and self.review_vocab, \n",
    "        #       but for self.label2index and self.label_vocab instead\n",
    "        for i, label in enumerate(self.label_vocab):\n",
    "            self.label2index[label] = i\n",
    "            \n",
    "        return len(self.review_vocab)\n",
    "         \n",
    "        \n",
    "    def init_network(self, input_nodes, hidden_nodes, output_nodes, learning_rate):\n",
    "        # Store the number of nodes in input, hidden, and output layers.\n",
    "        self.input_nodes = input_nodes\n",
    "        self.hidden_nodes = hidden_nodes\n",
    "        self.output_nodes = output_nodes\n",
    "\n",
    "        # Store the learning rate\n",
    "        self.learning_rate = learning_rate\n",
    "\n",
    "        # Initialize weights\n",
    "        \n",
    "        # TODO: initialize self.weights_0_1 as a matrix of zeros. These are the weights between\n",
    "        #       the input layer and the hidden layer.\n",
    "        #self.weights_0_1 = np.random.randn(self.input_nodes, self.hidden_nodes) / np.sqrt(self.input_nodes)\n",
    "        self.weights_0_1 = np.random.normal(0.0, self.input_nodes ** -0.5,\n",
    "                                            (self.input_nodes, self.hidden_nodes))\n",
    "        \n",
    "        # TODO: initialize self.weights_1_2 as a matrix of random values. \n",
    "        #       These are the weights between the hidden layer and the output layer.\n",
    "        #self.weights_1_2 = np.random.randn(self.hidden_nodes, self.output_nodes) / np.sqrt(self.hidden_nodes)\n",
    "        self.weights_1_2 = np.random.normal(0.0, self.hidden_nodes ** -0.5,\n",
    "                                           (self.hidden_nodes, self.output_nodes))\n",
    "        \n",
    "        # TODO: Create the hidden layer, a two-dimensional matrix with shape \n",
    "        #       1 x hidden_nodes, with all values initialized to zero\n",
    "        self.layer_1 = np.zeros((1, hidden_nodes))\n",
    "        \n",
    "    \n",
    "    def get_target_for_label(self, label):\n",
    "        # TODO: Copy the code you wrote for get_target_for_label \n",
    "        #       earlier in this notebook. \n",
    "        return 0 if label == \"NEGATIVE\" else 1\n",
    "        \n",
    "    def sigmoid(self, x):\n",
    "        # TODO: Return the result of calculating the sigmoid activation function\n",
    "        #       shown in the lectures\n",
    "        return 1. / (1. + np.exp(-x))\n",
    "    \n",
    "    def sigmoid_output_2_derivative(self, output):\n",
    "        # TODO: Return the derivative of the sigmoid activation function, \n",
    "        #       where \"output\" is the original output from the sigmoid fucntion \n",
    "        return output * (1. - output)\n",
    "\n",
    "    def train(self, training_reviews_raw, training_labels):\n",
    "        \n",
    "        training_reviews = list()\n",
    "        for review in training_reviews_raw:\n",
    "            indices = set()  # A set of indices for every review\n",
    "            for word in review.split(\" \"):\n",
    "                if(word in self.word2index.keys()):\n",
    "                    indices.add(self.word2index[word])\n",
    "            training_reviews.append(list(indices))\n",
    "        \n",
    "        # make sure out we have a matching number of reviews and labels\n",
    "        assert(len(training_reviews) == len(training_labels))\n",
    "        \n",
    "        # Keep track of correct predictions to display accuracy during training \n",
    "        correct_so_far = 0\n",
    "        \n",
    "        # Remember when we started for printing time statistics\n",
    "        start = time.time()\n",
    "\n",
    "        # loop through all the given reviews and run a forward and backward pass,\n",
    "        # updating weights for every item\n",
    "        for i in range(len(training_reviews)):\n",
    "            \n",
    "            # TODO: Get the next review and its correct label\n",
    "            review = training_reviews[i]\n",
    "            label = training_labels[i]\n",
    "            label = self.get_target_for_label(label)\n",
    "            \n",
    "            # TODO: Implement the forward pass through the network. \n",
    "            #       That means use the given review to update the input layer, \n",
    "            #       then calculate values for the hidden layer,\n",
    "            #       and finally calculate the output layer.\n",
    "            # \n",
    "            #       Do not use an activation function for the hidden layer,\n",
    "            #       but use the sigmoid activation function for the output layer.\n",
    "            \n",
    "            self.layer_1 *= 0\n",
    "            for index in review:\n",
    "                self.layer_1 += self.weights_0_1[index]\n",
    "            hidden_inputs = self.layer_1  # signals into hidden layer\n",
    "            hidden_outputs = hidden_inputs  # signals from hidden layer\n",
    "            \n",
    "            final_inputs = np.dot(hidden_outputs, self.weights_1_2)  # signals into final output layer\n",
    "            final_output = self.sigmoid(final_inputs)  # signal from final output layer\n",
    "            \n",
    "            \n",
    "            # TODO: Implement the back propagation pass here. \n",
    "            #       That means calculate the error for the forward pass's prediction\n",
    "            #       and update the weights in the network according to their\n",
    "            #       contributions toward the error, as calculated via the\n",
    "            #       gradient descent and back propagation algorithms you \n",
    "            #       learned in class.\n",
    "            \n",
    "            # Output error\n",
    "            error = label - final_output  # Output layer error is the difference between desired target and actual output.            \n",
    "            output_error_term = error * final_output * (1. - final_output)  # error * derivative of the output activation function\n",
    "            \n",
    "            # Backpropagated error\n",
    "            hidden_error = np.dot(output_error_term, self.weights_1_2.T)  # errors propagated to the hidden layer\n",
    "            hidden_error_term = hidden_error  # derivative of the hidden activation function is 1\n",
    "            \n",
    "            # Update the weights\n",
    "            self.weights_1_2 += self.learning_rate * np.outer(hidden_outputs, output_error_term)\n",
    "            for index in review:\n",
    "                self.weights_0_1[index] += self.learning_rate * hidden_error_term[0]\n",
    "            \n",
    "            \n",
    "            # TODO: Keep track of correct predictions. To determine if the prediction was\n",
    "            #       correct, check that the absolute value of the output error \n",
    "            #       is less than 0.5. If so, add one to the correct_so_far count.\n",
    "            if np.abs(error) < 0.5:\n",
    "                correct_so_far += 1\n",
    "\n",
    "\n",
    "            # For debug purposes, print out our prediction accuracy and speed \n",
    "            # throughout the training process. \n",
    "            \n",
    "            elapsed_time = float(time.time() - start)\n",
    "            reviews_per_second = i / elapsed_time if elapsed_time > 0 else 0\n",
    "            \n",
    "            sys.stdout.write(\"\\rProgress:\" + str(100 * i/float(len(training_reviews)))[:4] \\\n",
    "                             + \"% Speed(reviews/sec):\" + str(reviews_per_second)[0:5] \\\n",
    "                             + \" #Correct:\" + str(correct_so_far) + \" #Trained:\" + str(i+1) \\\n",
    "                             + \" Training Accuracy:\" + str(correct_so_far * 100 / float(i+1))[:4] + \"%\")\n",
    "            if(i % 2500 == 0):\n",
    "                print(\"\")\n",
    "    \n",
    "    def test(self, testing_reviews, testing_labels):\n",
    "        \"\"\"\n",
    "        Attempts to predict the labels for the given testing_reviews,\n",
    "        and uses the test_labels to calculate the accuracy of those predictions.\n",
    "        \"\"\"\n",
    "        \n",
    "        # keep track of how many correct predictions we make\n",
    "        correct = 0\n",
    "\n",
    "        # we'll time how many predictions per second we make\n",
    "        start = time.time()\n",
    "\n",
    "        # Loop through each of the given reviews and call run to predict\n",
    "        # its label. \n",
    "        for i in range(len(testing_reviews)):\n",
    "            pred = self.run(testing_reviews[i])\n",
    "            if(pred == testing_labels[i]):\n",
    "                correct += 1\n",
    "            \n",
    "            # For debug purposes, print out our prediction accuracy and speed \n",
    "            # throughout the prediction process. \n",
    "\n",
    "            elapsed_time = float(time.time() - start)\n",
    "            reviews_per_second = i / elapsed_time if elapsed_time > 0 else 0\n",
    "            \n",
    "            sys.stdout.write(\"\\rProgress:\" + str(100 * i/float(len(testing_reviews)))[:4] \\\n",
    "                             + \"% Speed(reviews/sec):\" + str(reviews_per_second)[0:5] \\\n",
    "                             + \" #Correct:\" + str(correct) + \" #Tested:\" + str(i+1) \\\n",
    "                             + \" Testing Accuracy:\" + str(correct * 100 / float(i+1))[:4] + \"%\")\n",
    "    \n",
    "    def run(self, review):\n",
    "        \"\"\"\n",
    "        Returns a POSITIVE or NEGATIVE prediction for the given review.\n",
    "        \"\"\"\n",
    "        # TODO: Run a forward pass through the network, like you did in the\n",
    "        #       \"train\" function. That means use the given review to \n",
    "        #       update the input layer, then calculate values for the hidden layer,\n",
    "        #       and finally calculate the output layer.\n",
    "        #\n",
    "        #       Note: The review passed into this function for prediction \n",
    "        #             might come from anywhere, so you should convert it \n",
    "        #             to lower case prior to using it.\n",
    "\n",
    "        indices = set()  # A set of indices for every review\n",
    "        for word in review.lower().split(\" \"):\n",
    "            if(word in self.word2index.keys()):\n",
    "                indices.add(self.word2index[word])\n",
    "        \n",
    "        # Hidden layer\n",
    "        self.layer_1 *= 0\n",
    "        for index in indices:\n",
    "            self.layer_1 += self.weights_0_1[index]\n",
    "        hidden_outputs = self.layer_1\n",
    "        \n",
    "        # Output layer\n",
    "        final_output = self.sigmoid(np.dot(hidden_outputs, self.weights_1_2))\n",
    "        \n",
    "        # TODO: The output layer should now contain a prediction. \n",
    "        #       Return `POSITIVE` for predictions greater-than-or-equal-to `0.5`, \n",
    "        #       and `NEGATIVE` otherwise.\n",
    "        \n",
    "        return \"POSITIVE\" if final_output[0] >= 0.5 else \"NEGATIVE\"\n",
    "        \n",
    "        "
   ]
  },
  {
   "cell_type": "markdown",
   "metadata": {},
   "source": [
    "Run the following cell to train your network with a small polarity cutoff."
   ]
  },
  {
   "cell_type": "code",
   "execution_count": 180,
   "metadata": {},
   "outputs": [
    {
     "name": "stderr",
     "output_type": "stream",
     "text": [
      "C:\\Anaconda3\\lib\\site-packages\\ipykernel_launcher.py:89: RuntimeWarning: divide by zero encountered in log\n"
     ]
    },
    {
     "name": "stdout",
     "output_type": "stream",
     "text": [
      "TRAINING\n",
      "Progress:0.0% Speed(reviews/sec):0.0 #Correct:1 #Trained:1 Training Accuracy:100.%\n",
      "Progress:10.4% Speed(reviews/sec):944.6 #Correct:1974 #Trained:2501 Training Accuracy:78.9%\n",
      "Progress:20.8% Speed(reviews/sec):879.8 #Correct:4030 #Trained:5001 Training Accuracy:80.5%\n",
      "Progress:31.2% Speed(reviews/sec):854.0 #Correct:6138 #Trained:7501 Training Accuracy:81.8%\n",
      "Progress:41.6% Speed(reviews/sec):853.5 #Correct:8298 #Trained:10001 Training Accuracy:82.9%\n",
      "Progress:52.0% Speed(reviews/sec):843.7 #Correct:10469 #Trained:12501 Training Accuracy:83.7%\n",
      "Progress:62.5% Speed(reviews/sec):839.0 #Correct:12614 #Trained:15001 Training Accuracy:84.0%\n",
      "Progress:72.9% Speed(reviews/sec):837.9 #Correct:14749 #Trained:17501 Training Accuracy:84.2%\n",
      "Progress:83.3% Speed(reviews/sec):833.6 #Correct:16927 #Trained:20001 Training Accuracy:84.6%\n",
      "Progress:93.7% Speed(reviews/sec):830.0 #Correct:19112 #Trained:22501 Training Accuracy:84.9%\n",
      "Progress:99.9% Speed(reviews/sec):831.4 #Correct:20434 #Trained:24000 Training Accuracy:85.1%\n",
      "\n",
      "TESTING\n",
      "Progress:99.9% Speed(reviews/sec):1431. #Correct:857 #Tested:1000 Testing Accuracy:85.7%"
     ]
    }
   ],
   "source": [
    "mlp = SentimentNetwork(reviews[:-1000], labels[:-1000], min_count=20, polarity_cutoff=0.05, learning_rate=0.1)\n",
    "# I have to add the following lines:\n",
    "vocab_len = mlp.pre_process_data(reviews[:-1000], labels[:-1000], min_count=20, polarity_cutoff=0.05)\n",
    "mlp.init_network(input_nodes=vocab_len, hidden_nodes=10, output_nodes=1, learning_rate=0.1)\n",
    "\n",
    "print(\"TRAINING\")\n",
    "mlp.train(reviews[:-1000], labels[:-1000])\n",
    "\n",
    "print(\"\\n\\nTESTING\")\n",
    "mlp.test(reviews[-1000:], labels[-1000:])"
   ]
  },
  {
   "cell_type": "markdown",
   "metadata": {},
   "source": [
    "And run the following cell to test its performance."
   ]
  },
  {
   "cell_type": "code",
   "execution_count": 181,
   "metadata": {
    "collapsed": true
   },
   "outputs": [],
   "source": [
    "#mlp.test(reviews[-1000:],labels[-1000:])"
   ]
  },
  {
   "cell_type": "markdown",
   "metadata": {},
   "source": [
    "Run the following cell to train your network with a much larger polarity cutoff."
   ]
  },
  {
   "cell_type": "code",
   "execution_count": 182,
   "metadata": {},
   "outputs": [
    {
     "name": "stderr",
     "output_type": "stream",
     "text": [
      "C:\\Anaconda3\\lib\\site-packages\\ipykernel_launcher.py:89: RuntimeWarning: divide by zero encountered in log\n"
     ]
    },
    {
     "name": "stdout",
     "output_type": "stream",
     "text": [
      "TRAINING\n",
      "Progress:0.0% Speed(reviews/sec):0.0 #Correct:1 #Trained:1 Training Accuracy:100.%\n",
      "Progress:10.4% Speed(reviews/sec):4450. #Correct:2102 #Trained:2501 Training Accuracy:84.0%\n",
      "Progress:20.8% Speed(reviews/sec):3873. #Correct:4247 #Trained:5001 Training Accuracy:84.9%\n",
      "Progress:31.2% Speed(reviews/sec):3481. #Correct:6380 #Trained:7501 Training Accuracy:85.0%\n",
      "Progress:41.6% Speed(reviews/sec):3384. #Correct:8540 #Trained:10001 Training Accuracy:85.3%\n",
      "Progress:52.0% Speed(reviews/sec):3147. #Correct:10684 #Trained:12501 Training Accuracy:85.4%\n",
      "Progress:62.5% Speed(reviews/sec):3122. #Correct:12838 #Trained:15001 Training Accuracy:85.5%\n",
      "Progress:72.9% Speed(reviews/sec):3078. #Correct:14957 #Trained:17501 Training Accuracy:85.4%\n",
      "Progress:83.3% Speed(reviews/sec):3072. #Correct:17139 #Trained:20001 Training Accuracy:85.6%\n",
      "Progress:93.7% Speed(reviews/sec):3035. #Correct:19335 #Trained:22501 Training Accuracy:85.9%\n",
      "Progress:99.9% Speed(reviews/sec):3042. #Correct:20636 #Trained:24000 Training Accuracy:85.9%\n",
      "\n",
      "TESTING\n",
      "Progress:99.9% Speed(reviews/sec):3104. #Correct:810 #Tested:1000 Testing Accuracy:81.0%"
     ]
    }
   ],
   "source": [
    "mlp = SentimentNetwork(reviews[:-1000], labels[:-1000], min_count=20, polarity_cutoff=0.8, learning_rate=0.1)\n",
    "# I have to add the following lines:\n",
    "vocab_len = mlp.pre_process_data(reviews[:-1000], labels[:-1000], min_count=20, polarity_cutoff=0.8)\n",
    "mlp.init_network(input_nodes=vocab_len, hidden_nodes=10, output_nodes=1, learning_rate=0.1)\n",
    "\n",
    "print(\"TRAINING\")\n",
    "mlp.train(reviews[:-1000], labels[:-1000])\n",
    "\n",
    "print(\"\\n\\nTESTING\")\n",
    "mlp.test(reviews[-1000:], labels[-1000:])"
   ]
  },
  {
   "cell_type": "markdown",
   "metadata": {},
   "source": [
    "And run the following cell to test its performance."
   ]
  },
  {
   "cell_type": "code",
   "execution_count": 183,
   "metadata": {
    "collapsed": true
   },
   "outputs": [],
   "source": [
    "#mlp.test(reviews[-1000:],labels[-1000:])"
   ]
  },
  {
   "cell_type": "code",
   "execution_count": 187,
   "metadata": {},
   "outputs": [
    {
     "name": "stderr",
     "output_type": "stream",
     "text": [
      "C:\\Anaconda3\\lib\\site-packages\\ipykernel_launcher.py:89: RuntimeWarning: divide by zero encountered in log\n"
     ]
    },
    {
     "name": "stdout",
     "output_type": "stream",
     "text": [
      "TRAINING\n",
      "Progress:0.0% Speed(reviews/sec):0.0 #Correct:0 #Trained:1 Training Accuracy:0.0%\n",
      "Progress:10.4% Speed(reviews/sec):969.8 #Correct:2127 #Trained:2501 Training Accuracy:85.0%\n",
      "Progress:20.8% Speed(reviews/sec):958.5 #Correct:4260 #Trained:5001 Training Accuracy:85.1%\n",
      "Progress:31.2% Speed(reviews/sec):971.8 #Correct:6380 #Trained:7501 Training Accuracy:85.0%\n",
      "Progress:41.6% Speed(reviews/sec):979.0 #Correct:8533 #Trained:10001 Training Accuracy:85.3%\n",
      "Progress:52.0% Speed(reviews/sec):978.6 #Correct:10675 #Trained:12501 Training Accuracy:85.3%\n",
      "Progress:62.5% Speed(reviews/sec):972.4 #Correct:12824 #Trained:15001 Training Accuracy:85.4%\n",
      "Progress:72.9% Speed(reviews/sec):962.8 #Correct:14931 #Trained:17501 Training Accuracy:85.3%\n",
      "Progress:83.3% Speed(reviews/sec):956.5 #Correct:17122 #Trained:20001 Training Accuracy:85.6%\n",
      "Progress:93.7% Speed(reviews/sec):949.0 #Correct:19306 #Trained:22501 Training Accuracy:85.8%\n",
      "Progress:99.9% Speed(reviews/sec):951.2 #Correct:20599 #Trained:24000 Training Accuracy:85.8%\n",
      "\n",
      "TESTING\n",
      "Progress:99.9% Speed(reviews/sec):1521. #Correct:794 #Tested:1000 Testing Accuracy:79.4%"
     ]
    }
   ],
   "source": [
    "# My addition: hidden_nodes=10000\n",
    "\n",
    "mlp = SentimentNetwork(reviews[:-1000], labels[:-1000], min_count=20, polarity_cutoff=0.8, learning_rate=0.1)\n",
    "# I have to add the following lines:\n",
    "vocab_len = mlp.pre_process_data(reviews[:-1000], labels[:-1000], min_count=20, polarity_cutoff=0.8)\n",
    "mlp.init_network(input_nodes=vocab_len, hidden_nodes=10000, output_nodes=1, learning_rate=0.1)\n",
    "\n",
    "print(\"TRAINING\")\n",
    "mlp.train(reviews[:-1000], labels[:-1000])\n",
    "\n",
    "print(\"\\n\\nTESTING\")\n",
    "mlp.test(reviews[-1000:], labels[-1000:])"
   ]
  },
  {
   "cell_type": "markdown",
   "metadata": {},
   "source": [
    "# End of Project 6. \n",
    "## Watch the next video to see Andrew's solution, then continue on to the next lesson."
   ]
  },
  {
   "cell_type": "markdown",
   "metadata": {
    "collapsed": true
   },
   "source": [
    "# Analysis: What's Going on in the Weights?<a id='lesson_7'></a>"
   ]
  },
  {
   "cell_type": "code",
   "execution_count": 43,
   "metadata": {},
   "outputs": [
    {
     "name": "stderr",
     "output_type": "stream",
     "text": [
      "C:\\Anaconda3\\lib\\site-packages\\ipykernel_launcher.py:88: RuntimeWarning: divide by zero encountered in log\n"
     ]
    }
   ],
   "source": [
    "mlp_full = SentimentNetwork(reviews[:-1000], labels[:-1000], min_count=0, polarity_cutoff=0, learning_rate=0.1)\n",
    "# I have to add the following lines:\n",
    "vocab_len = mlp_full.pre_process_data(reviews[:-1000], labels[:-1000], min_count=0, polarity_cutoff=0)\n",
    "mlp_full.init_network(input_nodes=vocab_len, hidden_nodes=10, output_nodes=1, learning_rate=0.1)"
   ]
  },
  {
   "cell_type": "code",
   "execution_count": 44,
   "metadata": {},
   "outputs": [
    {
     "name": "stdout",
     "output_type": "stream",
     "text": [
      "Progress:0.0% Speed(reviews/sec):0.0 #Correct:1 #Trained:1 Training Accuracy:100.%\n",
      "Progress:10.4% Speed(reviews/sec):847.7 #Correct:1942 #Trained:2501 Training Accuracy:77.6%\n",
      "Progress:20.8% Speed(reviews/sec):809.9 #Correct:3992 #Trained:5001 Training Accuracy:79.8%\n",
      "Progress:31.2% Speed(reviews/sec):800.6 #Correct:6117 #Trained:7501 Training Accuracy:81.5%\n",
      "Progress:41.6% Speed(reviews/sec):785.4 #Correct:8274 #Trained:10001 Training Accuracy:82.7%\n",
      "Progress:52.0% Speed(reviews/sec):780.7 #Correct:10435 #Trained:12501 Training Accuracy:83.4%\n",
      "Progress:62.5% Speed(reviews/sec):772.6 #Correct:12580 #Trained:15001 Training Accuracy:83.8%\n",
      "Progress:72.9% Speed(reviews/sec):768.3 #Correct:14694 #Trained:17501 Training Accuracy:83.9%\n",
      "Progress:83.3% Speed(reviews/sec):767.2 #Correct:16864 #Trained:20001 Training Accuracy:84.3%\n",
      "Progress:93.7% Speed(reviews/sec):761.5 #Correct:19049 #Trained:22501 Training Accuracy:84.6%\n",
      "Progress:99.9% Speed(reviews/sec):760.3 #Correct:20372 #Trained:24000 Training Accuracy:84.8%"
     ]
    }
   ],
   "source": [
    "mlp_full.train(reviews[:-1000], labels[:-1000])"
   ]
  },
  {
   "cell_type": "code",
   "execution_count": 45,
   "metadata": {},
   "outputs": [
    {
     "ename": "NameError",
     "evalue": "name 'Image' is not defined",
     "output_type": "error",
     "traceback": [
      "\u001b[1;31m---------------------------------------------------------------------------\u001b[0m",
      "\u001b[1;31mNameError\u001b[0m                                 Traceback (most recent call last)",
      "\u001b[1;32m<ipython-input-45-ad99e3c27299>\u001b[0m in \u001b[0;36m<module>\u001b[1;34m()\u001b[0m\n\u001b[1;32m----> 1\u001b[1;33m \u001b[0mImage\u001b[0m\u001b[1;33m(\u001b[0m\u001b[0mfilename\u001b[0m\u001b[1;33m=\u001b[0m\u001b[1;34m'sentiment_network_sparse.png'\u001b[0m\u001b[1;33m)\u001b[0m\u001b[1;33m\u001b[0m\u001b[0m\n\u001b[0m",
      "\u001b[1;31mNameError\u001b[0m: name 'Image' is not defined"
     ]
    }
   ],
   "source": [
    "Image(filename='sentiment_network_sparse.png')"
   ]
  },
  {
   "cell_type": "code",
   "execution_count": 46,
   "metadata": {
    "collapsed": true
   },
   "outputs": [],
   "source": [
    "def get_most_similar_words(focus = \"horrible\"):\n",
    "    most_similar = Counter()\n",
    "\n",
    "    for word in mlp_full.word2index.keys():\n",
    "        most_similar[word] = np.dot(mlp_full.weights_0_1[mlp_full.word2index[word]], mlp_full.weights_0_1[mlp_full.word2index[focus]])\n",
    "    \n",
    "    return most_similar.most_common()"
   ]
  },
  {
   "cell_type": "code",
   "execution_count": 47,
   "metadata": {},
   "outputs": [
    {
     "data": {
      "text/plain": [
       "[('excellent', 1.3278140190991041),\n",
       " ('perfect', 1.2300466622496693),\n",
       " ('great', 0.90945445827217586),\n",
       " ('today', 0.90741653542615763),\n",
       " ('wonderful', 0.89776586542769321),\n",
       " ('amazing', 0.89406810728436603),\n",
       " ('fun', 0.86590172980168412),\n",
       " ('best', 0.85352701874537207),\n",
       " ('liked', 0.77313699701208627),\n",
       " ('brilliant', 0.74009260788312226),\n",
       " ('definitely', 0.71857955500551296),\n",
       " ('superb', 0.71601161491309506),\n",
       " ('loved', 0.709183452847303),\n",
       " ('favorite', 0.70706816859603028),\n",
       " ('enjoyable', 0.69649296463761445),\n",
       " ('fantastic', 0.69090950397773487),\n",
       " ('job', 0.66985337664054956),\n",
       " ('highly', 0.65400722340886275),\n",
       " ('rare', 0.6255378675736154),\n",
       " ('incredible', 0.61003767194898273)]"
      ]
     },
     "execution_count": 47,
     "metadata": {},
     "output_type": "execute_result"
    }
   ],
   "source": [
    "get_most_similar_words(\"excellent\")[:20]"
   ]
  },
  {
   "cell_type": "code",
   "execution_count": 48,
   "metadata": {},
   "outputs": [
    {
     "data": {
      "text/plain": [
       "[('worst', 1.7075810328075476),\n",
       " ('awful', 1.2190261271118352),\n",
       " ('waste', 1.2015853253968882),\n",
       " ('poor', 0.95452265923322188),\n",
       " ('terrible', 0.94193328423720513),\n",
       " ('boring', 0.86256465815885353),\n",
       " ('dull', 0.84473096154346061),\n",
       " ('disappointing', 0.80965390668349069),\n",
       " ('poorly', 0.79497540360571262),\n",
       " ('disappointment', 0.78331335972975291),\n",
       " ('fails', 0.7771642720485239),\n",
       " ('mess', 0.73102508359301588),\n",
       " ('unfortunately', 0.7293084676482755),\n",
       " ('stupid', 0.71763676809294152),\n",
       " ('worse', 0.71142559630805013),\n",
       " ('bad', 0.69941089671537027),\n",
       " ('badly', 0.67491927283844166),\n",
       " ('annoying', 0.66767685318337899),\n",
       " ('save', 0.63901034728693973),\n",
       " ('disappointed', 0.62549801400279226)]"
      ]
     },
     "execution_count": 48,
     "metadata": {},
     "output_type": "execute_result"
    }
   ],
   "source": [
    "get_most_similar_words(\"terrible\")[:20]"
   ]
  },
  {
   "cell_type": "code",
   "execution_count": 243,
   "metadata": {
    "collapsed": true
   },
   "outputs": [],
   "source": [
    "import matplotlib.colors as colors\n",
    "\n",
    "words_to_visualize = list()\n",
    "for word, ratio in pos_neg_ratios.most_common(500):\n",
    "    if(word in mlp_full.word2index.keys()):\n",
    "        words_to_visualize.append(word)\n",
    "    \n",
    "for word, ratio in list(reversed(pos_neg_ratios.most_common()))[0:500]:\n",
    "    if(word in mlp_full.word2index.keys()):\n",
    "        words_to_visualize.append(word)"
   ]
  },
  {
   "cell_type": "code",
   "execution_count": 244,
   "metadata": {
    "collapsed": true
   },
   "outputs": [],
   "source": [
    "pos = 0\n",
    "neg = 0\n",
    "\n",
    "colors_list = list()\n",
    "vectors_list = list()\n",
    "for word in words_to_visualize:\n",
    "    if word in pos_neg_ratios.keys():\n",
    "        vectors_list.append(mlp_full.weights_0_1[mlp_full.word2index[word]])\n",
    "        if(pos_neg_ratios[word] > 0):\n",
    "            pos+=1\n",
    "            colors_list.append(\"#00ff00\")\n",
    "        else:\n",
    "            neg+=1\n",
    "            colors_list.append(\"#000000\")"
   ]
  },
  {
   "cell_type": "code",
   "execution_count": 245,
   "metadata": {
    "collapsed": true
   },
   "outputs": [],
   "source": [
    "from sklearn.manifold import TSNE\n",
    "tsne = TSNE(n_components=2, random_state=0)\n",
    "words_top_ted_tsne = tsne.fit_transform(vectors_list)"
   ]
  },
  {
   "cell_type": "code",
   "execution_count": 248,
   "metadata": {},
   "outputs": [
    {
     "data": {
      "text/html": [
       "\n",
       "<div class=\"bk-root\">\n",
       "    <div class=\"bk-plotdiv\" id=\"ebc3a4d1-6fa1-4349-8a58-9ef8d48f188f\"></div>\n",
       "</div>"
      ]
     },
     "metadata": {},
     "output_type": "display_data"
    },
    {
     "data": {
      "application/javascript": [
       "(function(root) {\n",
       "  function embed_document(root) {\n",
       "    var docs_json = {\"3bf9bf10-524e-4602-9c2f-1a04d7c4224d\":{\"roots\":{\"references\":[{\"attributes\":{\"plot\":{\"id\":\"a0749ff5-66c8-4e7e-a7ea-d14c27f769e4\",\"subtype\":\"Figure\",\"type\":\"Plot\"},\"ticker\":{\"id\":\"6acdd727-c48a-43a6-a667-e630159c5fcd\",\"type\":\"BasicTicker\"}},\"id\":\"8e7aed2a-a8ab-42e4-8277-af87baa05b25\",\"type\":\"Grid\"},{\"attributes\":{\"source\":{\"id\":\"0c8996e7-23f2-4d13-a24a-abeeae03a9c0\",\"type\":\"ColumnDataSource\"}},\"id\":\"28a5c06f-69c1-4d7f-95e0-b3b78a513303\",\"type\":\"CDSView\"},{\"attributes\":{\"formatter\":{\"id\":\"8669ecfe-22e1-4cca-9b88-11ece824561d\",\"type\":\"BasicTickFormatter\"},\"plot\":{\"id\":\"a0749ff5-66c8-4e7e-a7ea-d14c27f769e4\",\"subtype\":\"Figure\",\"type\":\"Plot\"},\"ticker\":{\"id\":\"6acdd727-c48a-43a6-a667-e630159c5fcd\",\"type\":\"BasicTicker\"}},\"id\":\"496e484a-a8fc-45d2-82d4-1161b7ea00a0\",\"type\":\"LinearAxis\"},{\"attributes\":{\"callback\":null},\"id\":\"f9ff8f08-e17f-4c9e-bc34-ce85a272a2e7\",\"type\":\"DataRange1d\"},{\"attributes\":{},\"id\":\"1881806b-2e45-4342-84df-f2003ceaf2f1\",\"type\":\"LinearScale\"},{\"attributes\":{\"data_source\":{\"id\":\"0c8996e7-23f2-4d13-a24a-abeeae03a9c0\",\"type\":\"ColumnDataSource\"},\"glyph\":{\"id\":\"14174fc0-2700-40aa-bbdb-03ba82dc41a0\",\"type\":\"Circle\"},\"hover_glyph\":null,\"muted_glyph\":null,\"nonselection_glyph\":{\"id\":\"99d699e6-af3f-439f-ab97-8ef38c192418\",\"type\":\"Circle\"},\"selection_glyph\":null,\"view\":{\"id\":\"28a5c06f-69c1-4d7f-95e0-b3b78a513303\",\"type\":\"CDSView\"}},\"id\":\"13372f54-5fc4-4fb6-9f60-72c041e88394\",\"type\":\"GlyphRenderer\"},{\"attributes\":{},\"id\":\"d09fdbd3-3094-4caf-b8c0-486165314849\",\"type\":\"BasicTickFormatter\"},{\"attributes\":{},\"id\":\"6acdd727-c48a-43a6-a667-e630159c5fcd\",\"type\":\"BasicTicker\"},{\"attributes\":{\"dimension\":1,\"plot\":{\"id\":\"a0749ff5-66c8-4e7e-a7ea-d14c27f769e4\",\"subtype\":\"Figure\",\"type\":\"Plot\"},\"ticker\":{\"id\":\"aba70485-1a22-48bb-87f9-2fafd7cb0635\",\"type\":\"BasicTicker\"}},\"id\":\"645a7ba1-629e-4b40-9ba3-d259dceecb01\",\"type\":\"Grid\"},{\"attributes\":{},\"id\":\"8669ecfe-22e1-4cca-9b88-11ece824561d\",\"type\":\"BasicTickFormatter\"},{\"attributes\":{\"below\":[{\"id\":\"496e484a-a8fc-45d2-82d4-1161b7ea00a0\",\"type\":\"LinearAxis\"}],\"left\":[{\"id\":\"b9b6dcea-e489-47b7-b77d-4d2d76a880a9\",\"type\":\"LinearAxis\"}],\"renderers\":[{\"id\":\"496e484a-a8fc-45d2-82d4-1161b7ea00a0\",\"type\":\"LinearAxis\"},{\"id\":\"8e7aed2a-a8ab-42e4-8277-af87baa05b25\",\"type\":\"Grid\"},{\"id\":\"b9b6dcea-e489-47b7-b77d-4d2d76a880a9\",\"type\":\"LinearAxis\"},{\"id\":\"645a7ba1-629e-4b40-9ba3-d259dceecb01\",\"type\":\"Grid\"},{\"id\":\"13372f54-5fc4-4fb6-9f60-72c041e88394\",\"type\":\"GlyphRenderer\"}],\"title\":{\"id\":\"b6348d9f-20ee-4420-b631-86f74fcc9bdc\",\"type\":\"Title\"},\"toolbar\":{\"id\":\"239ab35a-d32d-4842-8040-390f0538f751\",\"type\":\"Toolbar\"},\"toolbar_location\":\"above\",\"x_range\":{\"id\":\"f9ff8f08-e17f-4c9e-bc34-ce85a272a2e7\",\"type\":\"DataRange1d\"},\"x_scale\":{\"id\":\"1881806b-2e45-4342-84df-f2003ceaf2f1\",\"type\":\"LinearScale\"},\"y_range\":{\"id\":\"d545b110-a5b3-4c46-bc5c-0e0ad2766010\",\"type\":\"DataRange1d\"},\"y_scale\":{\"id\":\"13fb254c-2543-4678-ad91-bf22ac98402d\",\"type\":\"LinearScale\"}},\"id\":\"a0749ff5-66c8-4e7e-a7ea-d14c27f769e4\",\"subtype\":\"Figure\",\"type\":\"Plot\"},{\"attributes\":{},\"id\":\"83a124c5-f448-43f1-bfbd-5951736f5b0d\",\"type\":\"PanTool\"},{\"attributes\":{\"fill_alpha\":{\"value\":0.1},\"fill_color\":{\"value\":\"#1f77b4\"},\"line_alpha\":{\"value\":0.1},\"line_color\":{\"value\":\"#1f77b4\"},\"size\":{\"units\":\"screen\",\"value\":8},\"x\":{\"field\":\"x1\"},\"y\":{\"field\":\"x2\"}},\"id\":\"99d699e6-af3f-439f-ab97-8ef38c192418\",\"type\":\"Circle\"},{\"attributes\":{},\"id\":\"27a7ddea-4ebc-44a4-9bf0-ea8fff0bb07d\",\"type\":\"SaveTool\"},{\"attributes\":{},\"id\":\"aba70485-1a22-48bb-87f9-2fafd7cb0635\",\"type\":\"BasicTicker\"},{\"attributes\":{\"callback\":null},\"id\":\"d545b110-a5b3-4c46-bc5c-0e0ad2766010\",\"type\":\"DataRange1d\"},{\"attributes\":{\"fill_color\":{\"field\":\"color\"},\"line_color\":{\"value\":\"#1f77b4\"},\"size\":{\"units\":\"screen\",\"value\":8},\"x\":{\"field\":\"x1\"},\"y\":{\"field\":\"x2\"}},\"id\":\"14174fc0-2700-40aa-bbdb-03ba82dc41a0\",\"type\":\"Circle\"},{\"attributes\":{},\"id\":\"13fb254c-2543-4678-ad91-bf22ac98402d\",\"type\":\"LinearScale\"},{\"attributes\":{\"plot\":null,\"text\":\"vector T-SNE for most polarized words\"},\"id\":\"b6348d9f-20ee-4420-b631-86f74fcc9bdc\",\"type\":\"Title\"},{\"attributes\":{\"callback\":null,\"column_names\":[\"x1\",\"x2\",\"names\",\"color\"],\"data\":{\"color\":[\"#00ff00\",\"#00ff00\",\"#00ff00\",\"#00ff00\",\"#00ff00\",\"#00ff00\",\"#00ff00\",\"#00ff00\",\"#00ff00\",\"#00ff00\",\"#00ff00\",\"#00ff00\",\"#00ff00\",\"#00ff00\",\"#00ff00\",\"#00ff00\",\"#00ff00\",\"#00ff00\",\"#00ff00\",\"#00ff00\",\"#00ff00\",\"#00ff00\",\"#00ff00\",\"#00ff00\",\"#00ff00\",\"#00ff00\",\"#00ff00\",\"#00ff00\",\"#00ff00\",\"#00ff00\",\"#00ff00\",\"#00ff00\",\"#00ff00\",\"#00ff00\",\"#00ff00\",\"#00ff00\",\"#00ff00\",\"#00ff00\",\"#00ff00\",\"#00ff00\",\"#00ff00\",\"#00ff00\",\"#00ff00\",\"#00ff00\",\"#00ff00\",\"#00ff00\",\"#00ff00\",\"#00ff00\",\"#00ff00\",\"#00ff00\",\"#00ff00\",\"#00ff00\",\"#00ff00\",\"#00ff00\",\"#00ff00\",\"#00ff00\",\"#00ff00\",\"#00ff00\",\"#00ff00\",\"#00ff00\",\"#00ff00\",\"#00ff00\",\"#00ff00\",\"#00ff00\",\"#00ff00\",\"#00ff00\",\"#00ff00\",\"#00ff00\",\"#00ff00\",\"#00ff00\",\"#00ff00\",\"#00ff00\",\"#00ff00\",\"#00ff00\",\"#00ff00\",\"#00ff00\",\"#00ff00\",\"#00ff00\",\"#00ff00\",\"#00ff00\",\"#00ff00\",\"#00ff00\",\"#00ff00\",\"#00ff00\",\"#00ff00\",\"#00ff00\",\"#00ff00\",\"#00ff00\",\"#00ff00\",\"#00ff00\",\"#00ff00\",\"#00ff00\",\"#00ff00\",\"#00ff00\",\"#00ff00\",\"#00ff00\",\"#00ff00\",\"#00ff00\",\"#00ff00\",\"#00ff00\",\"#00ff00\",\"#00ff00\",\"#00ff00\",\"#00ff00\",\"#00ff00\",\"#00ff00\",\"#00ff00\",\"#00ff00\",\"#00ff00\",\"#00ff00\",\"#00ff00\",\"#00ff00\",\"#00ff00\",\"#00ff00\",\"#00ff00\",\"#00ff00\",\"#00ff00\",\"#00ff00\",\"#00ff00\",\"#00ff00\",\"#00ff00\",\"#00ff00\",\"#00ff00\",\"#00ff00\",\"#00ff00\",\"#00ff00\",\"#00ff00\",\"#00ff00\",\"#00ff00\",\"#00ff00\",\"#00ff00\",\"#00ff00\",\"#00ff00\",\"#00ff00\",\"#00ff00\",\"#00ff00\",\"#00ff00\",\"#00ff00\",\"#00ff00\",\"#00ff00\",\"#00ff00\",\"#00ff00\",\"#00ff00\",\"#00ff00\",\"#00ff00\",\"#00ff00\",\"#00ff00\",\"#00ff00\",\"#00ff00\",\"#00ff00\",\"#00ff00\",\"#00ff00\",\"#00ff00\",\"#00ff00\",\"#00ff00\",\"#00ff00\",\"#00ff00\",\"#00ff00\",\"#00ff00\",\"#00ff00\",\"#00ff00\",\"#00ff00\",\"#00ff00\",\"#00ff00\",\"#00ff00\",\"#00ff00\",\"#00ff00\",\"#00ff00\",\"#00ff00\",\"#00ff00\",\"#00ff00\",\"#00ff00\",\"#00ff00\",\"#00ff00\",\"#00ff00\",\"#00ff00\",\"#00ff00\",\"#00ff00\",\"#00ff00\",\"#00ff00\",\"#00ff00\",\"#00ff00\",\"#00ff00\",\"#00ff00\",\"#00ff00\",\"#00ff00\",\"#00ff00\",\"#00ff00\",\"#00ff00\",\"#00ff00\",\"#00ff00\",\"#00ff00\",\"#00ff00\",\"#00ff00\",\"#00ff00\",\"#00ff00\",\"#00ff00\",\"#00ff00\",\"#00ff00\",\"#00ff00\",\"#00ff00\",\"#00ff00\",\"#00ff00\",\"#00ff00\",\"#00ff00\",\"#00ff00\",\"#00ff00\",\"#00ff00\",\"#00ff00\",\"#00ff00\",\"#00ff00\",\"#00ff00\",\"#00ff00\",\"#00ff00\",\"#00ff00\",\"#00ff00\",\"#00ff00\",\"#00ff00\",\"#00ff00\",\"#00ff00\",\"#00ff00\",\"#00ff00\",\"#00ff00\",\"#00ff00\",\"#00ff00\",\"#00ff00\",\"#00ff00\",\"#00ff00\",\"#00ff00\",\"#00ff00\",\"#00ff00\",\"#00ff00\",\"#00ff00\",\"#00ff00\",\"#00ff00\",\"#00ff00\",\"#00ff00\",\"#00ff00\",\"#00ff00\",\"#00ff00\",\"#00ff00\",\"#00ff00\",\"#00ff00\",\"#00ff00\",\"#00ff00\",\"#00ff00\",\"#00ff00\",\"#00ff00\",\"#00ff00\",\"#00ff00\",\"#00ff00\",\"#00ff00\",\"#00ff00\",\"#00ff00\",\"#00ff00\",\"#00ff00\",\"#00ff00\",\"#00ff00\",\"#00ff00\",\"#00ff00\",\"#00ff00\",\"#00ff00\",\"#00ff00\",\"#00ff00\",\"#00ff00\",\"#00ff00\",\"#00ff00\",\"#00ff00\",\"#00ff00\",\"#00ff00\",\"#00ff00\",\"#00ff00\",\"#00ff00\",\"#00ff00\",\"#00ff00\",\"#00ff00\",\"#00ff00\",\"#00ff00\",\"#00ff00\",\"#00ff00\",\"#00ff00\",\"#00ff00\",\"#00ff00\",\"#00ff00\",\"#00ff00\",\"#00ff00\",\"#00ff00\",\"#00ff00\",\"#00ff00\",\"#00ff00\",\"#00ff00\",\"#00ff00\",\"#00ff00\",\"#00ff00\",\"#00ff00\",\"#00ff00\",\"#00ff00\",\"#00ff00\",\"#00ff00\",\"#00ff00\",\"#00ff00\",\"#00ff00\",\"#00ff00\",\"#00ff00\",\"#00ff00\",\"#00ff00\",\"#00ff00\",\"#00ff00\",\"#00ff00\",\"#00ff00\",\"#00ff00\",\"#00ff00\",\"#00ff00\",\"#00ff00\",\"#00ff00\",\"#00ff00\",\"#00ff00\",\"#00ff00\",\"#00ff00\",\"#00ff00\",\"#00ff00\",\"#00ff00\",\"#00ff00\",\"#00ff00\",\"#00ff00\",\"#00ff00\",\"#00ff00\",\"#00ff00\",\"#00ff00\",\"#00ff00\",\"#00ff00\",\"#00ff00\",\"#00ff00\",\"#00ff00\",\"#00ff00\",\"#00ff00\",\"#00ff00\",\"#00ff00\",\"#00ff00\",\"#00ff00\",\"#00ff00\",\"#00ff00\",\"#00ff00\",\"#00ff00\",\"#00ff00\",\"#00ff00\",\"#00ff00\",\"#00ff00\",\"#00ff00\",\"#00ff00\",\"#00ff00\",\"#00ff00\",\"#00ff00\",\"#00ff00\",\"#00ff00\",\"#00ff00\",\"#00ff00\",\"#00ff00\",\"#00ff00\",\"#00ff00\",\"#00ff00\",\"#00ff00\",\"#00ff00\",\"#00ff00\",\"#00ff00\",\"#00ff00\",\"#00ff00\",\"#00ff00\",\"#00ff00\",\"#00ff00\",\"#00ff00\",\"#00ff00\",\"#00ff00\",\"#00ff00\",\"#00ff00\",\"#00ff00\",\"#00ff00\",\"#00ff00\",\"#00ff00\",\"#00ff00\",\"#00ff00\",\"#00ff00\",\"#00ff00\",\"#00ff00\",\"#00ff00\",\"#00ff00\",\"#00ff00\",\"#00ff00\",\"#00ff00\",\"#00ff00\",\"#00ff00\",\"#00ff00\",\"#00ff00\",\"#00ff00\",\"#00ff00\",\"#00ff00\",\"#00ff00\",\"#00ff00\",\"#00ff00\",\"#00ff00\",\"#00ff00\",\"#00ff00\",\"#00ff00\",\"#00ff00\",\"#00ff00\",\"#00ff00\",\"#00ff00\",\"#00ff00\",\"#00ff00\",\"#00ff00\",\"#00ff00\",\"#00ff00\",\"#00ff00\",\"#00ff00\",\"#00ff00\",\"#00ff00\",\"#00ff00\",\"#00ff00\",\"#00ff00\",\"#00ff00\",\"#00ff00\",\"#00ff00\",\"#00ff00\",\"#00ff00\",\"#00ff00\",\"#00ff00\",\"#00ff00\",\"#00ff00\",\"#00ff00\",\"#00ff00\",\"#00ff00\",\"#00ff00\",\"#00ff00\",\"#00ff00\",\"#00ff00\",\"#00ff00\",\"#00ff00\",\"#00ff00\",\"#00ff00\",\"#00ff00\",\"#00ff00\",\"#00ff00\",\"#00ff00\",\"#00ff00\",\"#00ff00\",\"#00ff00\",\"#00ff00\",\"#00ff00\",\"#00ff00\",\"#00ff00\",\"#00ff00\",\"#00ff00\",\"#00ff00\",\"#00ff00\",\"#00ff00\",\"#00ff00\",\"#00ff00\",\"#00ff00\",\"#00ff00\",\"#00ff00\",\"#00ff00\",\"#00ff00\",\"#00ff00\",\"#00ff00\",\"#00ff00\",\"#00ff00\",\"#00ff00\",\"#00ff00\",\"#00ff00\",\"#00ff00\",\"#00ff00\",\"#00ff00\",\"#00ff00\",\"#00ff00\",\"#00ff00\",\"#00ff00\",\"#00ff00\",\"#00ff00\",\"#00ff00\",\"#00ff00\",\"#00ff00\",\"#00ff00\",\"#00ff00\",\"#00ff00\",\"#00ff00\",\"#00ff00\",\"#00ff00\",\"#00ff00\",\"#00ff00\",\"#00ff00\",\"#00ff00\",\"#00ff00\",\"#00ff00\",\"#00ff00\",\"#00ff00\",\"#00ff00\",\"#00ff00\",\"#00ff00\",\"#00ff00\",\"#00ff00\",\"#000000\",\"#000000\",\"#000000\",\"#000000\",\"#000000\",\"#000000\",\"#000000\",\"#000000\",\"#000000\",\"#000000\",\"#000000\",\"#000000\",\"#000000\",\"#000000\",\"#000000\",\"#000000\",\"#000000\",\"#000000\",\"#000000\",\"#000000\",\"#000000\",\"#000000\",\"#000000\",\"#000000\",\"#000000\",\"#000000\",\"#000000\",\"#000000\",\"#000000\",\"#000000\",\"#000000\",\"#000000\",\"#000000\",\"#000000\",\"#000000\",\"#000000\",\"#000000\",\"#000000\",\"#000000\",\"#000000\",\"#000000\",\"#000000\",\"#000000\",\"#000000\",\"#000000\",\"#000000\",\"#000000\",\"#000000\",\"#000000\",\"#000000\",\"#000000\",\"#000000\",\"#000000\",\"#000000\",\"#000000\",\"#000000\",\"#000000\",\"#000000\",\"#000000\",\"#000000\",\"#000000\",\"#000000\",\"#000000\",\"#000000\",\"#000000\",\"#000000\",\"#000000\",\"#000000\",\"#000000\",\"#000000\",\"#000000\",\"#000000\",\"#000000\",\"#000000\",\"#000000\",\"#000000\",\"#000000\",\"#000000\",\"#000000\",\"#000000\",\"#000000\",\"#000000\",\"#000000\",\"#000000\",\"#000000\",\"#000000\",\"#000000\",\"#000000\",\"#000000\",\"#000000\",\"#000000\",\"#000000\",\"#000000\",\"#000000\",\"#000000\",\"#000000\",\"#000000\",\"#000000\",\"#000000\",\"#000000\",\"#000000\",\"#000000\",\"#000000\",\"#000000\",\"#000000\",\"#000000\",\"#000000\",\"#000000\",\"#000000\",\"#000000\",\"#000000\",\"#000000\",\"#000000\",\"#000000\",\"#000000\",\"#000000\",\"#000000\",\"#000000\",\"#000000\",\"#000000\",\"#000000\",\"#000000\",\"#000000\",\"#000000\",\"#000000\",\"#000000\",\"#000000\",\"#000000\",\"#000000\",\"#000000\",\"#000000\",\"#000000\",\"#000000\",\"#000000\",\"#000000\",\"#000000\",\"#000000\",\"#000000\",\"#000000\",\"#000000\",\"#000000\",\"#000000\",\"#000000\",\"#000000\",\"#000000\",\"#000000\",\"#000000\",\"#000000\",\"#000000\",\"#000000\",\"#000000\",\"#000000\",\"#000000\",\"#000000\",\"#000000\",\"#000000\",\"#000000\",\"#000000\",\"#000000\",\"#000000\",\"#000000\",\"#000000\",\"#000000\",\"#000000\",\"#000000\",\"#000000\",\"#000000\",\"#000000\",\"#000000\",\"#000000\",\"#000000\",\"#000000\",\"#000000\",\"#000000\",\"#000000\",\"#000000\",\"#000000\",\"#000000\",\"#000000\",\"#000000\",\"#000000\",\"#000000\",\"#000000\",\"#000000\",\"#000000\",\"#000000\",\"#000000\",\"#000000\",\"#000000\",\"#000000\",\"#000000\",\"#000000\",\"#000000\",\"#000000\",\"#000000\",\"#000000\",\"#000000\",\"#000000\",\"#000000\",\"#000000\",\"#000000\",\"#000000\",\"#000000\",\"#000000\",\"#000000\",\"#000000\",\"#000000\",\"#000000\",\"#000000\",\"#000000\",\"#000000\",\"#000000\",\"#000000\",\"#000000\",\"#000000\",\"#000000\",\"#000000\",\"#000000\",\"#000000\",\"#000000\",\"#000000\",\"#000000\",\"#000000\",\"#000000\",\"#000000\",\"#000000\",\"#000000\",\"#000000\",\"#000000\",\"#000000\",\"#000000\",\"#000000\",\"#000000\",\"#000000\",\"#000000\",\"#000000\",\"#000000\",\"#000000\",\"#000000\",\"#000000\",\"#000000\",\"#000000\",\"#000000\",\"#000000\",\"#000000\",\"#000000\",\"#000000\",\"#000000\",\"#000000\",\"#000000\",\"#000000\",\"#000000\",\"#000000\",\"#000000\",\"#000000\",\"#000000\",\"#000000\",\"#000000\",\"#000000\",\"#000000\",\"#000000\",\"#000000\",\"#000000\",\"#000000\",\"#000000\",\"#000000\",\"#000000\",\"#000000\",\"#000000\",\"#000000\",\"#000000\",\"#000000\",\"#000000\",\"#000000\",\"#000000\",\"#000000\",\"#000000\",\"#000000\",\"#000000\",\"#000000\",\"#000000\",\"#000000\",\"#000000\",\"#000000\",\"#000000\",\"#000000\",\"#000000\",\"#000000\",\"#000000\",\"#000000\",\"#000000\",\"#000000\",\"#000000\",\"#000000\",\"#000000\",\"#000000\",\"#000000\",\"#000000\",\"#000000\",\"#000000\",\"#000000\",\"#000000\",\"#000000\",\"#000000\",\"#000000\",\"#000000\",\"#000000\",\"#000000\",\"#000000\",\"#000000\",\"#000000\",\"#000000\",\"#000000\",\"#000000\",\"#000000\",\"#000000\",\"#000000\",\"#000000\",\"#000000\",\"#000000\",\"#000000\",\"#000000\",\"#000000\",\"#000000\",\"#000000\",\"#000000\",\"#000000\",\"#000000\",\"#000000\",\"#000000\",\"#000000\",\"#000000\",\"#000000\",\"#000000\",\"#000000\",\"#000000\",\"#000000\",\"#000000\",\"#000000\",\"#000000\",\"#000000\",\"#000000\",\"#000000\",\"#000000\",\"#000000\",\"#000000\",\"#000000\",\"#000000\",\"#000000\",\"#000000\",\"#000000\",\"#000000\",\"#000000\",\"#000000\",\"#000000\",\"#000000\",\"#000000\",\"#000000\",\"#000000\",\"#000000\",\"#000000\",\"#000000\",\"#000000\",\"#000000\",\"#000000\",\"#000000\",\"#000000\",\"#000000\",\"#000000\",\"#000000\",\"#000000\",\"#000000\",\"#000000\",\"#000000\",\"#000000\",\"#000000\",\"#000000\",\"#000000\",\"#000000\",\"#000000\",\"#000000\",\"#000000\",\"#000000\",\"#000000\",\"#000000\",\"#000000\",\"#000000\",\"#000000\",\"#000000\",\"#000000\",\"#000000\",\"#000000\",\"#000000\",\"#000000\",\"#000000\",\"#000000\",\"#000000\",\"#000000\",\"#000000\",\"#000000\",\"#000000\",\"#000000\",\"#000000\",\"#000000\",\"#000000\",\"#000000\",\"#000000\",\"#000000\",\"#000000\",\"#000000\",\"#000000\",\"#000000\",\"#000000\",\"#000000\",\"#000000\",\"#000000\",\"#000000\",\"#000000\",\"#000000\",\"#000000\",\"#000000\",\"#000000\",\"#000000\",\"#000000\",\"#000000\",\"#000000\",\"#000000\",\"#000000\",\"#000000\",\"#000000\",\"#000000\",\"#000000\",\"#000000\",\"#000000\",\"#000000\",\"#000000\",\"#000000\",\"#000000\",\"#000000\",\"#000000\",\"#000000\",\"#000000\",\"#000000\",\"#000000\",\"#000000\",\"#000000\",\"#000000\",\"#000000\",\"#000000\",\"#000000\",\"#000000\",\"#000000\",\"#000000\",\"#000000\",\"#000000\",\"#000000\",\"#000000\",\"#000000\",\"#000000\",\"#000000\",\"#000000\",\"#000000\",\"#000000\",\"#000000\",\"#000000\",\"#000000\",\"#000000\",\"#000000\",\"#000000\",\"#000000\",\"#000000\",\"#000000\",\"#000000\",\"#000000\",\"#000000\",\"#000000\",\"#000000\",\"#000000\",\"#000000\",\"#000000\",\"#000000\",\"#000000\",\"#000000\",\"#000000\",\"#000000\",\"#000000\",\"#000000\",\"#000000\",\"#000000\",\"#000000\",\"#000000\",\"#000000\",\"#000000\",\"#000000\",\"#000000\",\"#000000\",\"#000000\",\"#000000\",\"#000000\",\"#000000\"],\"names\":[\"edie\",\"paulie\",\"felix\",\"polanski\",\"matthau\",\"victoria\",\"mildred\",\"gandhi\",\"flawless\",\"superbly\",\"perfection\",\"astaire\",\"captures\",\"voight\",\"wonderfully\",\"powell\",\"brosnan\",\"lily\",\"bakshi\",\"lincoln\",\"refreshing\",\"breathtaking\",\"bourne\",\"lemmon\",\"delightful\",\"flynn\",\"andrews\",\"homer\",\"beautifully\",\"soccer\",\"lumet\",\"elvira\",\"underrated\",\"gripping\",\"superb\",\"delight\",\"welles\",\"sadness\",\"sinatra\",\"touching\",\"timeless\",\"macy\",\"unforgettable\",\"favorites\",\"stewart\",\"extraordinary\",\"sullivan\",\"hartley\",\"brilliantly\",\"friendship\",\"wonderful\",\"palma\",\"magnificent\",\"finest\",\"jackie\",\"ritter\",\"tremendous\",\"freedom\",\"fantastic\",\"terrific\",\"noir\",\"sidney\",\"outstanding\",\"pleasantly\",\"mann\",\"nancy\",\"marie\",\"marvelous\",\"excellent\",\"ruth\",\"stanwyck\",\"widmark\",\"splendid\",\"chan\",\"exceptional\",\"tender\",\"gentle\",\"poignant\",\"gem\",\"amazing\",\"fisher\",\"chilling\",\"captivating\",\"davies\",\"darker\",\"april\",\"kelly\",\"blake\",\"overlooked\",\"ralph\",\"bette\",\"hoffman\",\"cole\",\"shines\",\"powerful\",\"notch\",\"remarkable\",\"pitt\",\"winters\",\"vivid\",\"gritty\",\"giallo\",\"portrait\",\"innocence\",\"psychiatrist\",\"favorite\",\"ensemble\",\"stunning\",\"burns\",\"garbo\",\"barbara\",\"philip\",\"panic\",\"holly\",\"carol\",\"perfect\",\"appreciated\",\"favourite\",\"journey\",\"rural\",\"bond\",\"builds\",\"brilliant\",\"brooklyn\",\"von\",\"unfolds\",\"recommended\",\"daniel\",\"perfectly\",\"crafted\",\"prince\",\"troubled\",\"consequences\",\"haunting\",\"cinderella\",\"alexander\",\"emotions\",\"boxing\",\"subtle\",\"solo\",\"curtis\",\"rare\",\"loved\",\"daughters\",\"courage\",\"dentist\",\"highly\",\"nominated\",\"tony\",\"draws\",\"everyday\",\"contrast\",\"cried\",\"fabulous\",\"fay\",\"ned\",\"emma\",\"sensitive\",\"corruption\",\"smooth\",\"dramas\",\"today\",\"helps\",\"inspiring\",\"jimmy\",\"awesome\",\"unique\",\"tragic\",\"intense\",\"stellar\",\"rival\",\"provides\",\"depression\",\"shy\",\"carrie\",\"blend\",\"hank\",\"diana\",\"adorable\",\"unexpected\",\"achievement\",\"bettie\",\"happiness\",\"glorious\",\"davis\",\"terrifying\",\"beauty\",\"ideal\",\"fears\",\"hong\",\"seasons\",\"fascinating\",\"carries\",\"satisfying\",\"definite\",\"touched\",\"greatest\",\"creates\",\"aunt\",\"walter\",\"spectacular\",\"portrayal\",\"ann\",\"enterprise\",\"musicals\",\"deeply\",\"incredible\",\"mature\",\"triumph\",\"margaret\",\"navy\",\"harry\",\"lucas\",\"sweet\",\"joey\",\"oscar\",\"balance\",\"warm\",\"ages\",\"carrey\",\"guilt\",\"glover\",\"learns\",\"unusual\",\"sons\",\"complex\",\"essence\",\"brazil\",\"widow\",\"solid\",\"beautiful\",\"holmes\",\"awe\",\"eerie\",\"vhs\",\"lonely\",\"grim\",\"sport\",\"debut\",\"destiny\",\"thrillers\",\"tears\",\"rose\",\"feelings\",\"ginger\",\"winning\",\"stanley\",\"cox\",\"paris\",\"heart\",\"hooked\",\"comfortable\",\"mgm\",\"masterpiece\",\"themes\",\"danny\",\"anime\",\"perry\",\"joy\",\"lovable\",\"mysteries\",\"hal\",\"louis\",\"charming\",\"urban\",\"allows\",\"impact\",\"gradually\",\"lifestyle\",\"italy\",\"spy\",\"treat\",\"subsequent\",\"kennedy\",\"loving\",\"surprising\",\"quiet\",\"winter\",\"reveals\",\"raw\",\"funniest\",\"pleased\",\"norman\",\"thief\",\"season\",\"secrets\",\"colorful\",\"highest\",\"compelling\",\"danes\",\"castle\",\"kudos\",\"great\",\"subtitles\",\"bleak\",\"baseball\",\"winner\",\"tragedy\",\"todd\",\"nicely\",\"arthur\",\"essential\",\"gorgeous\",\"fonda\",\"eastwood\",\"focuses\",\"enjoyed\",\"natural\",\"intensity\",\"witty\",\"rob\",\"worlds\",\"health\",\"magical\",\"deeper\",\"lucy\",\"moving\",\"lovely\",\"purple\",\"memorable\",\"sings\",\"craig\",\"modesty\",\"relate\",\"episodes\",\"strong\",\"smith\",\"tear\",\"apartment\",\"princess\",\"disagree\",\"kung\",\"adventure\",\"columbo\",\"jake\",\"adds\",\"hart\",\"strength\",\"realizes\",\"dave\",\"childhood\",\"forbidden\",\"tight\",\"surreal\",\"manager\",\"dancer\",\"studios\",\"con\",\"miike\",\"realistic\",\"explicit\",\"kurt\",\"traditional\",\"deals\",\"holds\",\"carl\",\"touches\",\"gene\",\"albert\",\"abc\",\"cry\",\"sides\",\"eyre\",\"develops\",\"dances\",\"oscars\",\"legendary\",\"hearted\",\"importance\",\"portraying\",\"impressed\",\"waters\",\"empire\",\"edge\",\"environment\",\"jean\",\"sentimental\",\"captured\",\"styles\",\"daring\",\"backgrounds\",\"tense\",\"matches\",\"frank\",\"gothic\",\"sharp\",\"achieved\",\"court\",\"steals\",\"rules\",\"colors\",\"reunion\",\"covers\",\"tale\",\"rain\",\"forms\",\"denzel\",\"stays\",\"blob\",\"conventional\",\"maria\",\"fresh\",\"midnight\",\"landscape\",\"animated\",\"titanic\",\"sunday\",\"spring\",\"cagney\",\"enjoyable\",\"immensely\",\"sir\",\"nevertheless\",\"driven\",\"performances\",\"nowadays\",\"memories\",\"simple\",\"leslie\",\"golden\",\"lovers\",\"relationship\",\"supporting\",\"che\",\"packed\",\"trek\",\"provoking\",\"strikes\",\"depiction\",\"emotional\",\"secretary\",\"influenced\",\"florida\",\"germany\",\"brings\",\"lewis\",\"elderly\",\"owner\",\"streets\",\"henry\",\"portrays\",\"bears\",\"china\",\"anger\",\"society\",\"available\",\"best\",\"blues\",\"bugs\",\"magic\",\"delivers\",\"verhoeven\",\"jim\",\"donald\",\"endearing\",\"relationships\",\"greatly\",\"charlie\",\"brad\",\"simon\",\"effectively\",\"march\",\"atmosphere\",\"influence\",\"genius\",\"emotionally\",\"ken\",\"identity\",\"sophisticated\",\"dan\",\"andrew\",\"india\",\"roy\",\"surprisingly\",\"sky\",\"romantic\",\"match\",\"meets\",\"affected\",\"patient\",\"stylish\",\"cowboy\",\"wave\",\"britain\",\"bitter\",\"beatty\",\"love\",\"paul\",\"andy\",\"performance\",\"patrick\",\"unlike\",\"brooks\",\"refuses\",\"award\",\"complaint\",\"ride\",\"dawson\",\"luke\",\"wells\",\"boll\",\"uwe\",\"seagal\",\"unwatchable\",\"stinker\",\"mst\",\"incoherent\",\"unfunny\",\"waste\",\"blah\",\"horrid\",\"pointless\",\"atrocious\",\"redeeming\",\"prom\",\"drivel\",\"lousy\",\"worst\",\"laughable\",\"awful\",\"poorly\",\"wasting\",\"remotely\",\"existent\",\"boredom\",\"miserably\",\"sucks\",\"uninspired\",\"lame\",\"insult\",\"godzilla\",\"uninteresting\",\"gadget\",\"appalling\",\"unconvincing\",\"unintentional\",\"horrible\",\"amateurish\",\"pathetic\",\"idiotic\",\"stupidity\",\"cardboard\",\"wasted\",\"crap\",\"insulting\",\"tedious\",\"dreadful\",\"dire\",\"badly\",\"suck\",\"worse\",\"terrible\",\"embarrassing\",\"mess\",\"garbage\",\"pile\",\"stupid\",\"ashamed\",\"vampires\",\"worthless\",\"dull\",\"inept\",\"avoid\",\"wooden\",\"forgettable\",\"fulci\",\"crappy\",\"bat\",\"unbelievably\",\"whatsoever\",\"excuse\",\"rubbish\",\"ridiculous\",\"junk\",\"flop\",\"boring\",\"turkey\",\"shark\",\"topless\",\"ridiculously\",\"useless\",\"seed\",\"ripped\",\"embarrassed\",\"rambo\",\"costs\",\"hideous\",\"horrendous\",\"bother\",\"dumb\",\"disjointed\",\"plastic\",\"horribly\",\"fest\",\"ludicrous\",\"unintentionally\",\"mildly\",\"obnoxious\",\"bland\",\"mummy\",\"annoying\",\"amateur\",\"bad\",\"dinosaurs\",\"unless\",\"fails\",\"mediocre\",\"awake\",\"clich\",\"clichd\",\"meaningless\",\"disappointment\",\"zombies\",\"asleep\",\"miscast\",\"irritating\",\"utter\",\"disappointing\",\"screaming\",\"supposed\",\"kidding\",\"poor\",\"apes\",\"unbelievable\",\"fake\",\"dude\",\"dracula\",\"joke\",\"clumsy\",\"random\",\"cheap\",\"idiots\",\"devoid\",\"trite\",\"wannabe\",\"unbearable\",\"alright\",\"pretentious\",\"scooby\",\"sucked\",\"senseless\",\"bo\",\"bin\",\"coherent\",\"idiot\",\"toilet\",\"doo\",\"werewolf\",\"cabin\",\"generous\",\"offensive\",\"monkey\",\"painfully\",\"renting\",\"lazy\",\"disgusting\",\"blame\",\"walked\",\"seconds\",\"generic\",\"cheese\",\"sloppy\",\"huh\",\"retarded\",\"trash\",\"shelf\",\"ugly\",\"oh\",\"slightest\",\"explanation\",\"failed\",\"cringe\",\"blatant\",\"clue\",\"bored\",\"cgi\",\"sat\",\"paid\",\"warn\",\"painful\",\"nowhere\",\"bore\",\"absurd\",\"flies\",\"paint\",\"porn\",\"paper\",\"predictable\",\"pseudo\",\"repetitive\",\"outer\",\"brain\",\"sorry\",\"vampire\",\"motivation\",\"unrealistic\",\"wrestling\",\"overrated\",\"aliens\",\"halfway\",\"save\",\"santa\",\"security\",\"contrived\",\"lacks\",\"whale\",\"gore\",\"bunch\",\"hype\",\"flat\",\"noise\",\"below\",\"plain\",\"spending\",\"bothered\",\"annoyed\",\"sounded\",\"honestly\",\"minutes\",\"wreck\",\"lesbian\",\"chick\",\"dollar\",\"f\",\"secondly\",\"wanna\",\"rat\",\"errors\",\"shallow\",\"synopsis\",\"breasts\",\"gray\",\"splatter\",\"yeah\",\"nonsense\",\"unnecessary\",\"grave\",\"ruined\",\"swear\",\"somebody\",\"elvis\",\"mindless\",\"terribly\",\"continuity\",\"hoping\",\"ha\",\"nudity\",\"endless\",\"decent\",\"torture\",\"rented\",\"disaster\",\"downright\",\"ok\",\"fat\",\"unpleasant\",\"figured\",\"rip\",\"throwing\",\"attempt\",\"weak\",\"slap\",\"jesus\",\"christian\",\"barely\",\"apparently\",\"implausible\",\"nothing\",\"clichs\",\"credibility\",\"bible\",\"explained\",\"presumably\",\"celluloid\",\"couldn\",\"money\",\"snake\",\"hollow\",\"sake\",\"load\",\"total\",\"priest\",\"supposedly\",\"consists\",\"zombie\",\"bomb\",\"ape\",\"bottom\",\"christ\",\"unfortunately\",\"bullets\",\"grade\",\"drags\",\"freak\",\"wolf\",\"fx\",\"offended\",\"script\",\"raped\",\"producers\",\"okay\",\"confusing\",\"stomach\",\"monster\",\"seriously\",\"alas\",\"promising\",\"knife\",\"substance\",\"premise\",\"threw\",\"k\",\"dear\",\"z\",\"write\",\"rental\",\"warned\",\"zero\",\"semi\",\"guess\",\"scientist\",\"logic\",\"vague\",\"slasher\",\"throw\",\"accents\",\"alien\",\"silly\",\"clown\",\"skip\",\"instead\",\"blank\",\"throat\",\"lab\",\"par\",\"gag\",\"execution\",\"nose\",\"hated\",\"effort\",\"shoot\",\"fill\",\"gratuitous\",\"burn\",\"none\",\"cameras\",\"assume\",\"stick\",\"reasonable\",\"failure\",\"pie\",\"rent\",\"dubbing\",\"weren\",\"truck\",\"stock\",\"thin\",\"arm\",\"holy\",\"daddy\",\"pg\",\"exercise\",\"tried\",\"suppose\",\"advice\",\"gonna\",\"disbelief\",\"derek\",\"mean\",\"merit\",\"looked\",\"channel\",\"gross\",\"stereotypical\",\"hoped\",\"lacking\",\"spent\",\"stiff\",\"overdone\",\"low\",\"romero\",\"hour\",\"blair\",\"saved\",\"damage\",\"reason\",\"intentions\",\"sentence\",\"hardcore\",\"makeup\",\"lack\",\"makers\",\"empty\",\"holes\",\"wouldn\",\"proof\",\"demon\",\"toys\",\"doll\",\"utterly\",\"originality\",\"bush\",\"saying\",\"cover\",\"forest\",\"meat\",\"deserve\",\"sum\",\"bucks\",\"hills\",\"watchable\",\"handed\",\"lacked\",\"mistake\",\"please\",\"whoever\",\"sadistic\",\"monsters\",\"screenwriter\",\"neither\",\"nuclear\",\"sequels\",\"flesh\",\"lying\",\"creature\",\"annie\",\"propaganda\",\"leonard\",\"thats\",\"racist\",\"convince\",\"asian\",\"why\",\"rex\",\"satan\",\"remake\",\"fail\",\"loser\",\"ah\",\"favor\",\"except\",\"flick\",\"freddy\",\"relies\",\"spare\",\"dialog\",\"lou\",\"dragged\",\"guy\",\"problem\",\"melting\",\"flash\",\"im\",\"least\",\"mouth\",\"sole\",\"hell\",\"jerk\",\"drink\",\"intent\",\"shower\",\"fifteen\",\"wasn\",\"corpse\",\"virus\",\"thugs\",\"idea\",\"budget\",\"minimal\",\"reasonably\",\"naked\",\"rick\",\"category\",\"cheesy\",\"judging\",\"half\",\"pregnant\",\"no\",\"millions\",\"stereotypes\",\"juvenile\",\"weekend\",\"convoluted\",\"laurel\",\"killings\",\"sequel\",\"hire\",\"somewhere\",\"frankly\",\"paying\",\"someone\",\"cant\",\"cash\",\"research\",\"walk\",\"dimensional\",\"editing\",\"conceived\",\"scare\",\"positive\"],\"x1\":{\"__ndarray__\":\"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\",\"dtype\":\"float32\",\"shape\":[1000]},\"x2\":{\"__ndarray__\":\"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\",\"dtype\":\"float32\",\"shape\":[1000]}}},\"id\":\"0c8996e7-23f2-4d13-a24a-abeeae03a9c0\",\"type\":\"ColumnDataSource\"},{\"attributes\":{},\"id\":\"d0efe737-1e18-4ceb-b1ab-7e207d80ed29\",\"type\":\"WheelZoomTool\"},{\"attributes\":{\"formatter\":{\"id\":\"d09fdbd3-3094-4caf-b8c0-486165314849\",\"type\":\"BasicTickFormatter\"},\"plot\":{\"id\":\"a0749ff5-66c8-4e7e-a7ea-d14c27f769e4\",\"subtype\":\"Figure\",\"type\":\"Plot\"},\"ticker\":{\"id\":\"aba70485-1a22-48bb-87f9-2fafd7cb0635\",\"type\":\"BasicTicker\"}},\"id\":\"b9b6dcea-e489-47b7-b77d-4d2d76a880a9\",\"type\":\"LinearAxis\"},{\"attributes\":{\"active_drag\":\"auto\",\"active_inspect\":\"auto\",\"active_scroll\":\"auto\",\"active_tap\":\"auto\",\"tools\":[{\"id\":\"83a124c5-f448-43f1-bfbd-5951736f5b0d\",\"type\":\"PanTool\"},{\"id\":\"d0efe737-1e18-4ceb-b1ab-7e207d80ed29\",\"type\":\"WheelZoomTool\"},{\"id\":\"0665d3da-c6a4-4478-95d8-dd113fd1e268\",\"type\":\"ResetTool\"},{\"id\":\"27a7ddea-4ebc-44a4-9bf0-ea8fff0bb07d\",\"type\":\"SaveTool\"}]},\"id\":\"239ab35a-d32d-4842-8040-390f0538f751\",\"type\":\"Toolbar\"},{\"attributes\":{},\"id\":\"0665d3da-c6a4-4478-95d8-dd113fd1e268\",\"type\":\"ResetTool\"}],\"root_ids\":[\"a0749ff5-66c8-4e7e-a7ea-d14c27f769e4\"]},\"title\":\"Bokeh Application\",\"version\":\"0.12.10\"}};\n",
       "    var render_items = [{\"docid\":\"3bf9bf10-524e-4602-9c2f-1a04d7c4224d\",\"elementid\":\"ebc3a4d1-6fa1-4349-8a58-9ef8d48f188f\",\"modelid\":\"a0749ff5-66c8-4e7e-a7ea-d14c27f769e4\"}];\n",
       "\n",
       "    root.Bokeh.embed.embed_items(docs_json, render_items);\n",
       "  }\n",
       "\n",
       "  if (root.Bokeh !== undefined) {\n",
       "    embed_document(root);\n",
       "  } else {\n",
       "    var attempts = 0;\n",
       "    var timer = setInterval(function(root) {\n",
       "      if (root.Bokeh !== undefined) {\n",
       "        embed_document(root);\n",
       "        clearInterval(timer);\n",
       "      }\n",
       "      attempts++;\n",
       "      if (attempts > 100) {\n",
       "        console.log(\"Bokeh: ERROR: Unable to embed document because BokehJS library is missing\")\n",
       "        clearInterval(timer);\n",
       "      }\n",
       "    }, 10, root)\n",
       "  }\n",
       "})(window);"
      ],
      "application/vnd.bokehjs_exec.v0+json": ""
     },
     "metadata": {
      "application/vnd.bokehjs_exec.v0+json": {
       "id": "a0749ff5-66c8-4e7e-a7ea-d14c27f769e4"
      }
     },
     "output_type": "display_data"
    }
   ],
   "source": [
    "p = figure(tools=\"pan,wheel_zoom,reset,save\",\n",
    "           toolbar_location=\"above\",\n",
    "           title=\"vector T-SNE for most polarized words\")\n",
    "\n",
    "source = ColumnDataSource(data=dict(x1=words_top_ted_tsne[:,0],\n",
    "                                    x2=words_top_ted_tsne[:,1],\n",
    "                                    names=words_to_visualize,\n",
    "                                    color=colors_list))\n",
    "\n",
    "p.scatter(x=\"x1\", y=\"x2\", size=8, source=source, fill_color=\"color\")\n",
    "\n",
    "word_labels = LabelSet(x=\"x1\", y=\"x2\", text=\"names\", y_offset=6,\n",
    "                  text_font_size=\"8pt\", text_color=\"#555555\",\n",
    "                  source=source, text_align='center')\n",
    "#p.add_layout(word_labels)\n",
    "\n",
    "show(p)\n",
    "\n",
    "# green indicates positive words, black indicates negative words"
   ]
  },
  {
   "cell_type": "code",
   "execution_count": null,
   "metadata": {
    "collapsed": true
   },
   "outputs": [],
   "source": []
  }
 ],
 "metadata": {
  "anaconda-cloud": {},
  "kernelspec": {
   "display_name": "Python 3",
   "language": "python",
   "name": "python3"
  },
  "language_info": {
   "codemirror_mode": {
    "name": "ipython",
    "version": 3
   },
   "file_extension": ".py",
   "mimetype": "text/x-python",
   "name": "python",
   "nbconvert_exporter": "python",
   "pygments_lexer": "ipython3",
   "version": "3.6.3"
  }
 },
 "nbformat": 4,
 "nbformat_minor": 1
}
